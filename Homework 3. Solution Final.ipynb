{
 "cells": [
  {
   "cell_type": "markdown",
   "metadata": {},
   "source": [
    "# Homework 3. Solution"
   ]
  },
  {
   "cell_type": "code",
   "execution_count": 1,
   "metadata": {},
   "outputs": [],
   "source": [
    "#Libraries used to solve the homework\n",
    "import sys\n",
    "import pandas as pd\n",
    "import matplotlib.pyplot as plt"
   ]
  },
  {
   "cell_type": "markdown",
   "metadata": {},
   "source": [
    "## Problem 1. Variable types, Lists (2 points)\n",
    "\n",
    "> **a)** For the following expressions, specify the type of each expression"
   ]
  },
  {
   "cell_type": "code",
   "execution_count": 2,
   "metadata": {},
   "outputs": [
    {
     "name": "stdout",
     "output_type": "stream",
     "text": [
      "<class 'float'>\n",
      "<class 'bool'>\n",
      "<class 'int'>\n",
      "<class 'int'>\n"
     ]
    }
   ],
   "source": [
    "import math\n",
    "print(type(225+2.0))\n",
    "print(type(230*2==2*230))\n",
    "print(type(round(1.056)))\n",
    "print(type(math.ceil(14.56)))"
   ]
  },
  {
   "cell_type": "markdown",
   "metadata": {},
   "source": [
    "> **b)** Create three (was written four in the task by mistake) variables that will ask a user the following information below about their favorite movie and store them as a value of a variable:"
   ]
  },
  {
   "cell_type": "code",
   "execution_count": 3,
   "metadata": {
    "colab": {
     "base_uri": "https://localhost:8080/"
    },
    "id": "5NlkPCEtETau",
    "outputId": "63b7bd26-268b-414e-f8bf-7c92b2de1849"
   },
   "outputs": [
    {
     "name": "stdout",
     "output_type": "stream",
     "text": [
      "Schindler's List\n",
      "Steven Spielberg\n",
      "1993\n",
      "My favorite movie is Schindler's List which was directed by Steven Spielberg and it was premiered in 1993\n"
     ]
    }
   ],
   "source": [
    "#Schindler's List, Steven Spielberg, 1993\n",
    "Name=input()\n",
    "Director=input()\n",
    "Year=input()\n",
    "print(f\"My favorite movie is {Name} which was directed by {Director} and it was premiered in {Year}\")"
   ]
  },
  {
   "cell_type": "markdown",
   "metadata": {},
   "source": [
    "> **c)** Create an empty list that is called “Stocks”. To the created empty list, add five stock tickers that you would wish to invest in"
   ]
  },
  {
   "cell_type": "code",
   "execution_count": 4,
   "metadata": {},
   "outputs": [
    {
     "name": "stdout",
     "output_type": "stream",
     "text": [
      "Here are the stocks that I'd like to invest in:  ['TSLA', 'MSFT', 'AMZN', 'FB', 'MRNA']\n"
     ]
    }
   ],
   "source": [
    "Stocks=['TSLA','MSFT','AMZN','FB','MRNA']\n",
    "print(\"Here are the stocks that I'd like to invest in: \", Stocks)"
   ]
  },
  {
   "cell_type": "markdown",
   "metadata": {},
   "source": [
    "# 2. Problem 2. If Condition and For Loop"
   ]
  },
  {
   "cell_type": "markdown",
   "metadata": {},
   "source": [
    "> **a.** Use if condition to check whether number 25 is an odd or even number. "
   ]
  },
  {
   "cell_type": "code",
   "execution_count": 5,
   "metadata": {},
   "outputs": [
    {
     "name": "stdout",
     "output_type": "stream",
     "text": [
      "25 is odd\n"
     ]
    }
   ],
   "source": [
    "i=25\n",
    "if i%2==0:#The % symbol is called the Modulo Operator. It returns the remainder of dividing the left hand operand by right hand operand. \n",
    "          #It's used to get the remainder of a division problem.\n",
    "    print(f'{i} is even')\n",
    "else:\n",
    "    print(f'{i} is odd')"
   ]
  },
  {
   "cell_type": "markdown",
   "metadata": {},
   "source": [
    "> **b.** Use if condition and for loop to check if in the wine names below if there is a word “Pinot” then the wine type (variety) should be coded “Pinot Noir”, if there is a word “Areni” then the wine variety should be coded as “Areni”, for the rest of the wines in the list use variety code as “Other”. Print the list of wines with their respective codes."
   ]
  },
  {
   "cell_type": "code",
   "execution_count": 6,
   "metadata": {
    "colab": {
     "base_uri": "https://localhost:8080/"
    },
    "id": "Mo0ExzdsYX08",
    "outputId": "64fdd6d9-51a3-4406-e7dc-dc0cbb39f4c3"
   },
   "outputs": [
    {
     "name": "stdout",
     "output_type": "stream",
     "text": [
      "Thomas Fogarty 2018 Razorback Vineyard Pinot Noir : Pinot Noir\n",
      "Migration 2018 Drum Canyon Vineyard Pinot Noir : Pinot Noir\n",
      "Zorah Voski 2018 : Other\n",
      "Curto Marco 2017 Arborina (Barolo) : Other\n",
      "Calera 2018 Jensen Vineyard Pinot Noir : Pinot Noir\n",
      "Hin Areni Red 2014 : Areni\n"
     ]
    }
   ],
   "source": [
    "#first, create list of wines\n",
    "wines= [\"Thomas Fogarty 2018 Razorback Vineyard Pinot Noir\", \n",
    "          \"Migration 2018 Drum Canyon Vineyard Pinot Noir\", \"Zorah Voski 2018\", \n",
    "          \"Curto Marco 2017 Arborina (Barolo)\",\"Calera 2018 Jensen Vineyard Pinot Noir\", \"Hin Areni Red 2014\"]\n",
    "\n",
    "for i in wines:\n",
    "    wine_type=[] #create empty list of wine types\n",
    "    if \"Pinot\" in i:\n",
    "        wine_type.append(\"Pinot Noir\") #use append() function to add type of each wine to wine_type list\n",
    "    elif \"Areni\" in i:\n",
    "        wine_type.append(\"Areni\") #use append() function to add type of each wine to wine_type list\n",
    "    else:\n",
    "        wine_type.append(\"Other\") #use append() function to add type of each wine to wine_type list\n",
    "    for j in wine_type:  #use for loop to print wine types and wine names\n",
    "        print(i ,\":\",j)"
   ]
  },
  {
   "cell_type": "markdown",
   "metadata": {},
   "source": [
    "# Problem 3. Dictionaries (2 points)"
   ]
  },
  {
   "cell_type": "markdown",
   "metadata": {},
   "source": [
    "> **a.** Create a dictionary with keys being tickers of five stocks that you would like to invest in while values are the company names"
   ]
  },
  {
   "cell_type": "code",
   "execution_count": 7,
   "metadata": {},
   "outputs": [
    {
     "data": {
      "text/plain": [
       "dict_items([('TSLA', 'Tesla'), ('MSFT', 'Microsoft Corporation'), ('AMZN', 'Amazon'), ('FB', 'Facebook'), ('MRNA', 'Moderna')])"
      ]
     },
     "execution_count": 7,
     "metadata": {},
     "output_type": "execute_result"
    }
   ],
   "source": [
    "#lists of stock tickers and stock names\n",
    "Stocks=['TSLA','MSFT','AMZN','FB','MRNA']\n",
    "Stock_Names=['Tesla','Microsoft Corporation', 'Amazon','Facebook','Moderna']\n",
    "\n",
    "#use zip() function to pair stock tickers and stock names\n",
    "#use dict() function to create a dictionary\n",
    "Stock_dic=dict(zip(Stocks,Stock_Names))\n",
    "\n",
    "#print the dictionary\n",
    "Stock_dic.items()"
   ]
  },
  {
   "cell_type": "markdown",
   "metadata": {},
   "source": [
    "# Problem 4. Functions "
   ]
  },
  {
   "cell_type": "markdown",
   "metadata": {},
   "source": [
    "**a.**\tWrite a function that will calculate maximum number in a given list of numbers. Use your function to print the maximum number in the following list:   [-10,0,12, 3,8,5,6,8,-3]"
   ]
  },
  {
   "cell_type": "code",
   "execution_count": 8,
   "metadata": {
    "colab": {
     "base_uri": "https://localhost:8080/"
    },
    "id": "0CpbHdWSM50I",
    "outputId": "d26bb1c4-ccc6-40ee-b9f9-e9695e0ed75a"
   },
   "outputs": [],
   "source": [
    "#defining list of numbers\n",
    "#argument of the function is an any list of numbers\n",
    "def max_num_in_list(list_num):\n",
    "    max_num = list_num[0] #take a first item of any inputted list and assign it as a max number\n",
    "    for a in list_num: #then use for loop to compare each consecutive item in a list to a previous item \n",
    "        if a > max_num: #if an item is higher than the previous item, then max number will become that item\n",
    "            max_num = a\n",
    "    return max_num"
   ]
  },
  {
   "cell_type": "code",
   "execution_count": 9,
   "metadata": {},
   "outputs": [
    {
     "name": "stdout",
     "output_type": "stream",
     "text": [
      "12\n"
     ]
    }
   ],
   "source": [
    "#let's apply cretaed max_num_in_list() function to the list\n",
    "list_num=[-10,0,12, 3,8,5,6,8,-3]\n",
    "print(max_num_in_list(list_num))"
   ]
  },
  {
   "cell_type": "markdown",
   "metadata": {},
   "source": [
    "> **b.** Write a function that will ask a user to rate their satisfaction from the services provided by X company by using 1-5 scale. If a user rates 1, then your program should return “Strongly dissatisfied”, 2- “Dissatisfied”, 3- “Neither dissatisfied nor satisfied”, 4- “Satisfied”, 5- “Very satisfied”.  If the score is out of the 1-5 range, the program should print the following information: “Please use 1-5 range to rate your satisfaction”. If a user enters not numeric data, the program should return the following: “Please enter numeric information.”"
   ]
  },
  {
   "cell_type": "code",
   "execution_count": 10,
   "metadata": {
    "id": "C4-vZNV9FJ90"
   },
   "outputs": [],
   "source": [
    "#defining a function\n",
    "def satisfy():\n",
    "    try:\n",
    "        x=int(input(\"Enter number: \"))\n",
    "    except ValueError:\n",
    "        print(\"Please enter numeric information.\")\n",
    "        sys.exit(1)\n",
    "    if x==1:\n",
    "        y=\"Strongly dissatisfied\"\n",
    "    elif x==2:\n",
    "        y=\"Dissatisfied\"\n",
    "    elif x==3:\n",
    "        y='Neither dissatisfied nor satisfied'\n",
    "    elif x==4:\n",
    "        y='Satisfied'\n",
    "    elif x==5:\n",
    "        y='Very satisfied'\n",
    "    else:\n",
    "        y=\"Please use 1-5 range to rate your satisfaction\"\n",
    "    return y"
   ]
  },
  {
   "cell_type": "code",
   "execution_count": 11,
   "metadata": {
    "id": "hd3wH7OmcsF-"
   },
   "outputs": [
    {
     "name": "stdout",
     "output_type": "stream",
     "text": [
      "Enter number: 1\n",
      "Strongly dissatisfied\n",
      "Enter number: 10\n",
      "Please use 1-5 range to rate your satisfaction\n"
     ]
    }
   ],
   "source": [
    "#apply function for 1\n",
    "print(satisfy())\n",
    "#apply function for a number not in rannge 1-5\n",
    "print(satisfy())"
   ]
  },
  {
   "cell_type": "markdown",
   "metadata": {},
   "source": [
    "# Problem 5. Reading data (0.5 points)"
   ]
  },
  {
   "cell_type": "markdown",
   "metadata": {},
   "source": [
    "> **a.** Read “Affairs” data."
   ]
  },
  {
   "cell_type": "code",
   "execution_count": 12,
   "metadata": {},
   "outputs": [],
   "source": [
    "affairs_data=pd.read_excel('Affairs.xlsx')"
   ]
  },
  {
   "cell_type": "markdown",
   "metadata": {},
   "source": [
    "# Problem 6. Data description (5.5 points)"
   ]
  },
  {
   "cell_type": "markdown",
   "metadata": {},
   "source": [
    "> **a.**\tHow many rows and how many columns are in the data?"
   ]
  },
  {
   "cell_type": "code",
   "execution_count": 13,
   "metadata": {},
   "outputs": [
    {
     "data": {
      "text/plain": [
       "(601, 10)"
      ]
     },
     "execution_count": 13,
     "metadata": {},
     "output_type": "execute_result"
    }
   ],
   "source": [
    "affairs_data.shape"
   ]
  },
  {
   "cell_type": "markdown",
   "metadata": {},
   "source": [
    "**There are 601 rows and 10 columns in the dataset.**"
   ]
  },
  {
   "cell_type": "markdown",
   "metadata": {},
   "source": [
    "> **b.**\tHow many variables have missing values?\n",
    "\n",
    "> **c.**\tHow many missing values are under each variable?"
   ]
  },
  {
   "cell_type": "code",
   "execution_count": 14,
   "metadata": {},
   "outputs": [
    {
     "data": {
      "text/plain": [
       "ID                      0\n",
       "affairs                 0\n",
       "gender                  2\n",
       "age                     2\n",
       "years married           0\n",
       "children                1\n",
       "religiousness rating    0\n",
       "education               1\n",
       "occupation              0\n",
       "rating                  0\n",
       "dtype: int64"
      ]
     },
     "execution_count": 14,
     "metadata": {},
     "output_type": "execute_result"
    }
   ],
   "source": [
    "affairs_data.isna().sum()"
   ]
  },
  {
   "cell_type": "markdown",
   "metadata": {},
   "source": [
    "**Four variables have missing values.**"
   ]
  },
  {
   "cell_type": "markdown",
   "metadata": {},
   "source": [
    "**d.**\tHow many numeric and how many non-numeric variables are in the data?"
   ]
  },
  {
   "cell_type": "markdown",
   "metadata": {},
   "source": [
    "##### Solution Option 1"
   ]
  },
  {
   "cell_type": "code",
   "execution_count": 15,
   "metadata": {},
   "outputs": [
    {
     "name": "stdout",
     "output_type": "stream",
     "text": [
      "<class 'pandas.core.frame.DataFrame'>\n",
      "RangeIndex: 601 entries, 0 to 600\n",
      "Data columns (total 10 columns):\n",
      " #   Column                Non-Null Count  Dtype  \n",
      "---  ------                --------------  -----  \n",
      " 0   ID                    601 non-null    int64  \n",
      " 1   affairs               601 non-null    object \n",
      " 2   gender                599 non-null    object \n",
      " 3   age                   599 non-null    float64\n",
      " 4   years married         601 non-null    float64\n",
      " 5   children              600 non-null    object \n",
      " 6   religiousness rating  601 non-null    int64  \n",
      " 7   education             600 non-null    float64\n",
      " 8   occupation            601 non-null    int64  \n",
      " 9   rating                601 non-null    int64  \n",
      "dtypes: float64(3), int64(4), object(3)\n",
      "memory usage: 47.1+ KB\n"
     ]
    }
   ],
   "source": [
    "affairs_data.info()"
   ]
  },
  {
   "cell_type": "markdown",
   "metadata": {},
   "source": [
    "##### Solution Option 2"
   ]
  },
  {
   "cell_type": "code",
   "execution_count": 16,
   "metadata": {},
   "outputs": [
    {
     "name": "stdout",
     "output_type": "stream",
     "text": [
      "Number of numeric variables:  7\n",
      "Number of object variables:  3\n"
     ]
    }
   ],
   "source": [
    "print('Number of numeric variables: ',len(affairs_data.select_dtypes(exclude='object').columns))\n",
    "print('Number of object variables: ',len(affairs_data.select_dtypes(include='object').columns))"
   ]
  },
  {
   "cell_type": "markdown",
   "metadata": {},
   "source": [
    "> **e.**\tWhat is the gender of a customer whose ID number is 904? How many years has the same person been married? \n"
   ]
  },
  {
   "cell_type": "code",
   "execution_count": 17,
   "metadata": {},
   "outputs": [
    {
     "data": {
      "text/html": [
       "<div>\n",
       "<style scoped>\n",
       "    .dataframe tbody tr th:only-of-type {\n",
       "        vertical-align: middle;\n",
       "    }\n",
       "\n",
       "    .dataframe tbody tr th {\n",
       "        vertical-align: top;\n",
       "    }\n",
       "\n",
       "    .dataframe thead th {\n",
       "        text-align: right;\n",
       "    }\n",
       "</style>\n",
       "<table border=\"1\" class=\"dataframe\">\n",
       "  <thead>\n",
       "    <tr style=\"text-align: right;\">\n",
       "      <th></th>\n",
       "      <th>gender</th>\n",
       "      <th>years married</th>\n",
       "    </tr>\n",
       "  </thead>\n",
       "  <tbody>\n",
       "    <tr>\n",
       "      <th>193</th>\n",
       "      <td>male</td>\n",
       "      <td>15.0</td>\n",
       "    </tr>\n",
       "  </tbody>\n",
       "</table>\n",
       "</div>"
      ],
      "text/plain": [
       "    gender  years married\n",
       "193   male           15.0"
      ]
     },
     "execution_count": 17,
     "metadata": {},
     "output_type": "execute_result"
    }
   ],
   "source": [
    "affairs_data[affairs_data.ID==904][['gender','years married']]"
   ]
  },
  {
   "cell_type": "markdown",
   "metadata": {},
   "source": [
    "A customer with ID=193 is male and was married for 15 years."
   ]
  },
  {
   "cell_type": "markdown",
   "metadata": {},
   "source": [
    "> **f.**\tOn average how many years people in dataset were involved in education (education)? \n",
    "\n",
    "> **g.**\tWhat is the median of years of being married (years married)? \n",
    "\n",
    "> **h.**\tWhat is the 75th percentile of the rating variable?"
   ]
  },
  {
   "cell_type": "code",
   "execution_count": 18,
   "metadata": {},
   "outputs": [
    {
     "name": "stdout",
     "output_type": "stream",
     "text": [
      "Average Education:  16.17\n",
      "Median years married:  7.0\n",
      "75th percentile of the rating:  5.0\n"
     ]
    }
   ],
   "source": [
    "print('Average Education: ',affairs_data.education.mean())\n",
    "print('Median years married: ',affairs_data['years married'].median())\n",
    "print('75th percentile of the rating: ',affairs_data.rating.quantile(0.75))"
   ]
  },
  {
   "cell_type": "markdown",
   "metadata": {},
   "source": [
    "> **i.**\tWhat is the average age of people who have affair (affairs= “Yes” if a person had an affair and “No” if a person did not have an affair)?"
   ]
  },
  {
   "cell_type": "code",
   "execution_count": 19,
   "metadata": {},
   "outputs": [
    {
     "name": "stdout",
     "output_type": "stream",
     "text": [
      "Average age of people who have affair:  33.41\n"
     ]
    }
   ],
   "source": [
    "print('Average age of people who have affair: ',affairs_data[affairs_data.affairs=='Yes'].age.mean())"
   ]
  },
  {
   "cell_type": "markdown",
   "metadata": {},
   "source": [
    "> **j.**\tCreate a function that will print number of observations of each category of object type variables. "
   ]
  },
  {
   "cell_type": "code",
   "execution_count": 20,
   "metadata": {},
   "outputs": [],
   "source": [
    "#arguments of function is data and column names\n",
    "#df - data, i- column name\n",
    "def observations_printer(df,i):\n",
    "    df=df.select_dtypes(include='object')\n",
    "    return df[i].value_counts()"
   ]
  },
  {
   "cell_type": "code",
   "execution_count": 21,
   "metadata": {},
   "outputs": [
    {
     "data": {
      "text/plain": [
       "No     451\n",
       "Yes    150\n",
       "Name: affairs, dtype: int64"
      ]
     },
     "execution_count": 21,
     "metadata": {},
     "output_type": "execute_result"
    }
   ],
   "source": [
    "#applying function for one of object type variables\n",
    "observations_printer(affairs_data,'affairs')"
   ]
  },
  {
   "cell_type": "markdown",
   "metadata": {},
   "source": [
    "\n",
    "> **k.**\tInside for loop use the function created above (6.j. assignment) to print the unique categories for the following variable: affairs,\t gender, children."
   ]
  },
  {
   "cell_type": "code",
   "execution_count": 22,
   "metadata": {},
   "outputs": [
    {
     "name": "stdout",
     "output_type": "stream",
     "text": [
      "affairs\n",
      "\n",
      "\n",
      "No     451\n",
      "Yes    150\n",
      "Name: affairs, dtype: int64\n",
      "\n",
      "\n",
      "gender\n",
      "\n",
      "\n",
      "female    313\n",
      "male      286\n",
      "Name: gender, dtype: int64\n",
      "\n",
      "\n",
      "children\n",
      "\n",
      "\n",
      "yes    429\n",
      "no     171\n",
      "Name: children, dtype: int64\n",
      "\n",
      "\n"
     ]
    }
   ],
   "source": [
    "for i in ['affairs','gender','children']:\n",
    "    print(i)\n",
    "    print('\\n')\n",
    "    print(observations_printer(affairs_data,i)) # observations_printer(df,i) is a function created above. Affairs stands for data\n",
    "                                                # i stands for the column names in the ['affairs','gender','children'] list.\n",
    "    print('\\n')"
   ]
  },
  {
   "cell_type": "markdown",
   "metadata": {},
   "source": [
    "# Problem 7. Data Transformation (3 points)"
   ]
  },
  {
   "cell_type": "markdown",
   "metadata": {},
   "source": [
    "> **a.**\tRemove all the missing values."
   ]
  },
  {
   "cell_type": "code",
   "execution_count": 23,
   "metadata": {},
   "outputs": [],
   "source": [
    "affairs_data.dropna(inplace=True)"
   ]
  },
  {
   "cell_type": "markdown",
   "metadata": {},
   "source": [
    "> **b.**\tDrop “ID” column."
   ]
  },
  {
   "cell_type": "code",
   "execution_count": 24,
   "metadata": {},
   "outputs": [],
   "source": [
    "affairs_data.drop('ID',axis=1,inplace=True)"
   ]
  },
  {
   "cell_type": "markdown",
   "metadata": {},
   "source": [
    "> **c.**\tWhat is the new shape of the data after removing missing values and dropping one column?"
   ]
  },
  {
   "cell_type": "code",
   "execution_count": 25,
   "metadata": {},
   "outputs": [
    {
     "data": {
      "text/plain": [
       "(595, 9)"
      ]
     },
     "execution_count": 25,
     "metadata": {},
     "output_type": "execute_result"
    }
   ],
   "source": [
    "affairs_data.shape"
   ]
  },
  {
   "cell_type": "markdown",
   "metadata": {},
   "source": [
    "> **d.**\tSome variable names contain spaces (e.g. years married). Replace the space with underscore (“_”). Use replace() function to do that. See more here."
   ]
  },
  {
   "cell_type": "code",
   "execution_count": 26,
   "metadata": {},
   "outputs": [],
   "source": [
    "affairs_data.columns=affairs_data.columns.str.replace(\" \",\"_\")"
   ]
  },
  {
   "cell_type": "code",
   "execution_count": 27,
   "metadata": {},
   "outputs": [
    {
     "data": {
      "text/plain": [
       "Index(['affairs', 'gender', 'age', 'years_married', 'children',\n",
       "       'religiousness_rating', 'education', 'occupation', 'rating'],\n",
       "      dtype='object')"
      ]
     },
     "execution_count": 27,
     "metadata": {},
     "output_type": "execute_result"
    }
   ],
   "source": [
    "#printing new column names\n",
    "affairs_data.columns"
   ]
  },
  {
   "cell_type": "markdown",
   "metadata": {},
   "source": [
    "> **e.** Separate numeric and object variables. Save them as separate data under “data_num” and “data_obj” names for numeric and object variables respectively."
   ]
  },
  {
   "cell_type": "code",
   "execution_count": 28,
   "metadata": {},
   "outputs": [],
   "source": [
    "data_num=affairs_data.select_dtypes(exclude='object') #numeric\n",
    "data_obj=affairs_data.select_dtypes(include='object') #object"
   ]
  },
  {
   "cell_type": "markdown",
   "metadata": {},
   "source": [
    "# Problem 8. Data Visualization (2 points)"
   ]
  },
  {
   "cell_type": "markdown",
   "metadata": {},
   "source": [
    "> **a.**\tCreate a bar chart where x-axis is affairs and y-axis is an average age. Your chart, X and Y axes should have titles. Adjust figure size to (10,6). "
   ]
  },
  {
   "cell_type": "code",
   "execution_count": 29,
   "metadata": {},
   "outputs": [
    {
     "data": {
      "image/png": "[encoded data removed]",
      "text/plain": [
       "<Figure size 720x432 with 1 Axes>"
      ]
     },
     "metadata": {
      "needs_background": "light"
     },
     "output_type": "display_data"
    }
   ],
   "source": [
    "plt.figure(figsize=(10,6)) #adjusting figure size\n",
    "\n",
    "plt.bar(affairs_data.affairs.unique(), #putting unique categories of affairs on X-axis\n",
    "       affairs_data.groupby('affairs').age.mean(),  #grouping data by affairs, then calculation average age for Y-axis\n",
    "       color='g'\n",
    "       )\n",
    "\n",
    "plt.show()"
   ]
  },
  {
   "cell_type": "markdown",
   "metadata": {},
   "source": [
    "> **b.**\tBy using for loop construct histogram for all numeric type variables in “data_num” dataset created in Problem 7.e."
   ]
  },
  {
   "cell_type": "code",
   "execution_count": 30,
   "metadata": {
    "scrolled": false
   },
   "outputs": [
    {
     "name": "stdout",
     "output_type": "stream",
     "text": [
      "age\n"
     ]
    },
    {
     "data": {
      "image/png": "[encoded data removed]",
      "text/plain": [
       "<Figure size 432x288 with 1 Axes>"
      ]
     },
     "metadata": {
      "needs_background": "light"
     },
     "output_type": "display_data"
    },
    {
     "name": "stdout",
     "output_type": "stream",
     "text": [
      "years_married\n"
     ]
    },
    {
     "data": {
      "image/png": "[encoded data removed]",
      "text/plain": [
       "<Figure size 432x288 with 1 Axes>"
      ]
     },
     "metadata": {
      "needs_background": "light"
     },
     "output_type": "display_data"
    },
    {
     "name": "stdout",
     "output_type": "stream",
     "text": [
      "religiousness_rating\n"
     ]
    },
    {
     "data": {
      "image/png": "[encoded data removed]",
      "text/plain": [
       "<Figure size 432x288 with 1 Axes>"
      ]
     },
     "metadata": {
      "needs_background": "light"
     },
     "output_type": "display_data"
    },
    {
     "name": "stdout",
     "output_type": "stream",
     "text": [
      "education\n"
     ]
    },
    {
     "data": {
      "image/png": "[encoded data removed]",
      "text/plain": [
       "<Figure size 432x288 with 1 Axes>"
      ]
     },
     "metadata": {
      "needs_background": "light"
     },
     "output_type": "display_data"
    },
    {
     "name": "stdout",
     "output_type": "stream",
     "text": [
      "occupation\n"
     ]
    },
    {
     "data": {
      "image/png": "[encoded data removed]",
      "text/plain": [
       "<Figure size 432x288 with 1 Axes>"
      ]
     },
     "metadata": {
      "needs_background": "light"
     },
     "output_type": "display_data"
    },
    {
     "name": "stdout",
     "output_type": "stream",
     "text": [
      "rating\n"
     ]
    },
    {
     "data": {
      "image/png": "[encoded data removed]",
      "text/plain": [
       "<Figure size 432x288 with 1 Axes>"
      ]
     },
     "metadata": {
      "needs_background": "light"
     },
     "output_type": "display_data"
    }
   ],
   "source": [
    "for i in data_num.columns:\n",
    "    print(i)\n",
    "    plt.hist(data_num[i])\n",
    "    plt.title(i)\n",
    "    plt.show()"
   ]
  }
 ],
 "metadata": {
  "colab": {
   "name": "Homework",
   "provenance": []
  },
  "kernelspec": {
   "display_name": "Python 3",
   "language": "python",
   "name": "python3"
  },
  "language_info": {
   "codemirror_mode": {
    "name": "ipython",
    "version": 3
   },
   "file_extension": ".py",
   "mimetype": "text/x-python",
   "name": "python",
   "nbconvert_exporter": "python",
   "pygments_lexer": "ipython3",
   "version": "3.7.6"
  }
 },
 "nbformat": 4,
 "nbformat_minor": 1
}
