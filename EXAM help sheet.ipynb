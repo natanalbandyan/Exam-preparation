{
 "cells": [
  {
   "cell_type": "code",
   "execution_count": 101,
   "id": "5821e5e8",
   "metadata": {},
   "outputs": [
    {
     "data": {
      "text/html": [
       "        <script type=\"text/javascript\">\n",
       "        window.PlotlyConfig = {MathJaxConfig: 'local'};\n",
       "        if (window.MathJax) {MathJax.Hub.Config({SVG: {font: \"STIX-Web\"}});}\n",
       "        if (typeof require !== 'undefined') {\n",
       "        require.undef(\"plotly\");\n",
       "        requirejs.config({\n",
       "            paths: {\n",
       "                'plotly': ['https://cdn.plot.ly/plotly-2.2.0.min']\n",
       "            }\n",
       "        });\n",
       "        require(['plotly'], function(Plotly) {\n",
       "            window._Plotly = Plotly;\n",
       "        });\n",
       "        }\n",
       "        </script>\n",
       "        "
      ]
     },
     "metadata": {},
     "output_type": "display_data"
    }
   ],
   "source": [
    "import pandas as pd #for reading and working with data\n",
    "import matplotlib.pyplot as plt #for visuals\n",
    "import seaborn as sns #for visuals\n",
    "import numpy as np #for doing math/stat calculations, working with arrays\n",
    "import sys\n",
    "import math\n",
    "import random as rd\n",
    "\n",
    "import quandl #for downloading data from Quandl website\n",
    "from pandas_datareader import data #for downloading data from Yahoo Finance website\n",
    "\n",
    "##plotly is for interactive plotting\n",
    "from plotly.offline import iplot\n",
    "from plotly.offline import init_notebook_mode\n",
    "import plotly.graph_objects as go #the basic charts that we will use are mainly stored under graph_objs\n",
    "init_notebook_mode(connected=True) #if we want the charts to be displayed in JN\n",
    "\n",
    "from scipy.stats import pearsonr\n",
    "from scipy.stats import ttest_ind #Independent Sample T-test\n",
    "from scipy.stats import f_oneway #One-Way ANOVA\n",
    "from scipy.stats import levene\n"
   ]
  },
  {
   "cell_type": "markdown",
   "id": "47f42c61",
   "metadata": {},
   "source": [
    "### Basic np. functions"
   ]
  },
  {
   "cell_type": "code",
   "execution_count": 71,
   "id": "e27241b8",
   "metadata": {},
   "outputs": [
    {
     "name": "stdout",
     "output_type": "stream",
     "text": [
      "37.166666666666664\n",
      "85\n",
      "1\n",
      "37.5\n",
      "9\n",
      "[ 1  2 25 50 60 85]\n"
     ]
    }
   ],
   "source": [
    "numbers=[1,2,25,50,60,85]\n",
    "print(np.mean(numbers))\n",
    "print(np.max(numbers))\n",
    "print(np.min(numbers))\n",
    "print(np.median(numbers))\n",
    "print(np.abs(-9))\n",
    "print(np.sort(numbers))"
   ]
  },
  {
   "cell_type": "markdown",
   "id": "613057e1",
   "metadata": {},
   "source": [
    "### Basic math. functions"
   ]
  },
  {
   "cell_type": "code",
   "execution_count": 79,
   "id": "c9325e0b",
   "metadata": {},
   "outputs": [
    {
     "name": "stdout",
     "output_type": "stream",
     "text": [
      "2.302585092994046\n",
      "7.38906\n",
      "3.14\n"
     ]
    }
   ],
   "source": [
    "print(math.log(10)) #Returns the natural logarithm of a number, or the logarithm of number to base\n",
    "print(round(math.exp(2),5)) #Returns E raised to the power of x\n",
    "print(round(math.pi,2))"
   ]
  },
  {
   "cell_type": "markdown",
   "id": "539a4195",
   "metadata": {},
   "source": [
    "# Magic Codes"
   ]
  },
  {
   "cell_type": "markdown",
   "id": "e1461114",
   "metadata": {},
   "source": [
    "% prefix represents that the command operates over a single line of code \n",
    "whereas %% prefix allows the command to operate over an entire cell."
   ]
  },
  {
   "cell_type": "code",
   "execution_count": 8,
   "id": "6c1a8573",
   "metadata": {},
   "outputs": [
    {
     "data": {
      "text/markdown": [
       "\n",
       "type(salary_calculator())\n"
      ],
      "text/plain": [
       "<IPython.core.display.Markdown object>"
      ]
     },
     "metadata": {},
     "output_type": "display_data"
    }
   ],
   "source": [
    "%%markdown\n",
    "\n",
    "type(salary_calculator())"
   ]
  },
  {
   "cell_type": "code",
   "execution_count": 9,
   "id": "60b2a7f4",
   "metadata": {},
   "outputs": [
    {
     "data": {
      "application/json": {
       "cell": {
        "!": "OSMagics",
        "HTML": "Other",
        "SVG": "Other",
        "bash": "Other",
        "capture": "ExecutionMagics",
        "cmd": "Other",
        "debug": "ExecutionMagics",
        "file": "Other",
        "html": "DisplayMagics",
        "javascript": "DisplayMagics",
        "js": "DisplayMagics",
        "latex": "DisplayMagics",
        "markdown": "DisplayMagics",
        "perl": "Other",
        "prun": "ExecutionMagics",
        "pypy": "Other",
        "python": "Other",
        "python2": "Other",
        "python3": "Other",
        "ruby": "Other",
        "script": "ScriptMagics",
        "sh": "Other",
        "svg": "DisplayMagics",
        "sx": "OSMagics",
        "system": "OSMagics",
        "time": "ExecutionMagics",
        "timeit": "ExecutionMagics",
        "writefile": "OSMagics"
       },
       "line": {
        "alias": "OSMagics",
        "alias_magic": "BasicMagics",
        "autoawait": "AsyncMagics",
        "autocall": "AutoMagics",
        "automagic": "AutoMagics",
        "autosave": "KernelMagics",
        "bookmark": "OSMagics",
        "cd": "OSMagics",
        "clear": "KernelMagics",
        "cls": "KernelMagics",
        "colors": "BasicMagics",
        "conda": "PackagingMagics",
        "config": "ConfigMagics",
        "connect_info": "KernelMagics",
        "copy": "Other",
        "ddir": "Other",
        "debug": "ExecutionMagics",
        "dhist": "OSMagics",
        "dirs": "OSMagics",
        "doctest_mode": "BasicMagics",
        "echo": "Other",
        "ed": "Other",
        "edit": "KernelMagics",
        "env": "OSMagics",
        "gui": "BasicMagics",
        "hist": "Other",
        "history": "HistoryMagics",
        "killbgscripts": "ScriptMagics",
        "ldir": "Other",
        "less": "KernelMagics",
        "load": "CodeMagics",
        "load_ext": "ExtensionMagics",
        "loadpy": "CodeMagics",
        "logoff": "LoggingMagics",
        "logon": "LoggingMagics",
        "logstart": "LoggingMagics",
        "logstate": "LoggingMagics",
        "logstop": "LoggingMagics",
        "ls": "Other",
        "lsmagic": "BasicMagics",
        "macro": "ExecutionMagics",
        "magic": "BasicMagics",
        "matplotlib": "PylabMagics",
        "mkdir": "Other",
        "more": "KernelMagics",
        "notebook": "BasicMagics",
        "page": "BasicMagics",
        "pastebin": "CodeMagics",
        "pdb": "ExecutionMagics",
        "pdef": "NamespaceMagics",
        "pdoc": "NamespaceMagics",
        "pfile": "NamespaceMagics",
        "pinfo": "NamespaceMagics",
        "pinfo2": "NamespaceMagics",
        "pip": "PackagingMagics",
        "popd": "OSMagics",
        "pprint": "BasicMagics",
        "precision": "BasicMagics",
        "prun": "ExecutionMagics",
        "psearch": "NamespaceMagics",
        "psource": "NamespaceMagics",
        "pushd": "OSMagics",
        "pwd": "OSMagics",
        "pycat": "OSMagics",
        "pylab": "PylabMagics",
        "qtconsole": "KernelMagics",
        "quickref": "BasicMagics",
        "recall": "HistoryMagics",
        "rehashx": "OSMagics",
        "reload_ext": "ExtensionMagics",
        "ren": "Other",
        "rep": "Other",
        "rerun": "HistoryMagics",
        "reset": "NamespaceMagics",
        "reset_selective": "NamespaceMagics",
        "rmdir": "Other",
        "run": "ExecutionMagics",
        "save": "CodeMagics",
        "sc": "OSMagics",
        "set_env": "OSMagics",
        "store": "StoreMagics",
        "sx": "OSMagics",
        "system": "OSMagics",
        "tb": "ExecutionMagics",
        "time": "ExecutionMagics",
        "timeit": "ExecutionMagics",
        "unalias": "OSMagics",
        "unload_ext": "ExtensionMagics",
        "who": "NamespaceMagics",
        "who_ls": "NamespaceMagics",
        "whos": "NamespaceMagics",
        "xdel": "NamespaceMagics",
        "xmode": "BasicMagics"
       }
      },
      "text/plain": [
       "Available line magics:\n",
       "%alias  %alias_magic  %autoawait  %autocall  %automagic  %autosave  %bookmark  %cd  %clear  %cls  %colors  %conda  %config  %connect_info  %copy  %ddir  %debug  %dhist  %dirs  %doctest_mode  %echo  %ed  %edit  %env  %gui  %hist  %history  %killbgscripts  %ldir  %less  %load  %load_ext  %loadpy  %logoff  %logon  %logstart  %logstate  %logstop  %ls  %lsmagic  %macro  %magic  %matplotlib  %mkdir  %more  %notebook  %page  %pastebin  %pdb  %pdef  %pdoc  %pfile  %pinfo  %pinfo2  %pip  %popd  %pprint  %precision  %prun  %psearch  %psource  %pushd  %pwd  %pycat  %pylab  %qtconsole  %quickref  %recall  %rehashx  %reload_ext  %ren  %rep  %rerun  %reset  %reset_selective  %rmdir  %run  %save  %sc  %set_env  %store  %sx  %system  %tb  %time  %timeit  %unalias  %unload_ext  %who  %who_ls  %whos  %xdel  %xmode\n",
       "\n",
       "Available cell magics:\n",
       "%%!  %%HTML  %%SVG  %%bash  %%capture  %%cmd  %%debug  %%file  %%html  %%javascript  %%js  %%latex  %%markdown  %%perl  %%prun  %%pypy  %%python  %%python2  %%python3  %%ruby  %%script  %%sh  %%svg  %%sx  %%system  %%time  %%timeit  %%writefile\n",
       "\n",
       "Automagic is ON, % prefix IS NOT needed for line magics."
      ]
     },
     "execution_count": 9,
     "metadata": {},
     "output_type": "execute_result"
    }
   ],
   "source": [
    "%lsmagic"
   ]
  },
  {
   "cell_type": "code",
   "execution_count": 10,
   "id": "92cecc99",
   "metadata": {},
   "outputs": [
    {
     "data": {
      "text/plain": [
       "'C:\\\\Users\\\\Admin\\\\Downloads\\\\MGMT300\\\\Section 2\\\\Python'"
      ]
     },
     "execution_count": 10,
     "metadata": {},
     "output_type": "execute_result"
    }
   ],
   "source": [
    "%pwd #returns your current repository - print working directory"
   ]
  },
  {
   "cell_type": "code",
   "execution_count": 12,
   "id": "325091a7",
   "metadata": {},
   "outputs": [
    {
     "name": "stdout",
     "output_type": "stream",
     "text": [
      "Hello World!\n",
      "Wall time: 0 ns\n"
     ]
    }
   ],
   "source": [
    "%time print(\"Hello World!\") #use to find out how long it takes to commit the code"
   ]
  },
  {
   "cell_type": "code",
   "execution_count": 13,
   "id": "011b5331",
   "metadata": {},
   "outputs": [
    {
     "name": "stdout",
     "output_type": "stream",
     "text": [
      "31\n",
      "9.0\n",
      "27\n",
      "1\n",
      "81\n"
     ]
    }
   ],
   "source": [
    "print(27+4)\n",
    "print(27/3)\n",
    "print(9*3)\n",
    "print(29%4) #the remainder when i is divided by j\n",
    "print(9**2) #power of"
   ]
  },
  {
   "cell_type": "markdown",
   "id": "e8073362",
   "metadata": {},
   "source": [
    "# Strings and sequences"
   ]
  },
  {
   "cell_type": "code",
   "execution_count": 14,
   "id": "4f238060",
   "metadata": {},
   "outputs": [
    {
     "name": "stdout",
     "output_type": "stream",
     "text": [
      "I\n",
      "n\n",
      "Iron Man Iron Man \n"
     ]
    },
    {
     "ename": "TypeError",
     "evalue": "unsupported operand type(s) for +: 'int' and 'str'",
     "output_type": "error",
     "traceback": [
      "\u001b[1;31m---------------------------------------------------------------------------\u001b[0m",
      "\u001b[1;31mTypeError\u001b[0m                                 Traceback (most recent call last)",
      "\u001b[1;32m<ipython-input-14-1305fa05da12>\u001b[0m in \u001b[0;36m<module>\u001b[1;34m\u001b[0m\n\u001b[0;32m      5\u001b[0m \u001b[1;33m\u001b[0m\u001b[0m\n\u001b[0;32m      6\u001b[0m \u001b[0mprint\u001b[0m\u001b[1;33m(\u001b[0m\u001b[1;36m2\u001b[0m\u001b[1;33m*\u001b[0m\u001b[1;33m(\u001b[0m\u001b[0mhero2\u001b[0m\u001b[1;33m+\u001b[0m\u001b[1;34m\" \"\u001b[0m\u001b[1;33m)\u001b[0m\u001b[1;33m)\u001b[0m \u001b[1;31m#printing a string multiple times, you can use \"+\" to combine two strings together\u001b[0m\u001b[1;33m\u001b[0m\u001b[1;33m\u001b[0m\u001b[0m\n\u001b[1;32m----> 7\u001b[1;33m \u001b[0mprint\u001b[0m\u001b[1;33m(\u001b[0m\u001b[1;36m2\u001b[0m\u001b[1;33m+\u001b[0m\u001b[0mhero2\u001b[0m\u001b[1;33m)\u001b[0m \u001b[1;31m# if you try to add number to string, you'll get an error\u001b[0m\u001b[1;33m\u001b[0m\u001b[1;33m\u001b[0m\u001b[0m\n\u001b[0m",
      "\u001b[1;31mTypeError\u001b[0m: unsupported operand type(s) for +: 'int' and 'str'"
     ]
    }
   ],
   "source": [
    "hero2='Iron Man' #this is a sequence of letters\n",
    "\n",
    "print(hero2[0]) #getting the first item of a sequence\n",
    "print(hero2[-1]) #getting the last item of a sequence\n",
    "\n",
    "print(2*(hero2+\" \")) #printing a string multiple times, you can use \"+\" to combine two strings together\n",
    "print(2+hero2) # if you try to add number to string, you'll get an error"
   ]
  },
  {
   "cell_type": "code",
   "execution_count": 15,
   "id": "03754ab5",
   "metadata": {},
   "outputs": [
    {
     "name": "stdout",
     "output_type": "stream",
     "text": [
      "Iron Man 2\n"
     ]
    }
   ],
   "source": [
    "#in case you need to add a number to string you should convert number to string by using str() function\n",
    "print(hero2+\" \"+str(2))"
   ]
  },
  {
   "cell_type": "code",
   "execution_count": 16,
   "id": "3eefbf24",
   "metadata": {},
   "outputs": [
    {
     "name": "stdout",
     "output_type": "stream",
     "text": [
      "IRON MAN\n",
      "iron man\n"
     ]
    }
   ],
   "source": [
    "#print the string in upper case\n",
    "print(hero2.upper())\n",
    "#print the string in lower case\n",
    "print(hero2.lower())"
   ]
  },
  {
   "cell_type": "code",
   "execution_count": 18,
   "id": "6a255c1c",
   "metadata": {},
   "outputs": [
    {
     "name": "stdout",
     "output_type": "stream",
     "text": [
      "What is your favourate hero's name? Hulk\n",
      " \n",
      "I like Hulk\n"
     ]
    }
   ],
   "source": [
    "#we can use Python for command line input. That means we are able to ask the user for input.\n",
    "name=input(\"What is your favourate hero's name? \")\n",
    "print(\"I like\", name)"
   ]
  },
  {
   "cell_type": "code",
   "execution_count": 19,
   "id": "f5a58205",
   "metadata": {},
   "outputs": [
    {
     "name": "stdout",
     "output_type": "stream",
     "text": [
      "I like Hulk\n",
      "I like Hulk\n"
     ]
    }
   ],
   "source": [
    "#Using f-strings i.e. formatted strings\n",
    "print(f\"I like {name}\")\n",
    "print(\"I like %s\" %name) # %s stands for string"
   ]
  },
  {
   "cell_type": "markdown",
   "id": "f94281a0",
   "metadata": {},
   "source": [
    "# Lists [ ]\n",
    "ordered and changeable and it allows duplicate members (items). different types allowed.\n",
    ">.append()\n",
    "\n",
    ">.insert(position, \"member_name\")\n",
    "\n",
    ">.remove(\"member_name\")\n",
    "\n",
    "> del list_name[member index]\n",
    "\n",
    "> .join(list_name)"
   ]
  },
  {
   "cell_type": "code",
   "execution_count": 22,
   "id": "659c768e",
   "metadata": {},
   "outputs": [
    {
     "name": "stdout",
     "output_type": "stream",
     "text": [
      "['Hulk', 'Iron Man', 'Black Panther', 2, 2.0]\n"
     ]
    }
   ],
   "source": [
    "heroes_list=[\"Hulk\",\"Iron Man\", \"Black Panther\",2,2.0]\n",
    "print(heroes_list)"
   ]
  },
  {
   "cell_type": "code",
   "execution_count": 26,
   "id": "37630242",
   "metadata": {},
   "outputs": [
    {
     "name": "stdout",
     "output_type": "stream",
     "text": [
      "['Hulk', 'Iron Man']\n",
      "Iron Man\n"
     ]
    }
   ],
   "source": [
    "#printing the 1st member of the list\n",
    "print(heroes_list[0:2]) #printing the first two members\n",
    "print(heroes_list[1]) #printing the second value of the list"
   ]
  },
  {
   "cell_type": "code",
   "execution_count": 27,
   "id": "94786c3e",
   "metadata": {},
   "outputs": [
    {
     "name": "stdout",
     "output_type": "stream",
     "text": [
      "['Iron Man', 'Iron Man', 'Black Panther', 2, 2.0]\n"
     ]
    }
   ],
   "source": [
    "#changing the value of the first item\n",
    "heroes_list[0]=\"Iron Man\" #duplicates are allowed\n",
    "print(heroes_list)"
   ]
  },
  {
   "cell_type": "code",
   "execution_count": 29,
   "id": "452118a8",
   "metadata": {},
   "outputs": [
    {
     "name": "stdout",
     "output_type": "stream",
     "text": [
      "['Iron Man', 'Iron Man', 'Black Panther', 2, 2.0, 'Captain America']\n"
     ]
    }
   ],
   "source": [
    "#add a new value to the list\n",
    "heroes_list.append(\"Captain America\")\n",
    "print(heroes_list)"
   ]
  },
  {
   "cell_type": "code",
   "execution_count": 30,
   "id": "75374f52",
   "metadata": {},
   "outputs": [
    {
     "name": "stdout",
     "output_type": "stream",
     "text": [
      "['Iron Man', 'Hulk', 'Iron Man', 'Black Panther', 2, 2.0, 'Captain America']\n"
     ]
    }
   ],
   "source": [
    "#add a new value to the list at certain position\n",
    "heroes_list.insert(1,\"Hulk\")\n",
    "print(heroes_list)"
   ]
  },
  {
   "cell_type": "code",
   "execution_count": 31,
   "id": "20ed3d4c",
   "metadata": {},
   "outputs": [
    {
     "name": "stdout",
     "output_type": "stream",
     "text": [
      "['Hulk', 'Iron Man', 'Black Panther', 2, 2.0, 'Captain America']\n"
     ]
    }
   ],
   "source": [
    "#removing the value\n",
    "heroes_list.remove(\"Iron Man\") #removes the first Iron Man\n",
    "print(heroes_list)"
   ]
  },
  {
   "cell_type": "code",
   "execution_count": 32,
   "id": "07550872",
   "metadata": {},
   "outputs": [
    {
     "name": "stdout",
     "output_type": "stream",
     "text": [
      "['Iron Man', 'Black Panther', 2, 2.0, 'Captain America']\n"
     ]
    }
   ],
   "source": [
    "#in order to tell which Iron Man to remove, use \n",
    "del heroes_list[0]\n",
    "\n",
    "print(heroes_list)"
   ]
  },
  {
   "cell_type": "markdown",
   "id": "66b3fe9e",
   "metadata": {},
   "source": [
    "## Multi-dimentional lists"
   ]
  },
  {
   "cell_type": "code",
   "execution_count": 102,
   "id": "abf769d6",
   "metadata": {},
   "outputs": [],
   "source": [
    "\n",
    "#[] inside [] should be used to create mult-dimensional lists\n",
    "list_mult=[[1, 2, 3, 4, 5],\n",
    "           ['a','b','c','d','e']]"
   ]
  },
  {
   "cell_type": "code",
   "execution_count": 103,
   "id": "9e02340d",
   "metadata": {},
   "outputs": [
    {
     "data": {
      "text/plain": [
       "['a', 'b', 'c', 'd', 'e']"
      ]
     },
     "execution_count": 103,
     "metadata": {},
     "output_type": "execute_result"
    }
   ],
   "source": [
    "#printing first list inside main list\n",
    "list_mult[1]"
   ]
  },
  {
   "cell_type": "code",
   "execution_count": 104,
   "id": "97393f00",
   "metadata": {},
   "outputs": [
    {
     "data": {
      "text/plain": [
       "'a'"
      ]
     },
     "execution_count": 104,
     "metadata": {},
     "output_type": "execute_result"
    }
   ],
   "source": [
    "#printing first item inside the first list\n",
    "list_mult[1][0]"
   ]
  },
  {
   "cell_type": "code",
   "execution_count": 106,
   "id": "8b500417",
   "metadata": {},
   "outputs": [
    {
     "data": {
      "text/plain": [
       "['in',\n",
       " 'this',\n",
       " 'world,',\n",
       " 'you',\n",
       " 'should',\n",
       " 'always',\n",
       " 'be',\n",
       " 'suspicious',\n",
       " 'of',\n",
       " 'the',\n",
       " 'knowledge',\n",
       " 'you',\n",
       " 'drive',\n",
       " 'from',\n",
       " 'data']"
      ]
     },
     "execution_count": 106,
     "metadata": {},
     "output_type": "execute_result"
    }
   ],
   "source": [
    "#changin value of list item\n",
    "quote[0]='in'\n",
    "quote"
   ]
  },
  {
   "cell_type": "code",
   "execution_count": 108,
   "id": "314eb5ce",
   "metadata": {},
   "outputs": [
    {
     "data": {
      "text/plain": [
       "[[1, 2, 3, 4, 5], ['a', 'b', 'k', 'd', 'e']]"
      ]
     },
     "execution_count": 108,
     "metadata": {},
     "output_type": "execute_result"
    }
   ],
   "source": [
    "#changin value of list item in mult-dim list\n",
    "list_mult[1][2]='k'\n",
    "list_mult"
   ]
  },
  {
   "cell_type": "code",
   "execution_count": 110,
   "id": "d0c9ad42",
   "metadata": {},
   "outputs": [
    {
     "name": "stdout",
     "output_type": "stream",
     "text": [
      "['1', '2', '3', '4', '5']\n"
     ]
    }
   ],
   "source": [
    "#converting list items into strings\n",
    "list_mult[0]=[str(list_mult[0][i]) for i in range(len(list_mult[0]))]\n",
    "print(list_mult[0])"
   ]
  },
  {
   "cell_type": "code",
   "execution_count": 111,
   "id": "efcd5739",
   "metadata": {},
   "outputs": [
    {
     "name": "stdout",
     "output_type": "stream",
     "text": [
      "1+2+3+4+5\n"
     ]
    }
   ],
   "source": [
    "#joining strings inside list by + sign\n",
    "print('+'.join(list_mult[0]))"
   ]
  },
  {
   "cell_type": "markdown",
   "id": "30b6ee6d",
   "metadata": {},
   "source": [
    "# Sets { }\n",
    "unordered and unindexed. only unique values, can't use index numbers to indicate members inside. duplicates are NOT allowed.\n",
    "\n",
    "> .add(\"new_member\")\n",
    "\n",
    "> .remove(\"member_name\")"
   ]
  },
  {
   "cell_type": "code",
   "execution_count": 33,
   "id": "d9fce174",
   "metadata": {},
   "outputs": [
    {
     "name": "stdout",
     "output_type": "stream",
     "text": [
      "{'Galaxy A70', 'iPhone8+'}\n"
     ]
    }
   ],
   "source": [
    "#creating set\n",
    "set_one={\"iPhone8+\",\"Galaxy A70\"}\n",
    "print(set_one)"
   ]
  },
  {
   "cell_type": "code",
   "execution_count": 34,
   "id": "8a9913ef",
   "metadata": {},
   "outputs": [
    {
     "name": "stdout",
     "output_type": "stream",
     "text": [
      "{'Galaxy A70', 'iPhone8+'}\n"
     ]
    }
   ],
   "source": [
    "set_one.add(\"Galaxy A70\") #nothing happened, since values are unique\n",
    "print(set_one)"
   ]
  },
  {
   "cell_type": "code",
   "execution_count": 35,
   "id": "c9825643",
   "metadata": {},
   "outputs": [
    {
     "name": "stdout",
     "output_type": "stream",
     "text": [
      "{'Galaxy A70'}\n"
     ]
    }
   ],
   "source": [
    "set_one.remove('iPhone8+')\n",
    "print(set_one)"
   ]
  },
  {
   "cell_type": "markdown",
   "id": "c59905e0",
   "metadata": {},
   "source": [
    "# Tuples ( )\n",
    "ordered and unchangeable. Allows duplicate members."
   ]
  },
  {
   "cell_type": "code",
   "execution_count": 38,
   "id": "506f392e",
   "metadata": {},
   "outputs": [
    {
     "data": {
      "text/plain": [
       "('1', '2', 'car')"
      ]
     },
     "execution_count": 38,
     "metadata": {},
     "output_type": "execute_result"
    }
   ],
   "source": [
    "#creating a tuple\n",
    "tuple_one=(\"1\",\"2\",\"car\")\n",
    "tuple_one"
   ]
  },
  {
   "cell_type": "code",
   "execution_count": 39,
   "id": "48903023",
   "metadata": {},
   "outputs": [
    {
     "data": {
      "text/plain": [
       "'car'"
      ]
     },
     "execution_count": 39,
     "metadata": {},
     "output_type": "execute_result"
    }
   ],
   "source": [
    "tuple_one[-1]"
   ]
  },
  {
   "cell_type": "code",
   "execution_count": 40,
   "id": "29898820",
   "metadata": {},
   "outputs": [
    {
     "ename": "TypeError",
     "evalue": "'tuple' object does not support item assignment",
     "output_type": "error",
     "traceback": [
      "\u001b[1;31m---------------------------------------------------------------------------\u001b[0m",
      "\u001b[1;31mTypeError\u001b[0m                                 Traceback (most recent call last)",
      "\u001b[1;32m<ipython-input-40-ce7bd6fce0eb>\u001b[0m in \u001b[0;36m<module>\u001b[1;34m\u001b[0m\n\u001b[0;32m      1\u001b[0m \u001b[1;31m#we are getting error as tuples are unchangeable unlike lists\u001b[0m\u001b[1;33m\u001b[0m\u001b[1;33m\u001b[0m\u001b[1;33m\u001b[0m\u001b[0m\n\u001b[1;32m----> 2\u001b[1;33m \u001b[0mtuple_one\u001b[0m\u001b[1;33m[\u001b[0m\u001b[1;36m0\u001b[0m\u001b[1;33m]\u001b[0m\u001b[1;33m=\u001b[0m\u001b[1;34m\"2\"\u001b[0m\u001b[1;33m\u001b[0m\u001b[1;33m\u001b[0m\u001b[0m\n\u001b[0m",
      "\u001b[1;31mTypeError\u001b[0m: 'tuple' object does not support item assignment"
     ]
    }
   ],
   "source": [
    "#we are getting error as tuples are unchangeable unlike lists\n",
    "tuple_one[0]=\"2\""
   ]
  },
  {
   "cell_type": "markdown",
   "id": "925ba89f",
   "metadata": {},
   "source": [
    "# Dictionaries { \"key\" : \"value\"}\n",
    "unordered, changeable and indexed. No duplicate members are allowed. **ITEM** is the pair of key and its value\n",
    "\n",
    "> .get(\"key\")\n",
    "\n",
    "> .items()\n",
    "\n",
    "> .pop(\"key_to_be_dropped\")\n",
    "\n",
    "> .clear()\n",
    "\n",
    "> = dict(zip(list_name1, list_name2))"
   ]
  },
  {
   "cell_type": "code",
   "execution_count": 50,
   "id": "da02bb56",
   "metadata": {},
   "outputs": [
    {
     "name": "stdout",
     "output_type": "stream",
     "text": [
      "{'name': 'Hulk', 'test name': 'SAT', 'test score': 800}\n"
     ]
    }
   ],
   "source": [
    "#creating dictionary: the first value is \"key\" and the second one is \"value\"\n",
    "student_info={\"name\":'Hulk',\"test name\":\"SAT\",\"test score\":800}\n",
    "print(student_info)"
   ]
  },
  {
   "cell_type": "code",
   "execution_count": 51,
   "id": "afc7c3f0",
   "metadata": {},
   "outputs": [
    {
     "name": "stdout",
     "output_type": "stream",
     "text": [
      "Hulk\n",
      "SAT\n"
     ]
    }
   ],
   "source": [
    "#accessing elements in a dict\n",
    "print(student_info.get('name'))\n",
    "print(student_info.get('test name'))"
   ]
  },
  {
   "cell_type": "code",
   "execution_count": 52,
   "id": "ae252d07",
   "metadata": {},
   "outputs": [
    {
     "name": "stdout",
     "output_type": "stream",
     "text": [
      "dict_items([('name', 'Hulk'), ('test name', 'SAT'), ('test score', 800)])\n"
     ]
    }
   ],
   "source": [
    "print(student_info.items())"
   ]
  },
  {
   "cell_type": "code",
   "execution_count": 53,
   "id": "119859df",
   "metadata": {},
   "outputs": [
    {
     "name": "stdout",
     "output_type": "stream",
     "text": [
      "{'name': 'Batman', 'test name': 'SAT', 'test score': 800}\n"
     ]
    }
   ],
   "source": [
    "#changing elements in dict\n",
    "student_info['name']='Batman'\n",
    "print(student_info)"
   ]
  },
  {
   "cell_type": "code",
   "execution_count": 54,
   "id": "e15066fe",
   "metadata": {},
   "outputs": [
    {
     "data": {
      "text/plain": [
       "'SAT'"
      ]
     },
     "execution_count": 54,
     "metadata": {},
     "output_type": "execute_result"
    }
   ],
   "source": [
    "#removing an item\n",
    "student_info.pop('test name')\n"
   ]
  },
  {
   "cell_type": "code",
   "execution_count": 55,
   "id": "de6b0fc6",
   "metadata": {},
   "outputs": [
    {
     "name": "stdout",
     "output_type": "stream",
     "text": [
      "{'name': 'Batman', 'test score': 800}\n"
     ]
    }
   ],
   "source": [
    "print(student_info)"
   ]
  },
  {
   "cell_type": "code",
   "execution_count": 56,
   "id": "b9d66def",
   "metadata": {},
   "outputs": [
    {
     "name": "stdout",
     "output_type": "stream",
     "text": [
      "{}\n"
     ]
    }
   ],
   "source": [
    "#removing all items\n",
    "student_info.clear()\n",
    "print(student_info)"
   ]
  },
  {
   "cell_type": "markdown",
   "id": "1462114e",
   "metadata": {},
   "source": [
    "## using Lists to generate Dictionaries"
   ]
  },
  {
   "cell_type": "code",
   "execution_count": 57,
   "id": "56cef405",
   "metadata": {},
   "outputs": [
    {
     "name": "stdout",
     "output_type": "stream",
     "text": [
      "{}\n"
     ]
    }
   ],
   "source": [
    "#creating empty dict\n",
    "student_info_new={}\n",
    "print(student_info_new)"
   ]
  },
  {
   "cell_type": "code",
   "execution_count": 58,
   "id": "418df97b",
   "metadata": {},
   "outputs": [
    {
     "name": "stdout",
     "output_type": "stream",
     "text": [
      "SAT: [610, 700, 720]\n"
     ]
    }
   ],
   "source": [
    "#using lists to create dict\n",
    "#let's create list for SAT and IELTS scores\n",
    "SAT=[610,700,720]\n",
    "print(f'SAT: {SAT}')"
   ]
  },
  {
   "cell_type": "code",
   "execution_count": 59,
   "id": "348d4456",
   "metadata": {},
   "outputs": [
    {
     "name": "stdout",
     "output_type": "stream",
     "text": [
      "['Hulk', 'Iron Man', 'Black Panther']\n"
     ]
    }
   ],
   "source": [
    "heroes_list=[\"Hulk\",\"Iron Man\", \"Black Panther\"]\n",
    "\n",
    "print(heroes_list)"
   ]
  },
  {
   "cell_type": "code",
   "execution_count": 60,
   "id": "11ad18c2",
   "metadata": {},
   "outputs": [
    {
     "name": "stdout",
     "output_type": "stream",
     "text": [
      "{'Hulk': 610, 'Iron Man': 700, 'Black Panther': 720}\n"
     ]
    }
   ],
   "source": [
    "#let's use heroes list and test scores list to create dict by using zip() and dict() functions\n",
    "student_info2=dict(zip(heroes_list,SAT)) #zip pairs the test score with hero name\n",
    "print(student_info2)"
   ]
  },
  {
   "cell_type": "markdown",
   "id": "5070eec7",
   "metadata": {},
   "source": [
    "# Loops\n",
    "for i in list/dict/set/tuple/variable\n",
    "\n",
    "> for i in range()"
   ]
  },
  {
   "cell_type": "code",
   "execution_count": 70,
   "id": "f65bff8a",
   "metadata": {},
   "outputs": [
    {
     "name": "stdout",
     "output_type": "stream",
     "text": [
      "1\n",
      "2\n",
      "3\n",
      "4\n",
      "5\n",
      "_____range(start, end)______\n",
      "\n",
      "\n",
      "1\n",
      "2\n",
      "3\n",
      "4\n",
      "5\n",
      "_____range(throughout)______\n",
      "\n",
      "\n",
      "0\n",
      "1\n",
      "2\n",
      "3\n",
      "4\n",
      "5\n",
      "_____calculations within the range______\n",
      "\n",
      "\n",
      "The square of 0 is 0\n",
      "The square of 1 is 1\n",
      "The square of 2 is 4\n",
      "The square of 3 is 9\n",
      "The square of 4 is 16\n",
      "The square of 5 is 25\n",
      "The square of 6 is 36\n",
      "The square of 7 is 49\n",
      "The square of 8 is 64\n",
      "The square of 9 is 81\n",
      "\n",
      "\n",
      "_____taking out keys and values from dictionaries______\n",
      "\n",
      "\n",
      "Hulk earned 610 from SAT\n",
      "Iron Man earned 700 from SAT\n",
      "Black Panther earned 720 from SAT\n"
     ]
    }
   ],
   "source": [
    "for i in [1,2,3,4,5]:\n",
    "    print(i)\n",
    "    \n",
    "print(\"_____range(start, end)______\")\n",
    "print(\"\\n\")\n",
    "\n",
    "for i in range(1,6):\n",
    "    print(i)\n",
    "    \n",
    "print(\"_____range(throughout)______\")\n",
    "print(\"\\n\")\n",
    "    \n",
    "for i in range(6):\n",
    "    print(i)\n",
    "    \n",
    "print(\"_____calculations within the range______\")\n",
    "print(\"\\n\")\n",
    "\n",
    "for x in range(10):\n",
    "    print(f\"The square of {x} is {x**2}\")\n",
    "print(\"\\n\")   \n",
    "print(\"_____taking out keys and values from dictionaries______\")\n",
    "print(\"\\n\")\n",
    "    \n",
    "#use for loop to print values and keys from the dictionary\n",
    "for x, y in zip(heroes_list,SAT):\n",
    "    print(f\"{x} earned {y} from SAT\")"
   ]
  },
  {
   "cell_type": "code",
   "execution_count": null,
   "id": "5fbc9943",
   "metadata": {},
   "outputs": [],
   "source": []
  },
  {
   "cell_type": "markdown",
   "id": "cced7555",
   "metadata": {},
   "source": [
    "# Functions\n",
    "\n",
    "> rd.random()\n",
    "\n",
    "> rd.randint(start,end)\n",
    "\n",
    "> rd.randrange(start,end)\n",
    "\n",
    "> rd.shuffle(list_name)"
   ]
  },
  {
   "cell_type": "code",
   "execution_count": 72,
   "id": "4c6d745e",
   "metadata": {},
   "outputs": [
    {
     "name": "stdout",
     "output_type": "stream",
     "text": [
      "35   1225\n",
      "36   1296\n",
      "37   1369\n",
      "38   1444\n",
      "39   1521\n",
      "40   1600\n",
      "41   1681\n",
      "42   1764\n",
      "43   1849\n",
      "44   1936\n",
      "45   2025\n"
     ]
    }
   ],
   "source": [
    "#define function that takes square of number and then print using for loop squaire of the 35-46 numbers\n",
    "def square_num(x):\n",
    "    return x*x\n",
    "\n",
    "for x in range(35,46):\n",
    "    print(x,\" \", square_num(x))"
   ]
  },
  {
   "cell_type": "markdown",
   "id": "88b0b21e",
   "metadata": {},
   "source": [
    "## Exception"
   ]
  },
  {
   "cell_type": "code",
   "execution_count": 86,
   "id": "ae275a86",
   "metadata": {},
   "outputs": [
    {
     "name": "stdout",
     "output_type": "stream",
     "text": [
      "x: 5\n",
      "y: f\n"
     ]
    },
    {
     "name": "stderr",
     "output_type": "stream",
     "text": [
      "ERROR:root:Internal Python error in the inspect module.\n",
      "Below is the traceback from this internal error.\n",
      "\n"
     ]
    },
    {
     "name": "stdout",
     "output_type": "stream",
     "text": [
      "Invalid input. Please enter a number.\n",
      "Traceback (most recent call last):\n",
      "  File \"<ipython-input-86-37adea78f3d5>\", line 4, in <module>\n",
      "    y=int(input(\"y: \"))\n",
      "ValueError: invalid literal for int() with base 10: 'f'\n",
      "\n",
      "During handling of the above exception, another exception occurred:\n",
      "\n",
      "Traceback (most recent call last):\n",
      "  File \"C:\\Users\\Admin\\anaconda3\\lib\\site-packages\\IPython\\core\\interactiveshell.py\", line 3437, in run_code\n",
      "    exec(code_obj, self.user_global_ns, self.user_ns)\n",
      "  File \"<ipython-input-86-37adea78f3d5>\", line 7, in <module>\n",
      "    sys.exit(1) #exit program w/ status code of 1,\n",
      "SystemExit: 1\n",
      "\n",
      "During handling of the above exception, another exception occurred:\n",
      "\n",
      "Traceback (most recent call last):\n",
      "  File \"C:\\Users\\Admin\\anaconda3\\lib\\site-packages\\IPython\\core\\ultratb.py\", line 1101, in get_records\n",
      "    return _fixed_getinnerframes(etb, number_of_lines_of_context, tb_offset)\n",
      "  File \"C:\\Users\\Admin\\anaconda3\\lib\\site-packages\\IPython\\core\\ultratb.py\", line 248, in wrapped\n",
      "    return f(*args, **kwargs)\n",
      "  File \"C:\\Users\\Admin\\anaconda3\\lib\\site-packages\\IPython\\core\\ultratb.py\", line 281, in _fixed_getinnerframes\n",
      "    records = fix_frame_records_filenames(inspect.getinnerframes(etb, context))\n",
      "  File \"C:\\Users\\Admin\\anaconda3\\lib\\inspect.py\", line 1515, in getinnerframes\n",
      "    frameinfo = (tb.tb_frame,) + getframeinfo(tb, context)\n",
      "AttributeError: 'tuple' object has no attribute 'tb_frame'\n"
     ]
    },
    {
     "ename": "TypeError",
     "evalue": "object of type 'NoneType' has no len()",
     "output_type": "error",
     "traceback": [
      "\u001b[1;31m---------------------------------------------------------------------------\u001b[0m",
      "\u001b[1;31mValueError\u001b[0m                                Traceback (most recent call last)",
      "\u001b[1;32m<ipython-input-86-37adea78f3d5>\u001b[0m in \u001b[0;36m<module>\u001b[1;34m\u001b[0m\n\u001b[0;32m      3\u001b[0m     \u001b[0mx\u001b[0m\u001b[1;33m=\u001b[0m\u001b[0mint\u001b[0m\u001b[1;33m(\u001b[0m\u001b[0minput\u001b[0m\u001b[1;33m(\u001b[0m\u001b[1;34m\"x: \"\u001b[0m\u001b[1;33m)\u001b[0m\u001b[1;33m)\u001b[0m\u001b[1;33m\u001b[0m\u001b[1;33m\u001b[0m\u001b[0m\n\u001b[1;32m----> 4\u001b[1;33m     \u001b[0my\u001b[0m\u001b[1;33m=\u001b[0m\u001b[0mint\u001b[0m\u001b[1;33m(\u001b[0m\u001b[0minput\u001b[0m\u001b[1;33m(\u001b[0m\u001b[1;34m\"y: \"\u001b[0m\u001b[1;33m)\u001b[0m\u001b[1;33m)\u001b[0m\u001b[1;33m\u001b[0m\u001b[1;33m\u001b[0m\u001b[0m\n\u001b[0m\u001b[0;32m      5\u001b[0m \u001b[1;32mexcept\u001b[0m \u001b[0mValueError\u001b[0m\u001b[1;33m:\u001b[0m\u001b[1;33m\u001b[0m\u001b[1;33m\u001b[0m\u001b[0m\n",
      "\u001b[1;31mValueError\u001b[0m: invalid literal for int() with base 10: 'f'",
      "\nDuring handling of the above exception, another exception occurred:\n",
      "\u001b[1;31mSystemExit\u001b[0m                                Traceback (most recent call last)",
      "    \u001b[1;31m[... skipping hidden 1 frame]\u001b[0m\n",
      "\u001b[1;32m<ipython-input-86-37adea78f3d5>\u001b[0m in \u001b[0;36m<module>\u001b[1;34m\u001b[0m\n\u001b[0;32m      6\u001b[0m     \u001b[0mprint\u001b[0m \u001b[1;33m(\u001b[0m\u001b[1;34m\"Invalid input. Please enter a number.\"\u001b[0m\u001b[1;33m)\u001b[0m\u001b[1;33m\u001b[0m\u001b[1;33m\u001b[0m\u001b[0m\n\u001b[1;32m----> 7\u001b[1;33m     \u001b[0msys\u001b[0m\u001b[1;33m.\u001b[0m\u001b[0mexit\u001b[0m\u001b[1;33m(\u001b[0m\u001b[1;36m1\u001b[0m\u001b[1;33m)\u001b[0m \u001b[1;31m#exit program w/ status code of 1,\u001b[0m\u001b[1;33m\u001b[0m\u001b[1;33m\u001b[0m\u001b[0m\n\u001b[0m\u001b[0;32m      8\u001b[0m                  \u001b[1;31m#i.e. the script to exit back to either the Pythonconsole or the command prompt\u001b[0m\u001b[1;33m\u001b[0m\u001b[1;33m\u001b[0m\u001b[1;33m\u001b[0m\u001b[0m\n",
      "\u001b[1;31mSystemExit\u001b[0m: 1",
      "\nDuring handling of the above exception, another exception occurred:\n",
      "\u001b[1;31mTypeError\u001b[0m                                 Traceback (most recent call last)",
      "    \u001b[1;31m[... skipping hidden 1 frame]\u001b[0m\n",
      "\u001b[1;32m~\\anaconda3\\lib\\site-packages\\IPython\\core\\interactiveshell.py\u001b[0m in \u001b[0;36mshowtraceback\u001b[1;34m(self, exc_tuple, filename, tb_offset, exception_only, running_compiled_code)\u001b[0m\n\u001b[0;32m   2052\u001b[0m                     stb = ['An exception has occurred, use %tb to see '\n\u001b[0;32m   2053\u001b[0m                            'the full traceback.\\n']\n\u001b[1;32m-> 2054\u001b[1;33m                     stb.extend(self.InteractiveTB.get_exception_only(etype,\n\u001b[0m\u001b[0;32m   2055\u001b[0m                                                                      value))\n\u001b[0;32m   2056\u001b[0m                 \u001b[1;32melse\u001b[0m\u001b[1;33m:\u001b[0m\u001b[1;33m\u001b[0m\u001b[1;33m\u001b[0m\u001b[0m\n",
      "\u001b[1;32m~\\anaconda3\\lib\\site-packages\\IPython\\core\\ultratb.py\u001b[0m in \u001b[0;36mget_exception_only\u001b[1;34m(self, etype, value)\u001b[0m\n\u001b[0;32m    752\u001b[0m         \u001b[0mvalue\u001b[0m \u001b[1;33m:\u001b[0m \u001b[0mexception\u001b[0m \u001b[0mvalue\u001b[0m\u001b[1;33m\u001b[0m\u001b[1;33m\u001b[0m\u001b[0m\n\u001b[0;32m    753\u001b[0m         \"\"\"\n\u001b[1;32m--> 754\u001b[1;33m         \u001b[1;32mreturn\u001b[0m \u001b[0mListTB\u001b[0m\u001b[1;33m.\u001b[0m\u001b[0mstructured_traceback\u001b[0m\u001b[1;33m(\u001b[0m\u001b[0mself\u001b[0m\u001b[1;33m,\u001b[0m \u001b[0metype\u001b[0m\u001b[1;33m,\u001b[0m \u001b[0mvalue\u001b[0m\u001b[1;33m)\u001b[0m\u001b[1;33m\u001b[0m\u001b[1;33m\u001b[0m\u001b[0m\n\u001b[0m\u001b[0;32m    755\u001b[0m \u001b[1;33m\u001b[0m\u001b[0m\n\u001b[0;32m    756\u001b[0m     \u001b[1;32mdef\u001b[0m \u001b[0mshow_exception_only\u001b[0m\u001b[1;33m(\u001b[0m\u001b[0mself\u001b[0m\u001b[1;33m,\u001b[0m \u001b[0metype\u001b[0m\u001b[1;33m,\u001b[0m \u001b[0mevalue\u001b[0m\u001b[1;33m)\u001b[0m\u001b[1;33m:\u001b[0m\u001b[1;33m\u001b[0m\u001b[1;33m\u001b[0m\u001b[0m\n",
      "\u001b[1;32m~\\anaconda3\\lib\\site-packages\\IPython\\core\\ultratb.py\u001b[0m in \u001b[0;36mstructured_traceback\u001b[1;34m(self, etype, evalue, etb, tb_offset, context)\u001b[0m\n\u001b[0;32m    627\u001b[0m             \u001b[0mchained_exceptions_tb_offset\u001b[0m \u001b[1;33m=\u001b[0m \u001b[1;36m0\u001b[0m\u001b[1;33m\u001b[0m\u001b[1;33m\u001b[0m\u001b[0m\n\u001b[0;32m    628\u001b[0m             out_list = (\n\u001b[1;32m--> 629\u001b[1;33m                 self.structured_traceback(\n\u001b[0m\u001b[0;32m    630\u001b[0m                     \u001b[0metype\u001b[0m\u001b[1;33m,\u001b[0m \u001b[0mevalue\u001b[0m\u001b[1;33m,\u001b[0m \u001b[1;33m(\u001b[0m\u001b[0metb\u001b[0m\u001b[1;33m,\u001b[0m \u001b[0mchained_exc_ids\u001b[0m\u001b[1;33m)\u001b[0m\u001b[1;33m,\u001b[0m\u001b[1;33m\u001b[0m\u001b[1;33m\u001b[0m\u001b[0m\n\u001b[0;32m    631\u001b[0m                     chained_exceptions_tb_offset, context)\n",
      "\u001b[1;32m~\\anaconda3\\lib\\site-packages\\IPython\\core\\ultratb.py\u001b[0m in \u001b[0;36mstructured_traceback\u001b[1;34m(self, etype, value, tb, tb_offset, number_of_lines_of_context)\u001b[0m\n\u001b[0;32m   1365\u001b[0m         \u001b[1;32melse\u001b[0m\u001b[1;33m:\u001b[0m\u001b[1;33m\u001b[0m\u001b[1;33m\u001b[0m\u001b[0m\n\u001b[0;32m   1366\u001b[0m             \u001b[0mself\u001b[0m\u001b[1;33m.\u001b[0m\u001b[0mtb\u001b[0m \u001b[1;33m=\u001b[0m \u001b[0mtb\u001b[0m\u001b[1;33m\u001b[0m\u001b[1;33m\u001b[0m\u001b[0m\n\u001b[1;32m-> 1367\u001b[1;33m         return FormattedTB.structured_traceback(\n\u001b[0m\u001b[0;32m   1368\u001b[0m             self, etype, value, tb, tb_offset, number_of_lines_of_context)\n\u001b[0;32m   1369\u001b[0m \u001b[1;33m\u001b[0m\u001b[0m\n",
      "\u001b[1;32m~\\anaconda3\\lib\\site-packages\\IPython\\core\\ultratb.py\u001b[0m in \u001b[0;36mstructured_traceback\u001b[1;34m(self, etype, value, tb, tb_offset, number_of_lines_of_context)\u001b[0m\n\u001b[0;32m   1265\u001b[0m         \u001b[1;32mif\u001b[0m \u001b[0mmode\u001b[0m \u001b[1;32min\u001b[0m \u001b[0mself\u001b[0m\u001b[1;33m.\u001b[0m\u001b[0mverbose_modes\u001b[0m\u001b[1;33m:\u001b[0m\u001b[1;33m\u001b[0m\u001b[1;33m\u001b[0m\u001b[0m\n\u001b[0;32m   1266\u001b[0m             \u001b[1;31m# Verbose modes need a full traceback\u001b[0m\u001b[1;33m\u001b[0m\u001b[1;33m\u001b[0m\u001b[1;33m\u001b[0m\u001b[0m\n\u001b[1;32m-> 1267\u001b[1;33m             return VerboseTB.structured_traceback(\n\u001b[0m\u001b[0;32m   1268\u001b[0m                 \u001b[0mself\u001b[0m\u001b[1;33m,\u001b[0m \u001b[0metype\u001b[0m\u001b[1;33m,\u001b[0m \u001b[0mvalue\u001b[0m\u001b[1;33m,\u001b[0m \u001b[0mtb\u001b[0m\u001b[1;33m,\u001b[0m \u001b[0mtb_offset\u001b[0m\u001b[1;33m,\u001b[0m \u001b[0mnumber_of_lines_of_context\u001b[0m\u001b[1;33m\u001b[0m\u001b[1;33m\u001b[0m\u001b[0m\n\u001b[0;32m   1269\u001b[0m             )\n",
      "\u001b[1;32m~\\anaconda3\\lib\\site-packages\\IPython\\core\\ultratb.py\u001b[0m in \u001b[0;36mstructured_traceback\u001b[1;34m(self, etype, evalue, etb, tb_offset, number_of_lines_of_context)\u001b[0m\n\u001b[0;32m   1122\u001b[0m         \u001b[1;34m\"\"\"Return a nice text document describing the traceback.\"\"\"\u001b[0m\u001b[1;33m\u001b[0m\u001b[1;33m\u001b[0m\u001b[0m\n\u001b[0;32m   1123\u001b[0m \u001b[1;33m\u001b[0m\u001b[0m\n\u001b[1;32m-> 1124\u001b[1;33m         formatted_exception = self.format_exception_as_a_whole(etype, evalue, etb, number_of_lines_of_context,\n\u001b[0m\u001b[0;32m   1125\u001b[0m                                                                tb_offset)\n\u001b[0;32m   1126\u001b[0m \u001b[1;33m\u001b[0m\u001b[0m\n",
      "\u001b[1;32m~\\anaconda3\\lib\\site-packages\\IPython\\core\\ultratb.py\u001b[0m in \u001b[0;36mformat_exception_as_a_whole\u001b[1;34m(self, etype, evalue, etb, number_of_lines_of_context, tb_offset)\u001b[0m\n\u001b[0;32m   1080\u001b[0m \u001b[1;33m\u001b[0m\u001b[0m\n\u001b[0;32m   1081\u001b[0m \u001b[1;33m\u001b[0m\u001b[0m\n\u001b[1;32m-> 1082\u001b[1;33m         \u001b[0mlast_unique\u001b[0m\u001b[1;33m,\u001b[0m \u001b[0mrecursion_repeat\u001b[0m \u001b[1;33m=\u001b[0m \u001b[0mfind_recursion\u001b[0m\u001b[1;33m(\u001b[0m\u001b[0morig_etype\u001b[0m\u001b[1;33m,\u001b[0m \u001b[0mevalue\u001b[0m\u001b[1;33m,\u001b[0m \u001b[0mrecords\u001b[0m\u001b[1;33m)\u001b[0m\u001b[1;33m\u001b[0m\u001b[1;33m\u001b[0m\u001b[0m\n\u001b[0m\u001b[0;32m   1083\u001b[0m \u001b[1;33m\u001b[0m\u001b[0m\n\u001b[0;32m   1084\u001b[0m         \u001b[0mframes\u001b[0m \u001b[1;33m=\u001b[0m \u001b[0mself\u001b[0m\u001b[1;33m.\u001b[0m\u001b[0mformat_records\u001b[0m\u001b[1;33m(\u001b[0m\u001b[0mrecords\u001b[0m\u001b[1;33m,\u001b[0m \u001b[0mlast_unique\u001b[0m\u001b[1;33m,\u001b[0m \u001b[0mrecursion_repeat\u001b[0m\u001b[1;33m)\u001b[0m\u001b[1;33m\u001b[0m\u001b[1;33m\u001b[0m\u001b[0m\n",
      "\u001b[1;32m~\\anaconda3\\lib\\site-packages\\IPython\\core\\ultratb.py\u001b[0m in \u001b[0;36mfind_recursion\u001b[1;34m(etype, value, records)\u001b[0m\n\u001b[0;32m    380\u001b[0m     \u001b[1;31m# first frame (from in to out) that looks different.\u001b[0m\u001b[1;33m\u001b[0m\u001b[1;33m\u001b[0m\u001b[1;33m\u001b[0m\u001b[0m\n\u001b[0;32m    381\u001b[0m     \u001b[1;32mif\u001b[0m \u001b[1;32mnot\u001b[0m \u001b[0mis_recursion_error\u001b[0m\u001b[1;33m(\u001b[0m\u001b[0metype\u001b[0m\u001b[1;33m,\u001b[0m \u001b[0mvalue\u001b[0m\u001b[1;33m,\u001b[0m \u001b[0mrecords\u001b[0m\u001b[1;33m)\u001b[0m\u001b[1;33m:\u001b[0m\u001b[1;33m\u001b[0m\u001b[1;33m\u001b[0m\u001b[0m\n\u001b[1;32m--> 382\u001b[1;33m         \u001b[1;32mreturn\u001b[0m \u001b[0mlen\u001b[0m\u001b[1;33m(\u001b[0m\u001b[0mrecords\u001b[0m\u001b[1;33m)\u001b[0m\u001b[1;33m,\u001b[0m \u001b[1;36m0\u001b[0m\u001b[1;33m\u001b[0m\u001b[1;33m\u001b[0m\u001b[0m\n\u001b[0m\u001b[0;32m    383\u001b[0m \u001b[1;33m\u001b[0m\u001b[0m\n\u001b[0;32m    384\u001b[0m     \u001b[1;31m# Select filename, lineno, func_name to track frames with\u001b[0m\u001b[1;33m\u001b[0m\u001b[1;33m\u001b[0m\u001b[1;33m\u001b[0m\u001b[0m\n",
      "\u001b[1;31mTypeError\u001b[0m: object of type 'NoneType' has no len()"
     ]
    }
   ],
   "source": [
    "#let's see how we can handle the exception above\n",
    "try:\n",
    "    x=int(input(\"x: \"))\n",
    "    y=int(input(\"y: \"))\n",
    "except ValueError:\n",
    "    print (\"Invalid input. Please enter a number.\")\n",
    "    sys.exit(1) #exit program w/ status code of 1, \n",
    "                 #i.e. the script to exit back to either the Pythonconsole or the command prompt\n",
    "    \n",
    "result=x*y    \n",
    "print(f\"{x}*{y} = {result}\")"
   ]
  },
  {
   "cell_type": "code",
   "execution_count": 81,
   "id": "e750c690",
   "metadata": {},
   "outputs": [
    {
     "name": "stdout",
     "output_type": "stream",
     "text": [
      "0.22546845487632472\n",
      "25\n",
      "8\n"
     ]
    }
   ],
   "source": [
    "print(rd.random()) #method returns a random float number between 0.0 to 1.0\n",
    "print(rd.randint(1,100)) # returns a random integer between the specified integers\n",
    "print(rd.randrange(1, 10)) #returns a randomly selected element from the range\n"
   ]
  },
  {
   "cell_type": "code",
   "execution_count": 84,
   "id": "a39594d3",
   "metadata": {},
   "outputs": [
    {
     "data": {
      "text/plain": [
       "[5, 4, 1, 3, 2]"
      ]
     },
     "execution_count": 84,
     "metadata": {},
     "output_type": "execute_result"
    }
   ],
   "source": [
    "numbers=[1,2,3,4,5]\n",
    "rd.shuffle(numbers) # randomly reorders the elements in a list\n",
    "numbers"
   ]
  },
  {
   "cell_type": "markdown",
   "id": "6e36cc64",
   "metadata": {},
   "source": [
    "## Salary Calculator"
   ]
  },
  {
   "cell_type": "code",
   "execution_count": 87,
   "id": "8c5af4b2",
   "metadata": {},
   "outputs": [],
   "source": [
    "def salary_calculator():\n",
    "    Salary=float(input(\"Please Enter your gross salary:\"))\n",
    "    \n",
    "    #income tax condition\n",
    "    \n",
    "    Income_tax=0.22*Salary\n",
    "    \n",
    "    #pension fee conditions\n",
    "    \n",
    "    if Salary<=500000:\n",
    "        Pension=0.035*Salary\n",
    "    elif Salary>500000 and Salary<=1020000:\n",
    "        Pension=0.1*Salary-32500\n",
    "    else:\n",
    "        Pension=69500\n",
    "        \n",
    "    #army fee conditions\n",
    "    \n",
    "    if Salary<=100000:\n",
    "        Army_fee=1500\n",
    "    elif Salary>100000 and Salary<=200000:\n",
    "        Army_fee=3000\n",
    "    elif Salary>200000 and Salary<=500000:\n",
    "        Army_fee=5500\n",
    "    elif Salary>500000 and Salary<=1000000:\n",
    "        Army_fee=8500\n",
    "    else:\n",
    "        Army_fee=15000\n",
    "        \n",
    "    #calculating net salary\n",
    "    \n",
    "    Net_Salary=Salary-Income_tax-Pension-Army_fee\n",
    "    return Net_Salary #output of function is net salary"
   ]
  },
  {
   "cell_type": "code",
   "execution_count": 88,
   "id": "35c220f8",
   "metadata": {},
   "outputs": [
    {
     "name": "stdout",
     "output_type": "stream",
     "text": [
      "Please Enter your gross salary:10000\n"
     ]
    },
    {
     "data": {
      "text/plain": [
       "5950.0"
      ]
     },
     "execution_count": 88,
     "metadata": {},
     "output_type": "execute_result"
    }
   ],
   "source": [
    "salary_calculator()"
   ]
  },
  {
   "cell_type": "markdown",
   "id": "0ab13c11",
   "metadata": {},
   "source": [
    "## While Loop with int and str\n",
    "\n",
    "> .split()"
   ]
  },
  {
   "cell_type": "code",
   "execution_count": 90,
   "id": "13aa8383",
   "metadata": {},
   "outputs": [
    {
     "name": "stdout",
     "output_type": "stream",
     "text": [
      "2\n",
      "4\n",
      "6\n",
      "8\n",
      "i is no longer 10\n"
     ]
    }
   ],
   "source": [
    "#while loop\n",
    "i=2\n",
    "while i<10:\n",
    "    print(i)\n",
    "    i=i+2\n",
    "print(\"i is no longer 10\")"
   ]
  },
  {
   "cell_type": "code",
   "execution_count": 91,
   "id": "4230d6ef",
   "metadata": {},
   "outputs": [
    {
     "data": {
      "text/plain": [
       "str"
      ]
     },
     "execution_count": 91,
     "metadata": {},
     "output_type": "execute_result"
    }
   ],
   "source": [
    "quote_orig='In this world, you should always be suspicious of the knowledge you drive from data'\n",
    "type(quote_orig)"
   ]
  },
  {
   "cell_type": "code",
   "execution_count": 93,
   "id": "ce1343c2",
   "metadata": {},
   "outputs": [
    {
     "name": "stdout",
     "output_type": "stream",
     "text": [
      "<class 'list'>\n",
      "15\n"
     ]
    }
   ],
   "source": [
    "quote=quote_orig.split()\n",
    "\n",
    "#length of quote that is now list of words\n",
    "print(type(quote))\n",
    "print(len(quote))"
   ]
  },
  {
   "cell_type": "code",
   "execution_count": 94,
   "id": "b9af92f4",
   "metadata": {},
   "outputs": [],
   "source": [
    "#let's define a function that will search a word in specified text\n",
    "def find_word(text,word):\n",
    "    index=0\n",
    "    text=text.split()\n",
    "    while index<len(text):\n",
    "        if word==text[index]:\n",
    "            return index\n",
    "        index=index+1\n",
    "    return 'Nothing has been found'"
   ]
  },
  {
   "cell_type": "code",
   "execution_count": 97,
   "id": "dc5bf40d",
   "metadata": {},
   "outputs": [
    {
     "data": {
      "text/plain": [
       "10"
      ]
     },
     "execution_count": 97,
     "metadata": {},
     "output_type": "execute_result"
    }
   ],
   "source": [
    "find_word(quote_orig,'knowledge')\n"
   ]
  },
  {
   "cell_type": "code",
   "execution_count": 98,
   "id": "b688d231",
   "metadata": {},
   "outputs": [
    {
     "data": {
      "text/plain": [
       "'Nothing has been found'"
      ]
     },
     "execution_count": 98,
     "metadata": {},
     "output_type": "execute_result"
    }
   ],
   "source": [
    "find_word(quote_orig,'pssss')"
   ]
  },
  {
   "cell_type": "code",
   "execution_count": 99,
   "id": "d66f1a61",
   "metadata": {},
   "outputs": [],
   "source": [
    "#let's define two lists and apply  standard for and list comprehensions on them\n",
    "a=[1,2,3,4,5]\n",
    "b=['a','b','c','d','e']"
   ]
  },
  {
   "cell_type": "code",
   "execution_count": 100,
   "id": "c935904a",
   "metadata": {},
   "outputs": [
    {
     "name": "stdout",
     "output_type": "stream",
     "text": [
      "[1, 'a']\n",
      "[1, 'b']\n",
      "[1, 'c']\n",
      "[1, 'd']\n",
      "[1, 'e']\n",
      "[2, 'a']\n",
      "[2, 'b']\n",
      "[2, 'c']\n",
      "[2, 'd']\n",
      "[2, 'e']\n",
      "[3, 'a']\n",
      "[3, 'b']\n",
      "[3, 'c']\n",
      "[3, 'd']\n",
      "[3, 'e']\n",
      "[4, 'a']\n",
      "[4, 'b']\n",
      "[4, 'c']\n",
      "[4, 'd']\n",
      "[4, 'e']\n",
      "[5, 'a']\n",
      "[5, 'b']\n",
      "[5, 'c']\n",
      "[5, 'd']\n",
      "[5, 'e']\n"
     ]
    }
   ],
   "source": [
    "#standard for loop\n",
    "for i in a:\n",
    "    for j in b:\n",
    "        print(list((i,j)))"
   ]
  },
  {
   "cell_type": "markdown",
   "id": "7d3b0174",
   "metadata": {},
   "source": [
    "# pd.DataFrame lists, Dictionaries\n"
   ]
  },
  {
   "cell_type": "code",
   "execution_count": 112,
   "id": "27d922f3",
   "metadata": {},
   "outputs": [],
   "source": [
    "#manually creating list about movie names and ratings\n",
    "movies=['The Shawshank Redemption (1994)','The Godfather (1972)','The Godfather: Part II (1974)']\n",
    "ratings=[9.2,9.1,9.0]"
   ]
  },
  {
   "cell_type": "code",
   "execution_count": 114,
   "id": "23c34b9c",
   "metadata": {},
   "outputs": [
    {
     "data": {
      "text/plain": [
       "[('The Shawshank Redemption (1994)', 9.2),\n",
       " ('The Godfather (1972)', 9.1),\n",
       " ('The Godfather: Part II (1974)', 9.0)]"
      ]
     },
     "execution_count": 114,
     "metadata": {},
     "output_type": "execute_result"
    }
   ],
   "source": [
    "#pairing the values\n",
    "list(zip(movies,ratings))"
   ]
  },
  {
   "cell_type": "code",
   "execution_count": 116,
   "id": "496a9492",
   "metadata": {},
   "outputs": [],
   "source": [
    "#creating dataframe by using lists - option 1\n",
    "movie_data = pd.DataFrame(list(zip(movies,ratings)), columns=['movie_name','ratings'])"
   ]
  },
  {
   "cell_type": "code",
   "execution_count": 117,
   "id": "0c8494af",
   "metadata": {},
   "outputs": [
    {
     "data": {
      "text/html": [
       "<div>\n",
       "<style scoped>\n",
       "    .dataframe tbody tr th:only-of-type {\n",
       "        vertical-align: middle;\n",
       "    }\n",
       "\n",
       "    .dataframe tbody tr th {\n",
       "        vertical-align: top;\n",
       "    }\n",
       "\n",
       "    .dataframe thead th {\n",
       "        text-align: right;\n",
       "    }\n",
       "</style>\n",
       "<table border=\"1\" class=\"dataframe\">\n",
       "  <thead>\n",
       "    <tr style=\"text-align: right;\">\n",
       "      <th></th>\n",
       "      <th>movie_name</th>\n",
       "      <th>ratings</th>\n",
       "    </tr>\n",
       "  </thead>\n",
       "  <tbody>\n",
       "    <tr>\n",
       "      <th>0</th>\n",
       "      <td>The Shawshank Redemption (1994)</td>\n",
       "      <td>9.2</td>\n",
       "    </tr>\n",
       "    <tr>\n",
       "      <th>1</th>\n",
       "      <td>The Godfather (1972)</td>\n",
       "      <td>9.1</td>\n",
       "    </tr>\n",
       "    <tr>\n",
       "      <th>2</th>\n",
       "      <td>The Godfather: Part II (1974)</td>\n",
       "      <td>9.0</td>\n",
       "    </tr>\n",
       "  </tbody>\n",
       "</table>\n",
       "</div>"
      ],
      "text/plain": [
       "                        movie_name  ratings\n",
       "0  The Shawshank Redemption (1994)      9.2\n",
       "1             The Godfather (1972)      9.1\n",
       "2    The Godfather: Part II (1974)      9.0"
      ]
     },
     "execution_count": 117,
     "metadata": {},
     "output_type": "execute_result"
    }
   ],
   "source": [
    "movie_data"
   ]
  },
  {
   "cell_type": "code",
   "execution_count": 118,
   "id": "4ca7ae58",
   "metadata": {},
   "outputs": [
    {
     "data": {
      "text/html": [
       "<div>\n",
       "<style scoped>\n",
       "    .dataframe tbody tr th:only-of-type {\n",
       "        vertical-align: middle;\n",
       "    }\n",
       "\n",
       "    .dataframe tbody tr th {\n",
       "        vertical-align: top;\n",
       "    }\n",
       "\n",
       "    .dataframe thead th {\n",
       "        text-align: right;\n",
       "    }\n",
       "</style>\n",
       "<table border=\"1\" class=\"dataframe\">\n",
       "  <thead>\n",
       "    <tr style=\"text-align: right;\">\n",
       "      <th></th>\n",
       "      <th>Movie_name</th>\n",
       "      <th>ratings</th>\n",
       "    </tr>\n",
       "  </thead>\n",
       "  <tbody>\n",
       "    <tr>\n",
       "      <th>0</th>\n",
       "      <td>The Shawshank Redemption (1994)</td>\n",
       "      <td>9.2</td>\n",
       "    </tr>\n",
       "    <tr>\n",
       "      <th>1</th>\n",
       "      <td>The Godfather (1972)</td>\n",
       "      <td>9.1</td>\n",
       "    </tr>\n",
       "    <tr>\n",
       "      <th>2</th>\n",
       "      <td>The Godfather: Part II (1974)</td>\n",
       "      <td>9.0</td>\n",
       "    </tr>\n",
       "  </tbody>\n",
       "</table>\n",
       "</div>"
      ],
      "text/plain": [
       "                        Movie_name  ratings\n",
       "0  The Shawshank Redemption (1994)      9.2\n",
       "1             The Godfather (1972)      9.1\n",
       "2    The Godfather: Part II (1974)      9.0"
      ]
     },
     "execution_count": 118,
     "metadata": {},
     "output_type": "execute_result"
    }
   ],
   "source": [
    "#creating dataframe by using lists and dictionaries - option 2\n",
    "movie_data2=pd.DataFrame({'Movie_name':movies, 'ratings':ratings})\n",
    "movie_data2"
   ]
  },
  {
   "cell_type": "markdown",
   "id": "f24d4b65",
   "metadata": {},
   "source": [
    "# pd.read_filetype(\"file_name\")\n",
    "\n",
    "> .head()\n",
    "\n",
    "> .tail()\n",
    "\n",
    "> **.loc[rows_index_range, \"start_column\" : \"end_column\"] ***- filters rows by index and selects columns by label\n",
    "\n",
    "> **.iloc[rows_index_range, [column_indexes]]*** - filters rows by index and selects columns by integer position (from here iloc)\n",
    "\n",
    "> .info()\n",
    "\n",
    "> .columns\n",
    "\n",
    "> .shape\n",
    "\n",
    "> .max()\n",
    "\n",
    "> .min()\n",
    "\n",
    "> .mean()\n",
    "\n",
    "> .std()\n",
    "\n",
    "> .median()\n",
    "\n",
    "> .describe()\n",
    "\n",
    "> .corr()\n",
    "\n",
    "> .groupby(['object_type'])['numeric_type'].calculation_function\n",
    "\n",
    "> .isna()\n",
    "\n",
    "> .sum()\n",
    "\n",
    "> .drop([\"\", \"\", \"\"], axis = 1, inplace = True/False)\n",
    "\n",
    "> .unique()\n",
    "\n",
    "> .nunique()\n",
    "\n",
    "> .value_counts()\n",
    "\n",
    "> .sort_values(by = [\"\", \"\"], ascending/discending = [False, False])\n",
    "\n",
    "> .quantile(0.9)\n",
    "\n",
    "> .select_dtypes(exclude/include =['object'])\n",
    "\n",
    "> .isna().any() --- (returns booleans)\n",
    "\n",
    "> .count()\n",
    "\n"
   ]
  },
  {
   "cell_type": "code",
   "execution_count": 128,
   "id": "e46913a3",
   "metadata": {},
   "outputs": [
    {
     "name": "stderr",
     "output_type": "stream",
     "text": [
      "C:\\Users\\Admin\\anaconda3\\lib\\site-packages\\IPython\\core\\interactiveshell.py:3165: DtypeWarning:\n",
      "\n",
      "Columns (9) have mixed types.Specify dtype option on import or set low_memory=False.\n",
      "\n"
     ]
    }
   ],
   "source": [
    "data_imdb=pd.read_csv('movies_metadata.csv')\n"
   ]
  },
  {
   "cell_type": "code",
   "execution_count": 129,
   "id": "b7b4a797",
   "metadata": {},
   "outputs": [
    {
     "data": {
      "text/html": [
       "<div>\n",
       "<style scoped>\n",
       "    .dataframe tbody tr th:only-of-type {\n",
       "        vertical-align: middle;\n",
       "    }\n",
       "\n",
       "    .dataframe tbody tr th {\n",
       "        vertical-align: top;\n",
       "    }\n",
       "\n",
       "    .dataframe thead th {\n",
       "        text-align: right;\n",
       "    }\n",
       "</style>\n",
       "<table border=\"1\" class=\"dataframe\">\n",
       "  <thead>\n",
       "    <tr style=\"text-align: right;\">\n",
       "      <th></th>\n",
       "      <th>budget</th>\n",
       "      <th>genres</th>\n",
       "      <th>homepage</th>\n",
       "      <th>imdb_id</th>\n",
       "      <th>original_language</th>\n",
       "      <th>original_title</th>\n",
       "    </tr>\n",
       "  </thead>\n",
       "  <tbody>\n",
       "    <tr>\n",
       "      <th>0</th>\n",
       "      <td>30000000</td>\n",
       "      <td>[{'id': 16, 'name': 'Animation'}, {'id': 35, '...</td>\n",
       "      <td>http://toystory.disney.com/toy-story</td>\n",
       "      <td>tt0114709</td>\n",
       "      <td>en</td>\n",
       "      <td>Toy Story</td>\n",
       "    </tr>\n",
       "    <tr>\n",
       "      <th>1</th>\n",
       "      <td>65000000</td>\n",
       "      <td>[{'id': 12, 'name': 'Adventure'}, {'id': 14, '...</td>\n",
       "      <td>NaN</td>\n",
       "      <td>tt0113497</td>\n",
       "      <td>en</td>\n",
       "      <td>Jumanji</td>\n",
       "    </tr>\n",
       "    <tr>\n",
       "      <th>2</th>\n",
       "      <td>0</td>\n",
       "      <td>[{'id': 10749, 'name': 'Romance'}, {'id': 35, ...</td>\n",
       "      <td>NaN</td>\n",
       "      <td>tt0113228</td>\n",
       "      <td>en</td>\n",
       "      <td>Grumpier Old Men</td>\n",
       "    </tr>\n",
       "    <tr>\n",
       "      <th>3</th>\n",
       "      <td>16000000</td>\n",
       "      <td>[{'id': 35, 'name': 'Comedy'}, {'id': 18, 'nam...</td>\n",
       "      <td>NaN</td>\n",
       "      <td>tt0114885</td>\n",
       "      <td>en</td>\n",
       "      <td>Waiting to Exhale</td>\n",
       "    </tr>\n",
       "    <tr>\n",
       "      <th>4</th>\n",
       "      <td>0</td>\n",
       "      <td>[{'id': 35, 'name': 'Comedy'}]</td>\n",
       "      <td>NaN</td>\n",
       "      <td>tt0113041</td>\n",
       "      <td>en</td>\n",
       "      <td>Father of the Bride Part II</td>\n",
       "    </tr>\n",
       "    <tr>\n",
       "      <th>5</th>\n",
       "      <td>60000000</td>\n",
       "      <td>[{'id': 28, 'name': 'Action'}, {'id': 80, 'nam...</td>\n",
       "      <td>NaN</td>\n",
       "      <td>tt0113277</td>\n",
       "      <td>en</td>\n",
       "      <td>Heat</td>\n",
       "    </tr>\n",
       "    <tr>\n",
       "      <th>6</th>\n",
       "      <td>58000000</td>\n",
       "      <td>[{'id': 35, 'name': 'Comedy'}, {'id': 10749, '...</td>\n",
       "      <td>NaN</td>\n",
       "      <td>tt0114319</td>\n",
       "      <td>en</td>\n",
       "      <td>Sabrina</td>\n",
       "    </tr>\n",
       "    <tr>\n",
       "      <th>7</th>\n",
       "      <td>0</td>\n",
       "      <td>[{'id': 28, 'name': 'Action'}, {'id': 12, 'nam...</td>\n",
       "      <td>NaN</td>\n",
       "      <td>tt0112302</td>\n",
       "      <td>en</td>\n",
       "      <td>Tom and Huck</td>\n",
       "    </tr>\n",
       "    <tr>\n",
       "      <th>8</th>\n",
       "      <td>35000000</td>\n",
       "      <td>[{'id': 28, 'name': 'Action'}, {'id': 12, 'nam...</td>\n",
       "      <td>NaN</td>\n",
       "      <td>tt0114576</td>\n",
       "      <td>en</td>\n",
       "      <td>Sudden Death</td>\n",
       "    </tr>\n",
       "    <tr>\n",
       "      <th>9</th>\n",
       "      <td>58000000</td>\n",
       "      <td>[{'id': 12, 'name': 'Adventure'}, {'id': 28, '...</td>\n",
       "      <td>http://www.mgm.com/view/movie/757/Goldeneye/</td>\n",
       "      <td>tt0113189</td>\n",
       "      <td>en</td>\n",
       "      <td>GoldenEye</td>\n",
       "    </tr>\n",
       "    <tr>\n",
       "      <th>10</th>\n",
       "      <td>62000000</td>\n",
       "      <td>[{'id': 35, 'name': 'Comedy'}, {'id': 18, 'nam...</td>\n",
       "      <td>NaN</td>\n",
       "      <td>tt0112346</td>\n",
       "      <td>en</td>\n",
       "      <td>The American President</td>\n",
       "    </tr>\n",
       "    <tr>\n",
       "      <th>11</th>\n",
       "      <td>0</td>\n",
       "      <td>[{'id': 35, 'name': 'Comedy'}, {'id': 27, 'nam...</td>\n",
       "      <td>NaN</td>\n",
       "      <td>tt0112896</td>\n",
       "      <td>en</td>\n",
       "      <td>Dracula: Dead and Loving It</td>\n",
       "    </tr>\n",
       "    <tr>\n",
       "      <th>12</th>\n",
       "      <td>0</td>\n",
       "      <td>[{'id': 10751, 'name': 'Family'}, {'id': 16, '...</td>\n",
       "      <td>NaN</td>\n",
       "      <td>tt0112453</td>\n",
       "      <td>en</td>\n",
       "      <td>Balto</td>\n",
       "    </tr>\n",
       "  </tbody>\n",
       "</table>\n",
       "</div>"
      ],
      "text/plain": [
       "      budget                                             genres  \\\n",
       "0   30000000  [{'id': 16, 'name': 'Animation'}, {'id': 35, '...   \n",
       "1   65000000  [{'id': 12, 'name': 'Adventure'}, {'id': 14, '...   \n",
       "2          0  [{'id': 10749, 'name': 'Romance'}, {'id': 35, ...   \n",
       "3   16000000  [{'id': 35, 'name': 'Comedy'}, {'id': 18, 'nam...   \n",
       "4          0                     [{'id': 35, 'name': 'Comedy'}]   \n",
       "5   60000000  [{'id': 28, 'name': 'Action'}, {'id': 80, 'nam...   \n",
       "6   58000000  [{'id': 35, 'name': 'Comedy'}, {'id': 10749, '...   \n",
       "7          0  [{'id': 28, 'name': 'Action'}, {'id': 12, 'nam...   \n",
       "8   35000000  [{'id': 28, 'name': 'Action'}, {'id': 12, 'nam...   \n",
       "9   58000000  [{'id': 12, 'name': 'Adventure'}, {'id': 28, '...   \n",
       "10  62000000  [{'id': 35, 'name': 'Comedy'}, {'id': 18, 'nam...   \n",
       "11         0  [{'id': 35, 'name': 'Comedy'}, {'id': 27, 'nam...   \n",
       "12         0  [{'id': 10751, 'name': 'Family'}, {'id': 16, '...   \n",
       "\n",
       "                                        homepage    imdb_id original_language  \\\n",
       "0           http://toystory.disney.com/toy-story  tt0114709                en   \n",
       "1                                            NaN  tt0113497                en   \n",
       "2                                            NaN  tt0113228                en   \n",
       "3                                            NaN  tt0114885                en   \n",
       "4                                            NaN  tt0113041                en   \n",
       "5                                            NaN  tt0113277                en   \n",
       "6                                            NaN  tt0114319                en   \n",
       "7                                            NaN  tt0112302                en   \n",
       "8                                            NaN  tt0114576                en   \n",
       "9   http://www.mgm.com/view/movie/757/Goldeneye/  tt0113189                en   \n",
       "10                                           NaN  tt0112346                en   \n",
       "11                                           NaN  tt0112896                en   \n",
       "12                                           NaN  tt0112453                en   \n",
       "\n",
       "                 original_title  \n",
       "0                     Toy Story  \n",
       "1                       Jumanji  \n",
       "2              Grumpier Old Men  \n",
       "3             Waiting to Exhale  \n",
       "4   Father of the Bride Part II  \n",
       "5                          Heat  \n",
       "6                       Sabrina  \n",
       "7                  Tom and Huck  \n",
       "8                  Sudden Death  \n",
       "9                     GoldenEye  \n",
       "10       The American President  \n",
       "11  Dracula: Dead and Loving It  \n",
       "12                        Balto  "
      ]
     },
     "execution_count": 129,
     "metadata": {},
     "output_type": "execute_result"
    }
   ],
   "source": [
    "data_imdb.loc[0:12,'budget':'original_title']\n"
   ]
  },
  {
   "cell_type": "code",
   "execution_count": 130,
   "id": "1b14aa85",
   "metadata": {},
   "outputs": [
    {
     "data": {
      "text/html": [
       "<div>\n",
       "<style scoped>\n",
       "    .dataframe tbody tr th:only-of-type {\n",
       "        vertical-align: middle;\n",
       "    }\n",
       "\n",
       "    .dataframe tbody tr th {\n",
       "        vertical-align: top;\n",
       "    }\n",
       "\n",
       "    .dataframe thead th {\n",
       "        text-align: right;\n",
       "    }\n",
       "</style>\n",
       "<table border=\"1\" class=\"dataframe\">\n",
       "  <thead>\n",
       "    <tr style=\"text-align: right;\">\n",
       "      <th></th>\n",
       "      <th>id</th>\n",
       "      <th>imdb_id</th>\n",
       "    </tr>\n",
       "  </thead>\n",
       "  <tbody>\n",
       "    <tr>\n",
       "      <th>0</th>\n",
       "      <td>862</td>\n",
       "      <td>tt0114709</td>\n",
       "    </tr>\n",
       "    <tr>\n",
       "      <th>1</th>\n",
       "      <td>8844</td>\n",
       "      <td>tt0113497</td>\n",
       "    </tr>\n",
       "  </tbody>\n",
       "</table>\n",
       "</div>"
      ],
      "text/plain": [
       "     id    imdb_id\n",
       "0   862  tt0114709\n",
       "1  8844  tt0113497"
      ]
     },
     "execution_count": 130,
     "metadata": {},
     "output_type": "execute_result"
    }
   ],
   "source": [
    "data_imdb.iloc[0:2,[0,5]]"
   ]
  },
  {
   "cell_type": "code",
   "execution_count": 131,
   "id": "04a11f26",
   "metadata": {},
   "outputs": [
    {
     "data": {
      "text/plain": [
       "14551    Avatar\n",
       "Name: title, dtype: object"
      ]
     },
     "execution_count": 131,
     "metadata": {},
     "output_type": "execute_result"
    }
   ],
   "source": [
    "#three way of returning movie title that has the highest revenue\n",
    "data_imdb[data_imdb['revenue']==2787965087.0]['title']\n",
    "data_imdb[data_imdb['revenue']==2787965087.0].title\n",
    "data_imdb.loc[data_imdb['revenue']==2787965087.0,'title']"
   ]
  },
  {
   "cell_type": "code",
   "execution_count": 132,
   "id": "0391f218",
   "metadata": {},
   "outputs": [
    {
     "data": {
      "text/plain": [
       "status\n",
       "Canceled           5.100000\n",
       "In Production      4.675000\n",
       "Planned            5.666667\n",
       "Post Production    5.144898\n",
       "Released           5.623682\n",
       "Rumored            5.392609\n",
       "Name: vote_average, dtype: float64"
      ]
     },
     "execution_count": 132,
     "metadata": {},
     "output_type": "execute_result"
    }
   ],
   "source": [
    "#grouping data by object type variables\n",
    "data_imdb.groupby(['status'])['vote_average'].mean()"
   ]
  },
  {
   "cell_type": "code",
   "execution_count": 133,
   "id": "772d7f84",
   "metadata": {},
   "outputs": [],
   "source": [
    "#dropping columns from dataframe\n",
    "data_clean=data_imdb.drop(['belongs_to_collection','homepage'],axis=1)"
   ]
  },
  {
   "cell_type": "code",
   "execution_count": 134,
   "id": "3b334a96",
   "metadata": {},
   "outputs": [
    {
     "data": {
      "text/html": [
       "<div>\n",
       "<style scoped>\n",
       "    .dataframe tbody tr th:only-of-type {\n",
       "        vertical-align: middle;\n",
       "    }\n",
       "\n",
       "    .dataframe tbody tr th {\n",
       "        vertical-align: top;\n",
       "    }\n",
       "\n",
       "    .dataframe thead th {\n",
       "        text-align: right;\n",
       "    }\n",
       "</style>\n",
       "<table border=\"1\" class=\"dataframe\">\n",
       "  <thead>\n",
       "    <tr style=\"text-align: right;\">\n",
       "      <th></th>\n",
       "      <th>id</th>\n",
       "      <th>budget</th>\n",
       "      <th>genres</th>\n",
       "      <th>imdb_id</th>\n",
       "      <th>original_language</th>\n",
       "      <th>original_title</th>\n",
       "      <th>overview</th>\n",
       "      <th>popularity</th>\n",
       "      <th>poster_path</th>\n",
       "      <th>production_companies</th>\n",
       "      <th>...</th>\n",
       "      <th>release_date</th>\n",
       "      <th>revenue</th>\n",
       "      <th>runtime</th>\n",
       "      <th>spoken_languages</th>\n",
       "      <th>status</th>\n",
       "      <th>tagline</th>\n",
       "      <th>title</th>\n",
       "      <th>video</th>\n",
       "      <th>vote_average</th>\n",
       "      <th>vote_count</th>\n",
       "    </tr>\n",
       "  </thead>\n",
       "  <tbody>\n",
       "    <tr>\n",
       "      <th>1</th>\n",
       "      <td>8844</td>\n",
       "      <td>65000000</td>\n",
       "      <td>[{'id': 12, 'name': 'Adventure'}, {'id': 14, '...</td>\n",
       "      <td>tt0113497</td>\n",
       "      <td>en</td>\n",
       "      <td>Jumanji</td>\n",
       "      <td>When siblings Judy and Peter discover an encha...</td>\n",
       "      <td>17.015539</td>\n",
       "      <td>/vzmL6fP7aPKNKPRTFnZmiUfciyV.jpg</td>\n",
       "      <td>[{'name': 'TriStar Pictures', 'id': 559}, {'na...</td>\n",
       "      <td>...</td>\n",
       "      <td>12/15/1995</td>\n",
       "      <td>262797249.0</td>\n",
       "      <td>104.0</td>\n",
       "      <td>[{'iso_639_1': 'en', 'name': 'English'}, {'iso...</td>\n",
       "      <td>Released</td>\n",
       "      <td>Roll the dice and unleash the excitement!</td>\n",
       "      <td>Jumanji</td>\n",
       "      <td>False</td>\n",
       "      <td>6.9</td>\n",
       "      <td>2413.0</td>\n",
       "    </tr>\n",
       "    <tr>\n",
       "      <th>2</th>\n",
       "      <td>15602</td>\n",
       "      <td>0</td>\n",
       "      <td>[{'id': 10749, 'name': 'Romance'}, {'id': 35, ...</td>\n",
       "      <td>tt0113228</td>\n",
       "      <td>en</td>\n",
       "      <td>Grumpier Old Men</td>\n",
       "      <td>A family wedding reignites the ancient feud be...</td>\n",
       "      <td>11.7129</td>\n",
       "      <td>/6ksm1sjKMFLbO7UY2i6G1ju9SML.jpg</td>\n",
       "      <td>[{'name': 'Warner Bros.', 'id': 6194}, {'name'...</td>\n",
       "      <td>...</td>\n",
       "      <td>12/22/1995</td>\n",
       "      <td>0.0</td>\n",
       "      <td>101.0</td>\n",
       "      <td>[{'iso_639_1': 'en', 'name': 'English'}]</td>\n",
       "      <td>Released</td>\n",
       "      <td>Still Yelling. Still Fighting. Still Ready for...</td>\n",
       "      <td>Grumpier Old Men</td>\n",
       "      <td>False</td>\n",
       "      <td>6.5</td>\n",
       "      <td>92.0</td>\n",
       "    </tr>\n",
       "    <tr>\n",
       "      <th>3</th>\n",
       "      <td>31357</td>\n",
       "      <td>16000000</td>\n",
       "      <td>[{'id': 35, 'name': 'Comedy'}, {'id': 18, 'nam...</td>\n",
       "      <td>tt0114885</td>\n",
       "      <td>en</td>\n",
       "      <td>Waiting to Exhale</td>\n",
       "      <td>Cheated on, mistreated and stepped on, the wom...</td>\n",
       "      <td>3.859495</td>\n",
       "      <td>/16XOMpEaLWkrcPqSQqhTmeJuqQl.jpg</td>\n",
       "      <td>[{'name': 'Twentieth Century Fox Film Corporat...</td>\n",
       "      <td>...</td>\n",
       "      <td>12/22/1995</td>\n",
       "      <td>81452156.0</td>\n",
       "      <td>127.0</td>\n",
       "      <td>[{'iso_639_1': 'en', 'name': 'English'}]</td>\n",
       "      <td>Released</td>\n",
       "      <td>Friends are the people who let you be yourself...</td>\n",
       "      <td>Waiting to Exhale</td>\n",
       "      <td>False</td>\n",
       "      <td>6.1</td>\n",
       "      <td>34.0</td>\n",
       "    </tr>\n",
       "  </tbody>\n",
       "</table>\n",
       "<p>3 rows × 21 columns</p>\n",
       "</div>"
      ],
      "text/plain": [
       "      id    budget                                             genres  \\\n",
       "1   8844  65000000  [{'id': 12, 'name': 'Adventure'}, {'id': 14, '...   \n",
       "2  15602         0  [{'id': 10749, 'name': 'Romance'}, {'id': 35, ...   \n",
       "3  31357  16000000  [{'id': 35, 'name': 'Comedy'}, {'id': 18, 'nam...   \n",
       "\n",
       "     imdb_id original_language     original_title  \\\n",
       "1  tt0113497                en            Jumanji   \n",
       "2  tt0113228                en   Grumpier Old Men   \n",
       "3  tt0114885                en  Waiting to Exhale   \n",
       "\n",
       "                                            overview popularity  \\\n",
       "1  When siblings Judy and Peter discover an encha...  17.015539   \n",
       "2  A family wedding reignites the ancient feud be...    11.7129   \n",
       "3  Cheated on, mistreated and stepped on, the wom...   3.859495   \n",
       "\n",
       "                        poster_path  \\\n",
       "1  /vzmL6fP7aPKNKPRTFnZmiUfciyV.jpg   \n",
       "2  /6ksm1sjKMFLbO7UY2i6G1ju9SML.jpg   \n",
       "3  /16XOMpEaLWkrcPqSQqhTmeJuqQl.jpg   \n",
       "\n",
       "                                production_companies  ... release_date  \\\n",
       "1  [{'name': 'TriStar Pictures', 'id': 559}, {'na...  ...   12/15/1995   \n",
       "2  [{'name': 'Warner Bros.', 'id': 6194}, {'name'...  ...   12/22/1995   \n",
       "3  [{'name': 'Twentieth Century Fox Film Corporat...  ...   12/22/1995   \n",
       "\n",
       "       revenue  runtime                                   spoken_languages  \\\n",
       "1  262797249.0    104.0  [{'iso_639_1': 'en', 'name': 'English'}, {'iso...   \n",
       "2          0.0    101.0           [{'iso_639_1': 'en', 'name': 'English'}]   \n",
       "3   81452156.0    127.0           [{'iso_639_1': 'en', 'name': 'English'}]   \n",
       "\n",
       "     status                                            tagline  \\\n",
       "1  Released          Roll the dice and unleash the excitement!   \n",
       "2  Released  Still Yelling. Still Fighting. Still Ready for...   \n",
       "3  Released  Friends are the people who let you be yourself...   \n",
       "\n",
       "               title  video vote_average  vote_count  \n",
       "1            Jumanji  False          6.9      2413.0  \n",
       "2   Grumpier Old Men  False          6.5        92.0  \n",
       "3  Waiting to Exhale  False          6.1        34.0  \n",
       "\n",
       "[3 rows x 21 columns]"
      ]
     },
     "execution_count": 134,
     "metadata": {},
     "output_type": "execute_result"
    }
   ],
   "source": [
    "#dropping row from dataframe\n",
    "data_clean.drop(index=0,axis=0,inplace=True)\n",
    "data_clean.head(3)"
   ]
  },
  {
   "cell_type": "code",
   "execution_count": 135,
   "id": "e4a55835",
   "metadata": {},
   "outputs": [
    {
     "data": {
      "text/plain": [
       "array(['Released', nan, 'Rumored', 'Post Production', 'In Production',\n",
       "       'Planned', 'Canceled'], dtype=object)"
      ]
     },
     "execution_count": 135,
     "metadata": {},
     "output_type": "execute_result"
    }
   ],
   "source": [
    "#unique values in status variable\n",
    "data_imdb['status'].unique()\n"
   ]
  },
  {
   "cell_type": "code",
   "execution_count": 136,
   "id": "264347d2",
   "metadata": {},
   "outputs": [
    {
     "data": {
      "text/html": [
       "<div>\n",
       "<style scoped>\n",
       "    .dataframe tbody tr th:only-of-type {\n",
       "        vertical-align: middle;\n",
       "    }\n",
       "\n",
       "    .dataframe tbody tr th {\n",
       "        vertical-align: top;\n",
       "    }\n",
       "\n",
       "    .dataframe thead th {\n",
       "        text-align: right;\n",
       "    }\n",
       "</style>\n",
       "<table border=\"1\" class=\"dataframe\">\n",
       "  <thead>\n",
       "    <tr style=\"text-align: right;\">\n",
       "      <th></th>\n",
       "      <th>title</th>\n",
       "      <th>vote_average</th>\n",
       "      <th>vote_count</th>\n",
       "    </tr>\n",
       "  </thead>\n",
       "  <tbody>\n",
       "    <tr>\n",
       "      <th>15480</th>\n",
       "      <td>Inception</td>\n",
       "      <td>8.1</td>\n",
       "      <td>14075.0</td>\n",
       "    </tr>\n",
       "    <tr>\n",
       "      <th>12481</th>\n",
       "      <td>The Dark Knight</td>\n",
       "      <td>8.3</td>\n",
       "      <td>12269.0</td>\n",
       "    </tr>\n",
       "    <tr>\n",
       "      <th>14551</th>\n",
       "      <td>Avatar</td>\n",
       "      <td>7.2</td>\n",
       "      <td>12114.0</td>\n",
       "    </tr>\n",
       "    <tr>\n",
       "      <th>17818</th>\n",
       "      <td>The Avengers</td>\n",
       "      <td>7.4</td>\n",
       "      <td>12000.0</td>\n",
       "    </tr>\n",
       "    <tr>\n",
       "      <th>26564</th>\n",
       "      <td>Deadpool</td>\n",
       "      <td>7.4</td>\n",
       "      <td>11444.0</td>\n",
       "    </tr>\n",
       "    <tr>\n",
       "      <th>...</th>\n",
       "      <td>...</td>\n",
       "      <td>...</td>\n",
       "      <td>...</td>\n",
       "    </tr>\n",
       "    <tr>\n",
       "      <th>19730</th>\n",
       "      <td>NaN</td>\n",
       "      <td>NaN</td>\n",
       "      <td>NaN</td>\n",
       "    </tr>\n",
       "    <tr>\n",
       "      <th>29502</th>\n",
       "      <td>NaN</td>\n",
       "      <td>NaN</td>\n",
       "      <td>NaN</td>\n",
       "    </tr>\n",
       "    <tr>\n",
       "      <th>29503</th>\n",
       "      <td>NaN</td>\n",
       "      <td>NaN</td>\n",
       "      <td>NaN</td>\n",
       "    </tr>\n",
       "    <tr>\n",
       "      <th>35586</th>\n",
       "      <td>NaN</td>\n",
       "      <td>NaN</td>\n",
       "      <td>NaN</td>\n",
       "    </tr>\n",
       "    <tr>\n",
       "      <th>35587</th>\n",
       "      <td>NaN</td>\n",
       "      <td>NaN</td>\n",
       "      <td>NaN</td>\n",
       "    </tr>\n",
       "  </tbody>\n",
       "</table>\n",
       "<p>45466 rows × 3 columns</p>\n",
       "</div>"
      ],
      "text/plain": [
       "                 title  vote_average  vote_count\n",
       "15480        Inception           8.1     14075.0\n",
       "12481  The Dark Knight           8.3     12269.0\n",
       "14551           Avatar           7.2     12114.0\n",
       "17818     The Avengers           7.4     12000.0\n",
       "26564         Deadpool           7.4     11444.0\n",
       "...                ...           ...         ...\n",
       "19730              NaN           NaN         NaN\n",
       "29502              NaN           NaN         NaN\n",
       "29503              NaN           NaN         NaN\n",
       "35586              NaN           NaN         NaN\n",
       "35587              NaN           NaN         NaN\n",
       "\n",
       "[45466 rows x 3 columns]"
      ]
     },
     "execution_count": 136,
     "metadata": {},
     "output_type": "execute_result"
    }
   ],
   "source": [
    "#sorting dataframe\n",
    "data_imdb[['title','vote_average','vote_count']].sort_values(by=['vote_count','vote_average'],ascending=[False,False])"
   ]
  },
  {
   "cell_type": "markdown",
   "id": "8a581ecd",
   "metadata": {},
   "source": [
    "# Panda Charts\n",
    "\n",
    "> plt.figure(figsize=(10,6))\n",
    "\n",
    "> .plot(kind='bar/line')\n",
    "\n",
    "> plt.xlabel('')\n",
    "\n",
    "> plt.ylabel('') \n",
    "\n",
    "> plt.title('') \n",
    "\n",
    "> plt.show() \n"
   ]
  },
  {
   "cell_type": "markdown",
   "id": "6cf92837",
   "metadata": {},
   "source": [
    "# Matplotlib Charts\n",
    "\n",
    "> plt.pie/bar/scatter/hist\n",
    "\n",
    "> plt.legend()"
   ]
  },
  {
   "cell_type": "code",
   "execution_count": 140,
   "id": "d04ae070",
   "metadata": {},
   "outputs": [],
   "source": [
    "data_car=pd.read_excel('car_sales.xls')"
   ]
  },
  {
   "cell_type": "code",
   "execution_count": 141,
   "id": "60c89837",
   "metadata": {},
   "outputs": [
    {
     "data": {
      "text/plain": [
       "Index(['ID', 'manufact', 'type', 'fuel_cap', 'sales', 'model', 'price',\n",
       "       'horsepow', 'width', 'length'],\n",
       "      dtype='object')"
      ]
     },
     "execution_count": 141,
     "metadata": {},
     "output_type": "execute_result"
    }
   ],
   "source": [
    "#dropping column resale\n",
    "data_car.drop(columns=['resale'],axis=1,inplace=True)\n",
    "\n",
    "#looking at the new list of column names without resale\n",
    "data_car.columns"
   ]
  },
  {
   "cell_type": "code",
   "execution_count": 142,
   "id": "40c6bd1f",
   "metadata": {},
   "outputs": [],
   "source": [
    "#now let's drop rows, which have at least one missing value in any of the columns\n",
    "\n",
    "data_car.dropna(inplace=True)"
   ]
  },
  {
   "cell_type": "code",
   "execution_count": 144,
   "id": "8db3dd84",
   "metadata": {},
   "outputs": [
    {
     "data": {
      "text/plain": [
       "14.0745"
      ]
     },
     "execution_count": 144,
     "metadata": {},
     "output_type": "execute_result"
    }
   ],
   "source": [
    "#calculationg quantile with only one function\n",
    "data_car.sales.quantile(0.25)\n",
    "np.percentile(data_car.sales,25)"
   ]
  },
  {
   "cell_type": "code",
   "execution_count": 145,
   "id": "021d8cb4",
   "metadata": {},
   "outputs": [],
   "source": [
    "data_numeric=data_car.select_dtypes(exclude='object')"
   ]
  },
  {
   "cell_type": "code",
   "execution_count": 146,
   "id": "a2a2f797",
   "metadata": {},
   "outputs": [],
   "source": [
    "data_object=data_car.select_dtypes(include='object')"
   ]
  },
  {
   "cell_type": "code",
   "execution_count": 147,
   "id": "b24daa68",
   "metadata": {},
   "outputs": [
    {
     "data": {
      "image/png": "[encoded data removed]",
      "text/plain": [
       "<Figure size 432x288 with 1 Axes>"
      ]
     },
     "metadata": {
      "needs_background": "light"
     },
     "output_type": "display_data"
    }
   ],
   "source": [
    "plt.hist(data_numeric.price,\n",
    "         color='#0f732a',\n",
    "         bins=25\n",
    "        )\n",
    "\n",
    "plt.title(\"Distribution of Price\")\n",
    "\n",
    "plt.show()"
   ]
  },
  {
   "cell_type": "code",
   "execution_count": 148,
   "id": "1e279bdd",
   "metadata": {},
   "outputs": [
    {
     "data": {
      "image/png": "[encoded data removed]",
      "text/plain": [
       "<Figure size 432x288 with 1 Axes>"
      ]
     },
     "metadata": {
      "needs_background": "light"
     },
     "output_type": "display_data"
    },
    {
     "data": {
      "image/png": "[encoded data removed]",
      "text/plain": [
       "<Figure size 432x288 with 1 Axes>"
      ]
     },
     "metadata": {
      "needs_background": "light"
     },
     "output_type": "display_data"
    },
    {
     "data": {
      "image/png": "[encoded data removed]",
      "text/plain": [
       "<Figure size 432x288 with 1 Axes>"
      ]
     },
     "metadata": {
      "needs_background": "light"
     },
     "output_type": "display_data"
    },
    {
     "data": {
      "image/png": "[encoded data removed]",
      "text/plain": [
       "<Figure size 432x288 with 1 Axes>"
      ]
     },
     "metadata": {
      "needs_background": "light"
     },
     "output_type": "display_data"
    },
    {
     "data": {
      "image/png": "[encoded data removed]",
      "text/plain": [
       "<Figure size 432x288 with 1 Axes>"
      ]
     },
     "metadata": {
      "needs_background": "light"
     },
     "output_type": "display_data"
    },
    {
     "data": {
      "image/png": "[encoded data removed]",
      "text/plain": [
       "<Figure size 432x288 with 1 Axes>"
      ]
     },
     "metadata": {
      "needs_background": "light"
     },
     "output_type": "display_data"
    },
    {
     "data": {
      "image/png": "[encoded data removed]",
      "text/plain": [
       "<Figure size 432x288 with 1 Axes>"
      ]
     },
     "metadata": {
      "needs_background": "light"
     },
     "output_type": "display_data"
    }
   ],
   "source": [
    "#printing histograms for all numeric variables by using for loop\n",
    "for i in data_numeric.columns:\n",
    "    plt.hist(data_numeric[i],\n",
    "         color='#0f732a',\n",
    "         bins=25\n",
    "        )\n",
    "    plt.title(f\"Distribution of {i}\")\n",
    "    plt.show()"
   ]
  },
  {
   "cell_type": "code",
   "execution_count": 149,
   "id": "e8cc80be",
   "metadata": {},
   "outputs": [
    {
     "data": {
      "image/png": "[encoded data removed]",
      "text/plain": [
       "<Figure size 576x576 with 2 Axes>"
      ]
     },
     "metadata": {
      "needs_background": "light"
     },
     "output_type": "display_data"
    }
   ],
   "source": [
    "plt.figure(figsize=(8,8)) #changing the size of figure\n",
    "\n",
    "plt.subplot(2,1,1) #first plot when plotting to figures side by side, or under each other\n",
    "plt.scatter(data_numeric.horsepow, #X-axis values\n",
    "            data_numeric.price #Y-axis values\n",
    "           )\n",
    "\n",
    "plt.title(\"Price VS Horsepower\") #title of the first chart\n",
    "\n",
    "\n",
    "plt.subplot(2,1,2) #second plot\n",
    "plt.scatter(data_numeric.horsepow, #X-axis values\n",
    "            data_numeric.sales #Y-axis values\n",
    "           )\n",
    "\n",
    "plt.title(\"Sales VS Horsepower\") #title of second chart\n",
    "\n",
    "plt.show()"
   ]
  },
  {
   "cell_type": "code",
   "execution_count": 152,
   "id": "58818d50",
   "metadata": {},
   "outputs": [
    {
     "data": {
      "image/png": "[encoded data removed]",
      "text/plain": [
       "<Figure size 576x360 with 1 Axes>"
      ]
     },
     "metadata": {
      "needs_background": "light"
     },
     "output_type": "display_data"
    }
   ],
   "source": [
    "plt.figure(figsize=(8,5)) #changing the chart size\n",
    "\n",
    "plt.scatter(data_numeric.horsepow,\n",
    "            data_numeric.price,\n",
    "            label='Price'\n",
    "           )\n",
    "\n",
    "plt.title(\"Price VS Horsepower\")\n",
    "\n",
    "\n",
    "plt.scatter(data_numeric.horsepow,\n",
    "            data_numeric.sales,\n",
    "            label='Sales'\n",
    "           )\n",
    "\n",
    "plt.legend() #showing legend on the chart: Price, Sales\n",
    "\n",
    "plt.title(\"Sales VS Horsepower\")\n",
    "\n",
    "plt.show()"
   ]
  },
  {
   "cell_type": "markdown",
   "id": "38691a9b",
   "metadata": {},
   "source": [
    "# Seaborn sns."
   ]
  },
  {
   "cell_type": "code",
   "execution_count": 153,
   "id": "0d4bd816",
   "metadata": {},
   "outputs": [
    {
     "name": "stderr",
     "output_type": "stream",
     "text": [
      "C:\\Users\\Admin\\anaconda3\\lib\\site-packages\\seaborn\\_decorators.py:36: FutureWarning:\n",
      "\n",
      "Pass the following variables as keyword args: x, y. From version 0.12, the only valid positional argument will be `data`, and passing other arguments without an explicit keyword will result in an error or misinterpretation.\n",
      "\n"
     ]
    },
    {
     "data": {
      "image/png": "[encoded data removed]",
      "text/plain": [
       "<Figure size 720x432 with 1 Axes>"
      ]
     },
     "metadata": {
      "needs_background": "light"
     },
     "output_type": "display_data"
    }
   ],
   "source": [
    "plt.figure(figsize=(10,6)) #figure size\n",
    "\n",
    "sns.set_style('darkgrid') #setting style for the charts\n",
    "\n",
    "sns.scatterplot(data_numeric.horsepow, #X-axis values\n",
    "            data_numeric.price #Y-axis values\n",
    "               )\n",
    "\n",
    "plt.show()"
   ]
  },
  {
   "cell_type": "code",
   "execution_count": 154,
   "id": "acc8d91e",
   "metadata": {},
   "outputs": [
    {
     "data": {
      "image/png": "[encoded data removed]",
      "text/plain": [
       "<Figure size 432x288 with 2 Axes>"
      ]
     },
     "metadata": {},
     "output_type": "display_data"
    }
   ],
   "source": [
    "#the argument of the heatmap is a correlation atble created in the cell above\n",
    "sns.heatmap(data_numeric.corr().round(2) #corr table\n",
    "           ,annot=True #to show corr values on the cells on the chart below\n",
    "           )\n",
    "\n",
    "plt.show()"
   ]
  },
  {
   "cell_type": "code",
   "execution_count": 155,
   "id": "ee62e9b3",
   "metadata": {},
   "outputs": [
    {
     "name": "stderr",
     "output_type": "stream",
     "text": [
      "C:\\Users\\Admin\\anaconda3\\lib\\site-packages\\seaborn\\distributions.py:2557: FutureWarning:\n",
      "\n",
      "`distplot` is a deprecated function and will be removed in a future version. Please adapt your code to use either `displot` (a figure-level function with similar flexibility) or `kdeplot` (an axes-level function for kernel density plots).\n",
      "\n",
      "C:\\Users\\Admin\\anaconda3\\lib\\site-packages\\seaborn\\distributions.py:2557: FutureWarning:\n",
      "\n",
      "`distplot` is a deprecated function and will be removed in a future version. Please adapt your code to use either `displot` (a figure-level function with similar flexibility) or `histplot` (an axes-level function for histograms).\n",
      "\n"
     ]
    },
    {
     "data": {
      "image/png": "[encoded data removed]",
      "text/plain": [
       "<Figure size 432x288 with 3 Axes>"
      ]
     },
     "metadata": {},
     "output_type": "display_data"
    }
   ],
   "source": [
    "plt.subplot(3,1,1)\n",
    "sns.distplot(data_numeric.price, hist=False) #only density plot\n",
    "\n",
    "plt.subplot(3,1,2)\n",
    "sns.distplot(data_numeric.price, hist=True, kde=False) #only histogram\n",
    "\n",
    "plt.subplot(3,1,3)\n",
    "sns.distplot(data_numeric.price) #both density plot and histogram on the same chart\n",
    "\n",
    "plt.show()"
   ]
  },
  {
   "cell_type": "code",
   "execution_count": 157,
   "id": "d0e9dc48",
   "metadata": {},
   "outputs": [
    {
     "name": "stderr",
     "output_type": "stream",
     "text": [
      "C:\\Users\\Admin\\anaconda3\\lib\\site-packages\\seaborn\\_decorators.py:36: FutureWarning:\n",
      "\n",
      "Pass the following variables as keyword args: x, y. From version 0.12, the only valid positional argument will be `data`, and passing other arguments without an explicit keyword will result in an error or misinterpretation.\n",
      "\n"
     ]
    },
    {
     "data": {
      "image/png": "[encoded data removed]",
      "text/plain": [
       "<Figure size 432x288 with 1 Axes>"
      ]
     },
     "metadata": {},
     "output_type": "display_data"
    }
   ],
   "source": [
    "#boxplot for price by categories of \"type\" variable\n",
    "sns.boxplot(data_car.type, \n",
    "           data_car.price,\n",
    "           orient='v')\n",
    "\n",
    "plt.show()"
   ]
  },
  {
   "cell_type": "markdown",
   "id": "04f61eca",
   "metadata": {},
   "source": [
    "# Data from web Quandl\n"
   ]
  },
  {
   "cell_type": "code",
   "execution_count": 158,
   "id": "5960135c",
   "metadata": {},
   "outputs": [
    {
     "data": {
      "text/html": [
       "<div>\n",
       "<style scoped>\n",
       "    .dataframe tbody tr th:only-of-type {\n",
       "        vertical-align: middle;\n",
       "    }\n",
       "\n",
       "    .dataframe tbody tr th {\n",
       "        vertical-align: top;\n",
       "    }\n",
       "\n",
       "    .dataframe thead th {\n",
       "        text-align: right;\n",
       "    }\n",
       "</style>\n",
       "<table border=\"1\" class=\"dataframe\">\n",
       "  <thead>\n",
       "    <tr style=\"text-align: right;\">\n",
       "      <th></th>\n",
       "      <th>Value</th>\n",
       "    </tr>\n",
       "    <tr>\n",
       "      <th>Date</th>\n",
       "      <th></th>\n",
       "    </tr>\n",
       "  </thead>\n",
       "  <tbody>\n",
       "    <tr>\n",
       "      <th>1980-12-31</th>\n",
       "      <td>2857.33</td>\n",
       "    </tr>\n",
       "    <tr>\n",
       "      <th>1981-12-31</th>\n",
       "      <td>3207.03</td>\n",
       "    </tr>\n",
       "    <tr>\n",
       "      <th>1982-12-31</th>\n",
       "      <td>3343.80</td>\n",
       "    </tr>\n",
       "    <tr>\n",
       "      <th>1983-12-31</th>\n",
       "      <td>3634.03</td>\n",
       "    </tr>\n",
       "    <tr>\n",
       "      <th>1984-12-31</th>\n",
       "      <td>4037.65</td>\n",
       "    </tr>\n",
       "  </tbody>\n",
       "</table>\n",
       "</div>"
      ],
      "text/plain": [
       "              Value\n",
       "Date               \n",
       "1980-12-31  2857.33\n",
       "1981-12-31  3207.03\n",
       "1982-12-31  3343.80\n",
       "1983-12-31  3634.03\n",
       "1984-12-31  4037.65"
      ]
     },
     "execution_count": 158,
     "metadata": {},
     "output_type": "execute_result"
    }
   ],
   "source": [
    "#getting USA GDP\n",
    "data_gdp=quandl.get(\"ODA/USA_NGDP\",\n",
    "                    authtoken=\"1G3FoWaBrbMgwREZMNWt\", #your API, use this if you are registered in Quandl\n",
    "                   )\n",
    "data_gdp.head()"
   ]
  },
  {
   "cell_type": "code",
   "execution_count": 159,
   "id": "63fa45d8",
   "metadata": {},
   "outputs": [
    {
     "data": {
      "text/html": [
       "<div>\n",
       "<style scoped>\n",
       "    .dataframe tbody tr th:only-of-type {\n",
       "        vertical-align: middle;\n",
       "    }\n",
       "\n",
       "    .dataframe tbody tr th {\n",
       "        vertical-align: top;\n",
       "    }\n",
       "\n",
       "    .dataframe thead th {\n",
       "        text-align: right;\n",
       "    }\n",
       "</style>\n",
       "<table border=\"1\" class=\"dataframe\">\n",
       "  <thead>\n",
       "    <tr style=\"text-align: right;\">\n",
       "      <th></th>\n",
       "      <th>Value</th>\n",
       "    </tr>\n",
       "    <tr>\n",
       "      <th>Date</th>\n",
       "      <th></th>\n",
       "    </tr>\n",
       "  </thead>\n",
       "  <tbody>\n",
       "    <tr>\n",
       "      <th>2020-12-31</th>\n",
       "      <td>22198.12</td>\n",
       "    </tr>\n",
       "    <tr>\n",
       "      <th>2019-12-31</th>\n",
       "      <td>21344.67</td>\n",
       "    </tr>\n",
       "    <tr>\n",
       "      <th>2018-12-31</th>\n",
       "      <td>20494.05</td>\n",
       "    </tr>\n",
       "    <tr>\n",
       "      <th>2017-12-31</th>\n",
       "      <td>19485.40</td>\n",
       "    </tr>\n",
       "    <tr>\n",
       "      <th>2016-12-31</th>\n",
       "      <td>18707.15</td>\n",
       "    </tr>\n",
       "  </tbody>\n",
       "</table>\n",
       "</div>"
      ],
      "text/plain": [
       "               Value\n",
       "Date                \n",
       "2020-12-31  22198.12\n",
       "2019-12-31  21344.67\n",
       "2018-12-31  20494.05\n",
       "2017-12-31  19485.40\n",
       "2016-12-31  18707.15"
      ]
     },
     "execution_count": 159,
     "metadata": {},
     "output_type": "execute_result"
    }
   ],
   "source": [
    "data_gdp=quandl.get(\"ODA/USA_NGDP\",\n",
    "                   start_date='1994-01-01', end_date='2020-12-31', #defining time period\n",
    "                    order='desc',\n",
    "                    authtoken=\"1G3FoWaBrbMgwREZMNWt\", #your API, use this if you are registered in Quandl\n",
    "                   collapse='daily' #to be used if applicable, in this example there is no daily data\n",
    "                   )\n",
    "data_gdp.head()\n"
   ]
  },
  {
   "cell_type": "code",
   "execution_count": 160,
   "id": "247f52d8",
   "metadata": {},
   "outputs": [
    {
     "data": {
      "image/png": "[encoded data removed]",
      "text/plain": [
       "<Figure size 432x288 with 1 Axes>"
      ]
     },
     "metadata": {},
     "output_type": "display_data"
    }
   ],
   "source": [
    "data_gdp.Value.plot()\n",
    "\n",
    "plt.show()"
   ]
  },
  {
   "cell_type": "code",
   "execution_count": 161,
   "id": "0fb3eaff",
   "metadata": {},
   "outputs": [
    {
     "name": "stderr",
     "output_type": "stream",
     "text": [
      "C:\\Users\\Admin\\anaconda3\\lib\\site-packages\\seaborn\\_decorators.py:36: FutureWarning:\n",
      "\n",
      "Pass the following variables as keyword args: x, y. From version 0.12, the only valid positional argument will be `data`, and passing other arguments without an explicit keyword will result in an error or misinterpretation.\n",
      "\n"
     ]
    },
    {
     "data": {
      "image/png": "[encoded data removed]",
      "text/plain": [
       "<Figure size 432x288 with 1 Axes>"
      ]
     },
     "metadata": {},
     "output_type": "display_data"
    }
   ],
   "source": [
    "#visualising time-series data\n",
    "sns.lineplot(data_gdp.index, data_gdp.Value)\n",
    "\n",
    "plt.show()"
   ]
  },
  {
   "cell_type": "markdown",
   "id": "ba1d9fdd",
   "metadata": {},
   "source": [
    "# Data from web Yahoo Finance"
   ]
  },
  {
   "cell_type": "code",
   "execution_count": 162,
   "id": "0c4aac8a",
   "metadata": {},
   "outputs": [],
   "source": [
    "data_dis=data.DataReader(name='DIS', #ticker of staock\n",
    "                        data_source='yahoo', #source of data, for example 'fred' is another data source\n",
    "                        start='2020-01-01', end='2021-01-01', #time period\n",
    "                        pause=1 # to puase some time in seconds after each request to Yahoo, in order not to get blocked\n",
    "                        )"
   ]
  },
  {
   "cell_type": "code",
   "execution_count": 163,
   "id": "070be8a3",
   "metadata": {},
   "outputs": [
    {
     "name": "stderr",
     "output_type": "stream",
     "text": [
      "C:\\Users\\Admin\\anaconda3\\lib\\site-packages\\seaborn\\_decorators.py:36: FutureWarning:\n",
      "\n",
      "Pass the following variables as keyword args: x, y. From version 0.12, the only valid positional argument will be `data`, and passing other arguments without an explicit keyword will result in an error or misinterpretation.\n",
      "\n"
     ]
    },
    {
     "data": {
      "image/png": "[encoded data removed]",
      "text/plain": [
       "<Figure size 432x288 with 1 Axes>"
      ]
     },
     "metadata": {},
     "output_type": "display_data"
    }
   ],
   "source": [
    "#time series chart\n",
    "sns.lineplot(data_dis.index, data_dis.Close)\n",
    "\n",
    "plt.show()"
   ]
  },
  {
   "cell_type": "code",
   "execution_count": 166,
   "id": "d94048fb",
   "metadata": {},
   "outputs": [
    {
     "data": {
      "image/png": "[encoded data removed]",
      "text/plain": [
       "<Figure size 576x360 with 1 Axes>"
      ]
     },
     "metadata": {},
     "output_type": "display_data"
    }
   ],
   "source": [
    "#few lines on one chart\n",
    "plt.figure(figsize=(8,5))\n",
    "\n",
    "sns.lineplot(data=data_dis[['Open',\"Close\",\"High\"]],\n",
    "            palette=['#f22e02','#00a110','#002fc9'])\n",
    "\n",
    "plt.show()"
   ]
  },
  {
   "cell_type": "markdown",
   "id": "56c5bfe7",
   "metadata": {},
   "source": [
    "# Plotly\n",
    "\n",
    "> = go.Figure(data_name)"
   ]
  },
  {
   "cell_type": "code",
   "execution_count": 167,
   "id": "0e4ab800",
   "metadata": {},
   "outputs": [],
   "source": [
    "#first, create a data that plotly will understand\n",
    "data_obj=go.Scatter(x=data_dis.index, y=data_dis.Close,\n",
    "                   mode='lines')"
   ]
  },
  {
   "cell_type": "code",
   "execution_count": 168,
   "id": "7e596915",
   "metadata": {},
   "outputs": [
    {
     "data": {
      "text/plain": [
       "Scatter({\n",
       "    'mode': 'lines',\n",
       "    'x': [2020-01-02 00:00:00, 2020-01-03 00:00:00, 2020-01-06 00:00:00, ...,\n",
       "          2020-12-29 00:00:00, 2020-12-30 00:00:00, 2020-12-31 00:00:00],\n",
       "    'y': array([148.19999695, 146.5       , 145.6499939 , ..., 177.30000305,\n",
       "                181.16999817, 181.17999268])\n",
       "})"
      ]
     },
     "execution_count": 168,
     "metadata": {},
     "output_type": "execute_result"
    }
   ],
   "source": [
    "#here is the data format that plotly understands\n",
    "data_obj"
   ]
  },
  {
   "cell_type": "code",
   "execution_count": 170,
   "id": "4fd6152a",
   "metadata": {},
   "outputs": [
    {
     "data": {
      "application/vnd.plotly.v1+json": {
       "config": {
        "plotlyServerURL": "https://plot.ly"
       },
       "data": [
        {
         "mode": "lines",
         "type": "scatter",
         "x": [
          "2020-01-02T00:00:00",
          "2020-01-03T00:00:00",
          "2020-01-06T00:00:00",
          "2020-01-07T00:00:00",
          "2020-01-08T00:00:00",
          "2020-01-09T00:00:00",
          "2020-01-10T00:00:00",
          "2020-01-13T00:00:00",
          "2020-01-14T00:00:00",
          "2020-01-15T00:00:00",
          "2020-01-16T00:00:00",
          "2020-01-17T00:00:00",
          "2020-01-21T00:00:00",
          "2020-01-22T00:00:00",
          "2020-01-23T00:00:00",
          "2020-01-24T00:00:00",
          "2020-01-27T00:00:00",
          "2020-01-28T00:00:00",
          "2020-01-29T00:00:00",
          "2020-01-30T00:00:00",
          "2020-01-31T00:00:00",
          "2020-02-03T00:00:00",
          "2020-02-04T00:00:00",
          "2020-02-05T00:00:00",
          "2020-02-06T00:00:00",
          "2020-02-07T00:00:00",
          "2020-02-10T00:00:00",
          "2020-02-11T00:00:00",
          "2020-02-12T00:00:00",
          "2020-02-13T00:00:00",
          "2020-02-14T00:00:00",
          "2020-02-18T00:00:00",
          "2020-02-19T00:00:00",
          "2020-02-20T00:00:00",
          "2020-02-21T00:00:00",
          "2020-02-24T00:00:00",
          "2020-02-25T00:00:00",
          "2020-02-26T00:00:00",
          "2020-02-27T00:00:00",
          "2020-02-28T00:00:00",
          "2020-03-02T00:00:00",
          "2020-03-03T00:00:00",
          "2020-03-04T00:00:00",
          "2020-03-05T00:00:00",
          "2020-03-06T00:00:00",
          "2020-03-09T00:00:00",
          "2020-03-10T00:00:00",
          "2020-03-11T00:00:00",
          "2020-03-12T00:00:00",
          "2020-03-13T00:00:00",
          "2020-03-16T00:00:00",
          "2020-03-17T00:00:00",
          "2020-03-18T00:00:00",
          "2020-03-19T00:00:00",
          "2020-03-20T00:00:00",
          "2020-03-23T00:00:00",
          "2020-03-24T00:00:00",
          "2020-03-25T00:00:00",
          "2020-03-26T00:00:00",
          "2020-03-27T00:00:00",
          "2020-03-30T00:00:00",
          "2020-03-31T00:00:00",
          "2020-04-01T00:00:00",
          "2020-04-02T00:00:00",
          "2020-04-03T00:00:00",
          "2020-04-06T00:00:00",
          "2020-04-07T00:00:00",
          "2020-04-08T00:00:00",
          "2020-04-09T00:00:00",
          "2020-04-13T00:00:00",
          "2020-04-14T00:00:00",
          "2020-04-15T00:00:00",
          "2020-04-16T00:00:00",
          "2020-04-17T00:00:00",
          "2020-04-20T00:00:00",
          "2020-04-21T00:00:00",
          "2020-04-22T00:00:00",
          "2020-04-23T00:00:00",
          "2020-04-24T00:00:00",
          "2020-04-27T00:00:00",
          "2020-04-28T00:00:00",
          "2020-04-29T00:00:00",
          "2020-04-30T00:00:00",
          "2020-05-01T00:00:00",
          "2020-05-04T00:00:00",
          "2020-05-05T00:00:00",
          "2020-05-06T00:00:00",
          "2020-05-07T00:00:00",
          "2020-05-08T00:00:00",
          "2020-05-11T00:00:00",
          "2020-05-12T00:00:00",
          "2020-05-13T00:00:00",
          "2020-05-14T00:00:00",
          "2020-05-15T00:00:00",
          "2020-05-18T00:00:00",
          "2020-05-19T00:00:00",
          "2020-05-20T00:00:00",
          "2020-05-21T00:00:00",
          "2020-05-22T00:00:00",
          "2020-05-26T00:00:00",
          "2020-05-27T00:00:00",
          "2020-05-28T00:00:00",
          "2020-05-29T00:00:00",
          "2020-06-01T00:00:00",
          "2020-06-02T00:00:00",
          "2020-06-03T00:00:00",
          "2020-06-04T00:00:00",
          "2020-06-05T00:00:00",
          "2020-06-08T00:00:00",
          "2020-06-09T00:00:00",
          "2020-06-10T00:00:00",
          "2020-06-11T00:00:00",
          "2020-06-12T00:00:00",
          "2020-06-15T00:00:00",
          "2020-06-16T00:00:00",
          "2020-06-17T00:00:00",
          "2020-06-18T00:00:00",
          "2020-06-19T00:00:00",
          "2020-06-22T00:00:00",
          "2020-06-23T00:00:00",
          "2020-06-24T00:00:00",
          "2020-06-25T00:00:00",
          "2020-06-26T00:00:00",
          "2020-06-29T00:00:00",
          "2020-06-30T00:00:00",
          "2020-07-01T00:00:00",
          "2020-07-02T00:00:00",
          "2020-07-06T00:00:00",
          "2020-07-07T00:00:00",
          "2020-07-08T00:00:00",
          "2020-07-09T00:00:00",
          "2020-07-10T00:00:00",
          "2020-07-13T00:00:00",
          "2020-07-14T00:00:00",
          "2020-07-15T00:00:00",
          "2020-07-16T00:00:00",
          "2020-07-17T00:00:00",
          "2020-07-20T00:00:00",
          "2020-07-21T00:00:00",
          "2020-07-22T00:00:00",
          "2020-07-23T00:00:00",
          "2020-07-24T00:00:00",
          "2020-07-27T00:00:00",
          "2020-07-28T00:00:00",
          "2020-07-29T00:00:00",
          "2020-07-30T00:00:00",
          "2020-07-31T00:00:00",
          "2020-08-03T00:00:00",
          "2020-08-04T00:00:00",
          "2020-08-05T00:00:00",
          "2020-08-06T00:00:00",
          "2020-08-07T00:00:00",
          "2020-08-10T00:00:00",
          "2020-08-11T00:00:00",
          "2020-08-12T00:00:00",
          "2020-08-13T00:00:00",
          "2020-08-14T00:00:00",
          "2020-08-17T00:00:00",
          "2020-08-18T00:00:00",
          "2020-08-19T00:00:00",
          "2020-08-20T00:00:00",
          "2020-08-21T00:00:00",
          "2020-08-24T00:00:00",
          "2020-08-25T00:00:00",
          "2020-08-26T00:00:00",
          "2020-08-27T00:00:00",
          "2020-08-28T00:00:00",
          "2020-08-31T00:00:00",
          "2020-09-01T00:00:00",
          "2020-09-02T00:00:00",
          "2020-09-03T00:00:00",
          "2020-09-04T00:00:00",
          "2020-09-08T00:00:00",
          "2020-09-09T00:00:00",
          "2020-09-10T00:00:00",
          "2020-09-11T00:00:00",
          "2020-09-14T00:00:00",
          "2020-09-15T00:00:00",
          "2020-09-16T00:00:00",
          "2020-09-17T00:00:00",
          "2020-09-18T00:00:00",
          "2020-09-21T00:00:00",
          "2020-09-22T00:00:00",
          "2020-09-23T00:00:00",
          "2020-09-24T00:00:00",
          "2020-09-25T00:00:00",
          "2020-09-28T00:00:00",
          "2020-09-29T00:00:00",
          "2020-09-30T00:00:00",
          "2020-10-01T00:00:00",
          "2020-10-02T00:00:00",
          "2020-10-05T00:00:00",
          "2020-10-06T00:00:00",
          "2020-10-07T00:00:00",
          "2020-10-08T00:00:00",
          "2020-10-09T00:00:00",
          "2020-10-12T00:00:00",
          "2020-10-13T00:00:00",
          "2020-10-14T00:00:00",
          "2020-10-15T00:00:00",
          "2020-10-16T00:00:00",
          "2020-10-19T00:00:00",
          "2020-10-20T00:00:00",
          "2020-10-21T00:00:00",
          "2020-10-22T00:00:00",
          "2020-10-23T00:00:00",
          "2020-10-26T00:00:00",
          "2020-10-27T00:00:00",
          "2020-10-28T00:00:00",
          "2020-10-29T00:00:00",
          "2020-10-30T00:00:00",
          "2020-11-02T00:00:00",
          "2020-11-03T00:00:00",
          "2020-11-04T00:00:00",
          "2020-11-05T00:00:00",
          "2020-11-06T00:00:00",
          "2020-11-09T00:00:00",
          "2020-11-10T00:00:00",
          "2020-11-11T00:00:00",
          "2020-11-12T00:00:00",
          "2020-11-13T00:00:00",
          "2020-11-16T00:00:00",
          "2020-11-17T00:00:00",
          "2020-11-18T00:00:00",
          "2020-11-19T00:00:00",
          "2020-11-20T00:00:00",
          "2020-11-23T00:00:00",
          "2020-11-24T00:00:00",
          "2020-11-25T00:00:00",
          "2020-11-27T00:00:00",
          "2020-11-30T00:00:00",
          "2020-12-01T00:00:00",
          "2020-12-02T00:00:00",
          "2020-12-03T00:00:00",
          "2020-12-04T00:00:00",
          "2020-12-07T00:00:00",
          "2020-12-08T00:00:00",
          "2020-12-09T00:00:00",
          "2020-12-10T00:00:00",
          "2020-12-11T00:00:00",
          "2020-12-14T00:00:00",
          "2020-12-15T00:00:00",
          "2020-12-16T00:00:00",
          "2020-12-17T00:00:00",
          "2020-12-18T00:00:00",
          "2020-12-21T00:00:00",
          "2020-12-22T00:00:00",
          "2020-12-23T00:00:00",
          "2020-12-24T00:00:00",
          "2020-12-28T00:00:00",
          "2020-12-29T00:00:00",
          "2020-12-30T00:00:00",
          "2020-12-31T00:00:00"
         ],
         "y": [
          148.1999969482422,
          146.5,
          145.64999389648438,
          145.6999969482422,
          145.39999389648438,
          144.8300018310547,
          144.6199951171875,
          143.8800048828125,
          145.1999969482422,
          144.32000732421875,
          145.1199951171875,
          144.3300018310547,
          143.55999755859375,
          144.00999450683594,
          142.1999969482422,
          140.0800018310547,
          135.89999389648438,
          138.3699951171875,
          136.05999755859375,
          137.80999755859375,
          138.30999755859375,
          141.32000732421875,
          144.72999572753906,
          141.3699951171875,
          142.6999969482422,
          141.02000427246094,
          142.58999633789062,
          141.00999450683594,
          141.85000610351562,
          140.89999389648438,
          139.5399932861328,
          139.13999938964844,
          141.3000030517578,
          140.3699951171875,
          138.97000122070312,
          133.00999450683594,
          128.19000244140625,
          123.36000061035156,
          118.04000091552734,
          117.6500015258789,
          119.9800033569336,
          116.44999694824219,
          119.18000030517578,
          113.9800033569336,
          115.2699966430664,
          104.3499984741211,
          111.45999908447266,
          105.51000213623047,
          91.80999755859375,
          102.5199966430664,
          95.01000213623047,
          93.52999877929688,
          88.80000305175781,
          94.93000030517578,
          85.9800033569336,
          85.76000213623047,
          98.12000274658203,
          100.7300033569336,
          105.36000061035156,
          96.4000015258789,
          99.80000305175781,
          96.5999984741211,
          94.91999816894531,
          96.97000122070312,
          93.87999725341797,
          99.58000183105469,
          101.23999786376953,
          101.06999969482422,
          104.5,
          103.5,
          106.02999877929688,
          103.37000274658203,
          102.0199966430664,
          106.62999725341797,
          102.26000213623047,
          100.54000091552734,
          100.98999786376953,
          101,
          101.19000244140625,
          106.05999755859375,
          106.20999908447266,
          112.25,
          108.1500015258789,
          105.5,
          103.18000030517578,
          101.05999755859375,
          100.87999725341797,
          105.56999969482422,
          109.16000366210938,
          107.7699966430664,
          104.55999755859375,
          102.91999816894531,
          105.91000366210938,
          109.05000305175781,
          116.8499984741211,
          114.37000274658203,
          119.91999816894531,
          117.83000183105469,
          118.0199966430664,
          120.94999694824219,
          121.52999877929688,
          116.75,
          117.30000305175781,
          118.7699966430664,
          118.75,
          122.18000030517578,
          123.69000244140625,
          124.81999969482422,
          127.27999877929688,
          123.88999938964844,
          122.18000030517578,
          112.63999938964844,
          115.48999786376953,
          117.08000183105469,
          118.44000244140625,
          117.6500015258789,
          118.37000274658203,
          114.3499984741211,
          115.91999816894531,
          116.58999633789062,
          112.06999969482422,
          111.36000061035156,
          109.0999984741211,
          111.5199966430664,
          111.51000213623047,
          113.01000213623047,
          112.18000030517578,
          114.43000030517578,
          113.62999725341797,
          116.66000366210938,
          116.80999755859375,
          119.33999633789062,
          116.22000122070312,
          118.66000366210938,
          120.9000015258789,
          119.43000030517578,
          118.6500015258789,
          117.79000091552734,
          118.62000274658203,
          119.02999877929688,
          118.12000274658203,
          117.61000061035156,
          116.30999755859375,
          116.18000030517578,
          115.61000061035156,
          115.66000366210938,
          116.94000244140625,
          116.3499984741211,
          117.29000091552734,
          127.61000061035156,
          130.82000732421875,
          129.92999267578125,
          128.7899932861328,
          130.49000549316406,
          131.7899932861328,
          130.9600067138672,
          130.52999877929688,
          129.3699951171875,
          128.9199981689453,
          127.7699966430664,
          128.1199951171875,
          127.44000244140625,
          130.69000244140625,
          129.7899932861328,
          132.17999267578125,
          133.72999572753906,
          135.5399932861328,
          131.8699951171875,
          133.5500030517578,
          135.38999938964844,
          133.24000549316406,
          131.99000549316406,
          134.1999969482422,
          133.36000061035156,
          133.22000122070312,
          131.75,
          131.25,
          131.24000549316406,
          132.08999633789062,
          130.22000122070312,
          128.6300048828125,
          125.41000366210938,
          127.20999908447266,
          123.27999877929688,
          122.48999786376953,
          124,
          125.98999786376953,
          125.4000015258789,
          124.08000183105469,
          123.30999755859375,
          122.55000305175781,
          123.37000274658203,
          120.93000030517578,
          122.91000366210938,
          123.08999633789062,
          124.9800033569336,
          124.97000122070312,
          128.9600067138672,
          126.58999633789062,
          127.36000061035156,
          126.80999755859375,
          124.2300033569336,
          124.94999694824219,
          126.62999725341797,
          127.55999755859375,
          128.35000610351562,
          124.05999755859375,
          123.30999755859375,
          118.47000122070312,
          121.54000091552734,
          121.25,
          120.12999725341797,
          124.0199966430664,
          125.06999969482422,
          126.95999908447266,
          127.45999908447266,
          142.58999633789062,
          142.11000061035156,
          137.82000732421875,
          135.52000427246094,
          138.36000061035156,
          144.6699981689453,
          144.5,
          143.89999389648438,
          141.72000122070312,
          141.07000732421875,
          145.97999572753906,
          151.49000549316406,
          149.08999633789062,
          147.1300048828125,
          148.00999450683594,
          149.44000244140625,
          153.61000061035156,
          153.24000549316406,
          154.13999938964844,
          153.67999267578125,
          153.72000122070312,
          154.42999267578125,
          154.69000244140625,
          175.72000122070312,
          169.3000030517578,
          173.94000244140625,
          173.1199951171875,
          173.5500030517578,
          172.88999938964844,
          170.69000244140625,
          170.4499969482422,
          173.5500030517578,
          173.72999572753906,
          178.86000061035156,
          177.3000030517578,
          181.1699981689453,
          181.17999267578125
         ]
        }
       ],
       "layout": {
        "template": {
         "data": {
          "bar": [
           {
            "error_x": {
             "color": "#2a3f5f"
            },
            "error_y": {
             "color": "#2a3f5f"
            },
            "marker": {
             "line": {
              "color": "#E5ECF6",
              "width": 0.5
             },
             "pattern": {
              "fillmode": "overlay",
              "size": 10,
              "solidity": 0.2
             }
            },
            "type": "bar"
           }
          ],
          "barpolar": [
           {
            "marker": {
             "line": {
              "color": "#E5ECF6",
              "width": 0.5
             },
             "pattern": {
              "fillmode": "overlay",
              "size": 10,
              "solidity": 0.2
             }
            },
            "type": "barpolar"
           }
          ],
          "carpet": [
           {
            "aaxis": {
             "endlinecolor": "#2a3f5f",
             "gridcolor": "white",
             "linecolor": "white",
             "minorgridcolor": "white",
             "startlinecolor": "#2a3f5f"
            },
            "baxis": {
             "endlinecolor": "#2a3f5f",
             "gridcolor": "white",
             "linecolor": "white",
             "minorgridcolor": "white",
             "startlinecolor": "#2a3f5f"
            },
            "type": "carpet"
           }
          ],
          "choropleth": [
           {
            "colorbar": {
             "outlinewidth": 0,
             "ticks": ""
            },
            "type": "choropleth"
           }
          ],
          "contour": [
           {
            "colorbar": {
             "outlinewidth": 0,
             "ticks": ""
            },
            "colorscale": [
             [
              0,
              "#0d0887"
             ],
             [
              0.1111111111111111,
              "#46039f"
             ],
             [
              0.2222222222222222,
              "#7201a8"
             ],
             [
              0.3333333333333333,
              "#9c179e"
             ],
             [
              0.4444444444444444,
              "#bd3786"
             ],
             [
              0.5555555555555556,
              "#d8576b"
             ],
             [
              0.6666666666666666,
              "#ed7953"
             ],
             [
              0.7777777777777778,
              "#fb9f3a"
             ],
             [
              0.8888888888888888,
              "#fdca26"
             ],
             [
              1,
              "#f0f921"
             ]
            ],
            "type": "contour"
           }
          ],
          "contourcarpet": [
           {
            "colorbar": {
             "outlinewidth": 0,
             "ticks": ""
            },
            "type": "contourcarpet"
           }
          ],
          "heatmap": [
           {
            "colorbar": {
             "outlinewidth": 0,
             "ticks": ""
            },
            "colorscale": [
             [
              0,
              "#0d0887"
             ],
             [
              0.1111111111111111,
              "#46039f"
             ],
             [
              0.2222222222222222,
              "#7201a8"
             ],
             [
              0.3333333333333333,
              "#9c179e"
             ],
             [
              0.4444444444444444,
              "#bd3786"
             ],
             [
              0.5555555555555556,
              "#d8576b"
             ],
             [
              0.6666666666666666,
              "#ed7953"
             ],
             [
              0.7777777777777778,
              "#fb9f3a"
             ],
             [
              0.8888888888888888,
              "#fdca26"
             ],
             [
              1,
              "#f0f921"
             ]
            ],
            "type": "heatmap"
           }
          ],
          "heatmapgl": [
           {
            "colorbar": {
             "outlinewidth": 0,
             "ticks": ""
            },
            "colorscale": [
             [
              0,
              "#0d0887"
             ],
             [
              0.1111111111111111,
              "#46039f"
             ],
             [
              0.2222222222222222,
              "#7201a8"
             ],
             [
              0.3333333333333333,
              "#9c179e"
             ],
             [
              0.4444444444444444,
              "#bd3786"
             ],
             [
              0.5555555555555556,
              "#d8576b"
             ],
             [
              0.6666666666666666,
              "#ed7953"
             ],
             [
              0.7777777777777778,
              "#fb9f3a"
             ],
             [
              0.8888888888888888,
              "#fdca26"
             ],
             [
              1,
              "#f0f921"
             ]
            ],
            "type": "heatmapgl"
           }
          ],
          "histogram": [
           {
            "marker": {
             "pattern": {
              "fillmode": "overlay",
              "size": 10,
              "solidity": 0.2
             }
            },
            "type": "histogram"
           }
          ],
          "histogram2d": [
           {
            "colorbar": {
             "outlinewidth": 0,
             "ticks": ""
            },
            "colorscale": [
             [
              0,
              "#0d0887"
             ],
             [
              0.1111111111111111,
              "#46039f"
             ],
             [
              0.2222222222222222,
              "#7201a8"
             ],
             [
              0.3333333333333333,
              "#9c179e"
             ],
             [
              0.4444444444444444,
              "#bd3786"
             ],
             [
              0.5555555555555556,
              "#d8576b"
             ],
             [
              0.6666666666666666,
              "#ed7953"
             ],
             [
              0.7777777777777778,
              "#fb9f3a"
             ],
             [
              0.8888888888888888,
              "#fdca26"
             ],
             [
              1,
              "#f0f921"
             ]
            ],
            "type": "histogram2d"
           }
          ],
          "histogram2dcontour": [
           {
            "colorbar": {
             "outlinewidth": 0,
             "ticks": ""
            },
            "colorscale": [
             [
              0,
              "#0d0887"
             ],
             [
              0.1111111111111111,
              "#46039f"
             ],
             [
              0.2222222222222222,
              "#7201a8"
             ],
             [
              0.3333333333333333,
              "#9c179e"
             ],
             [
              0.4444444444444444,
              "#bd3786"
             ],
             [
              0.5555555555555556,
              "#d8576b"
             ],
             [
              0.6666666666666666,
              "#ed7953"
             ],
             [
              0.7777777777777778,
              "#fb9f3a"
             ],
             [
              0.8888888888888888,
              "#fdca26"
             ],
             [
              1,
              "#f0f921"
             ]
            ],
            "type": "histogram2dcontour"
           }
          ],
          "mesh3d": [
           {
            "colorbar": {
             "outlinewidth": 0,
             "ticks": ""
            },
            "type": "mesh3d"
           }
          ],
          "parcoords": [
           {
            "line": {
             "colorbar": {
              "outlinewidth": 0,
              "ticks": ""
             }
            },
            "type": "parcoords"
           }
          ],
          "pie": [
           {
            "automargin": true,
            "type": "pie"
           }
          ],
          "scatter": [
           {
            "marker": {
             "colorbar": {
              "outlinewidth": 0,
              "ticks": ""
             }
            },
            "type": "scatter"
           }
          ],
          "scatter3d": [
           {
            "line": {
             "colorbar": {
              "outlinewidth": 0,
              "ticks": ""
             }
            },
            "marker": {
             "colorbar": {
              "outlinewidth": 0,
              "ticks": ""
             }
            },
            "type": "scatter3d"
           }
          ],
          "scattercarpet": [
           {
            "marker": {
             "colorbar": {
              "outlinewidth": 0,
              "ticks": ""
             }
            },
            "type": "scattercarpet"
           }
          ],
          "scattergeo": [
           {
            "marker": {
             "colorbar": {
              "outlinewidth": 0,
              "ticks": ""
             }
            },
            "type": "scattergeo"
           }
          ],
          "scattergl": [
           {
            "marker": {
             "colorbar": {
              "outlinewidth": 0,
              "ticks": ""
             }
            },
            "type": "scattergl"
           }
          ],
          "scattermapbox": [
           {
            "marker": {
             "colorbar": {
              "outlinewidth": 0,
              "ticks": ""
             }
            },
            "type": "scattermapbox"
           }
          ],
          "scatterpolar": [
           {
            "marker": {
             "colorbar": {
              "outlinewidth": 0,
              "ticks": ""
             }
            },
            "type": "scatterpolar"
           }
          ],
          "scatterpolargl": [
           {
            "marker": {
             "colorbar": {
              "outlinewidth": 0,
              "ticks": ""
             }
            },
            "type": "scatterpolargl"
           }
          ],
          "scatterternary": [
           {
            "marker": {
             "colorbar": {
              "outlinewidth": 0,
              "ticks": ""
             }
            },
            "type": "scatterternary"
           }
          ],
          "surface": [
           {
            "colorbar": {
             "outlinewidth": 0,
             "ticks": ""
            },
            "colorscale": [
             [
              0,
              "#0d0887"
             ],
             [
              0.1111111111111111,
              "#46039f"
             ],
             [
              0.2222222222222222,
              "#7201a8"
             ],
             [
              0.3333333333333333,
              "#9c179e"
             ],
             [
              0.4444444444444444,
              "#bd3786"
             ],
             [
              0.5555555555555556,
              "#d8576b"
             ],
             [
              0.6666666666666666,
              "#ed7953"
             ],
             [
              0.7777777777777778,
              "#fb9f3a"
             ],
             [
              0.8888888888888888,
              "#fdca26"
             ],
             [
              1,
              "#f0f921"
             ]
            ],
            "type": "surface"
           }
          ],
          "table": [
           {
            "cells": {
             "fill": {
              "color": "#EBF0F8"
             },
             "line": {
              "color": "white"
             }
            },
            "header": {
             "fill": {
              "color": "#C8D4E3"
             },
             "line": {
              "color": "white"
             }
            },
            "type": "table"
           }
          ]
         },
         "layout": {
          "annotationdefaults": {
           "arrowcolor": "#2a3f5f",
           "arrowhead": 0,
           "arrowwidth": 1
          },
          "autotypenumbers": "strict",
          "coloraxis": {
           "colorbar": {
            "outlinewidth": 0,
            "ticks": ""
           }
          },
          "colorscale": {
           "diverging": [
            [
             0,
             "#8e0152"
            ],
            [
             0.1,
             "#c51b7d"
            ],
            [
             0.2,
             "#de77ae"
            ],
            [
             0.3,
             "#f1b6da"
            ],
            [
             0.4,
             "#fde0ef"
            ],
            [
             0.5,
             "#f7f7f7"
            ],
            [
             0.6,
             "#e6f5d0"
            ],
            [
             0.7,
             "#b8e186"
            ],
            [
             0.8,
             "#7fbc41"
            ],
            [
             0.9,
             "#4d9221"
            ],
            [
             1,
             "#276419"
            ]
           ],
           "sequential": [
            [
             0,
             "#0d0887"
            ],
            [
             0.1111111111111111,
             "#46039f"
            ],
            [
             0.2222222222222222,
             "#7201a8"
            ],
            [
             0.3333333333333333,
             "#9c179e"
            ],
            [
             0.4444444444444444,
             "#bd3786"
            ],
            [
             0.5555555555555556,
             "#d8576b"
            ],
            [
             0.6666666666666666,
             "#ed7953"
            ],
            [
             0.7777777777777778,
             "#fb9f3a"
            ],
            [
             0.8888888888888888,
             "#fdca26"
            ],
            [
             1,
             "#f0f921"
            ]
           ],
           "sequentialminus": [
            [
             0,
             "#0d0887"
            ],
            [
             0.1111111111111111,
             "#46039f"
            ],
            [
             0.2222222222222222,
             "#7201a8"
            ],
            [
             0.3333333333333333,
             "#9c179e"
            ],
            [
             0.4444444444444444,
             "#bd3786"
            ],
            [
             0.5555555555555556,
             "#d8576b"
            ],
            [
             0.6666666666666666,
             "#ed7953"
            ],
            [
             0.7777777777777778,
             "#fb9f3a"
            ],
            [
             0.8888888888888888,
             "#fdca26"
            ],
            [
             1,
             "#f0f921"
            ]
           ]
          },
          "colorway": [
           "#636efa",
           "#EF553B",
           "#00cc96",
           "#ab63fa",
           "#FFA15A",
           "#19d3f3",
           "#FF6692",
           "#B6E880",
           "#FF97FF",
           "#FECB52"
          ],
          "font": {
           "color": "#2a3f5f"
          },
          "geo": {
           "bgcolor": "white",
           "lakecolor": "white",
           "landcolor": "#E5ECF6",
           "showlakes": true,
           "showland": true,
           "subunitcolor": "white"
          },
          "hoverlabel": {
           "align": "left"
          },
          "hovermode": "closest",
          "mapbox": {
           "style": "light"
          },
          "paper_bgcolor": "white",
          "plot_bgcolor": "#E5ECF6",
          "polar": {
           "angularaxis": {
            "gridcolor": "white",
            "linecolor": "white",
            "ticks": ""
           },
           "bgcolor": "#E5ECF6",
           "radialaxis": {
            "gridcolor": "white",
            "linecolor": "white",
            "ticks": ""
           }
          },
          "scene": {
           "xaxis": {
            "backgroundcolor": "#E5ECF6",
            "gridcolor": "white",
            "gridwidth": 2,
            "linecolor": "white",
            "showbackground": true,
            "ticks": "",
            "zerolinecolor": "white"
           },
           "yaxis": {
            "backgroundcolor": "#E5ECF6",
            "gridcolor": "white",
            "gridwidth": 2,
            "linecolor": "white",
            "showbackground": true,
            "ticks": "",
            "zerolinecolor": "white"
           },
           "zaxis": {
            "backgroundcolor": "#E5ECF6",
            "gridcolor": "white",
            "gridwidth": 2,
            "linecolor": "white",
            "showbackground": true,
            "ticks": "",
            "zerolinecolor": "white"
           }
          },
          "shapedefaults": {
           "line": {
            "color": "#2a3f5f"
           }
          },
          "ternary": {
           "aaxis": {
            "gridcolor": "white",
            "linecolor": "white",
            "ticks": ""
           },
           "baxis": {
            "gridcolor": "white",
            "linecolor": "white",
            "ticks": ""
           },
           "bgcolor": "#E5ECF6",
           "caxis": {
            "gridcolor": "white",
            "linecolor": "white",
            "ticks": ""
           }
          },
          "title": {
           "x": 0.05
          },
          "xaxis": {
           "automargin": true,
           "gridcolor": "white",
           "linecolor": "white",
           "ticks": "",
           "title": {
            "standoff": 15
           },
           "zerolinecolor": "white",
           "zerolinewidth": 2
          },
          "yaxis": {
           "automargin": true,
           "gridcolor": "white",
           "linecolor": "white",
           "ticks": "",
           "title": {
            "standoff": 15
           },
           "zerolinecolor": "white",
           "zerolinewidth": 2
          }
         }
        }
       }
      },
      "text/html": [
       "<div>                            <div id=\"33c95090-9161-4ef2-a3d9-8d2a3a61bcfb\" class=\"plotly-graph-div\" style=\"height:525px; width:100%;\"></div>            <script type=\"text/javascript\">                require([\"plotly\"], function(Plotly) {                    window.PLOTLYENV=window.PLOTLYENV || {};                                    if (document.getElementById(\"33c95090-9161-4ef2-a3d9-8d2a3a61bcfb\")) {                    Plotly.newPlot(                        \"33c95090-9161-4ef2-a3d9-8d2a3a61bcfb\",                        [{\"mode\":\"lines\",\"type\":\"scatter\",\"x\":[\"2020-01-02T00:00:00\",\"2020-01-03T00:00:00\",\"2020-01-06T00:00:00\",\"2020-01-07T00:00:00\",\"2020-01-08T00:00:00\",\"2020-01-09T00:00:00\",\"2020-01-10T00:00:00\",\"2020-01-13T00:00:00\",\"2020-01-14T00:00:00\",\"2020-01-15T00:00:00\",\"2020-01-16T00:00:00\",\"2020-01-17T00:00:00\",\"2020-01-21T00:00:00\",\"2020-01-22T00:00:00\",\"2020-01-23T00:00:00\",\"2020-01-24T00:00:00\",\"2020-01-27T00:00:00\",\"2020-01-28T00:00:00\",\"2020-01-29T00:00:00\",\"2020-01-30T00:00:00\",\"2020-01-31T00:00:00\",\"2020-02-03T00:00:00\",\"2020-02-04T00:00:00\",\"2020-02-05T00:00:00\",\"2020-02-06T00:00:00\",\"2020-02-07T00:00:00\",\"2020-02-10T00:00:00\",\"2020-02-11T00:00:00\",\"2020-02-12T00:00:00\",\"2020-02-13T00:00:00\",\"2020-02-14T00:00:00\",\"2020-02-18T00:00:00\",\"2020-02-19T00:00:00\",\"2020-02-20T00:00:00\",\"2020-02-21T00:00:00\",\"2020-02-24T00:00:00\",\"2020-02-25T00:00:00\",\"2020-02-26T00:00:00\",\"2020-02-27T00:00:00\",\"2020-02-28T00:00:00\",\"2020-03-02T00:00:00\",\"2020-03-03T00:00:00\",\"2020-03-04T00:00:00\",\"2020-03-05T00:00:00\",\"2020-03-06T00:00:00\",\"2020-03-09T00:00:00\",\"2020-03-10T00:00:00\",\"2020-03-11T00:00:00\",\"2020-03-12T00:00:00\",\"2020-03-13T00:00:00\",\"2020-03-16T00:00:00\",\"2020-03-17T00:00:00\",\"2020-03-18T00:00:00\",\"2020-03-19T00:00:00\",\"2020-03-20T00:00:00\",\"2020-03-23T00:00:00\",\"2020-03-24T00:00:00\",\"2020-03-25T00:00:00\",\"2020-03-26T00:00:00\",\"2020-03-27T00:00:00\",\"2020-03-30T00:00:00\",\"2020-03-31T00:00:00\",\"2020-04-01T00:00:00\",\"2020-04-02T00:00:00\",\"2020-04-03T00:00:00\",\"2020-04-06T00:00:00\",\"2020-04-07T00:00:00\",\"2020-04-08T00:00:00\",\"2020-04-09T00:00:00\",\"2020-04-13T00:00:00\",\"2020-04-14T00:00:00\",\"2020-04-15T00:00:00\",\"2020-04-16T00:00:00\",\"2020-04-17T00:00:00\",\"2020-04-20T00:00:00\",\"2020-04-21T00:00:00\",\"2020-04-22T00:00:00\",\"2020-04-23T00:00:00\",\"2020-04-24T00:00:00\",\"2020-04-27T00:00:00\",\"2020-04-28T00:00:00\",\"2020-04-29T00:00:00\",\"2020-04-30T00:00:00\",\"2020-05-01T00:00:00\",\"2020-05-04T00:00:00\",\"2020-05-05T00:00:00\",\"2020-05-06T00:00:00\",\"2020-05-07T00:00:00\",\"2020-05-08T00:00:00\",\"2020-05-11T00:00:00\",\"2020-05-12T00:00:00\",\"2020-05-13T00:00:00\",\"2020-05-14T00:00:00\",\"2020-05-15T00:00:00\",\"2020-05-18T00:00:00\",\"2020-05-19T00:00:00\",\"2020-05-20T00:00:00\",\"2020-05-21T00:00:00\",\"2020-05-22T00:00:00\",\"2020-05-26T00:00:00\",\"2020-05-27T00:00:00\",\"2020-05-28T00:00:00\",\"2020-05-29T00:00:00\",\"2020-06-01T00:00:00\",\"2020-06-02T00:00:00\",\"2020-06-03T00:00:00\",\"2020-06-04T00:00:00\",\"2020-06-05T00:00:00\",\"2020-06-08T00:00:00\",\"2020-06-09T00:00:00\",\"2020-06-10T00:00:00\",\"2020-06-11T00:00:00\",\"2020-06-12T00:00:00\",\"2020-06-15T00:00:00\",\"2020-06-16T00:00:00\",\"2020-06-17T00:00:00\",\"2020-06-18T00:00:00\",\"2020-06-19T00:00:00\",\"2020-06-22T00:00:00\",\"2020-06-23T00:00:00\",\"2020-06-24T00:00:00\",\"2020-06-25T00:00:00\",\"2020-06-26T00:00:00\",\"2020-06-29T00:00:00\",\"2020-06-30T00:00:00\",\"2020-07-01T00:00:00\",\"2020-07-02T00:00:00\",\"2020-07-06T00:00:00\",\"2020-07-07T00:00:00\",\"2020-07-08T00:00:00\",\"2020-07-09T00:00:00\",\"2020-07-10T00:00:00\",\"2020-07-13T00:00:00\",\"2020-07-14T00:00:00\",\"2020-07-15T00:00:00\",\"2020-07-16T00:00:00\",\"2020-07-17T00:00:00\",\"2020-07-20T00:00:00\",\"2020-07-21T00:00:00\",\"2020-07-22T00:00:00\",\"2020-07-23T00:00:00\",\"2020-07-24T00:00:00\",\"2020-07-27T00:00:00\",\"2020-07-28T00:00:00\",\"2020-07-29T00:00:00\",\"2020-07-30T00:00:00\",\"2020-07-31T00:00:00\",\"2020-08-03T00:00:00\",\"2020-08-04T00:00:00\",\"2020-08-05T00:00:00\",\"2020-08-06T00:00:00\",\"2020-08-07T00:00:00\",\"2020-08-10T00:00:00\",\"2020-08-11T00:00:00\",\"2020-08-12T00:00:00\",\"2020-08-13T00:00:00\",\"2020-08-14T00:00:00\",\"2020-08-17T00:00:00\",\"2020-08-18T00:00:00\",\"2020-08-19T00:00:00\",\"2020-08-20T00:00:00\",\"2020-08-21T00:00:00\",\"2020-08-24T00:00:00\",\"2020-08-25T00:00:00\",\"2020-08-26T00:00:00\",\"2020-08-27T00:00:00\",\"2020-08-28T00:00:00\",\"2020-08-31T00:00:00\",\"2020-09-01T00:00:00\",\"2020-09-02T00:00:00\",\"2020-09-03T00:00:00\",\"2020-09-04T00:00:00\",\"2020-09-08T00:00:00\",\"2020-09-09T00:00:00\",\"2020-09-10T00:00:00\",\"2020-09-11T00:00:00\",\"2020-09-14T00:00:00\",\"2020-09-15T00:00:00\",\"2020-09-16T00:00:00\",\"2020-09-17T00:00:00\",\"2020-09-18T00:00:00\",\"2020-09-21T00:00:00\",\"2020-09-22T00:00:00\",\"2020-09-23T00:00:00\",\"2020-09-24T00:00:00\",\"2020-09-25T00:00:00\",\"2020-09-28T00:00:00\",\"2020-09-29T00:00:00\",\"2020-09-30T00:00:00\",\"2020-10-01T00:00:00\",\"2020-10-02T00:00:00\",\"2020-10-05T00:00:00\",\"2020-10-06T00:00:00\",\"2020-10-07T00:00:00\",\"2020-10-08T00:00:00\",\"2020-10-09T00:00:00\",\"2020-10-12T00:00:00\",\"2020-10-13T00:00:00\",\"2020-10-14T00:00:00\",\"2020-10-15T00:00:00\",\"2020-10-16T00:00:00\",\"2020-10-19T00:00:00\",\"2020-10-20T00:00:00\",\"2020-10-21T00:00:00\",\"2020-10-22T00:00:00\",\"2020-10-23T00:00:00\",\"2020-10-26T00:00:00\",\"2020-10-27T00:00:00\",\"2020-10-28T00:00:00\",\"2020-10-29T00:00:00\",\"2020-10-30T00:00:00\",\"2020-11-02T00:00:00\",\"2020-11-03T00:00:00\",\"2020-11-04T00:00:00\",\"2020-11-05T00:00:00\",\"2020-11-06T00:00:00\",\"2020-11-09T00:00:00\",\"2020-11-10T00:00:00\",\"2020-11-11T00:00:00\",\"2020-11-12T00:00:00\",\"2020-11-13T00:00:00\",\"2020-11-16T00:00:00\",\"2020-11-17T00:00:00\",\"2020-11-18T00:00:00\",\"2020-11-19T00:00:00\",\"2020-11-20T00:00:00\",\"2020-11-23T00:00:00\",\"2020-11-24T00:00:00\",\"2020-11-25T00:00:00\",\"2020-11-27T00:00:00\",\"2020-11-30T00:00:00\",\"2020-12-01T00:00:00\",\"2020-12-02T00:00:00\",\"2020-12-03T00:00:00\",\"2020-12-04T00:00:00\",\"2020-12-07T00:00:00\",\"2020-12-08T00:00:00\",\"2020-12-09T00:00:00\",\"2020-12-10T00:00:00\",\"2020-12-11T00:00:00\",\"2020-12-14T00:00:00\",\"2020-12-15T00:00:00\",\"2020-12-16T00:00:00\",\"2020-12-17T00:00:00\",\"2020-12-18T00:00:00\",\"2020-12-21T00:00:00\",\"2020-12-22T00:00:00\",\"2020-12-23T00:00:00\",\"2020-12-24T00:00:00\",\"2020-12-28T00:00:00\",\"2020-12-29T00:00:00\",\"2020-12-30T00:00:00\",\"2020-12-31T00:00:00\"],\"y\":[148.1999969482422,146.5,145.64999389648438,145.6999969482422,145.39999389648438,144.8300018310547,144.6199951171875,143.8800048828125,145.1999969482422,144.32000732421875,145.1199951171875,144.3300018310547,143.55999755859375,144.00999450683594,142.1999969482422,140.0800018310547,135.89999389648438,138.3699951171875,136.05999755859375,137.80999755859375,138.30999755859375,141.32000732421875,144.72999572753906,141.3699951171875,142.6999969482422,141.02000427246094,142.58999633789062,141.00999450683594,141.85000610351562,140.89999389648438,139.5399932861328,139.13999938964844,141.3000030517578,140.3699951171875,138.97000122070312,133.00999450683594,128.19000244140625,123.36000061035156,118.04000091552734,117.6500015258789,119.9800033569336,116.44999694824219,119.18000030517578,113.9800033569336,115.2699966430664,104.3499984741211,111.45999908447266,105.51000213623047,91.80999755859375,102.5199966430664,95.01000213623047,93.52999877929688,88.80000305175781,94.93000030517578,85.9800033569336,85.76000213623047,98.12000274658203,100.7300033569336,105.36000061035156,96.4000015258789,99.80000305175781,96.5999984741211,94.91999816894531,96.97000122070312,93.87999725341797,99.58000183105469,101.23999786376953,101.06999969482422,104.5,103.5,106.02999877929688,103.37000274658203,102.0199966430664,106.62999725341797,102.26000213623047,100.54000091552734,100.98999786376953,101.0,101.19000244140625,106.05999755859375,106.20999908447266,112.25,108.1500015258789,105.5,103.18000030517578,101.05999755859375,100.87999725341797,105.56999969482422,109.16000366210938,107.7699966430664,104.55999755859375,102.91999816894531,105.91000366210938,109.05000305175781,116.8499984741211,114.37000274658203,119.91999816894531,117.83000183105469,118.0199966430664,120.94999694824219,121.52999877929688,116.75,117.30000305175781,118.7699966430664,118.75,122.18000030517578,123.69000244140625,124.81999969482422,127.27999877929688,123.88999938964844,122.18000030517578,112.63999938964844,115.48999786376953,117.08000183105469,118.44000244140625,117.6500015258789,118.37000274658203,114.3499984741211,115.91999816894531,116.58999633789062,112.06999969482422,111.36000061035156,109.0999984741211,111.5199966430664,111.51000213623047,113.01000213623047,112.18000030517578,114.43000030517578,113.62999725341797,116.66000366210938,116.80999755859375,119.33999633789062,116.22000122070312,118.66000366210938,120.9000015258789,119.43000030517578,118.6500015258789,117.79000091552734,118.62000274658203,119.02999877929688,118.12000274658203,117.61000061035156,116.30999755859375,116.18000030517578,115.61000061035156,115.66000366210938,116.94000244140625,116.3499984741211,117.29000091552734,127.61000061035156,130.82000732421875,129.92999267578125,128.7899932861328,130.49000549316406,131.7899932861328,130.9600067138672,130.52999877929688,129.3699951171875,128.9199981689453,127.7699966430664,128.1199951171875,127.44000244140625,130.69000244140625,129.7899932861328,132.17999267578125,133.72999572753906,135.5399932861328,131.8699951171875,133.5500030517578,135.38999938964844,133.24000549316406,131.99000549316406,134.1999969482422,133.36000061035156,133.22000122070312,131.75,131.25,131.24000549316406,132.08999633789062,130.22000122070312,128.6300048828125,125.41000366210938,127.20999908447266,123.27999877929688,122.48999786376953,124.0,125.98999786376953,125.4000015258789,124.08000183105469,123.30999755859375,122.55000305175781,123.37000274658203,120.93000030517578,122.91000366210938,123.08999633789062,124.9800033569336,124.97000122070312,128.9600067138672,126.58999633789062,127.36000061035156,126.80999755859375,124.2300033569336,124.94999694824219,126.62999725341797,127.55999755859375,128.35000610351562,124.05999755859375,123.30999755859375,118.47000122070312,121.54000091552734,121.25,120.12999725341797,124.0199966430664,125.06999969482422,126.95999908447266,127.45999908447266,142.58999633789062,142.11000061035156,137.82000732421875,135.52000427246094,138.36000061035156,144.6699981689453,144.5,143.89999389648438,141.72000122070312,141.07000732421875,145.97999572753906,151.49000549316406,149.08999633789062,147.1300048828125,148.00999450683594,149.44000244140625,153.61000061035156,153.24000549316406,154.13999938964844,153.67999267578125,153.72000122070312,154.42999267578125,154.69000244140625,175.72000122070312,169.3000030517578,173.94000244140625,173.1199951171875,173.5500030517578,172.88999938964844,170.69000244140625,170.4499969482422,173.5500030517578,173.72999572753906,178.86000061035156,177.3000030517578,181.1699981689453,181.17999267578125]}],                        {\"template\":{\"data\":{\"bar\":[{\"error_x\":{\"color\":\"#2a3f5f\"},\"error_y\":{\"color\":\"#2a3f5f\"},\"marker\":{\"line\":{\"color\":\"#E5ECF6\",\"width\":0.5},\"pattern\":{\"fillmode\":\"overlay\",\"size\":10,\"solidity\":0.2}},\"type\":\"bar\"}],\"barpolar\":[{\"marker\":{\"line\":{\"color\":\"#E5ECF6\",\"width\":0.5},\"pattern\":{\"fillmode\":\"overlay\",\"size\":10,\"solidity\":0.2}},\"type\":\"barpolar\"}],\"carpet\":[{\"aaxis\":{\"endlinecolor\":\"#2a3f5f\",\"gridcolor\":\"white\",\"linecolor\":\"white\",\"minorgridcolor\":\"white\",\"startlinecolor\":\"#2a3f5f\"},\"baxis\":{\"endlinecolor\":\"#2a3f5f\",\"gridcolor\":\"white\",\"linecolor\":\"white\",\"minorgridcolor\":\"white\",\"startlinecolor\":\"#2a3f5f\"},\"type\":\"carpet\"}],\"choropleth\":[{\"colorbar\":{\"outlinewidth\":0,\"ticks\":\"\"},\"type\":\"choropleth\"}],\"contour\":[{\"colorbar\":{\"outlinewidth\":0,\"ticks\":\"\"},\"colorscale\":[[0.0,\"#0d0887\"],[0.1111111111111111,\"#46039f\"],[0.2222222222222222,\"#7201a8\"],[0.3333333333333333,\"#9c179e\"],[0.4444444444444444,\"#bd3786\"],[0.5555555555555556,\"#d8576b\"],[0.6666666666666666,\"#ed7953\"],[0.7777777777777778,\"#fb9f3a\"],[0.8888888888888888,\"#fdca26\"],[1.0,\"#f0f921\"]],\"type\":\"contour\"}],\"contourcarpet\":[{\"colorbar\":{\"outlinewidth\":0,\"ticks\":\"\"},\"type\":\"contourcarpet\"}],\"heatmap\":[{\"colorbar\":{\"outlinewidth\":0,\"ticks\":\"\"},\"colorscale\":[[0.0,\"#0d0887\"],[0.1111111111111111,\"#46039f\"],[0.2222222222222222,\"#7201a8\"],[0.3333333333333333,\"#9c179e\"],[0.4444444444444444,\"#bd3786\"],[0.5555555555555556,\"#d8576b\"],[0.6666666666666666,\"#ed7953\"],[0.7777777777777778,\"#fb9f3a\"],[0.8888888888888888,\"#fdca26\"],[1.0,\"#f0f921\"]],\"type\":\"heatmap\"}],\"heatmapgl\":[{\"colorbar\":{\"outlinewidth\":0,\"ticks\":\"\"},\"colorscale\":[[0.0,\"#0d0887\"],[0.1111111111111111,\"#46039f\"],[0.2222222222222222,\"#7201a8\"],[0.3333333333333333,\"#9c179e\"],[0.4444444444444444,\"#bd3786\"],[0.5555555555555556,\"#d8576b\"],[0.6666666666666666,\"#ed7953\"],[0.7777777777777778,\"#fb9f3a\"],[0.8888888888888888,\"#fdca26\"],[1.0,\"#f0f921\"]],\"type\":\"heatmapgl\"}],\"histogram\":[{\"marker\":{\"pattern\":{\"fillmode\":\"overlay\",\"size\":10,\"solidity\":0.2}},\"type\":\"histogram\"}],\"histogram2d\":[{\"colorbar\":{\"outlinewidth\":0,\"ticks\":\"\"},\"colorscale\":[[0.0,\"#0d0887\"],[0.1111111111111111,\"#46039f\"],[0.2222222222222222,\"#7201a8\"],[0.3333333333333333,\"#9c179e\"],[0.4444444444444444,\"#bd3786\"],[0.5555555555555556,\"#d8576b\"],[0.6666666666666666,\"#ed7953\"],[0.7777777777777778,\"#fb9f3a\"],[0.8888888888888888,\"#fdca26\"],[1.0,\"#f0f921\"]],\"type\":\"histogram2d\"}],\"histogram2dcontour\":[{\"colorbar\":{\"outlinewidth\":0,\"ticks\":\"\"},\"colorscale\":[[0.0,\"#0d0887\"],[0.1111111111111111,\"#46039f\"],[0.2222222222222222,\"#7201a8\"],[0.3333333333333333,\"#9c179e\"],[0.4444444444444444,\"#bd3786\"],[0.5555555555555556,\"#d8576b\"],[0.6666666666666666,\"#ed7953\"],[0.7777777777777778,\"#fb9f3a\"],[0.8888888888888888,\"#fdca26\"],[1.0,\"#f0f921\"]],\"type\":\"histogram2dcontour\"}],\"mesh3d\":[{\"colorbar\":{\"outlinewidth\":0,\"ticks\":\"\"},\"type\":\"mesh3d\"}],\"parcoords\":[{\"line\":{\"colorbar\":{\"outlinewidth\":0,\"ticks\":\"\"}},\"type\":\"parcoords\"}],\"pie\":[{\"automargin\":true,\"type\":\"pie\"}],\"scatter\":[{\"marker\":{\"colorbar\":{\"outlinewidth\":0,\"ticks\":\"\"}},\"type\":\"scatter\"}],\"scatter3d\":[{\"line\":{\"colorbar\":{\"outlinewidth\":0,\"ticks\":\"\"}},\"marker\":{\"colorbar\":{\"outlinewidth\":0,\"ticks\":\"\"}},\"type\":\"scatter3d\"}],\"scattercarpet\":[{\"marker\":{\"colorbar\":{\"outlinewidth\":0,\"ticks\":\"\"}},\"type\":\"scattercarpet\"}],\"scattergeo\":[{\"marker\":{\"colorbar\":{\"outlinewidth\":0,\"ticks\":\"\"}},\"type\":\"scattergeo\"}],\"scattergl\":[{\"marker\":{\"colorbar\":{\"outlinewidth\":0,\"ticks\":\"\"}},\"type\":\"scattergl\"}],\"scattermapbox\":[{\"marker\":{\"colorbar\":{\"outlinewidth\":0,\"ticks\":\"\"}},\"type\":\"scattermapbox\"}],\"scatterpolar\":[{\"marker\":{\"colorbar\":{\"outlinewidth\":0,\"ticks\":\"\"}},\"type\":\"scatterpolar\"}],\"scatterpolargl\":[{\"marker\":{\"colorbar\":{\"outlinewidth\":0,\"ticks\":\"\"}},\"type\":\"scatterpolargl\"}],\"scatterternary\":[{\"marker\":{\"colorbar\":{\"outlinewidth\":0,\"ticks\":\"\"}},\"type\":\"scatterternary\"}],\"surface\":[{\"colorbar\":{\"outlinewidth\":0,\"ticks\":\"\"},\"colorscale\":[[0.0,\"#0d0887\"],[0.1111111111111111,\"#46039f\"],[0.2222222222222222,\"#7201a8\"],[0.3333333333333333,\"#9c179e\"],[0.4444444444444444,\"#bd3786\"],[0.5555555555555556,\"#d8576b\"],[0.6666666666666666,\"#ed7953\"],[0.7777777777777778,\"#fb9f3a\"],[0.8888888888888888,\"#fdca26\"],[1.0,\"#f0f921\"]],\"type\":\"surface\"}],\"table\":[{\"cells\":{\"fill\":{\"color\":\"#EBF0F8\"},\"line\":{\"color\":\"white\"}},\"header\":{\"fill\":{\"color\":\"#C8D4E3\"},\"line\":{\"color\":\"white\"}},\"type\":\"table\"}]},\"layout\":{\"annotationdefaults\":{\"arrowcolor\":\"#2a3f5f\",\"arrowhead\":0,\"arrowwidth\":1},\"autotypenumbers\":\"strict\",\"coloraxis\":{\"colorbar\":{\"outlinewidth\":0,\"ticks\":\"\"}},\"colorscale\":{\"diverging\":[[0,\"#8e0152\"],[0.1,\"#c51b7d\"],[0.2,\"#de77ae\"],[0.3,\"#f1b6da\"],[0.4,\"#fde0ef\"],[0.5,\"#f7f7f7\"],[0.6,\"#e6f5d0\"],[0.7,\"#b8e186\"],[0.8,\"#7fbc41\"],[0.9,\"#4d9221\"],[1,\"#276419\"]],\"sequential\":[[0.0,\"#0d0887\"],[0.1111111111111111,\"#46039f\"],[0.2222222222222222,\"#7201a8\"],[0.3333333333333333,\"#9c179e\"],[0.4444444444444444,\"#bd3786\"],[0.5555555555555556,\"#d8576b\"],[0.6666666666666666,\"#ed7953\"],[0.7777777777777778,\"#fb9f3a\"],[0.8888888888888888,\"#fdca26\"],[1.0,\"#f0f921\"]],\"sequentialminus\":[[0.0,\"#0d0887\"],[0.1111111111111111,\"#46039f\"],[0.2222222222222222,\"#7201a8\"],[0.3333333333333333,\"#9c179e\"],[0.4444444444444444,\"#bd3786\"],[0.5555555555555556,\"#d8576b\"],[0.6666666666666666,\"#ed7953\"],[0.7777777777777778,\"#fb9f3a\"],[0.8888888888888888,\"#fdca26\"],[1.0,\"#f0f921\"]]},\"colorway\":[\"#636efa\",\"#EF553B\",\"#00cc96\",\"#ab63fa\",\"#FFA15A\",\"#19d3f3\",\"#FF6692\",\"#B6E880\",\"#FF97FF\",\"#FECB52\"],\"font\":{\"color\":\"#2a3f5f\"},\"geo\":{\"bgcolor\":\"white\",\"lakecolor\":\"white\",\"landcolor\":\"#E5ECF6\",\"showlakes\":true,\"showland\":true,\"subunitcolor\":\"white\"},\"hoverlabel\":{\"align\":\"left\"},\"hovermode\":\"closest\",\"mapbox\":{\"style\":\"light\"},\"paper_bgcolor\":\"white\",\"plot_bgcolor\":\"#E5ECF6\",\"polar\":{\"angularaxis\":{\"gridcolor\":\"white\",\"linecolor\":\"white\",\"ticks\":\"\"},\"bgcolor\":\"#E5ECF6\",\"radialaxis\":{\"gridcolor\":\"white\",\"linecolor\":\"white\",\"ticks\":\"\"}},\"scene\":{\"xaxis\":{\"backgroundcolor\":\"#E5ECF6\",\"gridcolor\":\"white\",\"gridwidth\":2,\"linecolor\":\"white\",\"showbackground\":true,\"ticks\":\"\",\"zerolinecolor\":\"white\"},\"yaxis\":{\"backgroundcolor\":\"#E5ECF6\",\"gridcolor\":\"white\",\"gridwidth\":2,\"linecolor\":\"white\",\"showbackground\":true,\"ticks\":\"\",\"zerolinecolor\":\"white\"},\"zaxis\":{\"backgroundcolor\":\"#E5ECF6\",\"gridcolor\":\"white\",\"gridwidth\":2,\"linecolor\":\"white\",\"showbackground\":true,\"ticks\":\"\",\"zerolinecolor\":\"white\"}},\"shapedefaults\":{\"line\":{\"color\":\"#2a3f5f\"}},\"ternary\":{\"aaxis\":{\"gridcolor\":\"white\",\"linecolor\":\"white\",\"ticks\":\"\"},\"baxis\":{\"gridcolor\":\"white\",\"linecolor\":\"white\",\"ticks\":\"\"},\"bgcolor\":\"#E5ECF6\",\"caxis\":{\"gridcolor\":\"white\",\"linecolor\":\"white\",\"ticks\":\"\"}},\"title\":{\"x\":0.05},\"xaxis\":{\"automargin\":true,\"gridcolor\":\"white\",\"linecolor\":\"white\",\"ticks\":\"\",\"title\":{\"standoff\":15},\"zerolinecolor\":\"white\",\"zerolinewidth\":2},\"yaxis\":{\"automargin\":true,\"gridcolor\":\"white\",\"linecolor\":\"white\",\"ticks\":\"\",\"title\":{\"standoff\":15},\"zerolinecolor\":\"white\",\"zerolinewidth\":2}}}},                        {\"responsive\": true}                    ).then(function(){\n",
       "                            \n",
       "var gd = document.getElementById('33c95090-9161-4ef2-a3d9-8d2a3a61bcfb');\n",
       "var x = new MutationObserver(function (mutations, observer) {{\n",
       "        var display = window.getComputedStyle(gd).display;\n",
       "        if (!display || display === 'none') {{\n",
       "            console.log([gd, 'removed!']);\n",
       "            Plotly.purge(gd);\n",
       "            observer.disconnect();\n",
       "        }}\n",
       "}});\n",
       "\n",
       "// Listen for the removal of the full notebook cells\n",
       "var notebookContainer = gd.closest('#notebook-container');\n",
       "if (notebookContainer) {{\n",
       "    x.observe(notebookContainer, {childList: true});\n",
       "}}\n",
       "\n",
       "// Listen for the clearing of the current output cell\n",
       "var outputEl = gd.closest('.output');\n",
       "if (outputEl) {{\n",
       "    x.observe(outputEl, {childList: true});\n",
       "}}\n",
       "\n",
       "                        })                };                });            </script>        </div>"
      ]
     },
     "metadata": {},
     "output_type": "display_data"
    },
    {
     "data": {
      "text/plain": [
       "<Figure size 576x360 with 0 Axes>"
      ]
     },
     "metadata": {},
     "output_type": "display_data"
    }
   ],
   "source": [
    "#Use go.Figure() function to visualise created data: data_obj\n",
    "plt.figure(figsize=(8,5))\n",
    "fig_one=go.Figure(data_obj)\n",
    "\n",
    "fig_one.show() #to show the chart"
   ]
  },
  {
   "cell_type": "code",
   "execution_count": 171,
   "id": "d5445bc0",
   "metadata": {},
   "outputs": [],
   "source": [
    "#creating two data objects for close and open prices\n",
    "data_obj_close=go.Scatter(x=data_dis.index, y=data_dis.Close,\n",
    "                   mode='lines', name='Close')\n",
    "\n",
    "data_obj_open=go.Scatter(x=data_dis.index, y=data_dis.Open,\n",
    "                   mode='lines', name='Open')"
   ]
  },
  {
   "cell_type": "code",
   "execution_count": 172,
   "id": "92af2a99",
   "metadata": {},
   "outputs": [
    {
     "data": {
      "application/vnd.plotly.v1+json": {
       "config": {
        "plotlyServerURL": "https://plot.ly"
       },
       "data": [
        {
         "mode": "lines",
         "name": "Close",
         "type": "scatter",
         "x": [
          "2020-01-02T00:00:00",
          "2020-01-03T00:00:00",
          "2020-01-06T00:00:00",
          "2020-01-07T00:00:00",
          "2020-01-08T00:00:00",
          "2020-01-09T00:00:00",
          "2020-01-10T00:00:00",
          "2020-01-13T00:00:00",
          "2020-01-14T00:00:00",
          "2020-01-15T00:00:00",
          "2020-01-16T00:00:00",
          "2020-01-17T00:00:00",
          "2020-01-21T00:00:00",
          "2020-01-22T00:00:00",
          "2020-01-23T00:00:00",
          "2020-01-24T00:00:00",
          "2020-01-27T00:00:00",
          "2020-01-28T00:00:00",
          "2020-01-29T00:00:00",
          "2020-01-30T00:00:00",
          "2020-01-31T00:00:00",
          "2020-02-03T00:00:00",
          "2020-02-04T00:00:00",
          "2020-02-05T00:00:00",
          "2020-02-06T00:00:00",
          "2020-02-07T00:00:00",
          "2020-02-10T00:00:00",
          "2020-02-11T00:00:00",
          "2020-02-12T00:00:00",
          "2020-02-13T00:00:00",
          "2020-02-14T00:00:00",
          "2020-02-18T00:00:00",
          "2020-02-19T00:00:00",
          "2020-02-20T00:00:00",
          "2020-02-21T00:00:00",
          "2020-02-24T00:00:00",
          "2020-02-25T00:00:00",
          "2020-02-26T00:00:00",
          "2020-02-27T00:00:00",
          "2020-02-28T00:00:00",
          "2020-03-02T00:00:00",
          "2020-03-03T00:00:00",
          "2020-03-04T00:00:00",
          "2020-03-05T00:00:00",
          "2020-03-06T00:00:00",
          "2020-03-09T00:00:00",
          "2020-03-10T00:00:00",
          "2020-03-11T00:00:00",
          "2020-03-12T00:00:00",
          "2020-03-13T00:00:00",
          "2020-03-16T00:00:00",
          "2020-03-17T00:00:00",
          "2020-03-18T00:00:00",
          "2020-03-19T00:00:00",
          "2020-03-20T00:00:00",
          "2020-03-23T00:00:00",
          "2020-03-24T00:00:00",
          "2020-03-25T00:00:00",
          "2020-03-26T00:00:00",
          "2020-03-27T00:00:00",
          "2020-03-30T00:00:00",
          "2020-03-31T00:00:00",
          "2020-04-01T00:00:00",
          "2020-04-02T00:00:00",
          "2020-04-03T00:00:00",
          "2020-04-06T00:00:00",
          "2020-04-07T00:00:00",
          "2020-04-08T00:00:00",
          "2020-04-09T00:00:00",
          "2020-04-13T00:00:00",
          "2020-04-14T00:00:00",
          "2020-04-15T00:00:00",
          "2020-04-16T00:00:00",
          "2020-04-17T00:00:00",
          "2020-04-20T00:00:00",
          "2020-04-21T00:00:00",
          "2020-04-22T00:00:00",
          "2020-04-23T00:00:00",
          "2020-04-24T00:00:00",
          "2020-04-27T00:00:00",
          "2020-04-28T00:00:00",
          "2020-04-29T00:00:00",
          "2020-04-30T00:00:00",
          "2020-05-01T00:00:00",
          "2020-05-04T00:00:00",
          "2020-05-05T00:00:00",
          "2020-05-06T00:00:00",
          "2020-05-07T00:00:00",
          "2020-05-08T00:00:00",
          "2020-05-11T00:00:00",
          "2020-05-12T00:00:00",
          "2020-05-13T00:00:00",
          "2020-05-14T00:00:00",
          "2020-05-15T00:00:00",
          "2020-05-18T00:00:00",
          "2020-05-19T00:00:00",
          "2020-05-20T00:00:00",
          "2020-05-21T00:00:00",
          "2020-05-22T00:00:00",
          "2020-05-26T00:00:00",
          "2020-05-27T00:00:00",
          "2020-05-28T00:00:00",
          "2020-05-29T00:00:00",
          "2020-06-01T00:00:00",
          "2020-06-02T00:00:00",
          "2020-06-03T00:00:00",
          "2020-06-04T00:00:00",
          "2020-06-05T00:00:00",
          "2020-06-08T00:00:00",
          "2020-06-09T00:00:00",
          "2020-06-10T00:00:00",
          "2020-06-11T00:00:00",
          "2020-06-12T00:00:00",
          "2020-06-15T00:00:00",
          "2020-06-16T00:00:00",
          "2020-06-17T00:00:00",
          "2020-06-18T00:00:00",
          "2020-06-19T00:00:00",
          "2020-06-22T00:00:00",
          "2020-06-23T00:00:00",
          "2020-06-24T00:00:00",
          "2020-06-25T00:00:00",
          "2020-06-26T00:00:00",
          "2020-06-29T00:00:00",
          "2020-06-30T00:00:00",
          "2020-07-01T00:00:00",
          "2020-07-02T00:00:00",
          "2020-07-06T00:00:00",
          "2020-07-07T00:00:00",
          "2020-07-08T00:00:00",
          "2020-07-09T00:00:00",
          "2020-07-10T00:00:00",
          "2020-07-13T00:00:00",
          "2020-07-14T00:00:00",
          "2020-07-15T00:00:00",
          "2020-07-16T00:00:00",
          "2020-07-17T00:00:00",
          "2020-07-20T00:00:00",
          "2020-07-21T00:00:00",
          "2020-07-22T00:00:00",
          "2020-07-23T00:00:00",
          "2020-07-24T00:00:00",
          "2020-07-27T00:00:00",
          "2020-07-28T00:00:00",
          "2020-07-29T00:00:00",
          "2020-07-30T00:00:00",
          "2020-07-31T00:00:00",
          "2020-08-03T00:00:00",
          "2020-08-04T00:00:00",
          "2020-08-05T00:00:00",
          "2020-08-06T00:00:00",
          "2020-08-07T00:00:00",
          "2020-08-10T00:00:00",
          "2020-08-11T00:00:00",
          "2020-08-12T00:00:00",
          "2020-08-13T00:00:00",
          "2020-08-14T00:00:00",
          "2020-08-17T00:00:00",
          "2020-08-18T00:00:00",
          "2020-08-19T00:00:00",
          "2020-08-20T00:00:00",
          "2020-08-21T00:00:00",
          "2020-08-24T00:00:00",
          "2020-08-25T00:00:00",
          "2020-08-26T00:00:00",
          "2020-08-27T00:00:00",
          "2020-08-28T00:00:00",
          "2020-08-31T00:00:00",
          "2020-09-01T00:00:00",
          "2020-09-02T00:00:00",
          "2020-09-03T00:00:00",
          "2020-09-04T00:00:00",
          "2020-09-08T00:00:00",
          "2020-09-09T00:00:00",
          "2020-09-10T00:00:00",
          "2020-09-11T00:00:00",
          "2020-09-14T00:00:00",
          "2020-09-15T00:00:00",
          "2020-09-16T00:00:00",
          "2020-09-17T00:00:00",
          "2020-09-18T00:00:00",
          "2020-09-21T00:00:00",
          "2020-09-22T00:00:00",
          "2020-09-23T00:00:00",
          "2020-09-24T00:00:00",
          "2020-09-25T00:00:00",
          "2020-09-28T00:00:00",
          "2020-09-29T00:00:00",
          "2020-09-30T00:00:00",
          "2020-10-01T00:00:00",
          "2020-10-02T00:00:00",
          "2020-10-05T00:00:00",
          "2020-10-06T00:00:00",
          "2020-10-07T00:00:00",
          "2020-10-08T00:00:00",
          "2020-10-09T00:00:00",
          "2020-10-12T00:00:00",
          "2020-10-13T00:00:00",
          "2020-10-14T00:00:00",
          "2020-10-15T00:00:00",
          "2020-10-16T00:00:00",
          "2020-10-19T00:00:00",
          "2020-10-20T00:00:00",
          "2020-10-21T00:00:00",
          "2020-10-22T00:00:00",
          "2020-10-23T00:00:00",
          "2020-10-26T00:00:00",
          "2020-10-27T00:00:00",
          "2020-10-28T00:00:00",
          "2020-10-29T00:00:00",
          "2020-10-30T00:00:00",
          "2020-11-02T00:00:00",
          "2020-11-03T00:00:00",
          "2020-11-04T00:00:00",
          "2020-11-05T00:00:00",
          "2020-11-06T00:00:00",
          "2020-11-09T00:00:00",
          "2020-11-10T00:00:00",
          "2020-11-11T00:00:00",
          "2020-11-12T00:00:00",
          "2020-11-13T00:00:00",
          "2020-11-16T00:00:00",
          "2020-11-17T00:00:00",
          "2020-11-18T00:00:00",
          "2020-11-19T00:00:00",
          "2020-11-20T00:00:00",
          "2020-11-23T00:00:00",
          "2020-11-24T00:00:00",
          "2020-11-25T00:00:00",
          "2020-11-27T00:00:00",
          "2020-11-30T00:00:00",
          "2020-12-01T00:00:00",
          "2020-12-02T00:00:00",
          "2020-12-03T00:00:00",
          "2020-12-04T00:00:00",
          "2020-12-07T00:00:00",
          "2020-12-08T00:00:00",
          "2020-12-09T00:00:00",
          "2020-12-10T00:00:00",
          "2020-12-11T00:00:00",
          "2020-12-14T00:00:00",
          "2020-12-15T00:00:00",
          "2020-12-16T00:00:00",
          "2020-12-17T00:00:00",
          "2020-12-18T00:00:00",
          "2020-12-21T00:00:00",
          "2020-12-22T00:00:00",
          "2020-12-23T00:00:00",
          "2020-12-24T00:00:00",
          "2020-12-28T00:00:00",
          "2020-12-29T00:00:00",
          "2020-12-30T00:00:00",
          "2020-12-31T00:00:00"
         ],
         "y": [
          148.1999969482422,
          146.5,
          145.64999389648438,
          145.6999969482422,
          145.39999389648438,
          144.8300018310547,
          144.6199951171875,
          143.8800048828125,
          145.1999969482422,
          144.32000732421875,
          145.1199951171875,
          144.3300018310547,
          143.55999755859375,
          144.00999450683594,
          142.1999969482422,
          140.0800018310547,
          135.89999389648438,
          138.3699951171875,
          136.05999755859375,
          137.80999755859375,
          138.30999755859375,
          141.32000732421875,
          144.72999572753906,
          141.3699951171875,
          142.6999969482422,
          141.02000427246094,
          142.58999633789062,
          141.00999450683594,
          141.85000610351562,
          140.89999389648438,
          139.5399932861328,
          139.13999938964844,
          141.3000030517578,
          140.3699951171875,
          138.97000122070312,
          133.00999450683594,
          128.19000244140625,
          123.36000061035156,
          118.04000091552734,
          117.6500015258789,
          119.9800033569336,
          116.44999694824219,
          119.18000030517578,
          113.9800033569336,
          115.2699966430664,
          104.3499984741211,
          111.45999908447266,
          105.51000213623047,
          91.80999755859375,
          102.5199966430664,
          95.01000213623047,
          93.52999877929688,
          88.80000305175781,
          94.93000030517578,
          85.9800033569336,
          85.76000213623047,
          98.12000274658203,
          100.7300033569336,
          105.36000061035156,
          96.4000015258789,
          99.80000305175781,
          96.5999984741211,
          94.91999816894531,
          96.97000122070312,
          93.87999725341797,
          99.58000183105469,
          101.23999786376953,
          101.06999969482422,
          104.5,
          103.5,
          106.02999877929688,
          103.37000274658203,
          102.0199966430664,
          106.62999725341797,
          102.26000213623047,
          100.54000091552734,
          100.98999786376953,
          101,
          101.19000244140625,
          106.05999755859375,
          106.20999908447266,
          112.25,
          108.1500015258789,
          105.5,
          103.18000030517578,
          101.05999755859375,
          100.87999725341797,
          105.56999969482422,
          109.16000366210938,
          107.7699966430664,
          104.55999755859375,
          102.91999816894531,
          105.91000366210938,
          109.05000305175781,
          116.8499984741211,
          114.37000274658203,
          119.91999816894531,
          117.83000183105469,
          118.0199966430664,
          120.94999694824219,
          121.52999877929688,
          116.75,
          117.30000305175781,
          118.7699966430664,
          118.75,
          122.18000030517578,
          123.69000244140625,
          124.81999969482422,
          127.27999877929688,
          123.88999938964844,
          122.18000030517578,
          112.63999938964844,
          115.48999786376953,
          117.08000183105469,
          118.44000244140625,
          117.6500015258789,
          118.37000274658203,
          114.3499984741211,
          115.91999816894531,
          116.58999633789062,
          112.06999969482422,
          111.36000061035156,
          109.0999984741211,
          111.5199966430664,
          111.51000213623047,
          113.01000213623047,
          112.18000030517578,
          114.43000030517578,
          113.62999725341797,
          116.66000366210938,
          116.80999755859375,
          119.33999633789062,
          116.22000122070312,
          118.66000366210938,
          120.9000015258789,
          119.43000030517578,
          118.6500015258789,
          117.79000091552734,
          118.62000274658203,
          119.02999877929688,
          118.12000274658203,
          117.61000061035156,
          116.30999755859375,
          116.18000030517578,
          115.61000061035156,
          115.66000366210938,
          116.94000244140625,
          116.3499984741211,
          117.29000091552734,
          127.61000061035156,
          130.82000732421875,
          129.92999267578125,
          128.7899932861328,
          130.49000549316406,
          131.7899932861328,
          130.9600067138672,
          130.52999877929688,
          129.3699951171875,
          128.9199981689453,
          127.7699966430664,
          128.1199951171875,
          127.44000244140625,
          130.69000244140625,
          129.7899932861328,
          132.17999267578125,
          133.72999572753906,
          135.5399932861328,
          131.8699951171875,
          133.5500030517578,
          135.38999938964844,
          133.24000549316406,
          131.99000549316406,
          134.1999969482422,
          133.36000061035156,
          133.22000122070312,
          131.75,
          131.25,
          131.24000549316406,
          132.08999633789062,
          130.22000122070312,
          128.6300048828125,
          125.41000366210938,
          127.20999908447266,
          123.27999877929688,
          122.48999786376953,
          124,
          125.98999786376953,
          125.4000015258789,
          124.08000183105469,
          123.30999755859375,
          122.55000305175781,
          123.37000274658203,
          120.93000030517578,
          122.91000366210938,
          123.08999633789062,
          124.9800033569336,
          124.97000122070312,
          128.9600067138672,
          126.58999633789062,
          127.36000061035156,
          126.80999755859375,
          124.2300033569336,
          124.94999694824219,
          126.62999725341797,
          127.55999755859375,
          128.35000610351562,
          124.05999755859375,
          123.30999755859375,
          118.47000122070312,
          121.54000091552734,
          121.25,
          120.12999725341797,
          124.0199966430664,
          125.06999969482422,
          126.95999908447266,
          127.45999908447266,
          142.58999633789062,
          142.11000061035156,
          137.82000732421875,
          135.52000427246094,
          138.36000061035156,
          144.6699981689453,
          144.5,
          143.89999389648438,
          141.72000122070312,
          141.07000732421875,
          145.97999572753906,
          151.49000549316406,
          149.08999633789062,
          147.1300048828125,
          148.00999450683594,
          149.44000244140625,
          153.61000061035156,
          153.24000549316406,
          154.13999938964844,
          153.67999267578125,
          153.72000122070312,
          154.42999267578125,
          154.69000244140625,
          175.72000122070312,
          169.3000030517578,
          173.94000244140625,
          173.1199951171875,
          173.5500030517578,
          172.88999938964844,
          170.69000244140625,
          170.4499969482422,
          173.5500030517578,
          173.72999572753906,
          178.86000061035156,
          177.3000030517578,
          181.1699981689453,
          181.17999267578125
         ]
        },
        {
         "mode": "lines",
         "name": "Open",
         "type": "scatter",
         "x": [
          "2020-01-02T00:00:00",
          "2020-01-03T00:00:00",
          "2020-01-06T00:00:00",
          "2020-01-07T00:00:00",
          "2020-01-08T00:00:00",
          "2020-01-09T00:00:00",
          "2020-01-10T00:00:00",
          "2020-01-13T00:00:00",
          "2020-01-14T00:00:00",
          "2020-01-15T00:00:00",
          "2020-01-16T00:00:00",
          "2020-01-17T00:00:00",
          "2020-01-21T00:00:00",
          "2020-01-22T00:00:00",
          "2020-01-23T00:00:00",
          "2020-01-24T00:00:00",
          "2020-01-27T00:00:00",
          "2020-01-28T00:00:00",
          "2020-01-29T00:00:00",
          "2020-01-30T00:00:00",
          "2020-01-31T00:00:00",
          "2020-02-03T00:00:00",
          "2020-02-04T00:00:00",
          "2020-02-05T00:00:00",
          "2020-02-06T00:00:00",
          "2020-02-07T00:00:00",
          "2020-02-10T00:00:00",
          "2020-02-11T00:00:00",
          "2020-02-12T00:00:00",
          "2020-02-13T00:00:00",
          "2020-02-14T00:00:00",
          "2020-02-18T00:00:00",
          "2020-02-19T00:00:00",
          "2020-02-20T00:00:00",
          "2020-02-21T00:00:00",
          "2020-02-24T00:00:00",
          "2020-02-25T00:00:00",
          "2020-02-26T00:00:00",
          "2020-02-27T00:00:00",
          "2020-02-28T00:00:00",
          "2020-03-02T00:00:00",
          "2020-03-03T00:00:00",
          "2020-03-04T00:00:00",
          "2020-03-05T00:00:00",
          "2020-03-06T00:00:00",
          "2020-03-09T00:00:00",
          "2020-03-10T00:00:00",
          "2020-03-11T00:00:00",
          "2020-03-12T00:00:00",
          "2020-03-13T00:00:00",
          "2020-03-16T00:00:00",
          "2020-03-17T00:00:00",
          "2020-03-18T00:00:00",
          "2020-03-19T00:00:00",
          "2020-03-20T00:00:00",
          "2020-03-23T00:00:00",
          "2020-03-24T00:00:00",
          "2020-03-25T00:00:00",
          "2020-03-26T00:00:00",
          "2020-03-27T00:00:00",
          "2020-03-30T00:00:00",
          "2020-03-31T00:00:00",
          "2020-04-01T00:00:00",
          "2020-04-02T00:00:00",
          "2020-04-03T00:00:00",
          "2020-04-06T00:00:00",
          "2020-04-07T00:00:00",
          "2020-04-08T00:00:00",
          "2020-04-09T00:00:00",
          "2020-04-13T00:00:00",
          "2020-04-14T00:00:00",
          "2020-04-15T00:00:00",
          "2020-04-16T00:00:00",
          "2020-04-17T00:00:00",
          "2020-04-20T00:00:00",
          "2020-04-21T00:00:00",
          "2020-04-22T00:00:00",
          "2020-04-23T00:00:00",
          "2020-04-24T00:00:00",
          "2020-04-27T00:00:00",
          "2020-04-28T00:00:00",
          "2020-04-29T00:00:00",
          "2020-04-30T00:00:00",
          "2020-05-01T00:00:00",
          "2020-05-04T00:00:00",
          "2020-05-05T00:00:00",
          "2020-05-06T00:00:00",
          "2020-05-07T00:00:00",
          "2020-05-08T00:00:00",
          "2020-05-11T00:00:00",
          "2020-05-12T00:00:00",
          "2020-05-13T00:00:00",
          "2020-05-14T00:00:00",
          "2020-05-15T00:00:00",
          "2020-05-18T00:00:00",
          "2020-05-19T00:00:00",
          "2020-05-20T00:00:00",
          "2020-05-21T00:00:00",
          "2020-05-22T00:00:00",
          "2020-05-26T00:00:00",
          "2020-05-27T00:00:00",
          "2020-05-28T00:00:00",
          "2020-05-29T00:00:00",
          "2020-06-01T00:00:00",
          "2020-06-02T00:00:00",
          "2020-06-03T00:00:00",
          "2020-06-04T00:00:00",
          "2020-06-05T00:00:00",
          "2020-06-08T00:00:00",
          "2020-06-09T00:00:00",
          "2020-06-10T00:00:00",
          "2020-06-11T00:00:00",
          "2020-06-12T00:00:00",
          "2020-06-15T00:00:00",
          "2020-06-16T00:00:00",
          "2020-06-17T00:00:00",
          "2020-06-18T00:00:00",
          "2020-06-19T00:00:00",
          "2020-06-22T00:00:00",
          "2020-06-23T00:00:00",
          "2020-06-24T00:00:00",
          "2020-06-25T00:00:00",
          "2020-06-26T00:00:00",
          "2020-06-29T00:00:00",
          "2020-06-30T00:00:00",
          "2020-07-01T00:00:00",
          "2020-07-02T00:00:00",
          "2020-07-06T00:00:00",
          "2020-07-07T00:00:00",
          "2020-07-08T00:00:00",
          "2020-07-09T00:00:00",
          "2020-07-10T00:00:00",
          "2020-07-13T00:00:00",
          "2020-07-14T00:00:00",
          "2020-07-15T00:00:00",
          "2020-07-16T00:00:00",
          "2020-07-17T00:00:00",
          "2020-07-20T00:00:00",
          "2020-07-21T00:00:00",
          "2020-07-22T00:00:00",
          "2020-07-23T00:00:00",
          "2020-07-24T00:00:00",
          "2020-07-27T00:00:00",
          "2020-07-28T00:00:00",
          "2020-07-29T00:00:00",
          "2020-07-30T00:00:00",
          "2020-07-31T00:00:00",
          "2020-08-03T00:00:00",
          "2020-08-04T00:00:00",
          "2020-08-05T00:00:00",
          "2020-08-06T00:00:00",
          "2020-08-07T00:00:00",
          "2020-08-10T00:00:00",
          "2020-08-11T00:00:00",
          "2020-08-12T00:00:00",
          "2020-08-13T00:00:00",
          "2020-08-14T00:00:00",
          "2020-08-17T00:00:00",
          "2020-08-18T00:00:00",
          "2020-08-19T00:00:00",
          "2020-08-20T00:00:00",
          "2020-08-21T00:00:00",
          "2020-08-24T00:00:00",
          "2020-08-25T00:00:00",
          "2020-08-26T00:00:00",
          "2020-08-27T00:00:00",
          "2020-08-28T00:00:00",
          "2020-08-31T00:00:00",
          "2020-09-01T00:00:00",
          "2020-09-02T00:00:00",
          "2020-09-03T00:00:00",
          "2020-09-04T00:00:00",
          "2020-09-08T00:00:00",
          "2020-09-09T00:00:00",
          "2020-09-10T00:00:00",
          "2020-09-11T00:00:00",
          "2020-09-14T00:00:00",
          "2020-09-15T00:00:00",
          "2020-09-16T00:00:00",
          "2020-09-17T00:00:00",
          "2020-09-18T00:00:00",
          "2020-09-21T00:00:00",
          "2020-09-22T00:00:00",
          "2020-09-23T00:00:00",
          "2020-09-24T00:00:00",
          "2020-09-25T00:00:00",
          "2020-09-28T00:00:00",
          "2020-09-29T00:00:00",
          "2020-09-30T00:00:00",
          "2020-10-01T00:00:00",
          "2020-10-02T00:00:00",
          "2020-10-05T00:00:00",
          "2020-10-06T00:00:00",
          "2020-10-07T00:00:00",
          "2020-10-08T00:00:00",
          "2020-10-09T00:00:00",
          "2020-10-12T00:00:00",
          "2020-10-13T00:00:00",
          "2020-10-14T00:00:00",
          "2020-10-15T00:00:00",
          "2020-10-16T00:00:00",
          "2020-10-19T00:00:00",
          "2020-10-20T00:00:00",
          "2020-10-21T00:00:00",
          "2020-10-22T00:00:00",
          "2020-10-23T00:00:00",
          "2020-10-26T00:00:00",
          "2020-10-27T00:00:00",
          "2020-10-28T00:00:00",
          "2020-10-29T00:00:00",
          "2020-10-30T00:00:00",
          "2020-11-02T00:00:00",
          "2020-11-03T00:00:00",
          "2020-11-04T00:00:00",
          "2020-11-05T00:00:00",
          "2020-11-06T00:00:00",
          "2020-11-09T00:00:00",
          "2020-11-10T00:00:00",
          "2020-11-11T00:00:00",
          "2020-11-12T00:00:00",
          "2020-11-13T00:00:00",
          "2020-11-16T00:00:00",
          "2020-11-17T00:00:00",
          "2020-11-18T00:00:00",
          "2020-11-19T00:00:00",
          "2020-11-20T00:00:00",
          "2020-11-23T00:00:00",
          "2020-11-24T00:00:00",
          "2020-11-25T00:00:00",
          "2020-11-27T00:00:00",
          "2020-11-30T00:00:00",
          "2020-12-01T00:00:00",
          "2020-12-02T00:00:00",
          "2020-12-03T00:00:00",
          "2020-12-04T00:00:00",
          "2020-12-07T00:00:00",
          "2020-12-08T00:00:00",
          "2020-12-09T00:00:00",
          "2020-12-10T00:00:00",
          "2020-12-11T00:00:00",
          "2020-12-14T00:00:00",
          "2020-12-15T00:00:00",
          "2020-12-16T00:00:00",
          "2020-12-17T00:00:00",
          "2020-12-18T00:00:00",
          "2020-12-21T00:00:00",
          "2020-12-22T00:00:00",
          "2020-12-23T00:00:00",
          "2020-12-24T00:00:00",
          "2020-12-28T00:00:00",
          "2020-12-29T00:00:00",
          "2020-12-30T00:00:00",
          "2020-12-31T00:00:00"
         ],
         "y": [
          145.2899932861328,
          146.39999389648438,
          145.5399932861328,
          145.99000549316406,
          145.49000549316406,
          146.47000122070312,
          145.3000030517578,
          144.75,
          143.41000366210938,
          145.7100067138672,
          145.08999633789062,
          145.5399932861328,
          144.24000549316406,
          144.4499969482422,
          143.60000610351562,
          141.39999389648438,
          135.86000061035156,
          136.5,
          138.60000610351562,
          135.08999633789062,
          138.39999389648438,
          139.7899932861328,
          145.49000549316406,
          146.60000610351562,
          141.9199981689453,
          141.88999938964844,
          141.02999877929688,
          142.85000610351562,
          141.33999633789062,
          141.1699981689453,
          141.10000610351562,
          139.02000427246094,
          139.6300048828125,
          141.6300048828125,
          139.86000061035156,
          132.89999389648438,
          133.75,
          126.12000274658203,
          119.80999755859375,
          114.51000213623047,
          119.12999725341797,
          121.1500015258789,
          118.95999908447266,
          116.86000061035156,
          110.76000213623047,
          108.69000244140625,
          108.0999984741211,
          108.41999816894531,
          97.62000274658203,
          100.77999877929688,
          91.80000305175781,
          95.80000305175781,
          87.58999633789062,
          88,
          95.98999786376953,
          84.48999786376953,
          92.33000183105469,
          100.66000366210938,
          100.83000183105469,
          100.44999694824219,
          96,
          100.22000122070312,
          93.5,
          94.19999694824219,
          96.30999755859375,
          97.26000213623047,
          104.86000061035156,
          100.52999877929688,
          107.91999816894531,
          104.70999908447266,
          105.5,
          104.38999938964844,
          103.52999877929688,
          106.20999908447266,
          103.58000183105469,
          100.01000213623047,
          101.80000305175781,
          100.6500015258789,
          101.77999877929688,
          102,
          108.79000091552734,
          109.94000244140625,
          109.44000244140625,
          106.36000061035156,
          102.01000213623047,
          101.51000213623047,
          101.4800033569336,
          101.8499984741211,
          109.05000305175781,
          108.4000015258789,
          109.05999755859375,
          104.5,
          101.9800033569336,
          104.9800033569336,
          114.47000122070312,
          115.0999984741211,
          116.41999816894531,
          119.33999633789062,
          117.5,
          121.05000305175781,
          123.68000030517578,
          121.5999984741211,
          116.19000244140625,
          117.26000213623047,
          119,
          119.98999786376953,
          121.94999694824219,
          126.30999755859375,
          125.0999984741211,
          125.62999725341797,
          124.0199966430664,
          117.5999984741211,
          115.16999816894531,
          112.08000183105469,
          121.23999786376953,
          118.63999938964844,
          116.87999725341797,
          119.9800033569336,
          114.19000244140625,
          116.95999908447266,
          115.8499984741211,
          108.98999786376953,
          110.94999694824219,
          109,
          111.5,
          112.81999969482422,
          115,
          113.83000183105469,
          113.62999725341797,
          113.4800033569336,
          116.51000213623047,
          116.83000183105469,
          119.94000244140625,
          115.2300033569336,
          121.62999725341797,
          117.72000122070312,
          118.9000015258789,
          118.05000305175781,
          118.05000305175781,
          118.19000244140625,
          118.86000061035156,
          115.69999694824219,
          117.19999694824219,
          115.45999908447266,
          116.22000122070312,
          114.91000366210938,
          115.22000122070312,
          116.16999816894531,
          115.95999908447266,
          123.37000274658203,
          126.95999908447266,
          130.22000122070312,
          129.75,
          130.52999877929688,
          130.6699981689453,
          130.63999938964844,
          130.00999450683594,
          130.10000610351562,
          129.44000244140625,
          129.25,
          126.80000305175781,
          127.72000122070312,
          128.14999389648438,
          130.8300018310547,
          130,
          133,
          134.5,
          135.25,
          131.9199981689453,
          133.6300048828125,
          135.24000549316406,
          133.75,
          131.99000549316406,
          134.27999877929688,
          133.5800018310547,
          133.74000549316406,
          132.52999877929688,
          131.4600067138672,
          132.1699981689453,
          130.5500030517578,
          129.5,
          125.9800033569336,
          125.26000213623047,
          127.06999969482422,
          121.93000030517578,
          121.36000061035156,
          125.75,
          125.91999816894531,
          123.23999786376953,
          124.94000244140625,
          121.98999786376953,
          123.26000213623047,
          123.12999725341797,
          121.94999694824219,
          123.58000183105469,
          123.8499984741211,
          124.9000015258789,
          129.8000030517578,
          129.13999938964844,
          125,
          127.80999755859375,
          127.37000274658203,
          124.58000183105469,
          124.36000061035156,
          126.66999816894531,
          128.10000610351562,
          127.11000061035156,
          124.02999877929688,
          121.01000213623047,
          118.16000366210938,
          120.63999938964844,
          122.23999786376953,
          121.61000061035156,
          123.58000183105469,
          126.77999877929688,
          126.26000213623047,
          140.25999450683594,
          139.97000122070312,
          141.47000122070312,
          136.33999633789062,
          140.89999389648438,
          141.57000732421875,
          144.39999389648438,
          144.5,
          142.57000732421875,
          141.7100067138672,
          142.4499969482422,
          148.16000366210938,
          150.27000427246094,
          149,
          147.05999755859375,
          149.57000732421875,
          149.49000549316406,
          153.4499969482422,
          153.69000244140625,
          153.17999267578125,
          152.4199981689453,
          156.2899932861328,
          153.32000732421875,
          169.67999267578125,
          173.8000030517578,
          170.49000549316406,
          173.99000549316406,
          173.82000732421875,
          173.60000610351562,
          170.08999633789062,
          170,
          172.9600067138672,
          173.99000549316406,
          175.75,
          180.00999450683594,
          178.5,
          181.22000122070312
         ]
        }
       ],
       "layout": {
        "template": {
         "data": {
          "bar": [
           {
            "error_x": {
             "color": "#2a3f5f"
            },
            "error_y": {
             "color": "#2a3f5f"
            },
            "marker": {
             "line": {
              "color": "#E5ECF6",
              "width": 0.5
             },
             "pattern": {
              "fillmode": "overlay",
              "size": 10,
              "solidity": 0.2
             }
            },
            "type": "bar"
           }
          ],
          "barpolar": [
           {
            "marker": {
             "line": {
              "color": "#E5ECF6",
              "width": 0.5
             },
             "pattern": {
              "fillmode": "overlay",
              "size": 10,
              "solidity": 0.2
             }
            },
            "type": "barpolar"
           }
          ],
          "carpet": [
           {
            "aaxis": {
             "endlinecolor": "#2a3f5f",
             "gridcolor": "white",
             "linecolor": "white",
             "minorgridcolor": "white",
             "startlinecolor": "#2a3f5f"
            },
            "baxis": {
             "endlinecolor": "#2a3f5f",
             "gridcolor": "white",
             "linecolor": "white",
             "minorgridcolor": "white",
             "startlinecolor": "#2a3f5f"
            },
            "type": "carpet"
           }
          ],
          "choropleth": [
           {
            "colorbar": {
             "outlinewidth": 0,
             "ticks": ""
            },
            "type": "choropleth"
           }
          ],
          "contour": [
           {
            "colorbar": {
             "outlinewidth": 0,
             "ticks": ""
            },
            "colorscale": [
             [
              0,
              "#0d0887"
             ],
             [
              0.1111111111111111,
              "#46039f"
             ],
             [
              0.2222222222222222,
              "#7201a8"
             ],
             [
              0.3333333333333333,
              "#9c179e"
             ],
             [
              0.4444444444444444,
              "#bd3786"
             ],
             [
              0.5555555555555556,
              "#d8576b"
             ],
             [
              0.6666666666666666,
              "#ed7953"
             ],
             [
              0.7777777777777778,
              "#fb9f3a"
             ],
             [
              0.8888888888888888,
              "#fdca26"
             ],
             [
              1,
              "#f0f921"
             ]
            ],
            "type": "contour"
           }
          ],
          "contourcarpet": [
           {
            "colorbar": {
             "outlinewidth": 0,
             "ticks": ""
            },
            "type": "contourcarpet"
           }
          ],
          "heatmap": [
           {
            "colorbar": {
             "outlinewidth": 0,
             "ticks": ""
            },
            "colorscale": [
             [
              0,
              "#0d0887"
             ],
             [
              0.1111111111111111,
              "#46039f"
             ],
             [
              0.2222222222222222,
              "#7201a8"
             ],
             [
              0.3333333333333333,
              "#9c179e"
             ],
             [
              0.4444444444444444,
              "#bd3786"
             ],
             [
              0.5555555555555556,
              "#d8576b"
             ],
             [
              0.6666666666666666,
              "#ed7953"
             ],
             [
              0.7777777777777778,
              "#fb9f3a"
             ],
             [
              0.8888888888888888,
              "#fdca26"
             ],
             [
              1,
              "#f0f921"
             ]
            ],
            "type": "heatmap"
           }
          ],
          "heatmapgl": [
           {
            "colorbar": {
             "outlinewidth": 0,
             "ticks": ""
            },
            "colorscale": [
             [
              0,
              "#0d0887"
             ],
             [
              0.1111111111111111,
              "#46039f"
             ],
             [
              0.2222222222222222,
              "#7201a8"
             ],
             [
              0.3333333333333333,
              "#9c179e"
             ],
             [
              0.4444444444444444,
              "#bd3786"
             ],
             [
              0.5555555555555556,
              "#d8576b"
             ],
             [
              0.6666666666666666,
              "#ed7953"
             ],
             [
              0.7777777777777778,
              "#fb9f3a"
             ],
             [
              0.8888888888888888,
              "#fdca26"
             ],
             [
              1,
              "#f0f921"
             ]
            ],
            "type": "heatmapgl"
           }
          ],
          "histogram": [
           {
            "marker": {
             "pattern": {
              "fillmode": "overlay",
              "size": 10,
              "solidity": 0.2
             }
            },
            "type": "histogram"
           }
          ],
          "histogram2d": [
           {
            "colorbar": {
             "outlinewidth": 0,
             "ticks": ""
            },
            "colorscale": [
             [
              0,
              "#0d0887"
             ],
             [
              0.1111111111111111,
              "#46039f"
             ],
             [
              0.2222222222222222,
              "#7201a8"
             ],
             [
              0.3333333333333333,
              "#9c179e"
             ],
             [
              0.4444444444444444,
              "#bd3786"
             ],
             [
              0.5555555555555556,
              "#d8576b"
             ],
             [
              0.6666666666666666,
              "#ed7953"
             ],
             [
              0.7777777777777778,
              "#fb9f3a"
             ],
             [
              0.8888888888888888,
              "#fdca26"
             ],
             [
              1,
              "#f0f921"
             ]
            ],
            "type": "histogram2d"
           }
          ],
          "histogram2dcontour": [
           {
            "colorbar": {
             "outlinewidth": 0,
             "ticks": ""
            },
            "colorscale": [
             [
              0,
              "#0d0887"
             ],
             [
              0.1111111111111111,
              "#46039f"
             ],
             [
              0.2222222222222222,
              "#7201a8"
             ],
             [
              0.3333333333333333,
              "#9c179e"
             ],
             [
              0.4444444444444444,
              "#bd3786"
             ],
             [
              0.5555555555555556,
              "#d8576b"
             ],
             [
              0.6666666666666666,
              "#ed7953"
             ],
             [
              0.7777777777777778,
              "#fb9f3a"
             ],
             [
              0.8888888888888888,
              "#fdca26"
             ],
             [
              1,
              "#f0f921"
             ]
            ],
            "type": "histogram2dcontour"
           }
          ],
          "mesh3d": [
           {
            "colorbar": {
             "outlinewidth": 0,
             "ticks": ""
            },
            "type": "mesh3d"
           }
          ],
          "parcoords": [
           {
            "line": {
             "colorbar": {
              "outlinewidth": 0,
              "ticks": ""
             }
            },
            "type": "parcoords"
           }
          ],
          "pie": [
           {
            "automargin": true,
            "type": "pie"
           }
          ],
          "scatter": [
           {
            "marker": {
             "colorbar": {
              "outlinewidth": 0,
              "ticks": ""
             }
            },
            "type": "scatter"
           }
          ],
          "scatter3d": [
           {
            "line": {
             "colorbar": {
              "outlinewidth": 0,
              "ticks": ""
             }
            },
            "marker": {
             "colorbar": {
              "outlinewidth": 0,
              "ticks": ""
             }
            },
            "type": "scatter3d"
           }
          ],
          "scattercarpet": [
           {
            "marker": {
             "colorbar": {
              "outlinewidth": 0,
              "ticks": ""
             }
            },
            "type": "scattercarpet"
           }
          ],
          "scattergeo": [
           {
            "marker": {
             "colorbar": {
              "outlinewidth": 0,
              "ticks": ""
             }
            },
            "type": "scattergeo"
           }
          ],
          "scattergl": [
           {
            "marker": {
             "colorbar": {
              "outlinewidth": 0,
              "ticks": ""
             }
            },
            "type": "scattergl"
           }
          ],
          "scattermapbox": [
           {
            "marker": {
             "colorbar": {
              "outlinewidth": 0,
              "ticks": ""
             }
            },
            "type": "scattermapbox"
           }
          ],
          "scatterpolar": [
           {
            "marker": {
             "colorbar": {
              "outlinewidth": 0,
              "ticks": ""
             }
            },
            "type": "scatterpolar"
           }
          ],
          "scatterpolargl": [
           {
            "marker": {
             "colorbar": {
              "outlinewidth": 0,
              "ticks": ""
             }
            },
            "type": "scatterpolargl"
           }
          ],
          "scatterternary": [
           {
            "marker": {
             "colorbar": {
              "outlinewidth": 0,
              "ticks": ""
             }
            },
            "type": "scatterternary"
           }
          ],
          "surface": [
           {
            "colorbar": {
             "outlinewidth": 0,
             "ticks": ""
            },
            "colorscale": [
             [
              0,
              "#0d0887"
             ],
             [
              0.1111111111111111,
              "#46039f"
             ],
             [
              0.2222222222222222,
              "#7201a8"
             ],
             [
              0.3333333333333333,
              "#9c179e"
             ],
             [
              0.4444444444444444,
              "#bd3786"
             ],
             [
              0.5555555555555556,
              "#d8576b"
             ],
             [
              0.6666666666666666,
              "#ed7953"
             ],
             [
              0.7777777777777778,
              "#fb9f3a"
             ],
             [
              0.8888888888888888,
              "#fdca26"
             ],
             [
              1,
              "#f0f921"
             ]
            ],
            "type": "surface"
           }
          ],
          "table": [
           {
            "cells": {
             "fill": {
              "color": "#EBF0F8"
             },
             "line": {
              "color": "white"
             }
            },
            "header": {
             "fill": {
              "color": "#C8D4E3"
             },
             "line": {
              "color": "white"
             }
            },
            "type": "table"
           }
          ]
         },
         "layout": {
          "annotationdefaults": {
           "arrowcolor": "#2a3f5f",
           "arrowhead": 0,
           "arrowwidth": 1
          },
          "autotypenumbers": "strict",
          "coloraxis": {
           "colorbar": {
            "outlinewidth": 0,
            "ticks": ""
           }
          },
          "colorscale": {
           "diverging": [
            [
             0,
             "#8e0152"
            ],
            [
             0.1,
             "#c51b7d"
            ],
            [
             0.2,
             "#de77ae"
            ],
            [
             0.3,
             "#f1b6da"
            ],
            [
             0.4,
             "#fde0ef"
            ],
            [
             0.5,
             "#f7f7f7"
            ],
            [
             0.6,
             "#e6f5d0"
            ],
            [
             0.7,
             "#b8e186"
            ],
            [
             0.8,
             "#7fbc41"
            ],
            [
             0.9,
             "#4d9221"
            ],
            [
             1,
             "#276419"
            ]
           ],
           "sequential": [
            [
             0,
             "#0d0887"
            ],
            [
             0.1111111111111111,
             "#46039f"
            ],
            [
             0.2222222222222222,
             "#7201a8"
            ],
            [
             0.3333333333333333,
             "#9c179e"
            ],
            [
             0.4444444444444444,
             "#bd3786"
            ],
            [
             0.5555555555555556,
             "#d8576b"
            ],
            [
             0.6666666666666666,
             "#ed7953"
            ],
            [
             0.7777777777777778,
             "#fb9f3a"
            ],
            [
             0.8888888888888888,
             "#fdca26"
            ],
            [
             1,
             "#f0f921"
            ]
           ],
           "sequentialminus": [
            [
             0,
             "#0d0887"
            ],
            [
             0.1111111111111111,
             "#46039f"
            ],
            [
             0.2222222222222222,
             "#7201a8"
            ],
            [
             0.3333333333333333,
             "#9c179e"
            ],
            [
             0.4444444444444444,
             "#bd3786"
            ],
            [
             0.5555555555555556,
             "#d8576b"
            ],
            [
             0.6666666666666666,
             "#ed7953"
            ],
            [
             0.7777777777777778,
             "#fb9f3a"
            ],
            [
             0.8888888888888888,
             "#fdca26"
            ],
            [
             1,
             "#f0f921"
            ]
           ]
          },
          "colorway": [
           "#636efa",
           "#EF553B",
           "#00cc96",
           "#ab63fa",
           "#FFA15A",
           "#19d3f3",
           "#FF6692",
           "#B6E880",
           "#FF97FF",
           "#FECB52"
          ],
          "font": {
           "color": "#2a3f5f"
          },
          "geo": {
           "bgcolor": "white",
           "lakecolor": "white",
           "landcolor": "#E5ECF6",
           "showlakes": true,
           "showland": true,
           "subunitcolor": "white"
          },
          "hoverlabel": {
           "align": "left"
          },
          "hovermode": "closest",
          "mapbox": {
           "style": "light"
          },
          "paper_bgcolor": "white",
          "plot_bgcolor": "#E5ECF6",
          "polar": {
           "angularaxis": {
            "gridcolor": "white",
            "linecolor": "white",
            "ticks": ""
           },
           "bgcolor": "#E5ECF6",
           "radialaxis": {
            "gridcolor": "white",
            "linecolor": "white",
            "ticks": ""
           }
          },
          "scene": {
           "xaxis": {
            "backgroundcolor": "#E5ECF6",
            "gridcolor": "white",
            "gridwidth": 2,
            "linecolor": "white",
            "showbackground": true,
            "ticks": "",
            "zerolinecolor": "white"
           },
           "yaxis": {
            "backgroundcolor": "#E5ECF6",
            "gridcolor": "white",
            "gridwidth": 2,
            "linecolor": "white",
            "showbackground": true,
            "ticks": "",
            "zerolinecolor": "white"
           },
           "zaxis": {
            "backgroundcolor": "#E5ECF6",
            "gridcolor": "white",
            "gridwidth": 2,
            "linecolor": "white",
            "showbackground": true,
            "ticks": "",
            "zerolinecolor": "white"
           }
          },
          "shapedefaults": {
           "line": {
            "color": "#2a3f5f"
           }
          },
          "ternary": {
           "aaxis": {
            "gridcolor": "white",
            "linecolor": "white",
            "ticks": ""
           },
           "baxis": {
            "gridcolor": "white",
            "linecolor": "white",
            "ticks": ""
           },
           "bgcolor": "#E5ECF6",
           "caxis": {
            "gridcolor": "white",
            "linecolor": "white",
            "ticks": ""
           }
          },
          "title": {
           "x": 0.05
          },
          "xaxis": {
           "automargin": true,
           "gridcolor": "white",
           "linecolor": "white",
           "ticks": "",
           "title": {
            "standoff": 15
           },
           "zerolinecolor": "white",
           "zerolinewidth": 2
          },
          "yaxis": {
           "automargin": true,
           "gridcolor": "white",
           "linecolor": "white",
           "ticks": "",
           "title": {
            "standoff": 15
           },
           "zerolinecolor": "white",
           "zerolinewidth": 2
          }
         }
        }
       }
      },
      "text/html": [
       "<div>                            <div id=\"ce237ab9-522f-46e4-be37-c36f02560ff8\" class=\"plotly-graph-div\" style=\"height:525px; width:100%;\"></div>            <script type=\"text/javascript\">                require([\"plotly\"], function(Plotly) {                    window.PLOTLYENV=window.PLOTLYENV || {};                                    if (document.getElementById(\"ce237ab9-522f-46e4-be37-c36f02560ff8\")) {                    Plotly.newPlot(                        \"ce237ab9-522f-46e4-be37-c36f02560ff8\",                        [{\"mode\":\"lines\",\"name\":\"Close\",\"type\":\"scatter\",\"x\":[\"2020-01-02T00:00:00\",\"2020-01-03T00:00:00\",\"2020-01-06T00:00:00\",\"2020-01-07T00:00:00\",\"2020-01-08T00:00:00\",\"2020-01-09T00:00:00\",\"2020-01-10T00:00:00\",\"2020-01-13T00:00:00\",\"2020-01-14T00:00:00\",\"2020-01-15T00:00:00\",\"2020-01-16T00:00:00\",\"2020-01-17T00:00:00\",\"2020-01-21T00:00:00\",\"2020-01-22T00:00:00\",\"2020-01-23T00:00:00\",\"2020-01-24T00:00:00\",\"2020-01-27T00:00:00\",\"2020-01-28T00:00:00\",\"2020-01-29T00:00:00\",\"2020-01-30T00:00:00\",\"2020-01-31T00:00:00\",\"2020-02-03T00:00:00\",\"2020-02-04T00:00:00\",\"2020-02-05T00:00:00\",\"2020-02-06T00:00:00\",\"2020-02-07T00:00:00\",\"2020-02-10T00:00:00\",\"2020-02-11T00:00:00\",\"2020-02-12T00:00:00\",\"2020-02-13T00:00:00\",\"2020-02-14T00:00:00\",\"2020-02-18T00:00:00\",\"2020-02-19T00:00:00\",\"2020-02-20T00:00:00\",\"2020-02-21T00:00:00\",\"2020-02-24T00:00:00\",\"2020-02-25T00:00:00\",\"2020-02-26T00:00:00\",\"2020-02-27T00:00:00\",\"2020-02-28T00:00:00\",\"2020-03-02T00:00:00\",\"2020-03-03T00:00:00\",\"2020-03-04T00:00:00\",\"2020-03-05T00:00:00\",\"2020-03-06T00:00:00\",\"2020-03-09T00:00:00\",\"2020-03-10T00:00:00\",\"2020-03-11T00:00:00\",\"2020-03-12T00:00:00\",\"2020-03-13T00:00:00\",\"2020-03-16T00:00:00\",\"2020-03-17T00:00:00\",\"2020-03-18T00:00:00\",\"2020-03-19T00:00:00\",\"2020-03-20T00:00:00\",\"2020-03-23T00:00:00\",\"2020-03-24T00:00:00\",\"2020-03-25T00:00:00\",\"2020-03-26T00:00:00\",\"2020-03-27T00:00:00\",\"2020-03-30T00:00:00\",\"2020-03-31T00:00:00\",\"2020-04-01T00:00:00\",\"2020-04-02T00:00:00\",\"2020-04-03T00:00:00\",\"2020-04-06T00:00:00\",\"2020-04-07T00:00:00\",\"2020-04-08T00:00:00\",\"2020-04-09T00:00:00\",\"2020-04-13T00:00:00\",\"2020-04-14T00:00:00\",\"2020-04-15T00:00:00\",\"2020-04-16T00:00:00\",\"2020-04-17T00:00:00\",\"2020-04-20T00:00:00\",\"2020-04-21T00:00:00\",\"2020-04-22T00:00:00\",\"2020-04-23T00:00:00\",\"2020-04-24T00:00:00\",\"2020-04-27T00:00:00\",\"2020-04-28T00:00:00\",\"2020-04-29T00:00:00\",\"2020-04-30T00:00:00\",\"2020-05-01T00:00:00\",\"2020-05-04T00:00:00\",\"2020-05-05T00:00:00\",\"2020-05-06T00:00:00\",\"2020-05-07T00:00:00\",\"2020-05-08T00:00:00\",\"2020-05-11T00:00:00\",\"2020-05-12T00:00:00\",\"2020-05-13T00:00:00\",\"2020-05-14T00:00:00\",\"2020-05-15T00:00:00\",\"2020-05-18T00:00:00\",\"2020-05-19T00:00:00\",\"2020-05-20T00:00:00\",\"2020-05-21T00:00:00\",\"2020-05-22T00:00:00\",\"2020-05-26T00:00:00\",\"2020-05-27T00:00:00\",\"2020-05-28T00:00:00\",\"2020-05-29T00:00:00\",\"2020-06-01T00:00:00\",\"2020-06-02T00:00:00\",\"2020-06-03T00:00:00\",\"2020-06-04T00:00:00\",\"2020-06-05T00:00:00\",\"2020-06-08T00:00:00\",\"2020-06-09T00:00:00\",\"2020-06-10T00:00:00\",\"2020-06-11T00:00:00\",\"2020-06-12T00:00:00\",\"2020-06-15T00:00:00\",\"2020-06-16T00:00:00\",\"2020-06-17T00:00:00\",\"2020-06-18T00:00:00\",\"2020-06-19T00:00:00\",\"2020-06-22T00:00:00\",\"2020-06-23T00:00:00\",\"2020-06-24T00:00:00\",\"2020-06-25T00:00:00\",\"2020-06-26T00:00:00\",\"2020-06-29T00:00:00\",\"2020-06-30T00:00:00\",\"2020-07-01T00:00:00\",\"2020-07-02T00:00:00\",\"2020-07-06T00:00:00\",\"2020-07-07T00:00:00\",\"2020-07-08T00:00:00\",\"2020-07-09T00:00:00\",\"2020-07-10T00:00:00\",\"2020-07-13T00:00:00\",\"2020-07-14T00:00:00\",\"2020-07-15T00:00:00\",\"2020-07-16T00:00:00\",\"2020-07-17T00:00:00\",\"2020-07-20T00:00:00\",\"2020-07-21T00:00:00\",\"2020-07-22T00:00:00\",\"2020-07-23T00:00:00\",\"2020-07-24T00:00:00\",\"2020-07-27T00:00:00\",\"2020-07-28T00:00:00\",\"2020-07-29T00:00:00\",\"2020-07-30T00:00:00\",\"2020-07-31T00:00:00\",\"2020-08-03T00:00:00\",\"2020-08-04T00:00:00\",\"2020-08-05T00:00:00\",\"2020-08-06T00:00:00\",\"2020-08-07T00:00:00\",\"2020-08-10T00:00:00\",\"2020-08-11T00:00:00\",\"2020-08-12T00:00:00\",\"2020-08-13T00:00:00\",\"2020-08-14T00:00:00\",\"2020-08-17T00:00:00\",\"2020-08-18T00:00:00\",\"2020-08-19T00:00:00\",\"2020-08-20T00:00:00\",\"2020-08-21T00:00:00\",\"2020-08-24T00:00:00\",\"2020-08-25T00:00:00\",\"2020-08-26T00:00:00\",\"2020-08-27T00:00:00\",\"2020-08-28T00:00:00\",\"2020-08-31T00:00:00\",\"2020-09-01T00:00:00\",\"2020-09-02T00:00:00\",\"2020-09-03T00:00:00\",\"2020-09-04T00:00:00\",\"2020-09-08T00:00:00\",\"2020-09-09T00:00:00\",\"2020-09-10T00:00:00\",\"2020-09-11T00:00:00\",\"2020-09-14T00:00:00\",\"2020-09-15T00:00:00\",\"2020-09-16T00:00:00\",\"2020-09-17T00:00:00\",\"2020-09-18T00:00:00\",\"2020-09-21T00:00:00\",\"2020-09-22T00:00:00\",\"2020-09-23T00:00:00\",\"2020-09-24T00:00:00\",\"2020-09-25T00:00:00\",\"2020-09-28T00:00:00\",\"2020-09-29T00:00:00\",\"2020-09-30T00:00:00\",\"2020-10-01T00:00:00\",\"2020-10-02T00:00:00\",\"2020-10-05T00:00:00\",\"2020-10-06T00:00:00\",\"2020-10-07T00:00:00\",\"2020-10-08T00:00:00\",\"2020-10-09T00:00:00\",\"2020-10-12T00:00:00\",\"2020-10-13T00:00:00\",\"2020-10-14T00:00:00\",\"2020-10-15T00:00:00\",\"2020-10-16T00:00:00\",\"2020-10-19T00:00:00\",\"2020-10-20T00:00:00\",\"2020-10-21T00:00:00\",\"2020-10-22T00:00:00\",\"2020-10-23T00:00:00\",\"2020-10-26T00:00:00\",\"2020-10-27T00:00:00\",\"2020-10-28T00:00:00\",\"2020-10-29T00:00:00\",\"2020-10-30T00:00:00\",\"2020-11-02T00:00:00\",\"2020-11-03T00:00:00\",\"2020-11-04T00:00:00\",\"2020-11-05T00:00:00\",\"2020-11-06T00:00:00\",\"2020-11-09T00:00:00\",\"2020-11-10T00:00:00\",\"2020-11-11T00:00:00\",\"2020-11-12T00:00:00\",\"2020-11-13T00:00:00\",\"2020-11-16T00:00:00\",\"2020-11-17T00:00:00\",\"2020-11-18T00:00:00\",\"2020-11-19T00:00:00\",\"2020-11-20T00:00:00\",\"2020-11-23T00:00:00\",\"2020-11-24T00:00:00\",\"2020-11-25T00:00:00\",\"2020-11-27T00:00:00\",\"2020-11-30T00:00:00\",\"2020-12-01T00:00:00\",\"2020-12-02T00:00:00\",\"2020-12-03T00:00:00\",\"2020-12-04T00:00:00\",\"2020-12-07T00:00:00\",\"2020-12-08T00:00:00\",\"2020-12-09T00:00:00\",\"2020-12-10T00:00:00\",\"2020-12-11T00:00:00\",\"2020-12-14T00:00:00\",\"2020-12-15T00:00:00\",\"2020-12-16T00:00:00\",\"2020-12-17T00:00:00\",\"2020-12-18T00:00:00\",\"2020-12-21T00:00:00\",\"2020-12-22T00:00:00\",\"2020-12-23T00:00:00\",\"2020-12-24T00:00:00\",\"2020-12-28T00:00:00\",\"2020-12-29T00:00:00\",\"2020-12-30T00:00:00\",\"2020-12-31T00:00:00\"],\"y\":[148.1999969482422,146.5,145.64999389648438,145.6999969482422,145.39999389648438,144.8300018310547,144.6199951171875,143.8800048828125,145.1999969482422,144.32000732421875,145.1199951171875,144.3300018310547,143.55999755859375,144.00999450683594,142.1999969482422,140.0800018310547,135.89999389648438,138.3699951171875,136.05999755859375,137.80999755859375,138.30999755859375,141.32000732421875,144.72999572753906,141.3699951171875,142.6999969482422,141.02000427246094,142.58999633789062,141.00999450683594,141.85000610351562,140.89999389648438,139.5399932861328,139.13999938964844,141.3000030517578,140.3699951171875,138.97000122070312,133.00999450683594,128.19000244140625,123.36000061035156,118.04000091552734,117.6500015258789,119.9800033569336,116.44999694824219,119.18000030517578,113.9800033569336,115.2699966430664,104.3499984741211,111.45999908447266,105.51000213623047,91.80999755859375,102.5199966430664,95.01000213623047,93.52999877929688,88.80000305175781,94.93000030517578,85.9800033569336,85.76000213623047,98.12000274658203,100.7300033569336,105.36000061035156,96.4000015258789,99.80000305175781,96.5999984741211,94.91999816894531,96.97000122070312,93.87999725341797,99.58000183105469,101.23999786376953,101.06999969482422,104.5,103.5,106.02999877929688,103.37000274658203,102.0199966430664,106.62999725341797,102.26000213623047,100.54000091552734,100.98999786376953,101.0,101.19000244140625,106.05999755859375,106.20999908447266,112.25,108.1500015258789,105.5,103.18000030517578,101.05999755859375,100.87999725341797,105.56999969482422,109.16000366210938,107.7699966430664,104.55999755859375,102.91999816894531,105.91000366210938,109.05000305175781,116.8499984741211,114.37000274658203,119.91999816894531,117.83000183105469,118.0199966430664,120.94999694824219,121.52999877929688,116.75,117.30000305175781,118.7699966430664,118.75,122.18000030517578,123.69000244140625,124.81999969482422,127.27999877929688,123.88999938964844,122.18000030517578,112.63999938964844,115.48999786376953,117.08000183105469,118.44000244140625,117.6500015258789,118.37000274658203,114.3499984741211,115.91999816894531,116.58999633789062,112.06999969482422,111.36000061035156,109.0999984741211,111.5199966430664,111.51000213623047,113.01000213623047,112.18000030517578,114.43000030517578,113.62999725341797,116.66000366210938,116.80999755859375,119.33999633789062,116.22000122070312,118.66000366210938,120.9000015258789,119.43000030517578,118.6500015258789,117.79000091552734,118.62000274658203,119.02999877929688,118.12000274658203,117.61000061035156,116.30999755859375,116.18000030517578,115.61000061035156,115.66000366210938,116.94000244140625,116.3499984741211,117.29000091552734,127.61000061035156,130.82000732421875,129.92999267578125,128.7899932861328,130.49000549316406,131.7899932861328,130.9600067138672,130.52999877929688,129.3699951171875,128.9199981689453,127.7699966430664,128.1199951171875,127.44000244140625,130.69000244140625,129.7899932861328,132.17999267578125,133.72999572753906,135.5399932861328,131.8699951171875,133.5500030517578,135.38999938964844,133.24000549316406,131.99000549316406,134.1999969482422,133.36000061035156,133.22000122070312,131.75,131.25,131.24000549316406,132.08999633789062,130.22000122070312,128.6300048828125,125.41000366210938,127.20999908447266,123.27999877929688,122.48999786376953,124.0,125.98999786376953,125.4000015258789,124.08000183105469,123.30999755859375,122.55000305175781,123.37000274658203,120.93000030517578,122.91000366210938,123.08999633789062,124.9800033569336,124.97000122070312,128.9600067138672,126.58999633789062,127.36000061035156,126.80999755859375,124.2300033569336,124.94999694824219,126.62999725341797,127.55999755859375,128.35000610351562,124.05999755859375,123.30999755859375,118.47000122070312,121.54000091552734,121.25,120.12999725341797,124.0199966430664,125.06999969482422,126.95999908447266,127.45999908447266,142.58999633789062,142.11000061035156,137.82000732421875,135.52000427246094,138.36000061035156,144.6699981689453,144.5,143.89999389648438,141.72000122070312,141.07000732421875,145.97999572753906,151.49000549316406,149.08999633789062,147.1300048828125,148.00999450683594,149.44000244140625,153.61000061035156,153.24000549316406,154.13999938964844,153.67999267578125,153.72000122070312,154.42999267578125,154.69000244140625,175.72000122070312,169.3000030517578,173.94000244140625,173.1199951171875,173.5500030517578,172.88999938964844,170.69000244140625,170.4499969482422,173.5500030517578,173.72999572753906,178.86000061035156,177.3000030517578,181.1699981689453,181.17999267578125]},{\"mode\":\"lines\",\"name\":\"Open\",\"type\":\"scatter\",\"x\":[\"2020-01-02T00:00:00\",\"2020-01-03T00:00:00\",\"2020-01-06T00:00:00\",\"2020-01-07T00:00:00\",\"2020-01-08T00:00:00\",\"2020-01-09T00:00:00\",\"2020-01-10T00:00:00\",\"2020-01-13T00:00:00\",\"2020-01-14T00:00:00\",\"2020-01-15T00:00:00\",\"2020-01-16T00:00:00\",\"2020-01-17T00:00:00\",\"2020-01-21T00:00:00\",\"2020-01-22T00:00:00\",\"2020-01-23T00:00:00\",\"2020-01-24T00:00:00\",\"2020-01-27T00:00:00\",\"2020-01-28T00:00:00\",\"2020-01-29T00:00:00\",\"2020-01-30T00:00:00\",\"2020-01-31T00:00:00\",\"2020-02-03T00:00:00\",\"2020-02-04T00:00:00\",\"2020-02-05T00:00:00\",\"2020-02-06T00:00:00\",\"2020-02-07T00:00:00\",\"2020-02-10T00:00:00\",\"2020-02-11T00:00:00\",\"2020-02-12T00:00:00\",\"2020-02-13T00:00:00\",\"2020-02-14T00:00:00\",\"2020-02-18T00:00:00\",\"2020-02-19T00:00:00\",\"2020-02-20T00:00:00\",\"2020-02-21T00:00:00\",\"2020-02-24T00:00:00\",\"2020-02-25T00:00:00\",\"2020-02-26T00:00:00\",\"2020-02-27T00:00:00\",\"2020-02-28T00:00:00\",\"2020-03-02T00:00:00\",\"2020-03-03T00:00:00\",\"2020-03-04T00:00:00\",\"2020-03-05T00:00:00\",\"2020-03-06T00:00:00\",\"2020-03-09T00:00:00\",\"2020-03-10T00:00:00\",\"2020-03-11T00:00:00\",\"2020-03-12T00:00:00\",\"2020-03-13T00:00:00\",\"2020-03-16T00:00:00\",\"2020-03-17T00:00:00\",\"2020-03-18T00:00:00\",\"2020-03-19T00:00:00\",\"2020-03-20T00:00:00\",\"2020-03-23T00:00:00\",\"2020-03-24T00:00:00\",\"2020-03-25T00:00:00\",\"2020-03-26T00:00:00\",\"2020-03-27T00:00:00\",\"2020-03-30T00:00:00\",\"2020-03-31T00:00:00\",\"2020-04-01T00:00:00\",\"2020-04-02T00:00:00\",\"2020-04-03T00:00:00\",\"2020-04-06T00:00:00\",\"2020-04-07T00:00:00\",\"2020-04-08T00:00:00\",\"2020-04-09T00:00:00\",\"2020-04-13T00:00:00\",\"2020-04-14T00:00:00\",\"2020-04-15T00:00:00\",\"2020-04-16T00:00:00\",\"2020-04-17T00:00:00\",\"2020-04-20T00:00:00\",\"2020-04-21T00:00:00\",\"2020-04-22T00:00:00\",\"2020-04-23T00:00:00\",\"2020-04-24T00:00:00\",\"2020-04-27T00:00:00\",\"2020-04-28T00:00:00\",\"2020-04-29T00:00:00\",\"2020-04-30T00:00:00\",\"2020-05-01T00:00:00\",\"2020-05-04T00:00:00\",\"2020-05-05T00:00:00\",\"2020-05-06T00:00:00\",\"2020-05-07T00:00:00\",\"2020-05-08T00:00:00\",\"2020-05-11T00:00:00\",\"2020-05-12T00:00:00\",\"2020-05-13T00:00:00\",\"2020-05-14T00:00:00\",\"2020-05-15T00:00:00\",\"2020-05-18T00:00:00\",\"2020-05-19T00:00:00\",\"2020-05-20T00:00:00\",\"2020-05-21T00:00:00\",\"2020-05-22T00:00:00\",\"2020-05-26T00:00:00\",\"2020-05-27T00:00:00\",\"2020-05-28T00:00:00\",\"2020-05-29T00:00:00\",\"2020-06-01T00:00:00\",\"2020-06-02T00:00:00\",\"2020-06-03T00:00:00\",\"2020-06-04T00:00:00\",\"2020-06-05T00:00:00\",\"2020-06-08T00:00:00\",\"2020-06-09T00:00:00\",\"2020-06-10T00:00:00\",\"2020-06-11T00:00:00\",\"2020-06-12T00:00:00\",\"2020-06-15T00:00:00\",\"2020-06-16T00:00:00\",\"2020-06-17T00:00:00\",\"2020-06-18T00:00:00\",\"2020-06-19T00:00:00\",\"2020-06-22T00:00:00\",\"2020-06-23T00:00:00\",\"2020-06-24T00:00:00\",\"2020-06-25T00:00:00\",\"2020-06-26T00:00:00\",\"2020-06-29T00:00:00\",\"2020-06-30T00:00:00\",\"2020-07-01T00:00:00\",\"2020-07-02T00:00:00\",\"2020-07-06T00:00:00\",\"2020-07-07T00:00:00\",\"2020-07-08T00:00:00\",\"2020-07-09T00:00:00\",\"2020-07-10T00:00:00\",\"2020-07-13T00:00:00\",\"2020-07-14T00:00:00\",\"2020-07-15T00:00:00\",\"2020-07-16T00:00:00\",\"2020-07-17T00:00:00\",\"2020-07-20T00:00:00\",\"2020-07-21T00:00:00\",\"2020-07-22T00:00:00\",\"2020-07-23T00:00:00\",\"2020-07-24T00:00:00\",\"2020-07-27T00:00:00\",\"2020-07-28T00:00:00\",\"2020-07-29T00:00:00\",\"2020-07-30T00:00:00\",\"2020-07-31T00:00:00\",\"2020-08-03T00:00:00\",\"2020-08-04T00:00:00\",\"2020-08-05T00:00:00\",\"2020-08-06T00:00:00\",\"2020-08-07T00:00:00\",\"2020-08-10T00:00:00\",\"2020-08-11T00:00:00\",\"2020-08-12T00:00:00\",\"2020-08-13T00:00:00\",\"2020-08-14T00:00:00\",\"2020-08-17T00:00:00\",\"2020-08-18T00:00:00\",\"2020-08-19T00:00:00\",\"2020-08-20T00:00:00\",\"2020-08-21T00:00:00\",\"2020-08-24T00:00:00\",\"2020-08-25T00:00:00\",\"2020-08-26T00:00:00\",\"2020-08-27T00:00:00\",\"2020-08-28T00:00:00\",\"2020-08-31T00:00:00\",\"2020-09-01T00:00:00\",\"2020-09-02T00:00:00\",\"2020-09-03T00:00:00\",\"2020-09-04T00:00:00\",\"2020-09-08T00:00:00\",\"2020-09-09T00:00:00\",\"2020-09-10T00:00:00\",\"2020-09-11T00:00:00\",\"2020-09-14T00:00:00\",\"2020-09-15T00:00:00\",\"2020-09-16T00:00:00\",\"2020-09-17T00:00:00\",\"2020-09-18T00:00:00\",\"2020-09-21T00:00:00\",\"2020-09-22T00:00:00\",\"2020-09-23T00:00:00\",\"2020-09-24T00:00:00\",\"2020-09-25T00:00:00\",\"2020-09-28T00:00:00\",\"2020-09-29T00:00:00\",\"2020-09-30T00:00:00\",\"2020-10-01T00:00:00\",\"2020-10-02T00:00:00\",\"2020-10-05T00:00:00\",\"2020-10-06T00:00:00\",\"2020-10-07T00:00:00\",\"2020-10-08T00:00:00\",\"2020-10-09T00:00:00\",\"2020-10-12T00:00:00\",\"2020-10-13T00:00:00\",\"2020-10-14T00:00:00\",\"2020-10-15T00:00:00\",\"2020-10-16T00:00:00\",\"2020-10-19T00:00:00\",\"2020-10-20T00:00:00\",\"2020-10-21T00:00:00\",\"2020-10-22T00:00:00\",\"2020-10-23T00:00:00\",\"2020-10-26T00:00:00\",\"2020-10-27T00:00:00\",\"2020-10-28T00:00:00\",\"2020-10-29T00:00:00\",\"2020-10-30T00:00:00\",\"2020-11-02T00:00:00\",\"2020-11-03T00:00:00\",\"2020-11-04T00:00:00\",\"2020-11-05T00:00:00\",\"2020-11-06T00:00:00\",\"2020-11-09T00:00:00\",\"2020-11-10T00:00:00\",\"2020-11-11T00:00:00\",\"2020-11-12T00:00:00\",\"2020-11-13T00:00:00\",\"2020-11-16T00:00:00\",\"2020-11-17T00:00:00\",\"2020-11-18T00:00:00\",\"2020-11-19T00:00:00\",\"2020-11-20T00:00:00\",\"2020-11-23T00:00:00\",\"2020-11-24T00:00:00\",\"2020-11-25T00:00:00\",\"2020-11-27T00:00:00\",\"2020-11-30T00:00:00\",\"2020-12-01T00:00:00\",\"2020-12-02T00:00:00\",\"2020-12-03T00:00:00\",\"2020-12-04T00:00:00\",\"2020-12-07T00:00:00\",\"2020-12-08T00:00:00\",\"2020-12-09T00:00:00\",\"2020-12-10T00:00:00\",\"2020-12-11T00:00:00\",\"2020-12-14T00:00:00\",\"2020-12-15T00:00:00\",\"2020-12-16T00:00:00\",\"2020-12-17T00:00:00\",\"2020-12-18T00:00:00\",\"2020-12-21T00:00:00\",\"2020-12-22T00:00:00\",\"2020-12-23T00:00:00\",\"2020-12-24T00:00:00\",\"2020-12-28T00:00:00\",\"2020-12-29T00:00:00\",\"2020-12-30T00:00:00\",\"2020-12-31T00:00:00\"],\"y\":[145.2899932861328,146.39999389648438,145.5399932861328,145.99000549316406,145.49000549316406,146.47000122070312,145.3000030517578,144.75,143.41000366210938,145.7100067138672,145.08999633789062,145.5399932861328,144.24000549316406,144.4499969482422,143.60000610351562,141.39999389648438,135.86000061035156,136.5,138.60000610351562,135.08999633789062,138.39999389648438,139.7899932861328,145.49000549316406,146.60000610351562,141.9199981689453,141.88999938964844,141.02999877929688,142.85000610351562,141.33999633789062,141.1699981689453,141.10000610351562,139.02000427246094,139.6300048828125,141.6300048828125,139.86000061035156,132.89999389648438,133.75,126.12000274658203,119.80999755859375,114.51000213623047,119.12999725341797,121.1500015258789,118.95999908447266,116.86000061035156,110.76000213623047,108.69000244140625,108.0999984741211,108.41999816894531,97.62000274658203,100.77999877929688,91.80000305175781,95.80000305175781,87.58999633789062,88.0,95.98999786376953,84.48999786376953,92.33000183105469,100.66000366210938,100.83000183105469,100.44999694824219,96.0,100.22000122070312,93.5,94.19999694824219,96.30999755859375,97.26000213623047,104.86000061035156,100.52999877929688,107.91999816894531,104.70999908447266,105.5,104.38999938964844,103.52999877929688,106.20999908447266,103.58000183105469,100.01000213623047,101.80000305175781,100.6500015258789,101.77999877929688,102.0,108.79000091552734,109.94000244140625,109.44000244140625,106.36000061035156,102.01000213623047,101.51000213623047,101.4800033569336,101.8499984741211,109.05000305175781,108.4000015258789,109.05999755859375,104.5,101.9800033569336,104.9800033569336,114.47000122070312,115.0999984741211,116.41999816894531,119.33999633789062,117.5,121.05000305175781,123.68000030517578,121.5999984741211,116.19000244140625,117.26000213623047,119.0,119.98999786376953,121.94999694824219,126.30999755859375,125.0999984741211,125.62999725341797,124.0199966430664,117.5999984741211,115.16999816894531,112.08000183105469,121.23999786376953,118.63999938964844,116.87999725341797,119.9800033569336,114.19000244140625,116.95999908447266,115.8499984741211,108.98999786376953,110.94999694824219,109.0,111.5,112.81999969482422,115.0,113.83000183105469,113.62999725341797,113.4800033569336,116.51000213623047,116.83000183105469,119.94000244140625,115.2300033569336,121.62999725341797,117.72000122070312,118.9000015258789,118.05000305175781,118.05000305175781,118.19000244140625,118.86000061035156,115.69999694824219,117.19999694824219,115.45999908447266,116.22000122070312,114.91000366210938,115.22000122070312,116.16999816894531,115.95999908447266,123.37000274658203,126.95999908447266,130.22000122070312,129.75,130.52999877929688,130.6699981689453,130.63999938964844,130.00999450683594,130.10000610351562,129.44000244140625,129.25,126.80000305175781,127.72000122070312,128.14999389648438,130.8300018310547,130.0,133.0,134.5,135.25,131.9199981689453,133.6300048828125,135.24000549316406,133.75,131.99000549316406,134.27999877929688,133.5800018310547,133.74000549316406,132.52999877929688,131.4600067138672,132.1699981689453,130.5500030517578,129.5,125.9800033569336,125.26000213623047,127.06999969482422,121.93000030517578,121.36000061035156,125.75,125.91999816894531,123.23999786376953,124.94000244140625,121.98999786376953,123.26000213623047,123.12999725341797,121.94999694824219,123.58000183105469,123.8499984741211,124.9000015258789,129.8000030517578,129.13999938964844,125.0,127.80999755859375,127.37000274658203,124.58000183105469,124.36000061035156,126.66999816894531,128.10000610351562,127.11000061035156,124.02999877929688,121.01000213623047,118.16000366210938,120.63999938964844,122.23999786376953,121.61000061035156,123.58000183105469,126.77999877929688,126.26000213623047,140.25999450683594,139.97000122070312,141.47000122070312,136.33999633789062,140.89999389648438,141.57000732421875,144.39999389648438,144.5,142.57000732421875,141.7100067138672,142.4499969482422,148.16000366210938,150.27000427246094,149.0,147.05999755859375,149.57000732421875,149.49000549316406,153.4499969482422,153.69000244140625,153.17999267578125,152.4199981689453,156.2899932861328,153.32000732421875,169.67999267578125,173.8000030517578,170.49000549316406,173.99000549316406,173.82000732421875,173.60000610351562,170.08999633789062,170.0,172.9600067138672,173.99000549316406,175.75,180.00999450683594,178.5,181.22000122070312]}],                        {\"template\":{\"data\":{\"bar\":[{\"error_x\":{\"color\":\"#2a3f5f\"},\"error_y\":{\"color\":\"#2a3f5f\"},\"marker\":{\"line\":{\"color\":\"#E5ECF6\",\"width\":0.5},\"pattern\":{\"fillmode\":\"overlay\",\"size\":10,\"solidity\":0.2}},\"type\":\"bar\"}],\"barpolar\":[{\"marker\":{\"line\":{\"color\":\"#E5ECF6\",\"width\":0.5},\"pattern\":{\"fillmode\":\"overlay\",\"size\":10,\"solidity\":0.2}},\"type\":\"barpolar\"}],\"carpet\":[{\"aaxis\":{\"endlinecolor\":\"#2a3f5f\",\"gridcolor\":\"white\",\"linecolor\":\"white\",\"minorgridcolor\":\"white\",\"startlinecolor\":\"#2a3f5f\"},\"baxis\":{\"endlinecolor\":\"#2a3f5f\",\"gridcolor\":\"white\",\"linecolor\":\"white\",\"minorgridcolor\":\"white\",\"startlinecolor\":\"#2a3f5f\"},\"type\":\"carpet\"}],\"choropleth\":[{\"colorbar\":{\"outlinewidth\":0,\"ticks\":\"\"},\"type\":\"choropleth\"}],\"contour\":[{\"colorbar\":{\"outlinewidth\":0,\"ticks\":\"\"},\"colorscale\":[[0.0,\"#0d0887\"],[0.1111111111111111,\"#46039f\"],[0.2222222222222222,\"#7201a8\"],[0.3333333333333333,\"#9c179e\"],[0.4444444444444444,\"#bd3786\"],[0.5555555555555556,\"#d8576b\"],[0.6666666666666666,\"#ed7953\"],[0.7777777777777778,\"#fb9f3a\"],[0.8888888888888888,\"#fdca26\"],[1.0,\"#f0f921\"]],\"type\":\"contour\"}],\"contourcarpet\":[{\"colorbar\":{\"outlinewidth\":0,\"ticks\":\"\"},\"type\":\"contourcarpet\"}],\"heatmap\":[{\"colorbar\":{\"outlinewidth\":0,\"ticks\":\"\"},\"colorscale\":[[0.0,\"#0d0887\"],[0.1111111111111111,\"#46039f\"],[0.2222222222222222,\"#7201a8\"],[0.3333333333333333,\"#9c179e\"],[0.4444444444444444,\"#bd3786\"],[0.5555555555555556,\"#d8576b\"],[0.6666666666666666,\"#ed7953\"],[0.7777777777777778,\"#fb9f3a\"],[0.8888888888888888,\"#fdca26\"],[1.0,\"#f0f921\"]],\"type\":\"heatmap\"}],\"heatmapgl\":[{\"colorbar\":{\"outlinewidth\":0,\"ticks\":\"\"},\"colorscale\":[[0.0,\"#0d0887\"],[0.1111111111111111,\"#46039f\"],[0.2222222222222222,\"#7201a8\"],[0.3333333333333333,\"#9c179e\"],[0.4444444444444444,\"#bd3786\"],[0.5555555555555556,\"#d8576b\"],[0.6666666666666666,\"#ed7953\"],[0.7777777777777778,\"#fb9f3a\"],[0.8888888888888888,\"#fdca26\"],[1.0,\"#f0f921\"]],\"type\":\"heatmapgl\"}],\"histogram\":[{\"marker\":{\"pattern\":{\"fillmode\":\"overlay\",\"size\":10,\"solidity\":0.2}},\"type\":\"histogram\"}],\"histogram2d\":[{\"colorbar\":{\"outlinewidth\":0,\"ticks\":\"\"},\"colorscale\":[[0.0,\"#0d0887\"],[0.1111111111111111,\"#46039f\"],[0.2222222222222222,\"#7201a8\"],[0.3333333333333333,\"#9c179e\"],[0.4444444444444444,\"#bd3786\"],[0.5555555555555556,\"#d8576b\"],[0.6666666666666666,\"#ed7953\"],[0.7777777777777778,\"#fb9f3a\"],[0.8888888888888888,\"#fdca26\"],[1.0,\"#f0f921\"]],\"type\":\"histogram2d\"}],\"histogram2dcontour\":[{\"colorbar\":{\"outlinewidth\":0,\"ticks\":\"\"},\"colorscale\":[[0.0,\"#0d0887\"],[0.1111111111111111,\"#46039f\"],[0.2222222222222222,\"#7201a8\"],[0.3333333333333333,\"#9c179e\"],[0.4444444444444444,\"#bd3786\"],[0.5555555555555556,\"#d8576b\"],[0.6666666666666666,\"#ed7953\"],[0.7777777777777778,\"#fb9f3a\"],[0.8888888888888888,\"#fdca26\"],[1.0,\"#f0f921\"]],\"type\":\"histogram2dcontour\"}],\"mesh3d\":[{\"colorbar\":{\"outlinewidth\":0,\"ticks\":\"\"},\"type\":\"mesh3d\"}],\"parcoords\":[{\"line\":{\"colorbar\":{\"outlinewidth\":0,\"ticks\":\"\"}},\"type\":\"parcoords\"}],\"pie\":[{\"automargin\":true,\"type\":\"pie\"}],\"scatter\":[{\"marker\":{\"colorbar\":{\"outlinewidth\":0,\"ticks\":\"\"}},\"type\":\"scatter\"}],\"scatter3d\":[{\"line\":{\"colorbar\":{\"outlinewidth\":0,\"ticks\":\"\"}},\"marker\":{\"colorbar\":{\"outlinewidth\":0,\"ticks\":\"\"}},\"type\":\"scatter3d\"}],\"scattercarpet\":[{\"marker\":{\"colorbar\":{\"outlinewidth\":0,\"ticks\":\"\"}},\"type\":\"scattercarpet\"}],\"scattergeo\":[{\"marker\":{\"colorbar\":{\"outlinewidth\":0,\"ticks\":\"\"}},\"type\":\"scattergeo\"}],\"scattergl\":[{\"marker\":{\"colorbar\":{\"outlinewidth\":0,\"ticks\":\"\"}},\"type\":\"scattergl\"}],\"scattermapbox\":[{\"marker\":{\"colorbar\":{\"outlinewidth\":0,\"ticks\":\"\"}},\"type\":\"scattermapbox\"}],\"scatterpolar\":[{\"marker\":{\"colorbar\":{\"outlinewidth\":0,\"ticks\":\"\"}},\"type\":\"scatterpolar\"}],\"scatterpolargl\":[{\"marker\":{\"colorbar\":{\"outlinewidth\":0,\"ticks\":\"\"}},\"type\":\"scatterpolargl\"}],\"scatterternary\":[{\"marker\":{\"colorbar\":{\"outlinewidth\":0,\"ticks\":\"\"}},\"type\":\"scatterternary\"}],\"surface\":[{\"colorbar\":{\"outlinewidth\":0,\"ticks\":\"\"},\"colorscale\":[[0.0,\"#0d0887\"],[0.1111111111111111,\"#46039f\"],[0.2222222222222222,\"#7201a8\"],[0.3333333333333333,\"#9c179e\"],[0.4444444444444444,\"#bd3786\"],[0.5555555555555556,\"#d8576b\"],[0.6666666666666666,\"#ed7953\"],[0.7777777777777778,\"#fb9f3a\"],[0.8888888888888888,\"#fdca26\"],[1.0,\"#f0f921\"]],\"type\":\"surface\"}],\"table\":[{\"cells\":{\"fill\":{\"color\":\"#EBF0F8\"},\"line\":{\"color\":\"white\"}},\"header\":{\"fill\":{\"color\":\"#C8D4E3\"},\"line\":{\"color\":\"white\"}},\"type\":\"table\"}]},\"layout\":{\"annotationdefaults\":{\"arrowcolor\":\"#2a3f5f\",\"arrowhead\":0,\"arrowwidth\":1},\"autotypenumbers\":\"strict\",\"coloraxis\":{\"colorbar\":{\"outlinewidth\":0,\"ticks\":\"\"}},\"colorscale\":{\"diverging\":[[0,\"#8e0152\"],[0.1,\"#c51b7d\"],[0.2,\"#de77ae\"],[0.3,\"#f1b6da\"],[0.4,\"#fde0ef\"],[0.5,\"#f7f7f7\"],[0.6,\"#e6f5d0\"],[0.7,\"#b8e186\"],[0.8,\"#7fbc41\"],[0.9,\"#4d9221\"],[1,\"#276419\"]],\"sequential\":[[0.0,\"#0d0887\"],[0.1111111111111111,\"#46039f\"],[0.2222222222222222,\"#7201a8\"],[0.3333333333333333,\"#9c179e\"],[0.4444444444444444,\"#bd3786\"],[0.5555555555555556,\"#d8576b\"],[0.6666666666666666,\"#ed7953\"],[0.7777777777777778,\"#fb9f3a\"],[0.8888888888888888,\"#fdca26\"],[1.0,\"#f0f921\"]],\"sequentialminus\":[[0.0,\"#0d0887\"],[0.1111111111111111,\"#46039f\"],[0.2222222222222222,\"#7201a8\"],[0.3333333333333333,\"#9c179e\"],[0.4444444444444444,\"#bd3786\"],[0.5555555555555556,\"#d8576b\"],[0.6666666666666666,\"#ed7953\"],[0.7777777777777778,\"#fb9f3a\"],[0.8888888888888888,\"#fdca26\"],[1.0,\"#f0f921\"]]},\"colorway\":[\"#636efa\",\"#EF553B\",\"#00cc96\",\"#ab63fa\",\"#FFA15A\",\"#19d3f3\",\"#FF6692\",\"#B6E880\",\"#FF97FF\",\"#FECB52\"],\"font\":{\"color\":\"#2a3f5f\"},\"geo\":{\"bgcolor\":\"white\",\"lakecolor\":\"white\",\"landcolor\":\"#E5ECF6\",\"showlakes\":true,\"showland\":true,\"subunitcolor\":\"white\"},\"hoverlabel\":{\"align\":\"left\"},\"hovermode\":\"closest\",\"mapbox\":{\"style\":\"light\"},\"paper_bgcolor\":\"white\",\"plot_bgcolor\":\"#E5ECF6\",\"polar\":{\"angularaxis\":{\"gridcolor\":\"white\",\"linecolor\":\"white\",\"ticks\":\"\"},\"bgcolor\":\"#E5ECF6\",\"radialaxis\":{\"gridcolor\":\"white\",\"linecolor\":\"white\",\"ticks\":\"\"}},\"scene\":{\"xaxis\":{\"backgroundcolor\":\"#E5ECF6\",\"gridcolor\":\"white\",\"gridwidth\":2,\"linecolor\":\"white\",\"showbackground\":true,\"ticks\":\"\",\"zerolinecolor\":\"white\"},\"yaxis\":{\"backgroundcolor\":\"#E5ECF6\",\"gridcolor\":\"white\",\"gridwidth\":2,\"linecolor\":\"white\",\"showbackground\":true,\"ticks\":\"\",\"zerolinecolor\":\"white\"},\"zaxis\":{\"backgroundcolor\":\"#E5ECF6\",\"gridcolor\":\"white\",\"gridwidth\":2,\"linecolor\":\"white\",\"showbackground\":true,\"ticks\":\"\",\"zerolinecolor\":\"white\"}},\"shapedefaults\":{\"line\":{\"color\":\"#2a3f5f\"}},\"ternary\":{\"aaxis\":{\"gridcolor\":\"white\",\"linecolor\":\"white\",\"ticks\":\"\"},\"baxis\":{\"gridcolor\":\"white\",\"linecolor\":\"white\",\"ticks\":\"\"},\"bgcolor\":\"#E5ECF6\",\"caxis\":{\"gridcolor\":\"white\",\"linecolor\":\"white\",\"ticks\":\"\"}},\"title\":{\"x\":0.05},\"xaxis\":{\"automargin\":true,\"gridcolor\":\"white\",\"linecolor\":\"white\",\"ticks\":\"\",\"title\":{\"standoff\":15},\"zerolinecolor\":\"white\",\"zerolinewidth\":2},\"yaxis\":{\"automargin\":true,\"gridcolor\":\"white\",\"linecolor\":\"white\",\"ticks\":\"\",\"title\":{\"standoff\":15},\"zerolinecolor\":\"white\",\"zerolinewidth\":2}}}},                        {\"responsive\": true}                    ).then(function(){\n",
       "                            \n",
       "var gd = document.getElementById('ce237ab9-522f-46e4-be37-c36f02560ff8');\n",
       "var x = new MutationObserver(function (mutations, observer) {{\n",
       "        var display = window.getComputedStyle(gd).display;\n",
       "        if (!display || display === 'none') {{\n",
       "            console.log([gd, 'removed!']);\n",
       "            Plotly.purge(gd);\n",
       "            observer.disconnect();\n",
       "        }}\n",
       "}});\n",
       "\n",
       "// Listen for the removal of the full notebook cells\n",
       "var notebookContainer = gd.closest('#notebook-container');\n",
       "if (notebookContainer) {{\n",
       "    x.observe(notebookContainer, {childList: true});\n",
       "}}\n",
       "\n",
       "// Listen for the clearing of the current output cell\n",
       "var outputEl = gd.closest('.output');\n",
       "if (outputEl) {{\n",
       "    x.observe(outputEl, {childList: true});\n",
       "}}\n",
       "\n",
       "                        })                };                });            </script>        </div>"
      ]
     },
     "metadata": {},
     "output_type": "display_data"
    }
   ],
   "source": [
    "#you can either input data objects created in cell above or directly write go.Scatter() function inside \n",
    "fig_close_open=go.Figure()\n",
    "\n",
    "fig_close_open.add_trace(go.Scatter(x=data_dis.index, y=data_dis.Close,\n",
    "                   mode='lines', name='Close'))\n",
    "\n",
    "fig_close_open.add_trace(go.Scatter(x=data_dis.index, y=data_dis.Open,\n",
    "                   mode='lines', name='Open'))\n",
    "\n",
    "fig_close_open.show()"
   ]
  },
  {
   "cell_type": "code",
   "execution_count": 173,
   "id": "c8e58980",
   "metadata": {},
   "outputs": [
    {
     "data": {
      "application/vnd.plotly.v1+json": {
       "config": {
        "plotlyServerURL": "https://plot.ly"
       },
       "data": [
        {
         "close": [
          148.1999969482422,
          146.5,
          145.64999389648438,
          145.6999969482422,
          145.39999389648438,
          144.8300018310547,
          144.6199951171875,
          143.8800048828125,
          145.1999969482422,
          144.32000732421875,
          145.1199951171875,
          144.3300018310547,
          143.55999755859375,
          144.00999450683594,
          142.1999969482422,
          140.0800018310547,
          135.89999389648438,
          138.3699951171875,
          136.05999755859375,
          137.80999755859375,
          138.30999755859375,
          141.32000732421875,
          144.72999572753906,
          141.3699951171875,
          142.6999969482422,
          141.02000427246094,
          142.58999633789062,
          141.00999450683594,
          141.85000610351562,
          140.89999389648438,
          139.5399932861328,
          139.13999938964844,
          141.3000030517578,
          140.3699951171875,
          138.97000122070312,
          133.00999450683594,
          128.19000244140625,
          123.36000061035156,
          118.04000091552734,
          117.6500015258789,
          119.9800033569336,
          116.44999694824219,
          119.18000030517578,
          113.9800033569336,
          115.2699966430664,
          104.3499984741211,
          111.45999908447266,
          105.51000213623047,
          91.80999755859375,
          102.5199966430664,
          95.01000213623047,
          93.52999877929688,
          88.80000305175781,
          94.93000030517578,
          85.9800033569336,
          85.76000213623047,
          98.12000274658203,
          100.7300033569336,
          105.36000061035156,
          96.4000015258789,
          99.80000305175781,
          96.5999984741211,
          94.91999816894531,
          96.97000122070312,
          93.87999725341797,
          99.58000183105469,
          101.23999786376953,
          101.06999969482422,
          104.5,
          103.5,
          106.02999877929688,
          103.37000274658203,
          102.0199966430664,
          106.62999725341797,
          102.26000213623047,
          100.54000091552734,
          100.98999786376953,
          101,
          101.19000244140625,
          106.05999755859375,
          106.20999908447266,
          112.25,
          108.1500015258789,
          105.5,
          103.18000030517578,
          101.05999755859375,
          100.87999725341797,
          105.56999969482422,
          109.16000366210938,
          107.7699966430664,
          104.55999755859375,
          102.91999816894531,
          105.91000366210938,
          109.05000305175781,
          116.8499984741211,
          114.37000274658203,
          119.91999816894531,
          117.83000183105469,
          118.0199966430664,
          120.94999694824219,
          121.52999877929688,
          116.75,
          117.30000305175781,
          118.7699966430664,
          118.75,
          122.18000030517578,
          123.69000244140625,
          124.81999969482422,
          127.27999877929688,
          123.88999938964844,
          122.18000030517578,
          112.63999938964844,
          115.48999786376953,
          117.08000183105469,
          118.44000244140625,
          117.6500015258789,
          118.37000274658203,
          114.3499984741211,
          115.91999816894531,
          116.58999633789062,
          112.06999969482422,
          111.36000061035156,
          109.0999984741211,
          111.5199966430664,
          111.51000213623047,
          113.01000213623047,
          112.18000030517578,
          114.43000030517578,
          113.62999725341797,
          116.66000366210938,
          116.80999755859375,
          119.33999633789062,
          116.22000122070312,
          118.66000366210938,
          120.9000015258789,
          119.43000030517578,
          118.6500015258789,
          117.79000091552734,
          118.62000274658203,
          119.02999877929688,
          118.12000274658203,
          117.61000061035156,
          116.30999755859375,
          116.18000030517578,
          115.61000061035156,
          115.66000366210938,
          116.94000244140625,
          116.3499984741211,
          117.29000091552734,
          127.61000061035156,
          130.82000732421875,
          129.92999267578125,
          128.7899932861328,
          130.49000549316406,
          131.7899932861328,
          130.9600067138672,
          130.52999877929688,
          129.3699951171875,
          128.9199981689453,
          127.7699966430664,
          128.1199951171875,
          127.44000244140625,
          130.69000244140625,
          129.7899932861328,
          132.17999267578125,
          133.72999572753906,
          135.5399932861328,
          131.8699951171875,
          133.5500030517578,
          135.38999938964844,
          133.24000549316406,
          131.99000549316406,
          134.1999969482422,
          133.36000061035156,
          133.22000122070312,
          131.75,
          131.25,
          131.24000549316406,
          132.08999633789062,
          130.22000122070312,
          128.6300048828125,
          125.41000366210938,
          127.20999908447266,
          123.27999877929688,
          122.48999786376953,
          124,
          125.98999786376953,
          125.4000015258789,
          124.08000183105469,
          123.30999755859375,
          122.55000305175781,
          123.37000274658203,
          120.93000030517578,
          122.91000366210938,
          123.08999633789062,
          124.9800033569336,
          124.97000122070312,
          128.9600067138672,
          126.58999633789062,
          127.36000061035156,
          126.80999755859375,
          124.2300033569336,
          124.94999694824219,
          126.62999725341797,
          127.55999755859375,
          128.35000610351562,
          124.05999755859375,
          123.30999755859375,
          118.47000122070312,
          121.54000091552734,
          121.25,
          120.12999725341797,
          124.0199966430664,
          125.06999969482422,
          126.95999908447266,
          127.45999908447266,
          142.58999633789062,
          142.11000061035156,
          137.82000732421875,
          135.52000427246094,
          138.36000061035156,
          144.6699981689453,
          144.5,
          143.89999389648438,
          141.72000122070312,
          141.07000732421875,
          145.97999572753906,
          151.49000549316406,
          149.08999633789062,
          147.1300048828125,
          148.00999450683594,
          149.44000244140625,
          153.61000061035156,
          153.24000549316406,
          154.13999938964844,
          153.67999267578125,
          153.72000122070312,
          154.42999267578125,
          154.69000244140625,
          175.72000122070312,
          169.3000030517578,
          173.94000244140625,
          173.1199951171875,
          173.5500030517578,
          172.88999938964844,
          170.69000244140625,
          170.4499969482422,
          173.5500030517578,
          173.72999572753906,
          178.86000061035156,
          177.3000030517578,
          181.1699981689453,
          181.17999267578125
         ],
         "high": [
          148.1999969482422,
          147.89999389648438,
          146.02999877929688,
          146.8699951171875,
          146.1300048828125,
          146.6300048828125,
          145.5,
          144.75,
          146.72000122070312,
          145.7100067138672,
          145.42999267578125,
          145.63999938964844,
          144.58999633789062,
          144.7899932861328,
          143.61000061035156,
          142.25,
          137.72999572753906,
          138.92999267578125,
          138.67999267578125,
          137.85000610351562,
          138.6699981689453,
          141.82000732421875,
          145.58999633789062,
          147.3000030517578,
          143.9499969482422,
          141.99000549316406,
          142.58999633789062,
          142.99000549316406,
          142.22000122070312,
          141.89999389648438,
          141.27999877929688,
          139.66000366210938,
          141.8699951171875,
          141.6300048828125,
          139.8800048828125,
          134.44000244140625,
          133.94000244140625,
          128.3699951171875,
          122.9000015258789,
          118.30999755859375,
          119.9800033569336,
          121.77999877929688,
          119.23999786376953,
          116.95999908447266,
          115.87000274658203,
          110.43000030517578,
          111.58000183105469,
          108.9000015258789,
          100,
          102.87000274658203,
          98.27999877929688,
          97.45999908447266,
          89.33999633789062,
          97.4000015258789,
          96.98999786376953,
          87.27999877929688,
          99.16999816894531,
          105.91999816894531,
          107.7300033569336,
          101.48999786376953,
          100.45999908447266,
          103.16000366210938,
          97.4000015258789,
          97.26000213623047,
          96.91999816894531,
          100.19000244140625,
          105.88999938964844,
          102.3499984741211,
          107.98999786376953,
          104.87000274658203,
          107.63999938964844,
          104.87999725341797,
          103.72000122070312,
          106.79000091552734,
          104.86000061035156,
          101.51000213623047,
          102.62999725341797,
          102.52999877929688,
          101.91999816894531,
          106.5199966430664,
          110.05999755859375,
          112.69999694824219,
          110.30999755859375,
          106.91000366210938,
          103.83000183105469,
          105.18000030517578,
          105.2699966430664,
          105.61000061035156,
          109.18000030517578,
          108.80999755859375,
          109.44000244140625,
          104.54000091552734,
          105.91999816894531,
          109.37999725341797,
          119.77999877929688,
          116.47000122070312,
          120.87000274658203,
          120.30000305175781,
          118.56999969482422,
          122.51000213623047,
          123.77999877929688,
          121.9800033569336,
          117.75,
          119.6500015258789,
          119.8499984741211,
          122.44999694824219,
          124.5,
          127.81999969482422,
          127.44000244140625,
          125.79000091552734,
          124.0999984741211,
          118,
          117,
          118.12000274658203,
          121.5,
          119.2300033569336,
          118.52999877929688,
          120.12000274658203,
          116.19000244140625,
          117.44999694824219,
          116,
          111.51000213623047,
          111.19999694824219,
          111.56999969482422,
          112.05000305175781,
          115.5999984741211,
          115.0999984741211,
          114.52999877929688,
          115.08000183105469,
          117.12999725341797,
          117.8499984741211,
          119.44000244140625,
          120.12999725341797,
          119.08000183105469,
          122.08999633789062,
          119.98999786376953,
          119.55999755859375,
          118.48999786376953,
          120.38999938964844,
          119.30000305175781,
          119.3499984741211,
          118.20999908447266,
          117.41999816894531,
          116.83999633789062,
          116.70999908447266,
          116.29000091552734,
          117.05000305175781,
          117.12000274658203,
          118.3499984741211,
          130.30999755859375,
          131.6300048828125,
          131.94000244140625,
          131.32000732421875,
          132.75999450683594,
          133,
          132.35000610351562,
          131.0800018310547,
          130.13999938964844,
          129.58999633789062,
          130.22000122070312,
          128.4499969482422,
          128.30999755859375,
          130.8800048828125,
          131.08999633789062,
          132.60000610351562,
          136.36000061035156,
          136.8000030517578,
          135.5399932861328,
          133.61000061035156,
          135.9199981689453,
          137.24000549316406,
          134.8800048828125,
          137.13999938964844,
          135.5500030517578,
          136.75,
          133.74000549316406,
          132.92999267578125,
          132.5399932861328,
          133.6199951171875,
          131.77000427246094,
          130.7899932861328,
          126.88999938964844,
          127.47000122070312,
          127.30000305175781,
          123.80000305175781,
          124.19000244140625,
          126.86000061035156,
          126.29000091552734,
          125.55000305175781,
          125.47000122070312,
          123.68000030517578,
          123.5999984741211,
          124.19000244140625,
          123.30999755859375,
          123.75,
          125.55000305175781,
          125.94000244140625,
          131.36000061035156,
          129.5,
          127.4000015258789,
          128.1199951171875,
          127.4000015258789,
          125.7300033569336,
          127.55999755859375,
          128.10000610351562,
          128.5,
          127.11000061035156,
          124.61000061035156,
          121.52999877929688,
          122.62999725341797,
          121.75,
          122.93000030517578,
          125.06999969482422,
          126.86000061035156,
          128.6199951171875,
          128.0399932861328,
          147.67999267578125,
          142.3699951171875,
          142,
          138.49000549316406,
          141.19000244140625,
          144.74000549316406,
          144.8300018310547,
          145.47999572753906,
          143.3000030517578,
          142.61000061035156,
          147.75,
          151.86000061035156,
          150.27000427246094,
          150.35000610351562,
          148.69000244140625,
          151.39999389648438,
          154.00999450683594,
          154.44000244140625,
          154.67999267578125,
          153.8800048828125,
          154.8800048828125,
          157.4600067138672,
          155.33999633789062,
          179.4499969482422,
          177.3000030517578,
          174.47000122070312,
          174.85000610351562,
          174.83999633789062,
          175.83999633789062,
          171.94000244140625,
          171.4499969482422,
          175.9499969482422,
          174.5800018310547,
          179.9199981689453,
          180.1999969482422,
          183.39999389648438,
          183.39999389648438
         ],
         "low": [
          145.10000610351562,
          146.0500030517578,
          144.30999755859375,
          145.4199981689453,
          144.82000732421875,
          144.61000061035156,
          144.25999450683594,
          143.36000061035156,
          142.2899932861328,
          143.92999267578125,
          144.44000244140625,
          144.00999450683594,
          143.00999450683594,
          143.5399932861328,
          140.64999389648438,
          139.1999969482422,
          135,
          135.86000061035156,
          135.7899932861328,
          134.8300018310547,
          137.05999755859375,
          139.75,
          143.25,
          138.57000732421875,
          141.22000122070312,
          140.1199951171875,
          140.4600067138672,
          140.4600067138672,
          140.8699951171875,
          140.82000732421875,
          139.1300048828125,
          138.10000610351562,
          139.22999572753906,
          138.85000610351562,
          138.5800018310547,
          131.2100067138672,
          127.9800033569336,
          122.12999725341797,
          117.91999816894531,
          113.20999908447266,
          116.02999877929688,
          115.1500015258789,
          115.4800033569336,
          112.11000061035156,
          110.31999969482422,
          104.27999877929688,
          102.43000030517578,
          102.86000061035156,
          91.63999938964844,
          92.25,
          90,
          91.1500015258789,
          79.06999969482422,
          85.11000061035156,
          85.83999633789062,
          81.08999633789062,
          91.80000305175781,
          95.51000213623047,
          100.80000305175781,
          95.54000091552734,
          92.0999984741211,
          96.16000366210938,
          92.55999755859375,
          94.19999694824219,
          92.70999908447266,
          94.5199966430664,
          100.25,
          98.6500015258789,
          103.52999877929688,
          99.61000061035156,
          103.9000015258789,
          102.69999694824219,
          100.88999938964844,
          104.3499984741211,
          102,
          99.12999725341797,
          100.88999938964844,
          99.45999908447266,
          99.5199966430664,
          101.61000061035156,
          105.9800033569336,
          108.55999755859375,
          106.86000061035156,
          104.47000122070312,
          100.55000305175781,
          100.9000015258789,
          98.86000061035156,
          101.83000183105469,
          106.62999725341797,
          106.41000366210938,
          104.48999786376953,
          101.5999984741211,
          99.66000366210938,
          104.2699966430664,
          114.47000122070312,
          113.41999816894531,
          116.04000091552734,
          116.5,
          116.83000183105469,
          120.43000030517578,
          119.70999908447266,
          116,
          114.12000274658203,
          116.93000030517578,
          117.83000183105469,
          119.31999969482422,
          121.8499984741211,
          124.27999877929688,
          123.94000244140625,
          123.51000213623047,
          120.93000030517578,
          112.25,
          112.88999938964844,
          111.70999908447266,
          116.05000305175781,
          117.13999938964844,
          115.93000030517578,
          114.3499984741211,
          113.11000061035156,
          115.97000122070312,
          110.02999877929688,
          108.5,
          108.0199966430664,
          108.0999984741211,
          109.93000030517578,
          112.29000091552734,
          112,
          112.9000015258789,
          112.61000061035156,
          112.80999755859375,
          115.37999725341797,
          116.20999908447266,
          115.88999938964844,
          114.54000091552734,
          119.69999694824219,
          117.5999984741211,
          117.05999755859375,
          116.81999969482422,
          117.66000366210938,
          117.93000030517578,
          117.01000213623047,
          115.52999877929688,
          115.68000030517578,
          114.68000030517578,
          115.11000061035156,
          113.37000274658203,
          114.12000274658203,
          115.3499984741211,
          115.76000213623047,
          123.27999877929688,
          125.61000061035156,
          128.66000366210938,
          128.49000549316406,
          130,
          130.49000549316406,
          130.4499969482422,
          129.74000549316406,
          128.5399932861328,
          128.36000061035156,
          127.43000030517578,
          126.52999877929688,
          127.2300033569336,
          127.93000030517578,
          129.30999755859375,
          129.52000427246094,
          132.82000732421875,
          133.5800018310547,
          131.25,
          130.88999938964844,
          133.25999450683594,
          132.02000427246094,
          129.4199981689453,
          130.86000061035156,
          132.25999450683594,
          132.74000549316406,
          131.08999633789062,
          130.89999389648438,
          131.00999450683594,
          131.39999389648438,
          128.60000610351562,
          128.1199951171875,
          123.58999633789062,
          124.69999694824219,
          122.9000015258789,
          120.77999877929688,
          120.9800033569336,
          125.37000274658203,
          123.68000030517578,
          123.23999786376953,
          122.41999816894531,
          121.69000244140625,
          122.33000183105469,
          120.61000061035156,
          120.93000030517578,
          122.41999816894531,
          123.33000183105469,
          123.7300033569336,
          127.9000015258789,
          125.29000091552734,
          124.43000030517578,
          126.33000183105469,
          123.70999908447266,
          123.63999938964844,
          123.83999633789062,
          125.97000122070312,
          126.3499984741211,
          122.94999694824219,
          123.02999877929688,
          118.31999969482422,
          117.2300033569336,
          119.08999633789062,
          119.80999755859375,
          121.37000274658203,
          123.41000366210938,
          125.80000305175781,
          124.61000061035156,
          138.07000732421875,
          137.6699981689453,
          136.6199951171875,
          134.10000610351562,
          136.52000427246094,
          141.57000732421875,
          142.55999755859375,
          143.35000610351562,
          141.6999969482422,
          140.86000061035156,
          141.6999969482422,
          147.85000610351562,
          147.24000549316406,
          146.52999877929688,
          146.2899932861328,
          149,
          148.33999633789062,
          152.1300048828125,
          152.80999755859375,
          152.25999450683594,
          152.25,
          153.88999938964844,
          152.5,
          165.3300018310547,
          168.80999755859375,
          167.82000732421875,
          171.6199951171875,
          171.9600067138672,
          172.27999877929688,
          168.19000244140625,
          169.16000366210938,
          172.3000030517578,
          172.3800048828125,
          175.0500030517578,
          176.22000122070312,
          178.3699951171875,
          180.27000427246094
         ],
         "open": [
          145.2899932861328,
          146.39999389648438,
          145.5399932861328,
          145.99000549316406,
          145.49000549316406,
          146.47000122070312,
          145.3000030517578,
          144.75,
          143.41000366210938,
          145.7100067138672,
          145.08999633789062,
          145.5399932861328,
          144.24000549316406,
          144.4499969482422,
          143.60000610351562,
          141.39999389648438,
          135.86000061035156,
          136.5,
          138.60000610351562,
          135.08999633789062,
          138.39999389648438,
          139.7899932861328,
          145.49000549316406,
          146.60000610351562,
          141.9199981689453,
          141.88999938964844,
          141.02999877929688,
          142.85000610351562,
          141.33999633789062,
          141.1699981689453,
          141.10000610351562,
          139.02000427246094,
          139.6300048828125,
          141.6300048828125,
          139.86000061035156,
          132.89999389648438,
          133.75,
          126.12000274658203,
          119.80999755859375,
          114.51000213623047,
          119.12999725341797,
          121.1500015258789,
          118.95999908447266,
          116.86000061035156,
          110.76000213623047,
          108.69000244140625,
          108.0999984741211,
          108.41999816894531,
          97.62000274658203,
          100.77999877929688,
          91.80000305175781,
          95.80000305175781,
          87.58999633789062,
          88,
          95.98999786376953,
          84.48999786376953,
          92.33000183105469,
          100.66000366210938,
          100.83000183105469,
          100.44999694824219,
          96,
          100.22000122070312,
          93.5,
          94.19999694824219,
          96.30999755859375,
          97.26000213623047,
          104.86000061035156,
          100.52999877929688,
          107.91999816894531,
          104.70999908447266,
          105.5,
          104.38999938964844,
          103.52999877929688,
          106.20999908447266,
          103.58000183105469,
          100.01000213623047,
          101.80000305175781,
          100.6500015258789,
          101.77999877929688,
          102,
          108.79000091552734,
          109.94000244140625,
          109.44000244140625,
          106.36000061035156,
          102.01000213623047,
          101.51000213623047,
          101.4800033569336,
          101.8499984741211,
          109.05000305175781,
          108.4000015258789,
          109.05999755859375,
          104.5,
          101.9800033569336,
          104.9800033569336,
          114.47000122070312,
          115.0999984741211,
          116.41999816894531,
          119.33999633789062,
          117.5,
          121.05000305175781,
          123.68000030517578,
          121.5999984741211,
          116.19000244140625,
          117.26000213623047,
          119,
          119.98999786376953,
          121.94999694824219,
          126.30999755859375,
          125.0999984741211,
          125.62999725341797,
          124.0199966430664,
          117.5999984741211,
          115.16999816894531,
          112.08000183105469,
          121.23999786376953,
          118.63999938964844,
          116.87999725341797,
          119.9800033569336,
          114.19000244140625,
          116.95999908447266,
          115.8499984741211,
          108.98999786376953,
          110.94999694824219,
          109,
          111.5,
          112.81999969482422,
          115,
          113.83000183105469,
          113.62999725341797,
          113.4800033569336,
          116.51000213623047,
          116.83000183105469,
          119.94000244140625,
          115.2300033569336,
          121.62999725341797,
          117.72000122070312,
          118.9000015258789,
          118.05000305175781,
          118.05000305175781,
          118.19000244140625,
          118.86000061035156,
          115.69999694824219,
          117.19999694824219,
          115.45999908447266,
          116.22000122070312,
          114.91000366210938,
          115.22000122070312,
          116.16999816894531,
          115.95999908447266,
          123.37000274658203,
          126.95999908447266,
          130.22000122070312,
          129.75,
          130.52999877929688,
          130.6699981689453,
          130.63999938964844,
          130.00999450683594,
          130.10000610351562,
          129.44000244140625,
          129.25,
          126.80000305175781,
          127.72000122070312,
          128.14999389648438,
          130.8300018310547,
          130,
          133,
          134.5,
          135.25,
          131.9199981689453,
          133.6300048828125,
          135.24000549316406,
          133.75,
          131.99000549316406,
          134.27999877929688,
          133.5800018310547,
          133.74000549316406,
          132.52999877929688,
          131.4600067138672,
          132.1699981689453,
          130.5500030517578,
          129.5,
          125.9800033569336,
          125.26000213623047,
          127.06999969482422,
          121.93000030517578,
          121.36000061035156,
          125.75,
          125.91999816894531,
          123.23999786376953,
          124.94000244140625,
          121.98999786376953,
          123.26000213623047,
          123.12999725341797,
          121.94999694824219,
          123.58000183105469,
          123.8499984741211,
          124.9000015258789,
          129.8000030517578,
          129.13999938964844,
          125,
          127.80999755859375,
          127.37000274658203,
          124.58000183105469,
          124.36000061035156,
          126.66999816894531,
          128.10000610351562,
          127.11000061035156,
          124.02999877929688,
          121.01000213623047,
          118.16000366210938,
          120.63999938964844,
          122.23999786376953,
          121.61000061035156,
          123.58000183105469,
          126.77999877929688,
          126.26000213623047,
          140.25999450683594,
          139.97000122070312,
          141.47000122070312,
          136.33999633789062,
          140.89999389648438,
          141.57000732421875,
          144.39999389648438,
          144.5,
          142.57000732421875,
          141.7100067138672,
          142.4499969482422,
          148.16000366210938,
          150.27000427246094,
          149,
          147.05999755859375,
          149.57000732421875,
          149.49000549316406,
          153.4499969482422,
          153.69000244140625,
          153.17999267578125,
          152.4199981689453,
          156.2899932861328,
          153.32000732421875,
          169.67999267578125,
          173.8000030517578,
          170.49000549316406,
          173.99000549316406,
          173.82000732421875,
          173.60000610351562,
          170.08999633789062,
          170,
          172.9600067138672,
          173.99000549316406,
          175.75,
          180.00999450683594,
          178.5,
          181.22000122070312
         ],
         "type": "candlestick",
         "x": [
          "2020-01-02T00:00:00",
          "2020-01-03T00:00:00",
          "2020-01-06T00:00:00",
          "2020-01-07T00:00:00",
          "2020-01-08T00:00:00",
          "2020-01-09T00:00:00",
          "2020-01-10T00:00:00",
          "2020-01-13T00:00:00",
          "2020-01-14T00:00:00",
          "2020-01-15T00:00:00",
          "2020-01-16T00:00:00",
          "2020-01-17T00:00:00",
          "2020-01-21T00:00:00",
          "2020-01-22T00:00:00",
          "2020-01-23T00:00:00",
          "2020-01-24T00:00:00",
          "2020-01-27T00:00:00",
          "2020-01-28T00:00:00",
          "2020-01-29T00:00:00",
          "2020-01-30T00:00:00",
          "2020-01-31T00:00:00",
          "2020-02-03T00:00:00",
          "2020-02-04T00:00:00",
          "2020-02-05T00:00:00",
          "2020-02-06T00:00:00",
          "2020-02-07T00:00:00",
          "2020-02-10T00:00:00",
          "2020-02-11T00:00:00",
          "2020-02-12T00:00:00",
          "2020-02-13T00:00:00",
          "2020-02-14T00:00:00",
          "2020-02-18T00:00:00",
          "2020-02-19T00:00:00",
          "2020-02-20T00:00:00",
          "2020-02-21T00:00:00",
          "2020-02-24T00:00:00",
          "2020-02-25T00:00:00",
          "2020-02-26T00:00:00",
          "2020-02-27T00:00:00",
          "2020-02-28T00:00:00",
          "2020-03-02T00:00:00",
          "2020-03-03T00:00:00",
          "2020-03-04T00:00:00",
          "2020-03-05T00:00:00",
          "2020-03-06T00:00:00",
          "2020-03-09T00:00:00",
          "2020-03-10T00:00:00",
          "2020-03-11T00:00:00",
          "2020-03-12T00:00:00",
          "2020-03-13T00:00:00",
          "2020-03-16T00:00:00",
          "2020-03-17T00:00:00",
          "2020-03-18T00:00:00",
          "2020-03-19T00:00:00",
          "2020-03-20T00:00:00",
          "2020-03-23T00:00:00",
          "2020-03-24T00:00:00",
          "2020-03-25T00:00:00",
          "2020-03-26T00:00:00",
          "2020-03-27T00:00:00",
          "2020-03-30T00:00:00",
          "2020-03-31T00:00:00",
          "2020-04-01T00:00:00",
          "2020-04-02T00:00:00",
          "2020-04-03T00:00:00",
          "2020-04-06T00:00:00",
          "2020-04-07T00:00:00",
          "2020-04-08T00:00:00",
          "2020-04-09T00:00:00",
          "2020-04-13T00:00:00",
          "2020-04-14T00:00:00",
          "2020-04-15T00:00:00",
          "2020-04-16T00:00:00",
          "2020-04-17T00:00:00",
          "2020-04-20T00:00:00",
          "2020-04-21T00:00:00",
          "2020-04-22T00:00:00",
          "2020-04-23T00:00:00",
          "2020-04-24T00:00:00",
          "2020-04-27T00:00:00",
          "2020-04-28T00:00:00",
          "2020-04-29T00:00:00",
          "2020-04-30T00:00:00",
          "2020-05-01T00:00:00",
          "2020-05-04T00:00:00",
          "2020-05-05T00:00:00",
          "2020-05-06T00:00:00",
          "2020-05-07T00:00:00",
          "2020-05-08T00:00:00",
          "2020-05-11T00:00:00",
          "2020-05-12T00:00:00",
          "2020-05-13T00:00:00",
          "2020-05-14T00:00:00",
          "2020-05-15T00:00:00",
          "2020-05-18T00:00:00",
          "2020-05-19T00:00:00",
          "2020-05-20T00:00:00",
          "2020-05-21T00:00:00",
          "2020-05-22T00:00:00",
          "2020-05-26T00:00:00",
          "2020-05-27T00:00:00",
          "2020-05-28T00:00:00",
          "2020-05-29T00:00:00",
          "2020-06-01T00:00:00",
          "2020-06-02T00:00:00",
          "2020-06-03T00:00:00",
          "2020-06-04T00:00:00",
          "2020-06-05T00:00:00",
          "2020-06-08T00:00:00",
          "2020-06-09T00:00:00",
          "2020-06-10T00:00:00",
          "2020-06-11T00:00:00",
          "2020-06-12T00:00:00",
          "2020-06-15T00:00:00",
          "2020-06-16T00:00:00",
          "2020-06-17T00:00:00",
          "2020-06-18T00:00:00",
          "2020-06-19T00:00:00",
          "2020-06-22T00:00:00",
          "2020-06-23T00:00:00",
          "2020-06-24T00:00:00",
          "2020-06-25T00:00:00",
          "2020-06-26T00:00:00",
          "2020-06-29T00:00:00",
          "2020-06-30T00:00:00",
          "2020-07-01T00:00:00",
          "2020-07-02T00:00:00",
          "2020-07-06T00:00:00",
          "2020-07-07T00:00:00",
          "2020-07-08T00:00:00",
          "2020-07-09T00:00:00",
          "2020-07-10T00:00:00",
          "2020-07-13T00:00:00",
          "2020-07-14T00:00:00",
          "2020-07-15T00:00:00",
          "2020-07-16T00:00:00",
          "2020-07-17T00:00:00",
          "2020-07-20T00:00:00",
          "2020-07-21T00:00:00",
          "2020-07-22T00:00:00",
          "2020-07-23T00:00:00",
          "2020-07-24T00:00:00",
          "2020-07-27T00:00:00",
          "2020-07-28T00:00:00",
          "2020-07-29T00:00:00",
          "2020-07-30T00:00:00",
          "2020-07-31T00:00:00",
          "2020-08-03T00:00:00",
          "2020-08-04T00:00:00",
          "2020-08-05T00:00:00",
          "2020-08-06T00:00:00",
          "2020-08-07T00:00:00",
          "2020-08-10T00:00:00",
          "2020-08-11T00:00:00",
          "2020-08-12T00:00:00",
          "2020-08-13T00:00:00",
          "2020-08-14T00:00:00",
          "2020-08-17T00:00:00",
          "2020-08-18T00:00:00",
          "2020-08-19T00:00:00",
          "2020-08-20T00:00:00",
          "2020-08-21T00:00:00",
          "2020-08-24T00:00:00",
          "2020-08-25T00:00:00",
          "2020-08-26T00:00:00",
          "2020-08-27T00:00:00",
          "2020-08-28T00:00:00",
          "2020-08-31T00:00:00",
          "2020-09-01T00:00:00",
          "2020-09-02T00:00:00",
          "2020-09-03T00:00:00",
          "2020-09-04T00:00:00",
          "2020-09-08T00:00:00",
          "2020-09-09T00:00:00",
          "2020-09-10T00:00:00",
          "2020-09-11T00:00:00",
          "2020-09-14T00:00:00",
          "2020-09-15T00:00:00",
          "2020-09-16T00:00:00",
          "2020-09-17T00:00:00",
          "2020-09-18T00:00:00",
          "2020-09-21T00:00:00",
          "2020-09-22T00:00:00",
          "2020-09-23T00:00:00",
          "2020-09-24T00:00:00",
          "2020-09-25T00:00:00",
          "2020-09-28T00:00:00",
          "2020-09-29T00:00:00",
          "2020-09-30T00:00:00",
          "2020-10-01T00:00:00",
          "2020-10-02T00:00:00",
          "2020-10-05T00:00:00",
          "2020-10-06T00:00:00",
          "2020-10-07T00:00:00",
          "2020-10-08T00:00:00",
          "2020-10-09T00:00:00",
          "2020-10-12T00:00:00",
          "2020-10-13T00:00:00",
          "2020-10-14T00:00:00",
          "2020-10-15T00:00:00",
          "2020-10-16T00:00:00",
          "2020-10-19T00:00:00",
          "2020-10-20T00:00:00",
          "2020-10-21T00:00:00",
          "2020-10-22T00:00:00",
          "2020-10-23T00:00:00",
          "2020-10-26T00:00:00",
          "2020-10-27T00:00:00",
          "2020-10-28T00:00:00",
          "2020-10-29T00:00:00",
          "2020-10-30T00:00:00",
          "2020-11-02T00:00:00",
          "2020-11-03T00:00:00",
          "2020-11-04T00:00:00",
          "2020-11-05T00:00:00",
          "2020-11-06T00:00:00",
          "2020-11-09T00:00:00",
          "2020-11-10T00:00:00",
          "2020-11-11T00:00:00",
          "2020-11-12T00:00:00",
          "2020-11-13T00:00:00",
          "2020-11-16T00:00:00",
          "2020-11-17T00:00:00",
          "2020-11-18T00:00:00",
          "2020-11-19T00:00:00",
          "2020-11-20T00:00:00",
          "2020-11-23T00:00:00",
          "2020-11-24T00:00:00",
          "2020-11-25T00:00:00",
          "2020-11-27T00:00:00",
          "2020-11-30T00:00:00",
          "2020-12-01T00:00:00",
          "2020-12-02T00:00:00",
          "2020-12-03T00:00:00",
          "2020-12-04T00:00:00",
          "2020-12-07T00:00:00",
          "2020-12-08T00:00:00",
          "2020-12-09T00:00:00",
          "2020-12-10T00:00:00",
          "2020-12-11T00:00:00",
          "2020-12-14T00:00:00",
          "2020-12-15T00:00:00",
          "2020-12-16T00:00:00",
          "2020-12-17T00:00:00",
          "2020-12-18T00:00:00",
          "2020-12-21T00:00:00",
          "2020-12-22T00:00:00",
          "2020-12-23T00:00:00",
          "2020-12-24T00:00:00",
          "2020-12-28T00:00:00",
          "2020-12-29T00:00:00",
          "2020-12-30T00:00:00",
          "2020-12-31T00:00:00"
         ]
        }
       ],
       "layout": {
        "template": {
         "data": {
          "bar": [
           {
            "error_x": {
             "color": "#2a3f5f"
            },
            "error_y": {
             "color": "#2a3f5f"
            },
            "marker": {
             "line": {
              "color": "#E5ECF6",
              "width": 0.5
             },
             "pattern": {
              "fillmode": "overlay",
              "size": 10,
              "solidity": 0.2
             }
            },
            "type": "bar"
           }
          ],
          "barpolar": [
           {
            "marker": {
             "line": {
              "color": "#E5ECF6",
              "width": 0.5
             },
             "pattern": {
              "fillmode": "overlay",
              "size": 10,
              "solidity": 0.2
             }
            },
            "type": "barpolar"
           }
          ],
          "carpet": [
           {
            "aaxis": {
             "endlinecolor": "#2a3f5f",
             "gridcolor": "white",
             "linecolor": "white",
             "minorgridcolor": "white",
             "startlinecolor": "#2a3f5f"
            },
            "baxis": {
             "endlinecolor": "#2a3f5f",
             "gridcolor": "white",
             "linecolor": "white",
             "minorgridcolor": "white",
             "startlinecolor": "#2a3f5f"
            },
            "type": "carpet"
           }
          ],
          "choropleth": [
           {
            "colorbar": {
             "outlinewidth": 0,
             "ticks": ""
            },
            "type": "choropleth"
           }
          ],
          "contour": [
           {
            "colorbar": {
             "outlinewidth": 0,
             "ticks": ""
            },
            "colorscale": [
             [
              0,
              "#0d0887"
             ],
             [
              0.1111111111111111,
              "#46039f"
             ],
             [
              0.2222222222222222,
              "#7201a8"
             ],
             [
              0.3333333333333333,
              "#9c179e"
             ],
             [
              0.4444444444444444,
              "#bd3786"
             ],
             [
              0.5555555555555556,
              "#d8576b"
             ],
             [
              0.6666666666666666,
              "#ed7953"
             ],
             [
              0.7777777777777778,
              "#fb9f3a"
             ],
             [
              0.8888888888888888,
              "#fdca26"
             ],
             [
              1,
              "#f0f921"
             ]
            ],
            "type": "contour"
           }
          ],
          "contourcarpet": [
           {
            "colorbar": {
             "outlinewidth": 0,
             "ticks": ""
            },
            "type": "contourcarpet"
           }
          ],
          "heatmap": [
           {
            "colorbar": {
             "outlinewidth": 0,
             "ticks": ""
            },
            "colorscale": [
             [
              0,
              "#0d0887"
             ],
             [
              0.1111111111111111,
              "#46039f"
             ],
             [
              0.2222222222222222,
              "#7201a8"
             ],
             [
              0.3333333333333333,
              "#9c179e"
             ],
             [
              0.4444444444444444,
              "#bd3786"
             ],
             [
              0.5555555555555556,
              "#d8576b"
             ],
             [
              0.6666666666666666,
              "#ed7953"
             ],
             [
              0.7777777777777778,
              "#fb9f3a"
             ],
             [
              0.8888888888888888,
              "#fdca26"
             ],
             [
              1,
              "#f0f921"
             ]
            ],
            "type": "heatmap"
           }
          ],
          "heatmapgl": [
           {
            "colorbar": {
             "outlinewidth": 0,
             "ticks": ""
            },
            "colorscale": [
             [
              0,
              "#0d0887"
             ],
             [
              0.1111111111111111,
              "#46039f"
             ],
             [
              0.2222222222222222,
              "#7201a8"
             ],
             [
              0.3333333333333333,
              "#9c179e"
             ],
             [
              0.4444444444444444,
              "#bd3786"
             ],
             [
              0.5555555555555556,
              "#d8576b"
             ],
             [
              0.6666666666666666,
              "#ed7953"
             ],
             [
              0.7777777777777778,
              "#fb9f3a"
             ],
             [
              0.8888888888888888,
              "#fdca26"
             ],
             [
              1,
              "#f0f921"
             ]
            ],
            "type": "heatmapgl"
           }
          ],
          "histogram": [
           {
            "marker": {
             "pattern": {
              "fillmode": "overlay",
              "size": 10,
              "solidity": 0.2
             }
            },
            "type": "histogram"
           }
          ],
          "histogram2d": [
           {
            "colorbar": {
             "outlinewidth": 0,
             "ticks": ""
            },
            "colorscale": [
             [
              0,
              "#0d0887"
             ],
             [
              0.1111111111111111,
              "#46039f"
             ],
             [
              0.2222222222222222,
              "#7201a8"
             ],
             [
              0.3333333333333333,
              "#9c179e"
             ],
             [
              0.4444444444444444,
              "#bd3786"
             ],
             [
              0.5555555555555556,
              "#d8576b"
             ],
             [
              0.6666666666666666,
              "#ed7953"
             ],
             [
              0.7777777777777778,
              "#fb9f3a"
             ],
             [
              0.8888888888888888,
              "#fdca26"
             ],
             [
              1,
              "#f0f921"
             ]
            ],
            "type": "histogram2d"
           }
          ],
          "histogram2dcontour": [
           {
            "colorbar": {
             "outlinewidth": 0,
             "ticks": ""
            },
            "colorscale": [
             [
              0,
              "#0d0887"
             ],
             [
              0.1111111111111111,
              "#46039f"
             ],
             [
              0.2222222222222222,
              "#7201a8"
             ],
             [
              0.3333333333333333,
              "#9c179e"
             ],
             [
              0.4444444444444444,
              "#bd3786"
             ],
             [
              0.5555555555555556,
              "#d8576b"
             ],
             [
              0.6666666666666666,
              "#ed7953"
             ],
             [
              0.7777777777777778,
              "#fb9f3a"
             ],
             [
              0.8888888888888888,
              "#fdca26"
             ],
             [
              1,
              "#f0f921"
             ]
            ],
            "type": "histogram2dcontour"
           }
          ],
          "mesh3d": [
           {
            "colorbar": {
             "outlinewidth": 0,
             "ticks": ""
            },
            "type": "mesh3d"
           }
          ],
          "parcoords": [
           {
            "line": {
             "colorbar": {
              "outlinewidth": 0,
              "ticks": ""
             }
            },
            "type": "parcoords"
           }
          ],
          "pie": [
           {
            "automargin": true,
            "type": "pie"
           }
          ],
          "scatter": [
           {
            "marker": {
             "colorbar": {
              "outlinewidth": 0,
              "ticks": ""
             }
            },
            "type": "scatter"
           }
          ],
          "scatter3d": [
           {
            "line": {
             "colorbar": {
              "outlinewidth": 0,
              "ticks": ""
             }
            },
            "marker": {
             "colorbar": {
              "outlinewidth": 0,
              "ticks": ""
             }
            },
            "type": "scatter3d"
           }
          ],
          "scattercarpet": [
           {
            "marker": {
             "colorbar": {
              "outlinewidth": 0,
              "ticks": ""
             }
            },
            "type": "scattercarpet"
           }
          ],
          "scattergeo": [
           {
            "marker": {
             "colorbar": {
              "outlinewidth": 0,
              "ticks": ""
             }
            },
            "type": "scattergeo"
           }
          ],
          "scattergl": [
           {
            "marker": {
             "colorbar": {
              "outlinewidth": 0,
              "ticks": ""
             }
            },
            "type": "scattergl"
           }
          ],
          "scattermapbox": [
           {
            "marker": {
             "colorbar": {
              "outlinewidth": 0,
              "ticks": ""
             }
            },
            "type": "scattermapbox"
           }
          ],
          "scatterpolar": [
           {
            "marker": {
             "colorbar": {
              "outlinewidth": 0,
              "ticks": ""
             }
            },
            "type": "scatterpolar"
           }
          ],
          "scatterpolargl": [
           {
            "marker": {
             "colorbar": {
              "outlinewidth": 0,
              "ticks": ""
             }
            },
            "type": "scatterpolargl"
           }
          ],
          "scatterternary": [
           {
            "marker": {
             "colorbar": {
              "outlinewidth": 0,
              "ticks": ""
             }
            },
            "type": "scatterternary"
           }
          ],
          "surface": [
           {
            "colorbar": {
             "outlinewidth": 0,
             "ticks": ""
            },
            "colorscale": [
             [
              0,
              "#0d0887"
             ],
             [
              0.1111111111111111,
              "#46039f"
             ],
             [
              0.2222222222222222,
              "#7201a8"
             ],
             [
              0.3333333333333333,
              "#9c179e"
             ],
             [
              0.4444444444444444,
              "#bd3786"
             ],
             [
              0.5555555555555556,
              "#d8576b"
             ],
             [
              0.6666666666666666,
              "#ed7953"
             ],
             [
              0.7777777777777778,
              "#fb9f3a"
             ],
             [
              0.8888888888888888,
              "#fdca26"
             ],
             [
              1,
              "#f0f921"
             ]
            ],
            "type": "surface"
           }
          ],
          "table": [
           {
            "cells": {
             "fill": {
              "color": "#EBF0F8"
             },
             "line": {
              "color": "white"
             }
            },
            "header": {
             "fill": {
              "color": "#C8D4E3"
             },
             "line": {
              "color": "white"
             }
            },
            "type": "table"
           }
          ]
         },
         "layout": {
          "annotationdefaults": {
           "arrowcolor": "#2a3f5f",
           "arrowhead": 0,
           "arrowwidth": 1
          },
          "autotypenumbers": "strict",
          "coloraxis": {
           "colorbar": {
            "outlinewidth": 0,
            "ticks": ""
           }
          },
          "colorscale": {
           "diverging": [
            [
             0,
             "#8e0152"
            ],
            [
             0.1,
             "#c51b7d"
            ],
            [
             0.2,
             "#de77ae"
            ],
            [
             0.3,
             "#f1b6da"
            ],
            [
             0.4,
             "#fde0ef"
            ],
            [
             0.5,
             "#f7f7f7"
            ],
            [
             0.6,
             "#e6f5d0"
            ],
            [
             0.7,
             "#b8e186"
            ],
            [
             0.8,
             "#7fbc41"
            ],
            [
             0.9,
             "#4d9221"
            ],
            [
             1,
             "#276419"
            ]
           ],
           "sequential": [
            [
             0,
             "#0d0887"
            ],
            [
             0.1111111111111111,
             "#46039f"
            ],
            [
             0.2222222222222222,
             "#7201a8"
            ],
            [
             0.3333333333333333,
             "#9c179e"
            ],
            [
             0.4444444444444444,
             "#bd3786"
            ],
            [
             0.5555555555555556,
             "#d8576b"
            ],
            [
             0.6666666666666666,
             "#ed7953"
            ],
            [
             0.7777777777777778,
             "#fb9f3a"
            ],
            [
             0.8888888888888888,
             "#fdca26"
            ],
            [
             1,
             "#f0f921"
            ]
           ],
           "sequentialminus": [
            [
             0,
             "#0d0887"
            ],
            [
             0.1111111111111111,
             "#46039f"
            ],
            [
             0.2222222222222222,
             "#7201a8"
            ],
            [
             0.3333333333333333,
             "#9c179e"
            ],
            [
             0.4444444444444444,
             "#bd3786"
            ],
            [
             0.5555555555555556,
             "#d8576b"
            ],
            [
             0.6666666666666666,
             "#ed7953"
            ],
            [
             0.7777777777777778,
             "#fb9f3a"
            ],
            [
             0.8888888888888888,
             "#fdca26"
            ],
            [
             1,
             "#f0f921"
            ]
           ]
          },
          "colorway": [
           "#636efa",
           "#EF553B",
           "#00cc96",
           "#ab63fa",
           "#FFA15A",
           "#19d3f3",
           "#FF6692",
           "#B6E880",
           "#FF97FF",
           "#FECB52"
          ],
          "font": {
           "color": "#2a3f5f"
          },
          "geo": {
           "bgcolor": "white",
           "lakecolor": "white",
           "landcolor": "#E5ECF6",
           "showlakes": true,
           "showland": true,
           "subunitcolor": "white"
          },
          "hoverlabel": {
           "align": "left"
          },
          "hovermode": "closest",
          "mapbox": {
           "style": "light"
          },
          "paper_bgcolor": "white",
          "plot_bgcolor": "#E5ECF6",
          "polar": {
           "angularaxis": {
            "gridcolor": "white",
            "linecolor": "white",
            "ticks": ""
           },
           "bgcolor": "#E5ECF6",
           "radialaxis": {
            "gridcolor": "white",
            "linecolor": "white",
            "ticks": ""
           }
          },
          "scene": {
           "xaxis": {
            "backgroundcolor": "#E5ECF6",
            "gridcolor": "white",
            "gridwidth": 2,
            "linecolor": "white",
            "showbackground": true,
            "ticks": "",
            "zerolinecolor": "white"
           },
           "yaxis": {
            "backgroundcolor": "#E5ECF6",
            "gridcolor": "white",
            "gridwidth": 2,
            "linecolor": "white",
            "showbackground": true,
            "ticks": "",
            "zerolinecolor": "white"
           },
           "zaxis": {
            "backgroundcolor": "#E5ECF6",
            "gridcolor": "white",
            "gridwidth": 2,
            "linecolor": "white",
            "showbackground": true,
            "ticks": "",
            "zerolinecolor": "white"
           }
          },
          "shapedefaults": {
           "line": {
            "color": "#2a3f5f"
           }
          },
          "ternary": {
           "aaxis": {
            "gridcolor": "white",
            "linecolor": "white",
            "ticks": ""
           },
           "baxis": {
            "gridcolor": "white",
            "linecolor": "white",
            "ticks": ""
           },
           "bgcolor": "#E5ECF6",
           "caxis": {
            "gridcolor": "white",
            "linecolor": "white",
            "ticks": ""
           }
          },
          "title": {
           "x": 0.05
          },
          "xaxis": {
           "automargin": true,
           "gridcolor": "white",
           "linecolor": "white",
           "ticks": "",
           "title": {
            "standoff": 15
           },
           "zerolinecolor": "white",
           "zerolinewidth": 2
          },
          "yaxis": {
           "automargin": true,
           "gridcolor": "white",
           "linecolor": "white",
           "ticks": "",
           "title": {
            "standoff": 15
           },
           "zerolinecolor": "white",
           "zerolinewidth": 2
          }
         }
        }
       }
      },
      "text/html": [
       "<div>                            <div id=\"7fca5635-41a3-4997-8e43-2e75b26bc4f9\" class=\"plotly-graph-div\" style=\"height:525px; width:100%;\"></div>            <script type=\"text/javascript\">                require([\"plotly\"], function(Plotly) {                    window.PLOTLYENV=window.PLOTLYENV || {};                                    if (document.getElementById(\"7fca5635-41a3-4997-8e43-2e75b26bc4f9\")) {                    Plotly.newPlot(                        \"7fca5635-41a3-4997-8e43-2e75b26bc4f9\",                        [{\"close\":[148.1999969482422,146.5,145.64999389648438,145.6999969482422,145.39999389648438,144.8300018310547,144.6199951171875,143.8800048828125,145.1999969482422,144.32000732421875,145.1199951171875,144.3300018310547,143.55999755859375,144.00999450683594,142.1999969482422,140.0800018310547,135.89999389648438,138.3699951171875,136.05999755859375,137.80999755859375,138.30999755859375,141.32000732421875,144.72999572753906,141.3699951171875,142.6999969482422,141.02000427246094,142.58999633789062,141.00999450683594,141.85000610351562,140.89999389648438,139.5399932861328,139.13999938964844,141.3000030517578,140.3699951171875,138.97000122070312,133.00999450683594,128.19000244140625,123.36000061035156,118.04000091552734,117.6500015258789,119.9800033569336,116.44999694824219,119.18000030517578,113.9800033569336,115.2699966430664,104.3499984741211,111.45999908447266,105.51000213623047,91.80999755859375,102.5199966430664,95.01000213623047,93.52999877929688,88.80000305175781,94.93000030517578,85.9800033569336,85.76000213623047,98.12000274658203,100.7300033569336,105.36000061035156,96.4000015258789,99.80000305175781,96.5999984741211,94.91999816894531,96.97000122070312,93.87999725341797,99.58000183105469,101.23999786376953,101.06999969482422,104.5,103.5,106.02999877929688,103.37000274658203,102.0199966430664,106.62999725341797,102.26000213623047,100.54000091552734,100.98999786376953,101.0,101.19000244140625,106.05999755859375,106.20999908447266,112.25,108.1500015258789,105.5,103.18000030517578,101.05999755859375,100.87999725341797,105.56999969482422,109.16000366210938,107.7699966430664,104.55999755859375,102.91999816894531,105.91000366210938,109.05000305175781,116.8499984741211,114.37000274658203,119.91999816894531,117.83000183105469,118.0199966430664,120.94999694824219,121.52999877929688,116.75,117.30000305175781,118.7699966430664,118.75,122.18000030517578,123.69000244140625,124.81999969482422,127.27999877929688,123.88999938964844,122.18000030517578,112.63999938964844,115.48999786376953,117.08000183105469,118.44000244140625,117.6500015258789,118.37000274658203,114.3499984741211,115.91999816894531,116.58999633789062,112.06999969482422,111.36000061035156,109.0999984741211,111.5199966430664,111.51000213623047,113.01000213623047,112.18000030517578,114.43000030517578,113.62999725341797,116.66000366210938,116.80999755859375,119.33999633789062,116.22000122070312,118.66000366210938,120.9000015258789,119.43000030517578,118.6500015258789,117.79000091552734,118.62000274658203,119.02999877929688,118.12000274658203,117.61000061035156,116.30999755859375,116.18000030517578,115.61000061035156,115.66000366210938,116.94000244140625,116.3499984741211,117.29000091552734,127.61000061035156,130.82000732421875,129.92999267578125,128.7899932861328,130.49000549316406,131.7899932861328,130.9600067138672,130.52999877929688,129.3699951171875,128.9199981689453,127.7699966430664,128.1199951171875,127.44000244140625,130.69000244140625,129.7899932861328,132.17999267578125,133.72999572753906,135.5399932861328,131.8699951171875,133.5500030517578,135.38999938964844,133.24000549316406,131.99000549316406,134.1999969482422,133.36000061035156,133.22000122070312,131.75,131.25,131.24000549316406,132.08999633789062,130.22000122070312,128.6300048828125,125.41000366210938,127.20999908447266,123.27999877929688,122.48999786376953,124.0,125.98999786376953,125.4000015258789,124.08000183105469,123.30999755859375,122.55000305175781,123.37000274658203,120.93000030517578,122.91000366210938,123.08999633789062,124.9800033569336,124.97000122070312,128.9600067138672,126.58999633789062,127.36000061035156,126.80999755859375,124.2300033569336,124.94999694824219,126.62999725341797,127.55999755859375,128.35000610351562,124.05999755859375,123.30999755859375,118.47000122070312,121.54000091552734,121.25,120.12999725341797,124.0199966430664,125.06999969482422,126.95999908447266,127.45999908447266,142.58999633789062,142.11000061035156,137.82000732421875,135.52000427246094,138.36000061035156,144.6699981689453,144.5,143.89999389648438,141.72000122070312,141.07000732421875,145.97999572753906,151.49000549316406,149.08999633789062,147.1300048828125,148.00999450683594,149.44000244140625,153.61000061035156,153.24000549316406,154.13999938964844,153.67999267578125,153.72000122070312,154.42999267578125,154.69000244140625,175.72000122070312,169.3000030517578,173.94000244140625,173.1199951171875,173.5500030517578,172.88999938964844,170.69000244140625,170.4499969482422,173.5500030517578,173.72999572753906,178.86000061035156,177.3000030517578,181.1699981689453,181.17999267578125],\"high\":[148.1999969482422,147.89999389648438,146.02999877929688,146.8699951171875,146.1300048828125,146.6300048828125,145.5,144.75,146.72000122070312,145.7100067138672,145.42999267578125,145.63999938964844,144.58999633789062,144.7899932861328,143.61000061035156,142.25,137.72999572753906,138.92999267578125,138.67999267578125,137.85000610351562,138.6699981689453,141.82000732421875,145.58999633789062,147.3000030517578,143.9499969482422,141.99000549316406,142.58999633789062,142.99000549316406,142.22000122070312,141.89999389648438,141.27999877929688,139.66000366210938,141.8699951171875,141.6300048828125,139.8800048828125,134.44000244140625,133.94000244140625,128.3699951171875,122.9000015258789,118.30999755859375,119.9800033569336,121.77999877929688,119.23999786376953,116.95999908447266,115.87000274658203,110.43000030517578,111.58000183105469,108.9000015258789,100.0,102.87000274658203,98.27999877929688,97.45999908447266,89.33999633789062,97.4000015258789,96.98999786376953,87.27999877929688,99.16999816894531,105.91999816894531,107.7300033569336,101.48999786376953,100.45999908447266,103.16000366210938,97.4000015258789,97.26000213623047,96.91999816894531,100.19000244140625,105.88999938964844,102.3499984741211,107.98999786376953,104.87000274658203,107.63999938964844,104.87999725341797,103.72000122070312,106.79000091552734,104.86000061035156,101.51000213623047,102.62999725341797,102.52999877929688,101.91999816894531,106.5199966430664,110.05999755859375,112.69999694824219,110.30999755859375,106.91000366210938,103.83000183105469,105.18000030517578,105.2699966430664,105.61000061035156,109.18000030517578,108.80999755859375,109.44000244140625,104.54000091552734,105.91999816894531,109.37999725341797,119.77999877929688,116.47000122070312,120.87000274658203,120.30000305175781,118.56999969482422,122.51000213623047,123.77999877929688,121.9800033569336,117.75,119.6500015258789,119.8499984741211,122.44999694824219,124.5,127.81999969482422,127.44000244140625,125.79000091552734,124.0999984741211,118.0,117.0,118.12000274658203,121.5,119.2300033569336,118.52999877929688,120.12000274658203,116.19000244140625,117.44999694824219,116.0,111.51000213623047,111.19999694824219,111.56999969482422,112.05000305175781,115.5999984741211,115.0999984741211,114.52999877929688,115.08000183105469,117.12999725341797,117.8499984741211,119.44000244140625,120.12999725341797,119.08000183105469,122.08999633789062,119.98999786376953,119.55999755859375,118.48999786376953,120.38999938964844,119.30000305175781,119.3499984741211,118.20999908447266,117.41999816894531,116.83999633789062,116.70999908447266,116.29000091552734,117.05000305175781,117.12000274658203,118.3499984741211,130.30999755859375,131.6300048828125,131.94000244140625,131.32000732421875,132.75999450683594,133.0,132.35000610351562,131.0800018310547,130.13999938964844,129.58999633789062,130.22000122070312,128.4499969482422,128.30999755859375,130.8800048828125,131.08999633789062,132.60000610351562,136.36000061035156,136.8000030517578,135.5399932861328,133.61000061035156,135.9199981689453,137.24000549316406,134.8800048828125,137.13999938964844,135.5500030517578,136.75,133.74000549316406,132.92999267578125,132.5399932861328,133.6199951171875,131.77000427246094,130.7899932861328,126.88999938964844,127.47000122070312,127.30000305175781,123.80000305175781,124.19000244140625,126.86000061035156,126.29000091552734,125.55000305175781,125.47000122070312,123.68000030517578,123.5999984741211,124.19000244140625,123.30999755859375,123.75,125.55000305175781,125.94000244140625,131.36000061035156,129.5,127.4000015258789,128.1199951171875,127.4000015258789,125.7300033569336,127.55999755859375,128.10000610351562,128.5,127.11000061035156,124.61000061035156,121.52999877929688,122.62999725341797,121.75,122.93000030517578,125.06999969482422,126.86000061035156,128.6199951171875,128.0399932861328,147.67999267578125,142.3699951171875,142.0,138.49000549316406,141.19000244140625,144.74000549316406,144.8300018310547,145.47999572753906,143.3000030517578,142.61000061035156,147.75,151.86000061035156,150.27000427246094,150.35000610351562,148.69000244140625,151.39999389648438,154.00999450683594,154.44000244140625,154.67999267578125,153.8800048828125,154.8800048828125,157.4600067138672,155.33999633789062,179.4499969482422,177.3000030517578,174.47000122070312,174.85000610351562,174.83999633789062,175.83999633789062,171.94000244140625,171.4499969482422,175.9499969482422,174.5800018310547,179.9199981689453,180.1999969482422,183.39999389648438,183.39999389648438],\"low\":[145.10000610351562,146.0500030517578,144.30999755859375,145.4199981689453,144.82000732421875,144.61000061035156,144.25999450683594,143.36000061035156,142.2899932861328,143.92999267578125,144.44000244140625,144.00999450683594,143.00999450683594,143.5399932861328,140.64999389648438,139.1999969482422,135.0,135.86000061035156,135.7899932861328,134.8300018310547,137.05999755859375,139.75,143.25,138.57000732421875,141.22000122070312,140.1199951171875,140.4600067138672,140.4600067138672,140.8699951171875,140.82000732421875,139.1300048828125,138.10000610351562,139.22999572753906,138.85000610351562,138.5800018310547,131.2100067138672,127.9800033569336,122.12999725341797,117.91999816894531,113.20999908447266,116.02999877929688,115.1500015258789,115.4800033569336,112.11000061035156,110.31999969482422,104.27999877929688,102.43000030517578,102.86000061035156,91.63999938964844,92.25,90.0,91.1500015258789,79.06999969482422,85.11000061035156,85.83999633789062,81.08999633789062,91.80000305175781,95.51000213623047,100.80000305175781,95.54000091552734,92.0999984741211,96.16000366210938,92.55999755859375,94.19999694824219,92.70999908447266,94.5199966430664,100.25,98.6500015258789,103.52999877929688,99.61000061035156,103.9000015258789,102.69999694824219,100.88999938964844,104.3499984741211,102.0,99.12999725341797,100.88999938964844,99.45999908447266,99.5199966430664,101.61000061035156,105.9800033569336,108.55999755859375,106.86000061035156,104.47000122070312,100.55000305175781,100.9000015258789,98.86000061035156,101.83000183105469,106.62999725341797,106.41000366210938,104.48999786376953,101.5999984741211,99.66000366210938,104.2699966430664,114.47000122070312,113.41999816894531,116.04000091552734,116.5,116.83000183105469,120.43000030517578,119.70999908447266,116.0,114.12000274658203,116.93000030517578,117.83000183105469,119.31999969482422,121.8499984741211,124.27999877929688,123.94000244140625,123.51000213623047,120.93000030517578,112.25,112.88999938964844,111.70999908447266,116.05000305175781,117.13999938964844,115.93000030517578,114.3499984741211,113.11000061035156,115.97000122070312,110.02999877929688,108.5,108.0199966430664,108.0999984741211,109.93000030517578,112.29000091552734,112.0,112.9000015258789,112.61000061035156,112.80999755859375,115.37999725341797,116.20999908447266,115.88999938964844,114.54000091552734,119.69999694824219,117.5999984741211,117.05999755859375,116.81999969482422,117.66000366210938,117.93000030517578,117.01000213623047,115.52999877929688,115.68000030517578,114.68000030517578,115.11000061035156,113.37000274658203,114.12000274658203,115.3499984741211,115.76000213623047,123.27999877929688,125.61000061035156,128.66000366210938,128.49000549316406,130.0,130.49000549316406,130.4499969482422,129.74000549316406,128.5399932861328,128.36000061035156,127.43000030517578,126.52999877929688,127.2300033569336,127.93000030517578,129.30999755859375,129.52000427246094,132.82000732421875,133.5800018310547,131.25,130.88999938964844,133.25999450683594,132.02000427246094,129.4199981689453,130.86000061035156,132.25999450683594,132.74000549316406,131.08999633789062,130.89999389648438,131.00999450683594,131.39999389648438,128.60000610351562,128.1199951171875,123.58999633789062,124.69999694824219,122.9000015258789,120.77999877929688,120.9800033569336,125.37000274658203,123.68000030517578,123.23999786376953,122.41999816894531,121.69000244140625,122.33000183105469,120.61000061035156,120.93000030517578,122.41999816894531,123.33000183105469,123.7300033569336,127.9000015258789,125.29000091552734,124.43000030517578,126.33000183105469,123.70999908447266,123.63999938964844,123.83999633789062,125.97000122070312,126.3499984741211,122.94999694824219,123.02999877929688,118.31999969482422,117.2300033569336,119.08999633789062,119.80999755859375,121.37000274658203,123.41000366210938,125.80000305175781,124.61000061035156,138.07000732421875,137.6699981689453,136.6199951171875,134.10000610351562,136.52000427246094,141.57000732421875,142.55999755859375,143.35000610351562,141.6999969482422,140.86000061035156,141.6999969482422,147.85000610351562,147.24000549316406,146.52999877929688,146.2899932861328,149.0,148.33999633789062,152.1300048828125,152.80999755859375,152.25999450683594,152.25,153.88999938964844,152.5,165.3300018310547,168.80999755859375,167.82000732421875,171.6199951171875,171.9600067138672,172.27999877929688,168.19000244140625,169.16000366210938,172.3000030517578,172.3800048828125,175.0500030517578,176.22000122070312,178.3699951171875,180.27000427246094],\"open\":[145.2899932861328,146.39999389648438,145.5399932861328,145.99000549316406,145.49000549316406,146.47000122070312,145.3000030517578,144.75,143.41000366210938,145.7100067138672,145.08999633789062,145.5399932861328,144.24000549316406,144.4499969482422,143.60000610351562,141.39999389648438,135.86000061035156,136.5,138.60000610351562,135.08999633789062,138.39999389648438,139.7899932861328,145.49000549316406,146.60000610351562,141.9199981689453,141.88999938964844,141.02999877929688,142.85000610351562,141.33999633789062,141.1699981689453,141.10000610351562,139.02000427246094,139.6300048828125,141.6300048828125,139.86000061035156,132.89999389648438,133.75,126.12000274658203,119.80999755859375,114.51000213623047,119.12999725341797,121.1500015258789,118.95999908447266,116.86000061035156,110.76000213623047,108.69000244140625,108.0999984741211,108.41999816894531,97.62000274658203,100.77999877929688,91.80000305175781,95.80000305175781,87.58999633789062,88.0,95.98999786376953,84.48999786376953,92.33000183105469,100.66000366210938,100.83000183105469,100.44999694824219,96.0,100.22000122070312,93.5,94.19999694824219,96.30999755859375,97.26000213623047,104.86000061035156,100.52999877929688,107.91999816894531,104.70999908447266,105.5,104.38999938964844,103.52999877929688,106.20999908447266,103.58000183105469,100.01000213623047,101.80000305175781,100.6500015258789,101.77999877929688,102.0,108.79000091552734,109.94000244140625,109.44000244140625,106.36000061035156,102.01000213623047,101.51000213623047,101.4800033569336,101.8499984741211,109.05000305175781,108.4000015258789,109.05999755859375,104.5,101.9800033569336,104.9800033569336,114.47000122070312,115.0999984741211,116.41999816894531,119.33999633789062,117.5,121.05000305175781,123.68000030517578,121.5999984741211,116.19000244140625,117.26000213623047,119.0,119.98999786376953,121.94999694824219,126.30999755859375,125.0999984741211,125.62999725341797,124.0199966430664,117.5999984741211,115.16999816894531,112.08000183105469,121.23999786376953,118.63999938964844,116.87999725341797,119.9800033569336,114.19000244140625,116.95999908447266,115.8499984741211,108.98999786376953,110.94999694824219,109.0,111.5,112.81999969482422,115.0,113.83000183105469,113.62999725341797,113.4800033569336,116.51000213623047,116.83000183105469,119.94000244140625,115.2300033569336,121.62999725341797,117.72000122070312,118.9000015258789,118.05000305175781,118.05000305175781,118.19000244140625,118.86000061035156,115.69999694824219,117.19999694824219,115.45999908447266,116.22000122070312,114.91000366210938,115.22000122070312,116.16999816894531,115.95999908447266,123.37000274658203,126.95999908447266,130.22000122070312,129.75,130.52999877929688,130.6699981689453,130.63999938964844,130.00999450683594,130.10000610351562,129.44000244140625,129.25,126.80000305175781,127.72000122070312,128.14999389648438,130.8300018310547,130.0,133.0,134.5,135.25,131.9199981689453,133.6300048828125,135.24000549316406,133.75,131.99000549316406,134.27999877929688,133.5800018310547,133.74000549316406,132.52999877929688,131.4600067138672,132.1699981689453,130.5500030517578,129.5,125.9800033569336,125.26000213623047,127.06999969482422,121.93000030517578,121.36000061035156,125.75,125.91999816894531,123.23999786376953,124.94000244140625,121.98999786376953,123.26000213623047,123.12999725341797,121.94999694824219,123.58000183105469,123.8499984741211,124.9000015258789,129.8000030517578,129.13999938964844,125.0,127.80999755859375,127.37000274658203,124.58000183105469,124.36000061035156,126.66999816894531,128.10000610351562,127.11000061035156,124.02999877929688,121.01000213623047,118.16000366210938,120.63999938964844,122.23999786376953,121.61000061035156,123.58000183105469,126.77999877929688,126.26000213623047,140.25999450683594,139.97000122070312,141.47000122070312,136.33999633789062,140.89999389648438,141.57000732421875,144.39999389648438,144.5,142.57000732421875,141.7100067138672,142.4499969482422,148.16000366210938,150.27000427246094,149.0,147.05999755859375,149.57000732421875,149.49000549316406,153.4499969482422,153.69000244140625,153.17999267578125,152.4199981689453,156.2899932861328,153.32000732421875,169.67999267578125,173.8000030517578,170.49000549316406,173.99000549316406,173.82000732421875,173.60000610351562,170.08999633789062,170.0,172.9600067138672,173.99000549316406,175.75,180.00999450683594,178.5,181.22000122070312],\"type\":\"candlestick\",\"x\":[\"2020-01-02T00:00:00\",\"2020-01-03T00:00:00\",\"2020-01-06T00:00:00\",\"2020-01-07T00:00:00\",\"2020-01-08T00:00:00\",\"2020-01-09T00:00:00\",\"2020-01-10T00:00:00\",\"2020-01-13T00:00:00\",\"2020-01-14T00:00:00\",\"2020-01-15T00:00:00\",\"2020-01-16T00:00:00\",\"2020-01-17T00:00:00\",\"2020-01-21T00:00:00\",\"2020-01-22T00:00:00\",\"2020-01-23T00:00:00\",\"2020-01-24T00:00:00\",\"2020-01-27T00:00:00\",\"2020-01-28T00:00:00\",\"2020-01-29T00:00:00\",\"2020-01-30T00:00:00\",\"2020-01-31T00:00:00\",\"2020-02-03T00:00:00\",\"2020-02-04T00:00:00\",\"2020-02-05T00:00:00\",\"2020-02-06T00:00:00\",\"2020-02-07T00:00:00\",\"2020-02-10T00:00:00\",\"2020-02-11T00:00:00\",\"2020-02-12T00:00:00\",\"2020-02-13T00:00:00\",\"2020-02-14T00:00:00\",\"2020-02-18T00:00:00\",\"2020-02-19T00:00:00\",\"2020-02-20T00:00:00\",\"2020-02-21T00:00:00\",\"2020-02-24T00:00:00\",\"2020-02-25T00:00:00\",\"2020-02-26T00:00:00\",\"2020-02-27T00:00:00\",\"2020-02-28T00:00:00\",\"2020-03-02T00:00:00\",\"2020-03-03T00:00:00\",\"2020-03-04T00:00:00\",\"2020-03-05T00:00:00\",\"2020-03-06T00:00:00\",\"2020-03-09T00:00:00\",\"2020-03-10T00:00:00\",\"2020-03-11T00:00:00\",\"2020-03-12T00:00:00\",\"2020-03-13T00:00:00\",\"2020-03-16T00:00:00\",\"2020-03-17T00:00:00\",\"2020-03-18T00:00:00\",\"2020-03-19T00:00:00\",\"2020-03-20T00:00:00\",\"2020-03-23T00:00:00\",\"2020-03-24T00:00:00\",\"2020-03-25T00:00:00\",\"2020-03-26T00:00:00\",\"2020-03-27T00:00:00\",\"2020-03-30T00:00:00\",\"2020-03-31T00:00:00\",\"2020-04-01T00:00:00\",\"2020-04-02T00:00:00\",\"2020-04-03T00:00:00\",\"2020-04-06T00:00:00\",\"2020-04-07T00:00:00\",\"2020-04-08T00:00:00\",\"2020-04-09T00:00:00\",\"2020-04-13T00:00:00\",\"2020-04-14T00:00:00\",\"2020-04-15T00:00:00\",\"2020-04-16T00:00:00\",\"2020-04-17T00:00:00\",\"2020-04-20T00:00:00\",\"2020-04-21T00:00:00\",\"2020-04-22T00:00:00\",\"2020-04-23T00:00:00\",\"2020-04-24T00:00:00\",\"2020-04-27T00:00:00\",\"2020-04-28T00:00:00\",\"2020-04-29T00:00:00\",\"2020-04-30T00:00:00\",\"2020-05-01T00:00:00\",\"2020-05-04T00:00:00\",\"2020-05-05T00:00:00\",\"2020-05-06T00:00:00\",\"2020-05-07T00:00:00\",\"2020-05-08T00:00:00\",\"2020-05-11T00:00:00\",\"2020-05-12T00:00:00\",\"2020-05-13T00:00:00\",\"2020-05-14T00:00:00\",\"2020-05-15T00:00:00\",\"2020-05-18T00:00:00\",\"2020-05-19T00:00:00\",\"2020-05-20T00:00:00\",\"2020-05-21T00:00:00\",\"2020-05-22T00:00:00\",\"2020-05-26T00:00:00\",\"2020-05-27T00:00:00\",\"2020-05-28T00:00:00\",\"2020-05-29T00:00:00\",\"2020-06-01T00:00:00\",\"2020-06-02T00:00:00\",\"2020-06-03T00:00:00\",\"2020-06-04T00:00:00\",\"2020-06-05T00:00:00\",\"2020-06-08T00:00:00\",\"2020-06-09T00:00:00\",\"2020-06-10T00:00:00\",\"2020-06-11T00:00:00\",\"2020-06-12T00:00:00\",\"2020-06-15T00:00:00\",\"2020-06-16T00:00:00\",\"2020-06-17T00:00:00\",\"2020-06-18T00:00:00\",\"2020-06-19T00:00:00\",\"2020-06-22T00:00:00\",\"2020-06-23T00:00:00\",\"2020-06-24T00:00:00\",\"2020-06-25T00:00:00\",\"2020-06-26T00:00:00\",\"2020-06-29T00:00:00\",\"2020-06-30T00:00:00\",\"2020-07-01T00:00:00\",\"2020-07-02T00:00:00\",\"2020-07-06T00:00:00\",\"2020-07-07T00:00:00\",\"2020-07-08T00:00:00\",\"2020-07-09T00:00:00\",\"2020-07-10T00:00:00\",\"2020-07-13T00:00:00\",\"2020-07-14T00:00:00\",\"2020-07-15T00:00:00\",\"2020-07-16T00:00:00\",\"2020-07-17T00:00:00\",\"2020-07-20T00:00:00\",\"2020-07-21T00:00:00\",\"2020-07-22T00:00:00\",\"2020-07-23T00:00:00\",\"2020-07-24T00:00:00\",\"2020-07-27T00:00:00\",\"2020-07-28T00:00:00\",\"2020-07-29T00:00:00\",\"2020-07-30T00:00:00\",\"2020-07-31T00:00:00\",\"2020-08-03T00:00:00\",\"2020-08-04T00:00:00\",\"2020-08-05T00:00:00\",\"2020-08-06T00:00:00\",\"2020-08-07T00:00:00\",\"2020-08-10T00:00:00\",\"2020-08-11T00:00:00\",\"2020-08-12T00:00:00\",\"2020-08-13T00:00:00\",\"2020-08-14T00:00:00\",\"2020-08-17T00:00:00\",\"2020-08-18T00:00:00\",\"2020-08-19T00:00:00\",\"2020-08-20T00:00:00\",\"2020-08-21T00:00:00\",\"2020-08-24T00:00:00\",\"2020-08-25T00:00:00\",\"2020-08-26T00:00:00\",\"2020-08-27T00:00:00\",\"2020-08-28T00:00:00\",\"2020-08-31T00:00:00\",\"2020-09-01T00:00:00\",\"2020-09-02T00:00:00\",\"2020-09-03T00:00:00\",\"2020-09-04T00:00:00\",\"2020-09-08T00:00:00\",\"2020-09-09T00:00:00\",\"2020-09-10T00:00:00\",\"2020-09-11T00:00:00\",\"2020-09-14T00:00:00\",\"2020-09-15T00:00:00\",\"2020-09-16T00:00:00\",\"2020-09-17T00:00:00\",\"2020-09-18T00:00:00\",\"2020-09-21T00:00:00\",\"2020-09-22T00:00:00\",\"2020-09-23T00:00:00\",\"2020-09-24T00:00:00\",\"2020-09-25T00:00:00\",\"2020-09-28T00:00:00\",\"2020-09-29T00:00:00\",\"2020-09-30T00:00:00\",\"2020-10-01T00:00:00\",\"2020-10-02T00:00:00\",\"2020-10-05T00:00:00\",\"2020-10-06T00:00:00\",\"2020-10-07T00:00:00\",\"2020-10-08T00:00:00\",\"2020-10-09T00:00:00\",\"2020-10-12T00:00:00\",\"2020-10-13T00:00:00\",\"2020-10-14T00:00:00\",\"2020-10-15T00:00:00\",\"2020-10-16T00:00:00\",\"2020-10-19T00:00:00\",\"2020-10-20T00:00:00\",\"2020-10-21T00:00:00\",\"2020-10-22T00:00:00\",\"2020-10-23T00:00:00\",\"2020-10-26T00:00:00\",\"2020-10-27T00:00:00\",\"2020-10-28T00:00:00\",\"2020-10-29T00:00:00\",\"2020-10-30T00:00:00\",\"2020-11-02T00:00:00\",\"2020-11-03T00:00:00\",\"2020-11-04T00:00:00\",\"2020-11-05T00:00:00\",\"2020-11-06T00:00:00\",\"2020-11-09T00:00:00\",\"2020-11-10T00:00:00\",\"2020-11-11T00:00:00\",\"2020-11-12T00:00:00\",\"2020-11-13T00:00:00\",\"2020-11-16T00:00:00\",\"2020-11-17T00:00:00\",\"2020-11-18T00:00:00\",\"2020-11-19T00:00:00\",\"2020-11-20T00:00:00\",\"2020-11-23T00:00:00\",\"2020-11-24T00:00:00\",\"2020-11-25T00:00:00\",\"2020-11-27T00:00:00\",\"2020-11-30T00:00:00\",\"2020-12-01T00:00:00\",\"2020-12-02T00:00:00\",\"2020-12-03T00:00:00\",\"2020-12-04T00:00:00\",\"2020-12-07T00:00:00\",\"2020-12-08T00:00:00\",\"2020-12-09T00:00:00\",\"2020-12-10T00:00:00\",\"2020-12-11T00:00:00\",\"2020-12-14T00:00:00\",\"2020-12-15T00:00:00\",\"2020-12-16T00:00:00\",\"2020-12-17T00:00:00\",\"2020-12-18T00:00:00\",\"2020-12-21T00:00:00\",\"2020-12-22T00:00:00\",\"2020-12-23T00:00:00\",\"2020-12-24T00:00:00\",\"2020-12-28T00:00:00\",\"2020-12-29T00:00:00\",\"2020-12-30T00:00:00\",\"2020-12-31T00:00:00\"]}],                        {\"template\":{\"data\":{\"bar\":[{\"error_x\":{\"color\":\"#2a3f5f\"},\"error_y\":{\"color\":\"#2a3f5f\"},\"marker\":{\"line\":{\"color\":\"#E5ECF6\",\"width\":0.5},\"pattern\":{\"fillmode\":\"overlay\",\"size\":10,\"solidity\":0.2}},\"type\":\"bar\"}],\"barpolar\":[{\"marker\":{\"line\":{\"color\":\"#E5ECF6\",\"width\":0.5},\"pattern\":{\"fillmode\":\"overlay\",\"size\":10,\"solidity\":0.2}},\"type\":\"barpolar\"}],\"carpet\":[{\"aaxis\":{\"endlinecolor\":\"#2a3f5f\",\"gridcolor\":\"white\",\"linecolor\":\"white\",\"minorgridcolor\":\"white\",\"startlinecolor\":\"#2a3f5f\"},\"baxis\":{\"endlinecolor\":\"#2a3f5f\",\"gridcolor\":\"white\",\"linecolor\":\"white\",\"minorgridcolor\":\"white\",\"startlinecolor\":\"#2a3f5f\"},\"type\":\"carpet\"}],\"choropleth\":[{\"colorbar\":{\"outlinewidth\":0,\"ticks\":\"\"},\"type\":\"choropleth\"}],\"contour\":[{\"colorbar\":{\"outlinewidth\":0,\"ticks\":\"\"},\"colorscale\":[[0.0,\"#0d0887\"],[0.1111111111111111,\"#46039f\"],[0.2222222222222222,\"#7201a8\"],[0.3333333333333333,\"#9c179e\"],[0.4444444444444444,\"#bd3786\"],[0.5555555555555556,\"#d8576b\"],[0.6666666666666666,\"#ed7953\"],[0.7777777777777778,\"#fb9f3a\"],[0.8888888888888888,\"#fdca26\"],[1.0,\"#f0f921\"]],\"type\":\"contour\"}],\"contourcarpet\":[{\"colorbar\":{\"outlinewidth\":0,\"ticks\":\"\"},\"type\":\"contourcarpet\"}],\"heatmap\":[{\"colorbar\":{\"outlinewidth\":0,\"ticks\":\"\"},\"colorscale\":[[0.0,\"#0d0887\"],[0.1111111111111111,\"#46039f\"],[0.2222222222222222,\"#7201a8\"],[0.3333333333333333,\"#9c179e\"],[0.4444444444444444,\"#bd3786\"],[0.5555555555555556,\"#d8576b\"],[0.6666666666666666,\"#ed7953\"],[0.7777777777777778,\"#fb9f3a\"],[0.8888888888888888,\"#fdca26\"],[1.0,\"#f0f921\"]],\"type\":\"heatmap\"}],\"heatmapgl\":[{\"colorbar\":{\"outlinewidth\":0,\"ticks\":\"\"},\"colorscale\":[[0.0,\"#0d0887\"],[0.1111111111111111,\"#46039f\"],[0.2222222222222222,\"#7201a8\"],[0.3333333333333333,\"#9c179e\"],[0.4444444444444444,\"#bd3786\"],[0.5555555555555556,\"#d8576b\"],[0.6666666666666666,\"#ed7953\"],[0.7777777777777778,\"#fb9f3a\"],[0.8888888888888888,\"#fdca26\"],[1.0,\"#f0f921\"]],\"type\":\"heatmapgl\"}],\"histogram\":[{\"marker\":{\"pattern\":{\"fillmode\":\"overlay\",\"size\":10,\"solidity\":0.2}},\"type\":\"histogram\"}],\"histogram2d\":[{\"colorbar\":{\"outlinewidth\":0,\"ticks\":\"\"},\"colorscale\":[[0.0,\"#0d0887\"],[0.1111111111111111,\"#46039f\"],[0.2222222222222222,\"#7201a8\"],[0.3333333333333333,\"#9c179e\"],[0.4444444444444444,\"#bd3786\"],[0.5555555555555556,\"#d8576b\"],[0.6666666666666666,\"#ed7953\"],[0.7777777777777778,\"#fb9f3a\"],[0.8888888888888888,\"#fdca26\"],[1.0,\"#f0f921\"]],\"type\":\"histogram2d\"}],\"histogram2dcontour\":[{\"colorbar\":{\"outlinewidth\":0,\"ticks\":\"\"},\"colorscale\":[[0.0,\"#0d0887\"],[0.1111111111111111,\"#46039f\"],[0.2222222222222222,\"#7201a8\"],[0.3333333333333333,\"#9c179e\"],[0.4444444444444444,\"#bd3786\"],[0.5555555555555556,\"#d8576b\"],[0.6666666666666666,\"#ed7953\"],[0.7777777777777778,\"#fb9f3a\"],[0.8888888888888888,\"#fdca26\"],[1.0,\"#f0f921\"]],\"type\":\"histogram2dcontour\"}],\"mesh3d\":[{\"colorbar\":{\"outlinewidth\":0,\"ticks\":\"\"},\"type\":\"mesh3d\"}],\"parcoords\":[{\"line\":{\"colorbar\":{\"outlinewidth\":0,\"ticks\":\"\"}},\"type\":\"parcoords\"}],\"pie\":[{\"automargin\":true,\"type\":\"pie\"}],\"scatter\":[{\"marker\":{\"colorbar\":{\"outlinewidth\":0,\"ticks\":\"\"}},\"type\":\"scatter\"}],\"scatter3d\":[{\"line\":{\"colorbar\":{\"outlinewidth\":0,\"ticks\":\"\"}},\"marker\":{\"colorbar\":{\"outlinewidth\":0,\"ticks\":\"\"}},\"type\":\"scatter3d\"}],\"scattercarpet\":[{\"marker\":{\"colorbar\":{\"outlinewidth\":0,\"ticks\":\"\"}},\"type\":\"scattercarpet\"}],\"scattergeo\":[{\"marker\":{\"colorbar\":{\"outlinewidth\":0,\"ticks\":\"\"}},\"type\":\"scattergeo\"}],\"scattergl\":[{\"marker\":{\"colorbar\":{\"outlinewidth\":0,\"ticks\":\"\"}},\"type\":\"scattergl\"}],\"scattermapbox\":[{\"marker\":{\"colorbar\":{\"outlinewidth\":0,\"ticks\":\"\"}},\"type\":\"scattermapbox\"}],\"scatterpolar\":[{\"marker\":{\"colorbar\":{\"outlinewidth\":0,\"ticks\":\"\"}},\"type\":\"scatterpolar\"}],\"scatterpolargl\":[{\"marker\":{\"colorbar\":{\"outlinewidth\":0,\"ticks\":\"\"}},\"type\":\"scatterpolargl\"}],\"scatterternary\":[{\"marker\":{\"colorbar\":{\"outlinewidth\":0,\"ticks\":\"\"}},\"type\":\"scatterternary\"}],\"surface\":[{\"colorbar\":{\"outlinewidth\":0,\"ticks\":\"\"},\"colorscale\":[[0.0,\"#0d0887\"],[0.1111111111111111,\"#46039f\"],[0.2222222222222222,\"#7201a8\"],[0.3333333333333333,\"#9c179e\"],[0.4444444444444444,\"#bd3786\"],[0.5555555555555556,\"#d8576b\"],[0.6666666666666666,\"#ed7953\"],[0.7777777777777778,\"#fb9f3a\"],[0.8888888888888888,\"#fdca26\"],[1.0,\"#f0f921\"]],\"type\":\"surface\"}],\"table\":[{\"cells\":{\"fill\":{\"color\":\"#EBF0F8\"},\"line\":{\"color\":\"white\"}},\"header\":{\"fill\":{\"color\":\"#C8D4E3\"},\"line\":{\"color\":\"white\"}},\"type\":\"table\"}]},\"layout\":{\"annotationdefaults\":{\"arrowcolor\":\"#2a3f5f\",\"arrowhead\":0,\"arrowwidth\":1},\"autotypenumbers\":\"strict\",\"coloraxis\":{\"colorbar\":{\"outlinewidth\":0,\"ticks\":\"\"}},\"colorscale\":{\"diverging\":[[0,\"#8e0152\"],[0.1,\"#c51b7d\"],[0.2,\"#de77ae\"],[0.3,\"#f1b6da\"],[0.4,\"#fde0ef\"],[0.5,\"#f7f7f7\"],[0.6,\"#e6f5d0\"],[0.7,\"#b8e186\"],[0.8,\"#7fbc41\"],[0.9,\"#4d9221\"],[1,\"#276419\"]],\"sequential\":[[0.0,\"#0d0887\"],[0.1111111111111111,\"#46039f\"],[0.2222222222222222,\"#7201a8\"],[0.3333333333333333,\"#9c179e\"],[0.4444444444444444,\"#bd3786\"],[0.5555555555555556,\"#d8576b\"],[0.6666666666666666,\"#ed7953\"],[0.7777777777777778,\"#fb9f3a\"],[0.8888888888888888,\"#fdca26\"],[1.0,\"#f0f921\"]],\"sequentialminus\":[[0.0,\"#0d0887\"],[0.1111111111111111,\"#46039f\"],[0.2222222222222222,\"#7201a8\"],[0.3333333333333333,\"#9c179e\"],[0.4444444444444444,\"#bd3786\"],[0.5555555555555556,\"#d8576b\"],[0.6666666666666666,\"#ed7953\"],[0.7777777777777778,\"#fb9f3a\"],[0.8888888888888888,\"#fdca26\"],[1.0,\"#f0f921\"]]},\"colorway\":[\"#636efa\",\"#EF553B\",\"#00cc96\",\"#ab63fa\",\"#FFA15A\",\"#19d3f3\",\"#FF6692\",\"#B6E880\",\"#FF97FF\",\"#FECB52\"],\"font\":{\"color\":\"#2a3f5f\"},\"geo\":{\"bgcolor\":\"white\",\"lakecolor\":\"white\",\"landcolor\":\"#E5ECF6\",\"showlakes\":true,\"showland\":true,\"subunitcolor\":\"white\"},\"hoverlabel\":{\"align\":\"left\"},\"hovermode\":\"closest\",\"mapbox\":{\"style\":\"light\"},\"paper_bgcolor\":\"white\",\"plot_bgcolor\":\"#E5ECF6\",\"polar\":{\"angularaxis\":{\"gridcolor\":\"white\",\"linecolor\":\"white\",\"ticks\":\"\"},\"bgcolor\":\"#E5ECF6\",\"radialaxis\":{\"gridcolor\":\"white\",\"linecolor\":\"white\",\"ticks\":\"\"}},\"scene\":{\"xaxis\":{\"backgroundcolor\":\"#E5ECF6\",\"gridcolor\":\"white\",\"gridwidth\":2,\"linecolor\":\"white\",\"showbackground\":true,\"ticks\":\"\",\"zerolinecolor\":\"white\"},\"yaxis\":{\"backgroundcolor\":\"#E5ECF6\",\"gridcolor\":\"white\",\"gridwidth\":2,\"linecolor\":\"white\",\"showbackground\":true,\"ticks\":\"\",\"zerolinecolor\":\"white\"},\"zaxis\":{\"backgroundcolor\":\"#E5ECF6\",\"gridcolor\":\"white\",\"gridwidth\":2,\"linecolor\":\"white\",\"showbackground\":true,\"ticks\":\"\",\"zerolinecolor\":\"white\"}},\"shapedefaults\":{\"line\":{\"color\":\"#2a3f5f\"}},\"ternary\":{\"aaxis\":{\"gridcolor\":\"white\",\"linecolor\":\"white\",\"ticks\":\"\"},\"baxis\":{\"gridcolor\":\"white\",\"linecolor\":\"white\",\"ticks\":\"\"},\"bgcolor\":\"#E5ECF6\",\"caxis\":{\"gridcolor\":\"white\",\"linecolor\":\"white\",\"ticks\":\"\"}},\"title\":{\"x\":0.05},\"xaxis\":{\"automargin\":true,\"gridcolor\":\"white\",\"linecolor\":\"white\",\"ticks\":\"\",\"title\":{\"standoff\":15},\"zerolinecolor\":\"white\",\"zerolinewidth\":2},\"yaxis\":{\"automargin\":true,\"gridcolor\":\"white\",\"linecolor\":\"white\",\"ticks\":\"\",\"title\":{\"standoff\":15},\"zerolinecolor\":\"white\",\"zerolinewidth\":2}}}},                        {\"responsive\": true}                    ).then(function(){\n",
       "                            \n",
       "var gd = document.getElementById('7fca5635-41a3-4997-8e43-2e75b26bc4f9');\n",
       "var x = new MutationObserver(function (mutations, observer) {{\n",
       "        var display = window.getComputedStyle(gd).display;\n",
       "        if (!display || display === 'none') {{\n",
       "            console.log([gd, 'removed!']);\n",
       "            Plotly.purge(gd);\n",
       "            observer.disconnect();\n",
       "        }}\n",
       "}});\n",
       "\n",
       "// Listen for the removal of the full notebook cells\n",
       "var notebookContainer = gd.closest('#notebook-container');\n",
       "if (notebookContainer) {{\n",
       "    x.observe(notebookContainer, {childList: true});\n",
       "}}\n",
       "\n",
       "// Listen for the clearing of the current output cell\n",
       "var outputEl = gd.closest('.output');\n",
       "if (outputEl) {{\n",
       "    x.observe(outputEl, {childList: true});\n",
       "}}\n",
       "\n",
       "                        })                };                });            </script>        </div>"
      ]
     },
     "metadata": {},
     "output_type": "display_data"
    }
   ],
   "source": [
    "#use go.Candlestick() to create candlestick chart\n",
    "\n",
    "data_cand_obj=go.Candlestick(x=data_dis.index,\n",
    "                             open=data_dis.Open,\n",
    "                             close=data_dis.Close,\n",
    "                             low=data_dis.Low,\n",
    "                             high=data_dis.High)\n",
    "\n",
    "fig_cand=go.Figure(data_cand_obj)\n",
    "\n",
    "fig_cand.show()"
   ]
  },
  {
   "cell_type": "code",
   "execution_count": 174,
   "id": "4342820b",
   "metadata": {},
   "outputs": [],
   "source": [
    "#creating a list from multiple stock names\n",
    "tickers=['AAPL','MSFT','DIS']"
   ]
  },
  {
   "cell_type": "code",
   "execution_count": 175,
   "id": "4c7ffedf",
   "metadata": {},
   "outputs": [],
   "source": [
    "#downloading stock data for multiple tickers from Yahoo\n",
    "data_stocks=data.DataReader(name=tickers,\n",
    "                           data_source='yahoo',\n",
    "                           start='2020-01-01',\n",
    "                           end='2021-01-01',\n",
    "                           pause=0.1\n",
    "                           )"
   ]
  },
  {
   "cell_type": "code",
   "execution_count": 176,
   "id": "34d90931",
   "metadata": {},
   "outputs": [],
   "source": [
    "#in order to have only one row of headings, let's join two headings with \"_\"\n",
    "data_stocks.columns=data_stocks.columns.map('_'.join)"
   ]
  },
  {
   "cell_type": "code",
   "execution_count": 177,
   "id": "0595d6a9",
   "metadata": {},
   "outputs": [
    {
     "data": {
      "application/vnd.plotly.v1+json": {
       "config": {
        "plotlyServerURL": "https://plot.ly"
       },
       "data": [
        {
         "mode": "lines",
         "name": "Close Price of AAPL",
         "type": "scatter",
         "x": [
          "2020-01-02T00:00:00",
          "2020-01-03T00:00:00",
          "2020-01-06T00:00:00",
          "2020-01-07T00:00:00",
          "2020-01-08T00:00:00",
          "2020-01-09T00:00:00",
          "2020-01-10T00:00:00",
          "2020-01-13T00:00:00",
          "2020-01-14T00:00:00",
          "2020-01-15T00:00:00",
          "2020-01-16T00:00:00",
          "2020-01-17T00:00:00",
          "2020-01-21T00:00:00",
          "2020-01-22T00:00:00",
          "2020-01-23T00:00:00",
          "2020-01-24T00:00:00",
          "2020-01-27T00:00:00",
          "2020-01-28T00:00:00",
          "2020-01-29T00:00:00",
          "2020-01-30T00:00:00",
          "2020-01-31T00:00:00",
          "2020-02-03T00:00:00",
          "2020-02-04T00:00:00",
          "2020-02-05T00:00:00",
          "2020-02-06T00:00:00",
          "2020-02-07T00:00:00",
          "2020-02-10T00:00:00",
          "2020-02-11T00:00:00",
          "2020-02-12T00:00:00",
          "2020-02-13T00:00:00",
          "2020-02-14T00:00:00",
          "2020-02-18T00:00:00",
          "2020-02-19T00:00:00",
          "2020-02-20T00:00:00",
          "2020-02-21T00:00:00",
          "2020-02-24T00:00:00",
          "2020-02-25T00:00:00",
          "2020-02-26T00:00:00",
          "2020-02-27T00:00:00",
          "2020-02-28T00:00:00",
          "2020-03-02T00:00:00",
          "2020-03-03T00:00:00",
          "2020-03-04T00:00:00",
          "2020-03-05T00:00:00",
          "2020-03-06T00:00:00",
          "2020-03-09T00:00:00",
          "2020-03-10T00:00:00",
          "2020-03-11T00:00:00",
          "2020-03-12T00:00:00",
          "2020-03-13T00:00:00",
          "2020-03-16T00:00:00",
          "2020-03-17T00:00:00",
          "2020-03-18T00:00:00",
          "2020-03-19T00:00:00",
          "2020-03-20T00:00:00",
          "2020-03-23T00:00:00",
          "2020-03-24T00:00:00",
          "2020-03-25T00:00:00",
          "2020-03-26T00:00:00",
          "2020-03-27T00:00:00",
          "2020-03-30T00:00:00",
          "2020-03-31T00:00:00",
          "2020-04-01T00:00:00",
          "2020-04-02T00:00:00",
          "2020-04-03T00:00:00",
          "2020-04-06T00:00:00",
          "2020-04-07T00:00:00",
          "2020-04-08T00:00:00",
          "2020-04-09T00:00:00",
          "2020-04-13T00:00:00",
          "2020-04-14T00:00:00",
          "2020-04-15T00:00:00",
          "2020-04-16T00:00:00",
          "2020-04-17T00:00:00",
          "2020-04-20T00:00:00",
          "2020-04-21T00:00:00",
          "2020-04-22T00:00:00",
          "2020-04-23T00:00:00",
          "2020-04-24T00:00:00",
          "2020-04-27T00:00:00",
          "2020-04-28T00:00:00",
          "2020-04-29T00:00:00",
          "2020-04-30T00:00:00",
          "2020-05-01T00:00:00",
          "2020-05-04T00:00:00",
          "2020-05-05T00:00:00",
          "2020-05-06T00:00:00",
          "2020-05-07T00:00:00",
          "2020-05-08T00:00:00",
          "2020-05-11T00:00:00",
          "2020-05-12T00:00:00",
          "2020-05-13T00:00:00",
          "2020-05-14T00:00:00",
          "2020-05-15T00:00:00",
          "2020-05-18T00:00:00",
          "2020-05-19T00:00:00",
          "2020-05-20T00:00:00",
          "2020-05-21T00:00:00",
          "2020-05-22T00:00:00",
          "2020-05-26T00:00:00",
          "2020-05-27T00:00:00",
          "2020-05-28T00:00:00",
          "2020-05-29T00:00:00",
          "2020-06-01T00:00:00",
          "2020-06-02T00:00:00",
          "2020-06-03T00:00:00",
          "2020-06-04T00:00:00",
          "2020-06-05T00:00:00",
          "2020-06-08T00:00:00",
          "2020-06-09T00:00:00",
          "2020-06-10T00:00:00",
          "2020-06-11T00:00:00",
          "2020-06-12T00:00:00",
          "2020-06-15T00:00:00",
          "2020-06-16T00:00:00",
          "2020-06-17T00:00:00",
          "2020-06-18T00:00:00",
          "2020-06-19T00:00:00",
          "2020-06-22T00:00:00",
          "2020-06-23T00:00:00",
          "2020-06-24T00:00:00",
          "2020-06-25T00:00:00",
          "2020-06-26T00:00:00",
          "2020-06-29T00:00:00",
          "2020-06-30T00:00:00",
          "2020-07-01T00:00:00",
          "2020-07-02T00:00:00",
          "2020-07-06T00:00:00",
          "2020-07-07T00:00:00",
          "2020-07-08T00:00:00",
          "2020-07-09T00:00:00",
          "2020-07-10T00:00:00",
          "2020-07-13T00:00:00",
          "2020-07-14T00:00:00",
          "2020-07-15T00:00:00",
          "2020-07-16T00:00:00",
          "2020-07-17T00:00:00",
          "2020-07-20T00:00:00",
          "2020-07-21T00:00:00",
          "2020-07-22T00:00:00",
          "2020-07-23T00:00:00",
          "2020-07-24T00:00:00",
          "2020-07-27T00:00:00",
          "2020-07-28T00:00:00",
          "2020-07-29T00:00:00",
          "2020-07-30T00:00:00",
          "2020-07-31T00:00:00",
          "2020-08-03T00:00:00",
          "2020-08-04T00:00:00",
          "2020-08-05T00:00:00",
          "2020-08-06T00:00:00",
          "2020-08-07T00:00:00",
          "2020-08-10T00:00:00",
          "2020-08-11T00:00:00",
          "2020-08-12T00:00:00",
          "2020-08-13T00:00:00",
          "2020-08-14T00:00:00",
          "2020-08-17T00:00:00",
          "2020-08-18T00:00:00",
          "2020-08-19T00:00:00",
          "2020-08-20T00:00:00",
          "2020-08-21T00:00:00",
          "2020-08-24T00:00:00",
          "2020-08-25T00:00:00",
          "2020-08-26T00:00:00",
          "2020-08-27T00:00:00",
          "2020-08-28T00:00:00",
          "2020-08-31T00:00:00",
          "2020-09-01T00:00:00",
          "2020-09-02T00:00:00",
          "2020-09-03T00:00:00",
          "2020-09-04T00:00:00",
          "2020-09-08T00:00:00",
          "2020-09-09T00:00:00",
          "2020-09-10T00:00:00",
          "2020-09-11T00:00:00",
          "2020-09-14T00:00:00",
          "2020-09-15T00:00:00",
          "2020-09-16T00:00:00",
          "2020-09-17T00:00:00",
          "2020-09-18T00:00:00",
          "2020-09-21T00:00:00",
          "2020-09-22T00:00:00",
          "2020-09-23T00:00:00",
          "2020-09-24T00:00:00",
          "2020-09-25T00:00:00",
          "2020-09-28T00:00:00",
          "2020-09-29T00:00:00",
          "2020-09-30T00:00:00",
          "2020-10-01T00:00:00",
          "2020-10-02T00:00:00",
          "2020-10-05T00:00:00",
          "2020-10-06T00:00:00",
          "2020-10-07T00:00:00",
          "2020-10-08T00:00:00",
          "2020-10-09T00:00:00",
          "2020-10-12T00:00:00",
          "2020-10-13T00:00:00",
          "2020-10-14T00:00:00",
          "2020-10-15T00:00:00",
          "2020-10-16T00:00:00",
          "2020-10-19T00:00:00",
          "2020-10-20T00:00:00",
          "2020-10-21T00:00:00",
          "2020-10-22T00:00:00",
          "2020-10-23T00:00:00",
          "2020-10-26T00:00:00",
          "2020-10-27T00:00:00",
          "2020-10-28T00:00:00",
          "2020-10-29T00:00:00",
          "2020-10-30T00:00:00",
          "2020-11-02T00:00:00",
          "2020-11-03T00:00:00",
          "2020-11-04T00:00:00",
          "2020-11-05T00:00:00",
          "2020-11-06T00:00:00",
          "2020-11-09T00:00:00",
          "2020-11-10T00:00:00",
          "2020-11-11T00:00:00",
          "2020-11-12T00:00:00",
          "2020-11-13T00:00:00",
          "2020-11-16T00:00:00",
          "2020-11-17T00:00:00",
          "2020-11-18T00:00:00",
          "2020-11-19T00:00:00",
          "2020-11-20T00:00:00",
          "2020-11-23T00:00:00",
          "2020-11-24T00:00:00",
          "2020-11-25T00:00:00",
          "2020-11-27T00:00:00",
          "2020-11-30T00:00:00",
          "2020-12-01T00:00:00",
          "2020-12-02T00:00:00",
          "2020-12-03T00:00:00",
          "2020-12-04T00:00:00",
          "2020-12-07T00:00:00",
          "2020-12-08T00:00:00",
          "2020-12-09T00:00:00",
          "2020-12-10T00:00:00",
          "2020-12-11T00:00:00",
          "2020-12-14T00:00:00",
          "2020-12-15T00:00:00",
          "2020-12-16T00:00:00",
          "2020-12-17T00:00:00",
          "2020-12-18T00:00:00",
          "2020-12-21T00:00:00",
          "2020-12-22T00:00:00",
          "2020-12-23T00:00:00",
          "2020-12-24T00:00:00",
          "2020-12-28T00:00:00",
          "2020-12-29T00:00:00",
          "2020-12-30T00:00:00",
          "2020-12-31T00:00:00"
         ],
         "y": [
          75.0875015258789,
          74.35749816894531,
          74.94999694824219,
          74.59750366210938,
          75.79750061035156,
          77.40750122070312,
          77.5824966430664,
          79.23999786376953,
          78.16999816894531,
          77.83499908447266,
          78.80999755859375,
          79.68250274658203,
          79.14250183105469,
          79.42500305175781,
          79.80750274658203,
          79.57749938964844,
          77.23750305175781,
          79.42250061035156,
          81.08499908447266,
          80.96749877929688,
          77.37750244140625,
          77.16500091552734,
          79.7125015258789,
          80.36250305175781,
          81.30249786376953,
          80.00749969482422,
          80.38749694824219,
          79.90249633789062,
          81.80000305175781,
          81.21749877929688,
          81.23750305175781,
          79.75,
          80.90499877929688,
          80.07499694824219,
          78.26249694824219,
          74.54499816894531,
          72.0199966430664,
          73.1624984741211,
          68.37999725341797,
          68.33999633789062,
          74.70249938964844,
          72.33000183105469,
          75.68499755859375,
          73.2300033569336,
          72.25749969482422,
          66.5425033569336,
          71.33499908447266,
          68.85749816894531,
          62.057498931884766,
          69.49250030517578,
          60.5525016784668,
          63.21500015258789,
          61.66749954223633,
          61.19499969482422,
          57.310001373291016,
          56.092498779296875,
          61.720001220703125,
          61.380001068115234,
          64.61000061035156,
          61.935001373291016,
          63.70249938964844,
          63.5724983215332,
          60.227500915527344,
          61.23249816894531,
          60.352500915527344,
          65.61750030517578,
          64.85749816894531,
          66.51750183105469,
          66.99749755859375,
          68.3125,
          71.76249694824219,
          71.10749816894531,
          71.67250061035156,
          70.69999694824219,
          69.23249816894531,
          67.09249877929688,
          69.0250015258789,
          68.75749969482422,
          70.74250030517578,
          70.7925033569336,
          69.6449966430664,
          71.93250274658203,
          73.44999694824219,
          72.26750183105469,
          73.29000091552734,
          74.38999938964844,
          75.15750122070312,
          75.93499755859375,
          77.53250122070312,
          78.75250244140625,
          77.85250091552734,
          76.9124984741211,
          77.38500213623047,
          76.92749786376953,
          78.73999786376953,
          78.28500366210938,
          79.80750274658203,
          79.2125015258789,
          79.72250366210938,
          79.18250274658203,
          79.52749633789062,
          79.5625,
          79.48500061035156,
          80.4625015258789,
          80.83499908447266,
          81.27999877929688,
          80.58000183105469,
          82.875,
          83.36499786376953,
          85.99749755859375,
          88.20999908447266,
          83.9749984741211,
          84.69999694824219,
          85.74749755859375,
          88.0199966430664,
          87.89749908447266,
          87.93250274658203,
          87.43000030517578,
          89.71749877929688,
          91.63249969482422,
          90.01499938964844,
          91.20999908447266,
          88.40750122070312,
          90.44499969482422,
          91.19999694824219,
          91.02749633789062,
          91.02749633789062,
          93.4625015258789,
          93.17250061035156,
          95.34249877929688,
          95.75250244140625,
          95.91999816894531,
          95.47750091552734,
          97.05750274658203,
          97.7249984741211,
          96.52249908447266,
          96.32749938964844,
          98.35749816894531,
          97,
          97.27249908447266,
          92.84500122070312,
          92.61499786376953,
          94.80999755859375,
          93.25250244140625,
          95.04000091552734,
          96.19000244140625,
          106.26000213623047,
          108.9375,
          109.66500091552734,
          110.0625,
          113.90249633789062,
          111.11250305175781,
          112.72750091552734,
          109.375,
          113.01000213623047,
          115.01000213623047,
          114.90750122070312,
          114.60749816894531,
          115.5625,
          115.7074966430664,
          118.2750015258789,
          124.37000274658203,
          125.85749816894531,
          124.82499694824219,
          126.52249908447266,
          125.01000213623047,
          124.80750274658203,
          129.0399932861328,
          134.17999267578125,
          131.39999389648438,
          120.87999725341797,
          120.95999908447266,
          112.81999969482422,
          117.31999969482422,
          113.48999786376953,
          112,
          115.36000061035156,
          115.54000091552734,
          112.12999725341797,
          110.33999633789062,
          106.83999633789062,
          110.08000183105469,
          111.80999755859375,
          107.12000274658203,
          108.22000122070312,
          112.27999877929688,
          114.95999908447266,
          114.08999633789062,
          115.80999755859375,
          116.79000091552734,
          113.0199966430664,
          116.5,
          113.16000366210938,
          115.08000183105469,
          114.97000122070312,
          116.97000122070312,
          124.4000015258789,
          121.0999984741211,
          121.19000244140625,
          120.70999908447266,
          119.0199966430664,
          115.9800033569336,
          117.51000213623047,
          116.87000274658203,
          115.75,
          115.04000091552734,
          115.05000305175781,
          116.5999984741211,
          111.19999694824219,
          115.31999969482422,
          108.86000061035156,
          108.7699966430664,
          110.44000244140625,
          114.94999694824219,
          119.02999877929688,
          118.69000244140625,
          116.31999969482422,
          115.97000122070312,
          119.48999786376953,
          119.20999908447266,
          119.26000213623047,
          120.30000305175781,
          119.38999938964844,
          118.02999877929688,
          118.63999938964844,
          117.33999633789062,
          113.8499984741211,
          115.16999816894531,
          116.02999877929688,
          116.58999633789062,
          119.05000305175781,
          122.72000122070312,
          123.08000183105469,
          122.94000244140625,
          122.25,
          123.75,
          124.37999725341797,
          121.77999877929688,
          123.23999786376953,
          122.41000366210938,
          121.77999877929688,
          127.87999725341797,
          127.80999755859375,
          128.6999969482422,
          126.66000366210938,
          128.22999572753906,
          131.8800048828125,
          130.9600067138672,
          131.97000122070312,
          136.69000244140625,
          134.8699951171875,
          133.72000122070312,
          132.69000244140625
         ]
        },
        {
         "mode": "lines",
         "name": "Close Price of DIS",
         "type": "scatter",
         "x": [
          "2020-01-02T00:00:00",
          "2020-01-03T00:00:00",
          "2020-01-06T00:00:00",
          "2020-01-07T00:00:00",
          "2020-01-08T00:00:00",
          "2020-01-09T00:00:00",
          "2020-01-10T00:00:00",
          "2020-01-13T00:00:00",
          "2020-01-14T00:00:00",
          "2020-01-15T00:00:00",
          "2020-01-16T00:00:00",
          "2020-01-17T00:00:00",
          "2020-01-21T00:00:00",
          "2020-01-22T00:00:00",
          "2020-01-23T00:00:00",
          "2020-01-24T00:00:00",
          "2020-01-27T00:00:00",
          "2020-01-28T00:00:00",
          "2020-01-29T00:00:00",
          "2020-01-30T00:00:00",
          "2020-01-31T00:00:00",
          "2020-02-03T00:00:00",
          "2020-02-04T00:00:00",
          "2020-02-05T00:00:00",
          "2020-02-06T00:00:00",
          "2020-02-07T00:00:00",
          "2020-02-10T00:00:00",
          "2020-02-11T00:00:00",
          "2020-02-12T00:00:00",
          "2020-02-13T00:00:00",
          "2020-02-14T00:00:00",
          "2020-02-18T00:00:00",
          "2020-02-19T00:00:00",
          "2020-02-20T00:00:00",
          "2020-02-21T00:00:00",
          "2020-02-24T00:00:00",
          "2020-02-25T00:00:00",
          "2020-02-26T00:00:00",
          "2020-02-27T00:00:00",
          "2020-02-28T00:00:00",
          "2020-03-02T00:00:00",
          "2020-03-03T00:00:00",
          "2020-03-04T00:00:00",
          "2020-03-05T00:00:00",
          "2020-03-06T00:00:00",
          "2020-03-09T00:00:00",
          "2020-03-10T00:00:00",
          "2020-03-11T00:00:00",
          "2020-03-12T00:00:00",
          "2020-03-13T00:00:00",
          "2020-03-16T00:00:00",
          "2020-03-17T00:00:00",
          "2020-03-18T00:00:00",
          "2020-03-19T00:00:00",
          "2020-03-20T00:00:00",
          "2020-03-23T00:00:00",
          "2020-03-24T00:00:00",
          "2020-03-25T00:00:00",
          "2020-03-26T00:00:00",
          "2020-03-27T00:00:00",
          "2020-03-30T00:00:00",
          "2020-03-31T00:00:00",
          "2020-04-01T00:00:00",
          "2020-04-02T00:00:00",
          "2020-04-03T00:00:00",
          "2020-04-06T00:00:00",
          "2020-04-07T00:00:00",
          "2020-04-08T00:00:00",
          "2020-04-09T00:00:00",
          "2020-04-13T00:00:00",
          "2020-04-14T00:00:00",
          "2020-04-15T00:00:00",
          "2020-04-16T00:00:00",
          "2020-04-17T00:00:00",
          "2020-04-20T00:00:00",
          "2020-04-21T00:00:00",
          "2020-04-22T00:00:00",
          "2020-04-23T00:00:00",
          "2020-04-24T00:00:00",
          "2020-04-27T00:00:00",
          "2020-04-28T00:00:00",
          "2020-04-29T00:00:00",
          "2020-04-30T00:00:00",
          "2020-05-01T00:00:00",
          "2020-05-04T00:00:00",
          "2020-05-05T00:00:00",
          "2020-05-06T00:00:00",
          "2020-05-07T00:00:00",
          "2020-05-08T00:00:00",
          "2020-05-11T00:00:00",
          "2020-05-12T00:00:00",
          "2020-05-13T00:00:00",
          "2020-05-14T00:00:00",
          "2020-05-15T00:00:00",
          "2020-05-18T00:00:00",
          "2020-05-19T00:00:00",
          "2020-05-20T00:00:00",
          "2020-05-21T00:00:00",
          "2020-05-22T00:00:00",
          "2020-05-26T00:00:00",
          "2020-05-27T00:00:00",
          "2020-05-28T00:00:00",
          "2020-05-29T00:00:00",
          "2020-06-01T00:00:00",
          "2020-06-02T00:00:00",
          "2020-06-03T00:00:00",
          "2020-06-04T00:00:00",
          "2020-06-05T00:00:00",
          "2020-06-08T00:00:00",
          "2020-06-09T00:00:00",
          "2020-06-10T00:00:00",
          "2020-06-11T00:00:00",
          "2020-06-12T00:00:00",
          "2020-06-15T00:00:00",
          "2020-06-16T00:00:00",
          "2020-06-17T00:00:00",
          "2020-06-18T00:00:00",
          "2020-06-19T00:00:00",
          "2020-06-22T00:00:00",
          "2020-06-23T00:00:00",
          "2020-06-24T00:00:00",
          "2020-06-25T00:00:00",
          "2020-06-26T00:00:00",
          "2020-06-29T00:00:00",
          "2020-06-30T00:00:00",
          "2020-07-01T00:00:00",
          "2020-07-02T00:00:00",
          "2020-07-06T00:00:00",
          "2020-07-07T00:00:00",
          "2020-07-08T00:00:00",
          "2020-07-09T00:00:00",
          "2020-07-10T00:00:00",
          "2020-07-13T00:00:00",
          "2020-07-14T00:00:00",
          "2020-07-15T00:00:00",
          "2020-07-16T00:00:00",
          "2020-07-17T00:00:00",
          "2020-07-20T00:00:00",
          "2020-07-21T00:00:00",
          "2020-07-22T00:00:00",
          "2020-07-23T00:00:00",
          "2020-07-24T00:00:00",
          "2020-07-27T00:00:00",
          "2020-07-28T00:00:00",
          "2020-07-29T00:00:00",
          "2020-07-30T00:00:00",
          "2020-07-31T00:00:00",
          "2020-08-03T00:00:00",
          "2020-08-04T00:00:00",
          "2020-08-05T00:00:00",
          "2020-08-06T00:00:00",
          "2020-08-07T00:00:00",
          "2020-08-10T00:00:00",
          "2020-08-11T00:00:00",
          "2020-08-12T00:00:00",
          "2020-08-13T00:00:00",
          "2020-08-14T00:00:00",
          "2020-08-17T00:00:00",
          "2020-08-18T00:00:00",
          "2020-08-19T00:00:00",
          "2020-08-20T00:00:00",
          "2020-08-21T00:00:00",
          "2020-08-24T00:00:00",
          "2020-08-25T00:00:00",
          "2020-08-26T00:00:00",
          "2020-08-27T00:00:00",
          "2020-08-28T00:00:00",
          "2020-08-31T00:00:00",
          "2020-09-01T00:00:00",
          "2020-09-02T00:00:00",
          "2020-09-03T00:00:00",
          "2020-09-04T00:00:00",
          "2020-09-08T00:00:00",
          "2020-09-09T00:00:00",
          "2020-09-10T00:00:00",
          "2020-09-11T00:00:00",
          "2020-09-14T00:00:00",
          "2020-09-15T00:00:00",
          "2020-09-16T00:00:00",
          "2020-09-17T00:00:00",
          "2020-09-18T00:00:00",
          "2020-09-21T00:00:00",
          "2020-09-22T00:00:00",
          "2020-09-23T00:00:00",
          "2020-09-24T00:00:00",
          "2020-09-25T00:00:00",
          "2020-09-28T00:00:00",
          "2020-09-29T00:00:00",
          "2020-09-30T00:00:00",
          "2020-10-01T00:00:00",
          "2020-10-02T00:00:00",
          "2020-10-05T00:00:00",
          "2020-10-06T00:00:00",
          "2020-10-07T00:00:00",
          "2020-10-08T00:00:00",
          "2020-10-09T00:00:00",
          "2020-10-12T00:00:00",
          "2020-10-13T00:00:00",
          "2020-10-14T00:00:00",
          "2020-10-15T00:00:00",
          "2020-10-16T00:00:00",
          "2020-10-19T00:00:00",
          "2020-10-20T00:00:00",
          "2020-10-21T00:00:00",
          "2020-10-22T00:00:00",
          "2020-10-23T00:00:00",
          "2020-10-26T00:00:00",
          "2020-10-27T00:00:00",
          "2020-10-28T00:00:00",
          "2020-10-29T00:00:00",
          "2020-10-30T00:00:00",
          "2020-11-02T00:00:00",
          "2020-11-03T00:00:00",
          "2020-11-04T00:00:00",
          "2020-11-05T00:00:00",
          "2020-11-06T00:00:00",
          "2020-11-09T00:00:00",
          "2020-11-10T00:00:00",
          "2020-11-11T00:00:00",
          "2020-11-12T00:00:00",
          "2020-11-13T00:00:00",
          "2020-11-16T00:00:00",
          "2020-11-17T00:00:00",
          "2020-11-18T00:00:00",
          "2020-11-19T00:00:00",
          "2020-11-20T00:00:00",
          "2020-11-23T00:00:00",
          "2020-11-24T00:00:00",
          "2020-11-25T00:00:00",
          "2020-11-27T00:00:00",
          "2020-11-30T00:00:00",
          "2020-12-01T00:00:00",
          "2020-12-02T00:00:00",
          "2020-12-03T00:00:00",
          "2020-12-04T00:00:00",
          "2020-12-07T00:00:00",
          "2020-12-08T00:00:00",
          "2020-12-09T00:00:00",
          "2020-12-10T00:00:00",
          "2020-12-11T00:00:00",
          "2020-12-14T00:00:00",
          "2020-12-15T00:00:00",
          "2020-12-16T00:00:00",
          "2020-12-17T00:00:00",
          "2020-12-18T00:00:00",
          "2020-12-21T00:00:00",
          "2020-12-22T00:00:00",
          "2020-12-23T00:00:00",
          "2020-12-24T00:00:00",
          "2020-12-28T00:00:00",
          "2020-12-29T00:00:00",
          "2020-12-30T00:00:00",
          "2020-12-31T00:00:00"
         ],
         "y": [
          148.1999969482422,
          146.5,
          145.64999389648438,
          145.6999969482422,
          145.39999389648438,
          144.8300018310547,
          144.6199951171875,
          143.8800048828125,
          145.1999969482422,
          144.32000732421875,
          145.1199951171875,
          144.3300018310547,
          143.55999755859375,
          144.00999450683594,
          142.1999969482422,
          140.0800018310547,
          135.89999389648438,
          138.3699951171875,
          136.05999755859375,
          137.80999755859375,
          138.30999755859375,
          141.32000732421875,
          144.72999572753906,
          141.3699951171875,
          142.6999969482422,
          141.02000427246094,
          142.58999633789062,
          141.00999450683594,
          141.85000610351562,
          140.89999389648438,
          139.5399932861328,
          139.13999938964844,
          141.3000030517578,
          140.3699951171875,
          138.97000122070312,
          133.00999450683594,
          128.19000244140625,
          123.36000061035156,
          118.04000091552734,
          117.6500015258789,
          119.9800033569336,
          116.44999694824219,
          119.18000030517578,
          113.9800033569336,
          115.2699966430664,
          104.3499984741211,
          111.45999908447266,
          105.51000213623047,
          91.80999755859375,
          102.5199966430664,
          95.01000213623047,
          93.52999877929688,
          88.80000305175781,
          94.93000030517578,
          85.9800033569336,
          85.76000213623047,
          98.12000274658203,
          100.7300033569336,
          105.36000061035156,
          96.4000015258789,
          99.80000305175781,
          96.5999984741211,
          94.91999816894531,
          96.97000122070312,
          93.87999725341797,
          99.58000183105469,
          101.23999786376953,
          101.06999969482422,
          104.5,
          103.5,
          106.02999877929688,
          103.37000274658203,
          102.0199966430664,
          106.62999725341797,
          102.26000213623047,
          100.54000091552734,
          100.98999786376953,
          101,
          101.19000244140625,
          106.05999755859375,
          106.20999908447266,
          112.25,
          108.1500015258789,
          105.5,
          103.18000030517578,
          101.05999755859375,
          100.87999725341797,
          105.56999969482422,
          109.16000366210938,
          107.7699966430664,
          104.55999755859375,
          102.91999816894531,
          105.91000366210938,
          109.05000305175781,
          116.8499984741211,
          114.37000274658203,
          119.91999816894531,
          117.83000183105469,
          118.0199966430664,
          120.94999694824219,
          121.52999877929688,
          116.75,
          117.30000305175781,
          118.7699966430664,
          118.75,
          122.18000030517578,
          123.69000244140625,
          124.81999969482422,
          127.27999877929688,
          123.88999938964844,
          122.18000030517578,
          112.63999938964844,
          115.48999786376953,
          117.08000183105469,
          118.44000244140625,
          117.6500015258789,
          118.37000274658203,
          114.3499984741211,
          115.91999816894531,
          116.58999633789062,
          112.06999969482422,
          111.36000061035156,
          109.0999984741211,
          111.5199966430664,
          111.51000213623047,
          113.01000213623047,
          112.18000030517578,
          114.43000030517578,
          113.62999725341797,
          116.66000366210938,
          116.80999755859375,
          119.33999633789062,
          116.22000122070312,
          118.66000366210938,
          120.9000015258789,
          119.43000030517578,
          118.6500015258789,
          117.79000091552734,
          118.62000274658203,
          119.02999877929688,
          118.12000274658203,
          117.61000061035156,
          116.30999755859375,
          116.18000030517578,
          115.61000061035156,
          115.66000366210938,
          116.94000244140625,
          116.3499984741211,
          117.29000091552734,
          127.61000061035156,
          130.82000732421875,
          129.92999267578125,
          128.7899932861328,
          130.49000549316406,
          131.7899932861328,
          130.9600067138672,
          130.52999877929688,
          129.3699951171875,
          128.9199981689453,
          127.7699966430664,
          128.1199951171875,
          127.44000244140625,
          130.69000244140625,
          129.7899932861328,
          132.17999267578125,
          133.72999572753906,
          135.5399932861328,
          131.8699951171875,
          133.5500030517578,
          135.38999938964844,
          133.24000549316406,
          131.99000549316406,
          134.1999969482422,
          133.36000061035156,
          133.22000122070312,
          131.75,
          131.25,
          131.24000549316406,
          132.08999633789062,
          130.22000122070312,
          128.6300048828125,
          125.41000366210938,
          127.20999908447266,
          123.27999877929688,
          122.48999786376953,
          124,
          125.98999786376953,
          125.4000015258789,
          124.08000183105469,
          123.30999755859375,
          122.55000305175781,
          123.37000274658203,
          120.93000030517578,
          122.91000366210938,
          123.08999633789062,
          124.9800033569336,
          124.97000122070312,
          128.9600067138672,
          126.58999633789062,
          127.36000061035156,
          126.80999755859375,
          124.2300033569336,
          124.94999694824219,
          126.62999725341797,
          127.55999755859375,
          128.35000610351562,
          124.05999755859375,
          123.30999755859375,
          118.47000122070312,
          121.54000091552734,
          121.25,
          120.12999725341797,
          124.0199966430664,
          125.06999969482422,
          126.95999908447266,
          127.45999908447266,
          142.58999633789062,
          142.11000061035156,
          137.82000732421875,
          135.52000427246094,
          138.36000061035156,
          144.6699981689453,
          144.5,
          143.89999389648438,
          141.72000122070312,
          141.07000732421875,
          145.97999572753906,
          151.49000549316406,
          149.08999633789062,
          147.1300048828125,
          148.00999450683594,
          149.44000244140625,
          153.61000061035156,
          153.24000549316406,
          154.13999938964844,
          153.67999267578125,
          153.72000122070312,
          154.42999267578125,
          154.69000244140625,
          175.72000122070312,
          169.3000030517578,
          173.94000244140625,
          173.1199951171875,
          173.5500030517578,
          172.88999938964844,
          170.69000244140625,
          170.4499969482422,
          173.5500030517578,
          173.72999572753906,
          178.86000061035156,
          177.3000030517578,
          181.1699981689453,
          181.17999267578125
         ]
        },
        {
         "mode": "lines",
         "name": "Close Price of MSFT",
         "type": "scatter",
         "x": [
          "2020-01-02T00:00:00",
          "2020-01-03T00:00:00",
          "2020-01-06T00:00:00",
          "2020-01-07T00:00:00",
          "2020-01-08T00:00:00",
          "2020-01-09T00:00:00",
          "2020-01-10T00:00:00",
          "2020-01-13T00:00:00",
          "2020-01-14T00:00:00",
          "2020-01-15T00:00:00",
          "2020-01-16T00:00:00",
          "2020-01-17T00:00:00",
          "2020-01-21T00:00:00",
          "2020-01-22T00:00:00",
          "2020-01-23T00:00:00",
          "2020-01-24T00:00:00",
          "2020-01-27T00:00:00",
          "2020-01-28T00:00:00",
          "2020-01-29T00:00:00",
          "2020-01-30T00:00:00",
          "2020-01-31T00:00:00",
          "2020-02-03T00:00:00",
          "2020-02-04T00:00:00",
          "2020-02-05T00:00:00",
          "2020-02-06T00:00:00",
          "2020-02-07T00:00:00",
          "2020-02-10T00:00:00",
          "2020-02-11T00:00:00",
          "2020-02-12T00:00:00",
          "2020-02-13T00:00:00",
          "2020-02-14T00:00:00",
          "2020-02-18T00:00:00",
          "2020-02-19T00:00:00",
          "2020-02-20T00:00:00",
          "2020-02-21T00:00:00",
          "2020-02-24T00:00:00",
          "2020-02-25T00:00:00",
          "2020-02-26T00:00:00",
          "2020-02-27T00:00:00",
          "2020-02-28T00:00:00",
          "2020-03-02T00:00:00",
          "2020-03-03T00:00:00",
          "2020-03-04T00:00:00",
          "2020-03-05T00:00:00",
          "2020-03-06T00:00:00",
          "2020-03-09T00:00:00",
          "2020-03-10T00:00:00",
          "2020-03-11T00:00:00",
          "2020-03-12T00:00:00",
          "2020-03-13T00:00:00",
          "2020-03-16T00:00:00",
          "2020-03-17T00:00:00",
          "2020-03-18T00:00:00",
          "2020-03-19T00:00:00",
          "2020-03-20T00:00:00",
          "2020-03-23T00:00:00",
          "2020-03-24T00:00:00",
          "2020-03-25T00:00:00",
          "2020-03-26T00:00:00",
          "2020-03-27T00:00:00",
          "2020-03-30T00:00:00",
          "2020-03-31T00:00:00",
          "2020-04-01T00:00:00",
          "2020-04-02T00:00:00",
          "2020-04-03T00:00:00",
          "2020-04-06T00:00:00",
          "2020-04-07T00:00:00",
          "2020-04-08T00:00:00",
          "2020-04-09T00:00:00",
          "2020-04-13T00:00:00",
          "2020-04-14T00:00:00",
          "2020-04-15T00:00:00",
          "2020-04-16T00:00:00",
          "2020-04-17T00:00:00",
          "2020-04-20T00:00:00",
          "2020-04-21T00:00:00",
          "2020-04-22T00:00:00",
          "2020-04-23T00:00:00",
          "2020-04-24T00:00:00",
          "2020-04-27T00:00:00",
          "2020-04-28T00:00:00",
          "2020-04-29T00:00:00",
          "2020-04-30T00:00:00",
          "2020-05-01T00:00:00",
          "2020-05-04T00:00:00",
          "2020-05-05T00:00:00",
          "2020-05-06T00:00:00",
          "2020-05-07T00:00:00",
          "2020-05-08T00:00:00",
          "2020-05-11T00:00:00",
          "2020-05-12T00:00:00",
          "2020-05-13T00:00:00",
          "2020-05-14T00:00:00",
          "2020-05-15T00:00:00",
          "2020-05-18T00:00:00",
          "2020-05-19T00:00:00",
          "2020-05-20T00:00:00",
          "2020-05-21T00:00:00",
          "2020-05-22T00:00:00",
          "2020-05-26T00:00:00",
          "2020-05-27T00:00:00",
          "2020-05-28T00:00:00",
          "2020-05-29T00:00:00",
          "2020-06-01T00:00:00",
          "2020-06-02T00:00:00",
          "2020-06-03T00:00:00",
          "2020-06-04T00:00:00",
          "2020-06-05T00:00:00",
          "2020-06-08T00:00:00",
          "2020-06-09T00:00:00",
          "2020-06-10T00:00:00",
          "2020-06-11T00:00:00",
          "2020-06-12T00:00:00",
          "2020-06-15T00:00:00",
          "2020-06-16T00:00:00",
          "2020-06-17T00:00:00",
          "2020-06-18T00:00:00",
          "2020-06-19T00:00:00",
          "2020-06-22T00:00:00",
          "2020-06-23T00:00:00",
          "2020-06-24T00:00:00",
          "2020-06-25T00:00:00",
          "2020-06-26T00:00:00",
          "2020-06-29T00:00:00",
          "2020-06-30T00:00:00",
          "2020-07-01T00:00:00",
          "2020-07-02T00:00:00",
          "2020-07-06T00:00:00",
          "2020-07-07T00:00:00",
          "2020-07-08T00:00:00",
          "2020-07-09T00:00:00",
          "2020-07-10T00:00:00",
          "2020-07-13T00:00:00",
          "2020-07-14T00:00:00",
          "2020-07-15T00:00:00",
          "2020-07-16T00:00:00",
          "2020-07-17T00:00:00",
          "2020-07-20T00:00:00",
          "2020-07-21T00:00:00",
          "2020-07-22T00:00:00",
          "2020-07-23T00:00:00",
          "2020-07-24T00:00:00",
          "2020-07-27T00:00:00",
          "2020-07-28T00:00:00",
          "2020-07-29T00:00:00",
          "2020-07-30T00:00:00",
          "2020-07-31T00:00:00",
          "2020-08-03T00:00:00",
          "2020-08-04T00:00:00",
          "2020-08-05T00:00:00",
          "2020-08-06T00:00:00",
          "2020-08-07T00:00:00",
          "2020-08-10T00:00:00",
          "2020-08-11T00:00:00",
          "2020-08-12T00:00:00",
          "2020-08-13T00:00:00",
          "2020-08-14T00:00:00",
          "2020-08-17T00:00:00",
          "2020-08-18T00:00:00",
          "2020-08-19T00:00:00",
          "2020-08-20T00:00:00",
          "2020-08-21T00:00:00",
          "2020-08-24T00:00:00",
          "2020-08-25T00:00:00",
          "2020-08-26T00:00:00",
          "2020-08-27T00:00:00",
          "2020-08-28T00:00:00",
          "2020-08-31T00:00:00",
          "2020-09-01T00:00:00",
          "2020-09-02T00:00:00",
          "2020-09-03T00:00:00",
          "2020-09-04T00:00:00",
          "2020-09-08T00:00:00",
          "2020-09-09T00:00:00",
          "2020-09-10T00:00:00",
          "2020-09-11T00:00:00",
          "2020-09-14T00:00:00",
          "2020-09-15T00:00:00",
          "2020-09-16T00:00:00",
          "2020-09-17T00:00:00",
          "2020-09-18T00:00:00",
          "2020-09-21T00:00:00",
          "2020-09-22T00:00:00",
          "2020-09-23T00:00:00",
          "2020-09-24T00:00:00",
          "2020-09-25T00:00:00",
          "2020-09-28T00:00:00",
          "2020-09-29T00:00:00",
          "2020-09-30T00:00:00",
          "2020-10-01T00:00:00",
          "2020-10-02T00:00:00",
          "2020-10-05T00:00:00",
          "2020-10-06T00:00:00",
          "2020-10-07T00:00:00",
          "2020-10-08T00:00:00",
          "2020-10-09T00:00:00",
          "2020-10-12T00:00:00",
          "2020-10-13T00:00:00",
          "2020-10-14T00:00:00",
          "2020-10-15T00:00:00",
          "2020-10-16T00:00:00",
          "2020-10-19T00:00:00",
          "2020-10-20T00:00:00",
          "2020-10-21T00:00:00",
          "2020-10-22T00:00:00",
          "2020-10-23T00:00:00",
          "2020-10-26T00:00:00",
          "2020-10-27T00:00:00",
          "2020-10-28T00:00:00",
          "2020-10-29T00:00:00",
          "2020-10-30T00:00:00",
          "2020-11-02T00:00:00",
          "2020-11-03T00:00:00",
          "2020-11-04T00:00:00",
          "2020-11-05T00:00:00",
          "2020-11-06T00:00:00",
          "2020-11-09T00:00:00",
          "2020-11-10T00:00:00",
          "2020-11-11T00:00:00",
          "2020-11-12T00:00:00",
          "2020-11-13T00:00:00",
          "2020-11-16T00:00:00",
          "2020-11-17T00:00:00",
          "2020-11-18T00:00:00",
          "2020-11-19T00:00:00",
          "2020-11-20T00:00:00",
          "2020-11-23T00:00:00",
          "2020-11-24T00:00:00",
          "2020-11-25T00:00:00",
          "2020-11-27T00:00:00",
          "2020-11-30T00:00:00",
          "2020-12-01T00:00:00",
          "2020-12-02T00:00:00",
          "2020-12-03T00:00:00",
          "2020-12-04T00:00:00",
          "2020-12-07T00:00:00",
          "2020-12-08T00:00:00",
          "2020-12-09T00:00:00",
          "2020-12-10T00:00:00",
          "2020-12-11T00:00:00",
          "2020-12-14T00:00:00",
          "2020-12-15T00:00:00",
          "2020-12-16T00:00:00",
          "2020-12-17T00:00:00",
          "2020-12-18T00:00:00",
          "2020-12-21T00:00:00",
          "2020-12-22T00:00:00",
          "2020-12-23T00:00:00",
          "2020-12-24T00:00:00",
          "2020-12-28T00:00:00",
          "2020-12-29T00:00:00",
          "2020-12-30T00:00:00",
          "2020-12-31T00:00:00"
         ],
         "y": [
          160.6199951171875,
          158.6199951171875,
          159.02999877929688,
          157.5800018310547,
          160.08999633789062,
          162.08999633789062,
          161.33999633789062,
          163.27999877929688,
          162.1300048828125,
          163.17999267578125,
          166.1699981689453,
          167.10000610351562,
          166.5,
          165.6999969482422,
          166.72000122070312,
          165.0399932861328,
          162.27999877929688,
          165.4600067138672,
          168.0399932861328,
          172.77999877929688,
          170.22999572753906,
          174.3800048828125,
          180.1199951171875,
          179.89999389648438,
          183.6300048828125,
          183.88999938964844,
          188.6999969482422,
          184.44000244140625,
          184.7100067138672,
          183.7100067138672,
          185.35000610351562,
          187.22999572753906,
          187.27999877929688,
          184.4199981689453,
          178.58999633789062,
          170.88999938964844,
          168.07000732421875,
          170.1699981689453,
          158.17999267578125,
          162.00999450683594,
          172.7899932861328,
          164.50999450683594,
          170.5500030517578,
          166.27000427246094,
          161.57000732421875,
          150.6199951171875,
          160.9199981689453,
          153.6300048828125,
          139.05999755859375,
          158.8300018310547,
          135.4199981689453,
          146.57000732421875,
          140.39999389648438,
          142.7100067138672,
          137.35000610351562,
          135.97999572753906,
          148.33999633789062,
          146.9199981689453,
          156.11000061035156,
          149.6999969482422,
          160.22999572753906,
          157.7100067138672,
          152.11000061035156,
          155.25999450683594,
          153.8300018310547,
          165.27000427246094,
          163.49000549316406,
          165.1300048828125,
          165.13999938964844,
          165.50999450683594,
          173.6999969482422,
          171.8800048828125,
          177.0399932861328,
          178.60000610351562,
          175.05999755859375,
          167.82000732421875,
          173.52000427246094,
          171.4199981689453,
          174.5500030517578,
          174.0500030517578,
          169.80999755859375,
          177.42999267578125,
          179.2100067138672,
          174.57000732421875,
          178.83999633789062,
          180.75999450683594,
          182.5399932861328,
          183.60000610351562,
          184.67999267578125,
          186.74000549316406,
          182.50999450683594,
          179.75,
          180.52999877929688,
          183.16000366210938,
          184.91000366210938,
          183.6300048828125,
          185.66000366210938,
          183.42999267578125,
          183.50999450683594,
          181.57000732421875,
          181.80999755859375,
          181.39999389648438,
          183.25,
          182.8300018310547,
          184.91000366210938,
          185.36000061035156,
          182.9199981689453,
          187.1999969482422,
          188.36000061035156,
          189.8000030517578,
          196.83999633789062,
          186.27000427246094,
          187.74000549316406,
          188.94000244140625,
          193.57000732421875,
          194.24000549316406,
          196.32000732421875,
          195.14999389648438,
          200.57000732421875,
          201.91000366210938,
          197.83999633789062,
          200.33999633789062,
          196.3300018310547,
          198.44000244140625,
          203.50999450683594,
          204.6999969482422,
          206.25999450683594,
          210.6999969482422,
          208.25,
          212.8300018310547,
          214.32000732421875,
          213.6699981689453,
          207.07000732421875,
          208.35000610351562,
          208.0399932861328,
          203.9199981689453,
          202.8800048828125,
          211.60000610351562,
          208.75,
          211.75,
          202.5399932861328,
          201.3000030517578,
          203.85000610351562,
          202.02000427246094,
          204.05999755859375,
          203.89999389648438,
          205.00999450683594,
          216.5399932861328,
          213.2899932861328,
          212.94000244140625,
          216.35000610351562,
          212.47999572753906,
          208.25,
          203.3800048828125,
          209.19000244140625,
          208.6999969482422,
          208.89999389648438,
          210.27999877929688,
          211.49000549316406,
          209.6999969482422,
          214.5800018310547,
          213.02000427246094,
          213.69000244140625,
          216.47000122070312,
          221.14999389648438,
          226.5800018310547,
          228.91000366210938,
          225.52999877929688,
          227.27000427246094,
          231.64999389648438,
          217.3000030517578,
          214.25,
          202.66000366210938,
          211.2899932861328,
          205.3699951171875,
          204.02999877929688,
          205.41000366210938,
          208.77999877929688,
          205.0500030517578,
          202.91000366210938,
          200.38999938964844,
          202.5399932861328,
          207.4199981689453,
          200.58999633789062,
          203.19000244140625,
          207.82000732421875,
          209.44000244140625,
          207.25999450683594,
          210.3300018310547,
          212.4600067138672,
          206.19000244140625,
          210.3800048828125,
          205.91000366210938,
          209.8300018310547,
          210.5800018310547,
          215.80999755859375,
          221.39999389648438,
          222.86000061035156,
          220.86000061035156,
          219.66000366210938,
          219.66000366210938,
          214.22000122070312,
          214.64999389648438,
          214.8000030517578,
          214.88999938964844,
          216.22999572753906,
          210.0800018310547,
          213.25,
          202.67999267578125,
          204.72000122070312,
          202.47000122070312,
          202.3300018310547,
          206.42999267578125,
          216.38999938964844,
          223.2899932861328,
          223.72000122070312,
          218.38999938964844,
          211.00999450683594,
          216.5500030517578,
          215.44000244140625,
          216.50999450683594,
          217.22999572753906,
          214.4600067138672,
          211.0800018310547,
          212.4199981689453,
          210.38999938964844,
          210.11000061035156,
          213.86000061035156,
          213.8699951171875,
          215.22999572753906,
          214.07000732421875,
          216.2100067138672,
          215.3699951171875,
          214.24000549316406,
          214.36000061035156,
          214.2899932861328,
          216.00999450683594,
          211.8000030517578,
          210.52000427246094,
          213.25999450683594,
          214.1999969482422,
          214.1300048828125,
          219.27999877929688,
          219.4199981689453,
          218.58999633789062,
          222.58999633789062,
          223.94000244140625,
          221.02000427246094,
          222.75,
          224.9600067138672,
          224.14999389648438,
          221.67999267578125,
          222.4199981689453
         ]
        }
       ],
       "layout": {
        "template": {
         "data": {
          "bar": [
           {
            "error_x": {
             "color": "#2a3f5f"
            },
            "error_y": {
             "color": "#2a3f5f"
            },
            "marker": {
             "line": {
              "color": "#E5ECF6",
              "width": 0.5
             },
             "pattern": {
              "fillmode": "overlay",
              "size": 10,
              "solidity": 0.2
             }
            },
            "type": "bar"
           }
          ],
          "barpolar": [
           {
            "marker": {
             "line": {
              "color": "#E5ECF6",
              "width": 0.5
             },
             "pattern": {
              "fillmode": "overlay",
              "size": 10,
              "solidity": 0.2
             }
            },
            "type": "barpolar"
           }
          ],
          "carpet": [
           {
            "aaxis": {
             "endlinecolor": "#2a3f5f",
             "gridcolor": "white",
             "linecolor": "white",
             "minorgridcolor": "white",
             "startlinecolor": "#2a3f5f"
            },
            "baxis": {
             "endlinecolor": "#2a3f5f",
             "gridcolor": "white",
             "linecolor": "white",
             "minorgridcolor": "white",
             "startlinecolor": "#2a3f5f"
            },
            "type": "carpet"
           }
          ],
          "choropleth": [
           {
            "colorbar": {
             "outlinewidth": 0,
             "ticks": ""
            },
            "type": "choropleth"
           }
          ],
          "contour": [
           {
            "colorbar": {
             "outlinewidth": 0,
             "ticks": ""
            },
            "colorscale": [
             [
              0,
              "#0d0887"
             ],
             [
              0.1111111111111111,
              "#46039f"
             ],
             [
              0.2222222222222222,
              "#7201a8"
             ],
             [
              0.3333333333333333,
              "#9c179e"
             ],
             [
              0.4444444444444444,
              "#bd3786"
             ],
             [
              0.5555555555555556,
              "#d8576b"
             ],
             [
              0.6666666666666666,
              "#ed7953"
             ],
             [
              0.7777777777777778,
              "#fb9f3a"
             ],
             [
              0.8888888888888888,
              "#fdca26"
             ],
             [
              1,
              "#f0f921"
             ]
            ],
            "type": "contour"
           }
          ],
          "contourcarpet": [
           {
            "colorbar": {
             "outlinewidth": 0,
             "ticks": ""
            },
            "type": "contourcarpet"
           }
          ],
          "heatmap": [
           {
            "colorbar": {
             "outlinewidth": 0,
             "ticks": ""
            },
            "colorscale": [
             [
              0,
              "#0d0887"
             ],
             [
              0.1111111111111111,
              "#46039f"
             ],
             [
              0.2222222222222222,
              "#7201a8"
             ],
             [
              0.3333333333333333,
              "#9c179e"
             ],
             [
              0.4444444444444444,
              "#bd3786"
             ],
             [
              0.5555555555555556,
              "#d8576b"
             ],
             [
              0.6666666666666666,
              "#ed7953"
             ],
             [
              0.7777777777777778,
              "#fb9f3a"
             ],
             [
              0.8888888888888888,
              "#fdca26"
             ],
             [
              1,
              "#f0f921"
             ]
            ],
            "type": "heatmap"
           }
          ],
          "heatmapgl": [
           {
            "colorbar": {
             "outlinewidth": 0,
             "ticks": ""
            },
            "colorscale": [
             [
              0,
              "#0d0887"
             ],
             [
              0.1111111111111111,
              "#46039f"
             ],
             [
              0.2222222222222222,
              "#7201a8"
             ],
             [
              0.3333333333333333,
              "#9c179e"
             ],
             [
              0.4444444444444444,
              "#bd3786"
             ],
             [
              0.5555555555555556,
              "#d8576b"
             ],
             [
              0.6666666666666666,
              "#ed7953"
             ],
             [
              0.7777777777777778,
              "#fb9f3a"
             ],
             [
              0.8888888888888888,
              "#fdca26"
             ],
             [
              1,
              "#f0f921"
             ]
            ],
            "type": "heatmapgl"
           }
          ],
          "histogram": [
           {
            "marker": {
             "pattern": {
              "fillmode": "overlay",
              "size": 10,
              "solidity": 0.2
             }
            },
            "type": "histogram"
           }
          ],
          "histogram2d": [
           {
            "colorbar": {
             "outlinewidth": 0,
             "ticks": ""
            },
            "colorscale": [
             [
              0,
              "#0d0887"
             ],
             [
              0.1111111111111111,
              "#46039f"
             ],
             [
              0.2222222222222222,
              "#7201a8"
             ],
             [
              0.3333333333333333,
              "#9c179e"
             ],
             [
              0.4444444444444444,
              "#bd3786"
             ],
             [
              0.5555555555555556,
              "#d8576b"
             ],
             [
              0.6666666666666666,
              "#ed7953"
             ],
             [
              0.7777777777777778,
              "#fb9f3a"
             ],
             [
              0.8888888888888888,
              "#fdca26"
             ],
             [
              1,
              "#f0f921"
             ]
            ],
            "type": "histogram2d"
           }
          ],
          "histogram2dcontour": [
           {
            "colorbar": {
             "outlinewidth": 0,
             "ticks": ""
            },
            "colorscale": [
             [
              0,
              "#0d0887"
             ],
             [
              0.1111111111111111,
              "#46039f"
             ],
             [
              0.2222222222222222,
              "#7201a8"
             ],
             [
              0.3333333333333333,
              "#9c179e"
             ],
             [
              0.4444444444444444,
              "#bd3786"
             ],
             [
              0.5555555555555556,
              "#d8576b"
             ],
             [
              0.6666666666666666,
              "#ed7953"
             ],
             [
              0.7777777777777778,
              "#fb9f3a"
             ],
             [
              0.8888888888888888,
              "#fdca26"
             ],
             [
              1,
              "#f0f921"
             ]
            ],
            "type": "histogram2dcontour"
           }
          ],
          "mesh3d": [
           {
            "colorbar": {
             "outlinewidth": 0,
             "ticks": ""
            },
            "type": "mesh3d"
           }
          ],
          "parcoords": [
           {
            "line": {
             "colorbar": {
              "outlinewidth": 0,
              "ticks": ""
             }
            },
            "type": "parcoords"
           }
          ],
          "pie": [
           {
            "automargin": true,
            "type": "pie"
           }
          ],
          "scatter": [
           {
            "marker": {
             "colorbar": {
              "outlinewidth": 0,
              "ticks": ""
             }
            },
            "type": "scatter"
           }
          ],
          "scatter3d": [
           {
            "line": {
             "colorbar": {
              "outlinewidth": 0,
              "ticks": ""
             }
            },
            "marker": {
             "colorbar": {
              "outlinewidth": 0,
              "ticks": ""
             }
            },
            "type": "scatter3d"
           }
          ],
          "scattercarpet": [
           {
            "marker": {
             "colorbar": {
              "outlinewidth": 0,
              "ticks": ""
             }
            },
            "type": "scattercarpet"
           }
          ],
          "scattergeo": [
           {
            "marker": {
             "colorbar": {
              "outlinewidth": 0,
              "ticks": ""
             }
            },
            "type": "scattergeo"
           }
          ],
          "scattergl": [
           {
            "marker": {
             "colorbar": {
              "outlinewidth": 0,
              "ticks": ""
             }
            },
            "type": "scattergl"
           }
          ],
          "scattermapbox": [
           {
            "marker": {
             "colorbar": {
              "outlinewidth": 0,
              "ticks": ""
             }
            },
            "type": "scattermapbox"
           }
          ],
          "scatterpolar": [
           {
            "marker": {
             "colorbar": {
              "outlinewidth": 0,
              "ticks": ""
             }
            },
            "type": "scatterpolar"
           }
          ],
          "scatterpolargl": [
           {
            "marker": {
             "colorbar": {
              "outlinewidth": 0,
              "ticks": ""
             }
            },
            "type": "scatterpolargl"
           }
          ],
          "scatterternary": [
           {
            "marker": {
             "colorbar": {
              "outlinewidth": 0,
              "ticks": ""
             }
            },
            "type": "scatterternary"
           }
          ],
          "surface": [
           {
            "colorbar": {
             "outlinewidth": 0,
             "ticks": ""
            },
            "colorscale": [
             [
              0,
              "#0d0887"
             ],
             [
              0.1111111111111111,
              "#46039f"
             ],
             [
              0.2222222222222222,
              "#7201a8"
             ],
             [
              0.3333333333333333,
              "#9c179e"
             ],
             [
              0.4444444444444444,
              "#bd3786"
             ],
             [
              0.5555555555555556,
              "#d8576b"
             ],
             [
              0.6666666666666666,
              "#ed7953"
             ],
             [
              0.7777777777777778,
              "#fb9f3a"
             ],
             [
              0.8888888888888888,
              "#fdca26"
             ],
             [
              1,
              "#f0f921"
             ]
            ],
            "type": "surface"
           }
          ],
          "table": [
           {
            "cells": {
             "fill": {
              "color": "#EBF0F8"
             },
             "line": {
              "color": "white"
             }
            },
            "header": {
             "fill": {
              "color": "#C8D4E3"
             },
             "line": {
              "color": "white"
             }
            },
            "type": "table"
           }
          ]
         },
         "layout": {
          "annotationdefaults": {
           "arrowcolor": "#2a3f5f",
           "arrowhead": 0,
           "arrowwidth": 1
          },
          "autotypenumbers": "strict",
          "coloraxis": {
           "colorbar": {
            "outlinewidth": 0,
            "ticks": ""
           }
          },
          "colorscale": {
           "diverging": [
            [
             0,
             "#8e0152"
            ],
            [
             0.1,
             "#c51b7d"
            ],
            [
             0.2,
             "#de77ae"
            ],
            [
             0.3,
             "#f1b6da"
            ],
            [
             0.4,
             "#fde0ef"
            ],
            [
             0.5,
             "#f7f7f7"
            ],
            [
             0.6,
             "#e6f5d0"
            ],
            [
             0.7,
             "#b8e186"
            ],
            [
             0.8,
             "#7fbc41"
            ],
            [
             0.9,
             "#4d9221"
            ],
            [
             1,
             "#276419"
            ]
           ],
           "sequential": [
            [
             0,
             "#0d0887"
            ],
            [
             0.1111111111111111,
             "#46039f"
            ],
            [
             0.2222222222222222,
             "#7201a8"
            ],
            [
             0.3333333333333333,
             "#9c179e"
            ],
            [
             0.4444444444444444,
             "#bd3786"
            ],
            [
             0.5555555555555556,
             "#d8576b"
            ],
            [
             0.6666666666666666,
             "#ed7953"
            ],
            [
             0.7777777777777778,
             "#fb9f3a"
            ],
            [
             0.8888888888888888,
             "#fdca26"
            ],
            [
             1,
             "#f0f921"
            ]
           ],
           "sequentialminus": [
            [
             0,
             "#0d0887"
            ],
            [
             0.1111111111111111,
             "#46039f"
            ],
            [
             0.2222222222222222,
             "#7201a8"
            ],
            [
             0.3333333333333333,
             "#9c179e"
            ],
            [
             0.4444444444444444,
             "#bd3786"
            ],
            [
             0.5555555555555556,
             "#d8576b"
            ],
            [
             0.6666666666666666,
             "#ed7953"
            ],
            [
             0.7777777777777778,
             "#fb9f3a"
            ],
            [
             0.8888888888888888,
             "#fdca26"
            ],
            [
             1,
             "#f0f921"
            ]
           ]
          },
          "colorway": [
           "#636efa",
           "#EF553B",
           "#00cc96",
           "#ab63fa",
           "#FFA15A",
           "#19d3f3",
           "#FF6692",
           "#B6E880",
           "#FF97FF",
           "#FECB52"
          ],
          "font": {
           "color": "#2a3f5f"
          },
          "geo": {
           "bgcolor": "white",
           "lakecolor": "white",
           "landcolor": "#E5ECF6",
           "showlakes": true,
           "showland": true,
           "subunitcolor": "white"
          },
          "hoverlabel": {
           "align": "left"
          },
          "hovermode": "closest",
          "mapbox": {
           "style": "light"
          },
          "paper_bgcolor": "white",
          "plot_bgcolor": "#E5ECF6",
          "polar": {
           "angularaxis": {
            "gridcolor": "white",
            "linecolor": "white",
            "ticks": ""
           },
           "bgcolor": "#E5ECF6",
           "radialaxis": {
            "gridcolor": "white",
            "linecolor": "white",
            "ticks": ""
           }
          },
          "scene": {
           "xaxis": {
            "backgroundcolor": "#E5ECF6",
            "gridcolor": "white",
            "gridwidth": 2,
            "linecolor": "white",
            "showbackground": true,
            "ticks": "",
            "zerolinecolor": "white"
           },
           "yaxis": {
            "backgroundcolor": "#E5ECF6",
            "gridcolor": "white",
            "gridwidth": 2,
            "linecolor": "white",
            "showbackground": true,
            "ticks": "",
            "zerolinecolor": "white"
           },
           "zaxis": {
            "backgroundcolor": "#E5ECF6",
            "gridcolor": "white",
            "gridwidth": 2,
            "linecolor": "white",
            "showbackground": true,
            "ticks": "",
            "zerolinecolor": "white"
           }
          },
          "shapedefaults": {
           "line": {
            "color": "#2a3f5f"
           }
          },
          "ternary": {
           "aaxis": {
            "gridcolor": "white",
            "linecolor": "white",
            "ticks": ""
           },
           "baxis": {
            "gridcolor": "white",
            "linecolor": "white",
            "ticks": ""
           },
           "bgcolor": "#E5ECF6",
           "caxis": {
            "gridcolor": "white",
            "linecolor": "white",
            "ticks": ""
           }
          },
          "title": {
           "x": 0.05
          },
          "xaxis": {
           "automargin": true,
           "gridcolor": "white",
           "linecolor": "white",
           "ticks": "",
           "title": {
            "standoff": 15
           },
           "zerolinecolor": "white",
           "zerolinewidth": 2
          },
          "yaxis": {
           "automargin": true,
           "gridcolor": "white",
           "linecolor": "white",
           "ticks": "",
           "title": {
            "standoff": 15
           },
           "zerolinecolor": "white",
           "zerolinewidth": 2
          }
         }
        },
        "title": {
         "text": "Comparison of Close Prices Between Stocks"
        }
       }
      },
      "text/html": [
       "<div>                            <div id=\"89a72e36-bb36-436b-bf52-b8d493c2db7d\" class=\"plotly-graph-div\" style=\"height:525px; width:100%;\"></div>            <script type=\"text/javascript\">                require([\"plotly\"], function(Plotly) {                    window.PLOTLYENV=window.PLOTLYENV || {};                                    if (document.getElementById(\"89a72e36-bb36-436b-bf52-b8d493c2db7d\")) {                    Plotly.newPlot(                        \"89a72e36-bb36-436b-bf52-b8d493c2db7d\",                        [{\"mode\":\"lines\",\"name\":\"Close Price of AAPL\",\"type\":\"scatter\",\"x\":[\"2020-01-02T00:00:00\",\"2020-01-03T00:00:00\",\"2020-01-06T00:00:00\",\"2020-01-07T00:00:00\",\"2020-01-08T00:00:00\",\"2020-01-09T00:00:00\",\"2020-01-10T00:00:00\",\"2020-01-13T00:00:00\",\"2020-01-14T00:00:00\",\"2020-01-15T00:00:00\",\"2020-01-16T00:00:00\",\"2020-01-17T00:00:00\",\"2020-01-21T00:00:00\",\"2020-01-22T00:00:00\",\"2020-01-23T00:00:00\",\"2020-01-24T00:00:00\",\"2020-01-27T00:00:00\",\"2020-01-28T00:00:00\",\"2020-01-29T00:00:00\",\"2020-01-30T00:00:00\",\"2020-01-31T00:00:00\",\"2020-02-03T00:00:00\",\"2020-02-04T00:00:00\",\"2020-02-05T00:00:00\",\"2020-02-06T00:00:00\",\"2020-02-07T00:00:00\",\"2020-02-10T00:00:00\",\"2020-02-11T00:00:00\",\"2020-02-12T00:00:00\",\"2020-02-13T00:00:00\",\"2020-02-14T00:00:00\",\"2020-02-18T00:00:00\",\"2020-02-19T00:00:00\",\"2020-02-20T00:00:00\",\"2020-02-21T00:00:00\",\"2020-02-24T00:00:00\",\"2020-02-25T00:00:00\",\"2020-02-26T00:00:00\",\"2020-02-27T00:00:00\",\"2020-02-28T00:00:00\",\"2020-03-02T00:00:00\",\"2020-03-03T00:00:00\",\"2020-03-04T00:00:00\",\"2020-03-05T00:00:00\",\"2020-03-06T00:00:00\",\"2020-03-09T00:00:00\",\"2020-03-10T00:00:00\",\"2020-03-11T00:00:00\",\"2020-03-12T00:00:00\",\"2020-03-13T00:00:00\",\"2020-03-16T00:00:00\",\"2020-03-17T00:00:00\",\"2020-03-18T00:00:00\",\"2020-03-19T00:00:00\",\"2020-03-20T00:00:00\",\"2020-03-23T00:00:00\",\"2020-03-24T00:00:00\",\"2020-03-25T00:00:00\",\"2020-03-26T00:00:00\",\"2020-03-27T00:00:00\",\"2020-03-30T00:00:00\",\"2020-03-31T00:00:00\",\"2020-04-01T00:00:00\",\"2020-04-02T00:00:00\",\"2020-04-03T00:00:00\",\"2020-04-06T00:00:00\",\"2020-04-07T00:00:00\",\"2020-04-08T00:00:00\",\"2020-04-09T00:00:00\",\"2020-04-13T00:00:00\",\"2020-04-14T00:00:00\",\"2020-04-15T00:00:00\",\"2020-04-16T00:00:00\",\"2020-04-17T00:00:00\",\"2020-04-20T00:00:00\",\"2020-04-21T00:00:00\",\"2020-04-22T00:00:00\",\"2020-04-23T00:00:00\",\"2020-04-24T00:00:00\",\"2020-04-27T00:00:00\",\"2020-04-28T00:00:00\",\"2020-04-29T00:00:00\",\"2020-04-30T00:00:00\",\"2020-05-01T00:00:00\",\"2020-05-04T00:00:00\",\"2020-05-05T00:00:00\",\"2020-05-06T00:00:00\",\"2020-05-07T00:00:00\",\"2020-05-08T00:00:00\",\"2020-05-11T00:00:00\",\"2020-05-12T00:00:00\",\"2020-05-13T00:00:00\",\"2020-05-14T00:00:00\",\"2020-05-15T00:00:00\",\"2020-05-18T00:00:00\",\"2020-05-19T00:00:00\",\"2020-05-20T00:00:00\",\"2020-05-21T00:00:00\",\"2020-05-22T00:00:00\",\"2020-05-26T00:00:00\",\"2020-05-27T00:00:00\",\"2020-05-28T00:00:00\",\"2020-05-29T00:00:00\",\"2020-06-01T00:00:00\",\"2020-06-02T00:00:00\",\"2020-06-03T00:00:00\",\"2020-06-04T00:00:00\",\"2020-06-05T00:00:00\",\"2020-06-08T00:00:00\",\"2020-06-09T00:00:00\",\"2020-06-10T00:00:00\",\"2020-06-11T00:00:00\",\"2020-06-12T00:00:00\",\"2020-06-15T00:00:00\",\"2020-06-16T00:00:00\",\"2020-06-17T00:00:00\",\"2020-06-18T00:00:00\",\"2020-06-19T00:00:00\",\"2020-06-22T00:00:00\",\"2020-06-23T00:00:00\",\"2020-06-24T00:00:00\",\"2020-06-25T00:00:00\",\"2020-06-26T00:00:00\",\"2020-06-29T00:00:00\",\"2020-06-30T00:00:00\",\"2020-07-01T00:00:00\",\"2020-07-02T00:00:00\",\"2020-07-06T00:00:00\",\"2020-07-07T00:00:00\",\"2020-07-08T00:00:00\",\"2020-07-09T00:00:00\",\"2020-07-10T00:00:00\",\"2020-07-13T00:00:00\",\"2020-07-14T00:00:00\",\"2020-07-15T00:00:00\",\"2020-07-16T00:00:00\",\"2020-07-17T00:00:00\",\"2020-07-20T00:00:00\",\"2020-07-21T00:00:00\",\"2020-07-22T00:00:00\",\"2020-07-23T00:00:00\",\"2020-07-24T00:00:00\",\"2020-07-27T00:00:00\",\"2020-07-28T00:00:00\",\"2020-07-29T00:00:00\",\"2020-07-30T00:00:00\",\"2020-07-31T00:00:00\",\"2020-08-03T00:00:00\",\"2020-08-04T00:00:00\",\"2020-08-05T00:00:00\",\"2020-08-06T00:00:00\",\"2020-08-07T00:00:00\",\"2020-08-10T00:00:00\",\"2020-08-11T00:00:00\",\"2020-08-12T00:00:00\",\"2020-08-13T00:00:00\",\"2020-08-14T00:00:00\",\"2020-08-17T00:00:00\",\"2020-08-18T00:00:00\",\"2020-08-19T00:00:00\",\"2020-08-20T00:00:00\",\"2020-08-21T00:00:00\",\"2020-08-24T00:00:00\",\"2020-08-25T00:00:00\",\"2020-08-26T00:00:00\",\"2020-08-27T00:00:00\",\"2020-08-28T00:00:00\",\"2020-08-31T00:00:00\",\"2020-09-01T00:00:00\",\"2020-09-02T00:00:00\",\"2020-09-03T00:00:00\",\"2020-09-04T00:00:00\",\"2020-09-08T00:00:00\",\"2020-09-09T00:00:00\",\"2020-09-10T00:00:00\",\"2020-09-11T00:00:00\",\"2020-09-14T00:00:00\",\"2020-09-15T00:00:00\",\"2020-09-16T00:00:00\",\"2020-09-17T00:00:00\",\"2020-09-18T00:00:00\",\"2020-09-21T00:00:00\",\"2020-09-22T00:00:00\",\"2020-09-23T00:00:00\",\"2020-09-24T00:00:00\",\"2020-09-25T00:00:00\",\"2020-09-28T00:00:00\",\"2020-09-29T00:00:00\",\"2020-09-30T00:00:00\",\"2020-10-01T00:00:00\",\"2020-10-02T00:00:00\",\"2020-10-05T00:00:00\",\"2020-10-06T00:00:00\",\"2020-10-07T00:00:00\",\"2020-10-08T00:00:00\",\"2020-10-09T00:00:00\",\"2020-10-12T00:00:00\",\"2020-10-13T00:00:00\",\"2020-10-14T00:00:00\",\"2020-10-15T00:00:00\",\"2020-10-16T00:00:00\",\"2020-10-19T00:00:00\",\"2020-10-20T00:00:00\",\"2020-10-21T00:00:00\",\"2020-10-22T00:00:00\",\"2020-10-23T00:00:00\",\"2020-10-26T00:00:00\",\"2020-10-27T00:00:00\",\"2020-10-28T00:00:00\",\"2020-10-29T00:00:00\",\"2020-10-30T00:00:00\",\"2020-11-02T00:00:00\",\"2020-11-03T00:00:00\",\"2020-11-04T00:00:00\",\"2020-11-05T00:00:00\",\"2020-11-06T00:00:00\",\"2020-11-09T00:00:00\",\"2020-11-10T00:00:00\",\"2020-11-11T00:00:00\",\"2020-11-12T00:00:00\",\"2020-11-13T00:00:00\",\"2020-11-16T00:00:00\",\"2020-11-17T00:00:00\",\"2020-11-18T00:00:00\",\"2020-11-19T00:00:00\",\"2020-11-20T00:00:00\",\"2020-11-23T00:00:00\",\"2020-11-24T00:00:00\",\"2020-11-25T00:00:00\",\"2020-11-27T00:00:00\",\"2020-11-30T00:00:00\",\"2020-12-01T00:00:00\",\"2020-12-02T00:00:00\",\"2020-12-03T00:00:00\",\"2020-12-04T00:00:00\",\"2020-12-07T00:00:00\",\"2020-12-08T00:00:00\",\"2020-12-09T00:00:00\",\"2020-12-10T00:00:00\",\"2020-12-11T00:00:00\",\"2020-12-14T00:00:00\",\"2020-12-15T00:00:00\",\"2020-12-16T00:00:00\",\"2020-12-17T00:00:00\",\"2020-12-18T00:00:00\",\"2020-12-21T00:00:00\",\"2020-12-22T00:00:00\",\"2020-12-23T00:00:00\",\"2020-12-24T00:00:00\",\"2020-12-28T00:00:00\",\"2020-12-29T00:00:00\",\"2020-12-30T00:00:00\",\"2020-12-31T00:00:00\"],\"y\":[75.0875015258789,74.35749816894531,74.94999694824219,74.59750366210938,75.79750061035156,77.40750122070312,77.5824966430664,79.23999786376953,78.16999816894531,77.83499908447266,78.80999755859375,79.68250274658203,79.14250183105469,79.42500305175781,79.80750274658203,79.57749938964844,77.23750305175781,79.42250061035156,81.08499908447266,80.96749877929688,77.37750244140625,77.16500091552734,79.7125015258789,80.36250305175781,81.30249786376953,80.00749969482422,80.38749694824219,79.90249633789062,81.80000305175781,81.21749877929688,81.23750305175781,79.75,80.90499877929688,80.07499694824219,78.26249694824219,74.54499816894531,72.0199966430664,73.1624984741211,68.37999725341797,68.33999633789062,74.70249938964844,72.33000183105469,75.68499755859375,73.2300033569336,72.25749969482422,66.5425033569336,71.33499908447266,68.85749816894531,62.057498931884766,69.49250030517578,60.5525016784668,63.21500015258789,61.66749954223633,61.19499969482422,57.310001373291016,56.092498779296875,61.720001220703125,61.380001068115234,64.61000061035156,61.935001373291016,63.70249938964844,63.5724983215332,60.227500915527344,61.23249816894531,60.352500915527344,65.61750030517578,64.85749816894531,66.51750183105469,66.99749755859375,68.3125,71.76249694824219,71.10749816894531,71.67250061035156,70.69999694824219,69.23249816894531,67.09249877929688,69.0250015258789,68.75749969482422,70.74250030517578,70.7925033569336,69.6449966430664,71.93250274658203,73.44999694824219,72.26750183105469,73.29000091552734,74.38999938964844,75.15750122070312,75.93499755859375,77.53250122070312,78.75250244140625,77.85250091552734,76.9124984741211,77.38500213623047,76.92749786376953,78.73999786376953,78.28500366210938,79.80750274658203,79.2125015258789,79.72250366210938,79.18250274658203,79.52749633789062,79.5625,79.48500061035156,80.4625015258789,80.83499908447266,81.27999877929688,80.58000183105469,82.875,83.36499786376953,85.99749755859375,88.20999908447266,83.9749984741211,84.69999694824219,85.74749755859375,88.0199966430664,87.89749908447266,87.93250274658203,87.43000030517578,89.71749877929688,91.63249969482422,90.01499938964844,91.20999908447266,88.40750122070312,90.44499969482422,91.19999694824219,91.02749633789062,91.02749633789062,93.4625015258789,93.17250061035156,95.34249877929688,95.75250244140625,95.91999816894531,95.47750091552734,97.05750274658203,97.7249984741211,96.52249908447266,96.32749938964844,98.35749816894531,97.0,97.27249908447266,92.84500122070312,92.61499786376953,94.80999755859375,93.25250244140625,95.04000091552734,96.19000244140625,106.26000213623047,108.9375,109.66500091552734,110.0625,113.90249633789062,111.11250305175781,112.72750091552734,109.375,113.01000213623047,115.01000213623047,114.90750122070312,114.60749816894531,115.5625,115.7074966430664,118.2750015258789,124.37000274658203,125.85749816894531,124.82499694824219,126.52249908447266,125.01000213623047,124.80750274658203,129.0399932861328,134.17999267578125,131.39999389648438,120.87999725341797,120.95999908447266,112.81999969482422,117.31999969482422,113.48999786376953,112.0,115.36000061035156,115.54000091552734,112.12999725341797,110.33999633789062,106.83999633789062,110.08000183105469,111.80999755859375,107.12000274658203,108.22000122070312,112.27999877929688,114.95999908447266,114.08999633789062,115.80999755859375,116.79000091552734,113.0199966430664,116.5,113.16000366210938,115.08000183105469,114.97000122070312,116.97000122070312,124.4000015258789,121.0999984741211,121.19000244140625,120.70999908447266,119.0199966430664,115.9800033569336,117.51000213623047,116.87000274658203,115.75,115.04000091552734,115.05000305175781,116.5999984741211,111.19999694824219,115.31999969482422,108.86000061035156,108.7699966430664,110.44000244140625,114.94999694824219,119.02999877929688,118.69000244140625,116.31999969482422,115.97000122070312,119.48999786376953,119.20999908447266,119.26000213623047,120.30000305175781,119.38999938964844,118.02999877929688,118.63999938964844,117.33999633789062,113.8499984741211,115.16999816894531,116.02999877929688,116.58999633789062,119.05000305175781,122.72000122070312,123.08000183105469,122.94000244140625,122.25,123.75,124.37999725341797,121.77999877929688,123.23999786376953,122.41000366210938,121.77999877929688,127.87999725341797,127.80999755859375,128.6999969482422,126.66000366210938,128.22999572753906,131.8800048828125,130.9600067138672,131.97000122070312,136.69000244140625,134.8699951171875,133.72000122070312,132.69000244140625]},{\"mode\":\"lines\",\"name\":\"Close Price of DIS\",\"type\":\"scatter\",\"x\":[\"2020-01-02T00:00:00\",\"2020-01-03T00:00:00\",\"2020-01-06T00:00:00\",\"2020-01-07T00:00:00\",\"2020-01-08T00:00:00\",\"2020-01-09T00:00:00\",\"2020-01-10T00:00:00\",\"2020-01-13T00:00:00\",\"2020-01-14T00:00:00\",\"2020-01-15T00:00:00\",\"2020-01-16T00:00:00\",\"2020-01-17T00:00:00\",\"2020-01-21T00:00:00\",\"2020-01-22T00:00:00\",\"2020-01-23T00:00:00\",\"2020-01-24T00:00:00\",\"2020-01-27T00:00:00\",\"2020-01-28T00:00:00\",\"2020-01-29T00:00:00\",\"2020-01-30T00:00:00\",\"2020-01-31T00:00:00\",\"2020-02-03T00:00:00\",\"2020-02-04T00:00:00\",\"2020-02-05T00:00:00\",\"2020-02-06T00:00:00\",\"2020-02-07T00:00:00\",\"2020-02-10T00:00:00\",\"2020-02-11T00:00:00\",\"2020-02-12T00:00:00\",\"2020-02-13T00:00:00\",\"2020-02-14T00:00:00\",\"2020-02-18T00:00:00\",\"2020-02-19T00:00:00\",\"2020-02-20T00:00:00\",\"2020-02-21T00:00:00\",\"2020-02-24T00:00:00\",\"2020-02-25T00:00:00\",\"2020-02-26T00:00:00\",\"2020-02-27T00:00:00\",\"2020-02-28T00:00:00\",\"2020-03-02T00:00:00\",\"2020-03-03T00:00:00\",\"2020-03-04T00:00:00\",\"2020-03-05T00:00:00\",\"2020-03-06T00:00:00\",\"2020-03-09T00:00:00\",\"2020-03-10T00:00:00\",\"2020-03-11T00:00:00\",\"2020-03-12T00:00:00\",\"2020-03-13T00:00:00\",\"2020-03-16T00:00:00\",\"2020-03-17T00:00:00\",\"2020-03-18T00:00:00\",\"2020-03-19T00:00:00\",\"2020-03-20T00:00:00\",\"2020-03-23T00:00:00\",\"2020-03-24T00:00:00\",\"2020-03-25T00:00:00\",\"2020-03-26T00:00:00\",\"2020-03-27T00:00:00\",\"2020-03-30T00:00:00\",\"2020-03-31T00:00:00\",\"2020-04-01T00:00:00\",\"2020-04-02T00:00:00\",\"2020-04-03T00:00:00\",\"2020-04-06T00:00:00\",\"2020-04-07T00:00:00\",\"2020-04-08T00:00:00\",\"2020-04-09T00:00:00\",\"2020-04-13T00:00:00\",\"2020-04-14T00:00:00\",\"2020-04-15T00:00:00\",\"2020-04-16T00:00:00\",\"2020-04-17T00:00:00\",\"2020-04-20T00:00:00\",\"2020-04-21T00:00:00\",\"2020-04-22T00:00:00\",\"2020-04-23T00:00:00\",\"2020-04-24T00:00:00\",\"2020-04-27T00:00:00\",\"2020-04-28T00:00:00\",\"2020-04-29T00:00:00\",\"2020-04-30T00:00:00\",\"2020-05-01T00:00:00\",\"2020-05-04T00:00:00\",\"2020-05-05T00:00:00\",\"2020-05-06T00:00:00\",\"2020-05-07T00:00:00\",\"2020-05-08T00:00:00\",\"2020-05-11T00:00:00\",\"2020-05-12T00:00:00\",\"2020-05-13T00:00:00\",\"2020-05-14T00:00:00\",\"2020-05-15T00:00:00\",\"2020-05-18T00:00:00\",\"2020-05-19T00:00:00\",\"2020-05-20T00:00:00\",\"2020-05-21T00:00:00\",\"2020-05-22T00:00:00\",\"2020-05-26T00:00:00\",\"2020-05-27T00:00:00\",\"2020-05-28T00:00:00\",\"2020-05-29T00:00:00\",\"2020-06-01T00:00:00\",\"2020-06-02T00:00:00\",\"2020-06-03T00:00:00\",\"2020-06-04T00:00:00\",\"2020-06-05T00:00:00\",\"2020-06-08T00:00:00\",\"2020-06-09T00:00:00\",\"2020-06-10T00:00:00\",\"2020-06-11T00:00:00\",\"2020-06-12T00:00:00\",\"2020-06-15T00:00:00\",\"2020-06-16T00:00:00\",\"2020-06-17T00:00:00\",\"2020-06-18T00:00:00\",\"2020-06-19T00:00:00\",\"2020-06-22T00:00:00\",\"2020-06-23T00:00:00\",\"2020-06-24T00:00:00\",\"2020-06-25T00:00:00\",\"2020-06-26T00:00:00\",\"2020-06-29T00:00:00\",\"2020-06-30T00:00:00\",\"2020-07-01T00:00:00\",\"2020-07-02T00:00:00\",\"2020-07-06T00:00:00\",\"2020-07-07T00:00:00\",\"2020-07-08T00:00:00\",\"2020-07-09T00:00:00\",\"2020-07-10T00:00:00\",\"2020-07-13T00:00:00\",\"2020-07-14T00:00:00\",\"2020-07-15T00:00:00\",\"2020-07-16T00:00:00\",\"2020-07-17T00:00:00\",\"2020-07-20T00:00:00\",\"2020-07-21T00:00:00\",\"2020-07-22T00:00:00\",\"2020-07-23T00:00:00\",\"2020-07-24T00:00:00\",\"2020-07-27T00:00:00\",\"2020-07-28T00:00:00\",\"2020-07-29T00:00:00\",\"2020-07-30T00:00:00\",\"2020-07-31T00:00:00\",\"2020-08-03T00:00:00\",\"2020-08-04T00:00:00\",\"2020-08-05T00:00:00\",\"2020-08-06T00:00:00\",\"2020-08-07T00:00:00\",\"2020-08-10T00:00:00\",\"2020-08-11T00:00:00\",\"2020-08-12T00:00:00\",\"2020-08-13T00:00:00\",\"2020-08-14T00:00:00\",\"2020-08-17T00:00:00\",\"2020-08-18T00:00:00\",\"2020-08-19T00:00:00\",\"2020-08-20T00:00:00\",\"2020-08-21T00:00:00\",\"2020-08-24T00:00:00\",\"2020-08-25T00:00:00\",\"2020-08-26T00:00:00\",\"2020-08-27T00:00:00\",\"2020-08-28T00:00:00\",\"2020-08-31T00:00:00\",\"2020-09-01T00:00:00\",\"2020-09-02T00:00:00\",\"2020-09-03T00:00:00\",\"2020-09-04T00:00:00\",\"2020-09-08T00:00:00\",\"2020-09-09T00:00:00\",\"2020-09-10T00:00:00\",\"2020-09-11T00:00:00\",\"2020-09-14T00:00:00\",\"2020-09-15T00:00:00\",\"2020-09-16T00:00:00\",\"2020-09-17T00:00:00\",\"2020-09-18T00:00:00\",\"2020-09-21T00:00:00\",\"2020-09-22T00:00:00\",\"2020-09-23T00:00:00\",\"2020-09-24T00:00:00\",\"2020-09-25T00:00:00\",\"2020-09-28T00:00:00\",\"2020-09-29T00:00:00\",\"2020-09-30T00:00:00\",\"2020-10-01T00:00:00\",\"2020-10-02T00:00:00\",\"2020-10-05T00:00:00\",\"2020-10-06T00:00:00\",\"2020-10-07T00:00:00\",\"2020-10-08T00:00:00\",\"2020-10-09T00:00:00\",\"2020-10-12T00:00:00\",\"2020-10-13T00:00:00\",\"2020-10-14T00:00:00\",\"2020-10-15T00:00:00\",\"2020-10-16T00:00:00\",\"2020-10-19T00:00:00\",\"2020-10-20T00:00:00\",\"2020-10-21T00:00:00\",\"2020-10-22T00:00:00\",\"2020-10-23T00:00:00\",\"2020-10-26T00:00:00\",\"2020-10-27T00:00:00\",\"2020-10-28T00:00:00\",\"2020-10-29T00:00:00\",\"2020-10-30T00:00:00\",\"2020-11-02T00:00:00\",\"2020-11-03T00:00:00\",\"2020-11-04T00:00:00\",\"2020-11-05T00:00:00\",\"2020-11-06T00:00:00\",\"2020-11-09T00:00:00\",\"2020-11-10T00:00:00\",\"2020-11-11T00:00:00\",\"2020-11-12T00:00:00\",\"2020-11-13T00:00:00\",\"2020-11-16T00:00:00\",\"2020-11-17T00:00:00\",\"2020-11-18T00:00:00\",\"2020-11-19T00:00:00\",\"2020-11-20T00:00:00\",\"2020-11-23T00:00:00\",\"2020-11-24T00:00:00\",\"2020-11-25T00:00:00\",\"2020-11-27T00:00:00\",\"2020-11-30T00:00:00\",\"2020-12-01T00:00:00\",\"2020-12-02T00:00:00\",\"2020-12-03T00:00:00\",\"2020-12-04T00:00:00\",\"2020-12-07T00:00:00\",\"2020-12-08T00:00:00\",\"2020-12-09T00:00:00\",\"2020-12-10T00:00:00\",\"2020-12-11T00:00:00\",\"2020-12-14T00:00:00\",\"2020-12-15T00:00:00\",\"2020-12-16T00:00:00\",\"2020-12-17T00:00:00\",\"2020-12-18T00:00:00\",\"2020-12-21T00:00:00\",\"2020-12-22T00:00:00\",\"2020-12-23T00:00:00\",\"2020-12-24T00:00:00\",\"2020-12-28T00:00:00\",\"2020-12-29T00:00:00\",\"2020-12-30T00:00:00\",\"2020-12-31T00:00:00\"],\"y\":[148.1999969482422,146.5,145.64999389648438,145.6999969482422,145.39999389648438,144.8300018310547,144.6199951171875,143.8800048828125,145.1999969482422,144.32000732421875,145.1199951171875,144.3300018310547,143.55999755859375,144.00999450683594,142.1999969482422,140.0800018310547,135.89999389648438,138.3699951171875,136.05999755859375,137.80999755859375,138.30999755859375,141.32000732421875,144.72999572753906,141.3699951171875,142.6999969482422,141.02000427246094,142.58999633789062,141.00999450683594,141.85000610351562,140.89999389648438,139.5399932861328,139.13999938964844,141.3000030517578,140.3699951171875,138.97000122070312,133.00999450683594,128.19000244140625,123.36000061035156,118.04000091552734,117.6500015258789,119.9800033569336,116.44999694824219,119.18000030517578,113.9800033569336,115.2699966430664,104.3499984741211,111.45999908447266,105.51000213623047,91.80999755859375,102.5199966430664,95.01000213623047,93.52999877929688,88.80000305175781,94.93000030517578,85.9800033569336,85.76000213623047,98.12000274658203,100.7300033569336,105.36000061035156,96.4000015258789,99.80000305175781,96.5999984741211,94.91999816894531,96.97000122070312,93.87999725341797,99.58000183105469,101.23999786376953,101.06999969482422,104.5,103.5,106.02999877929688,103.37000274658203,102.0199966430664,106.62999725341797,102.26000213623047,100.54000091552734,100.98999786376953,101.0,101.19000244140625,106.05999755859375,106.20999908447266,112.25,108.1500015258789,105.5,103.18000030517578,101.05999755859375,100.87999725341797,105.56999969482422,109.16000366210938,107.7699966430664,104.55999755859375,102.91999816894531,105.91000366210938,109.05000305175781,116.8499984741211,114.37000274658203,119.91999816894531,117.83000183105469,118.0199966430664,120.94999694824219,121.52999877929688,116.75,117.30000305175781,118.7699966430664,118.75,122.18000030517578,123.69000244140625,124.81999969482422,127.27999877929688,123.88999938964844,122.18000030517578,112.63999938964844,115.48999786376953,117.08000183105469,118.44000244140625,117.6500015258789,118.37000274658203,114.3499984741211,115.91999816894531,116.58999633789062,112.06999969482422,111.36000061035156,109.0999984741211,111.5199966430664,111.51000213623047,113.01000213623047,112.18000030517578,114.43000030517578,113.62999725341797,116.66000366210938,116.80999755859375,119.33999633789062,116.22000122070312,118.66000366210938,120.9000015258789,119.43000030517578,118.6500015258789,117.79000091552734,118.62000274658203,119.02999877929688,118.12000274658203,117.61000061035156,116.30999755859375,116.18000030517578,115.61000061035156,115.66000366210938,116.94000244140625,116.3499984741211,117.29000091552734,127.61000061035156,130.82000732421875,129.92999267578125,128.7899932861328,130.49000549316406,131.7899932861328,130.9600067138672,130.52999877929688,129.3699951171875,128.9199981689453,127.7699966430664,128.1199951171875,127.44000244140625,130.69000244140625,129.7899932861328,132.17999267578125,133.72999572753906,135.5399932861328,131.8699951171875,133.5500030517578,135.38999938964844,133.24000549316406,131.99000549316406,134.1999969482422,133.36000061035156,133.22000122070312,131.75,131.25,131.24000549316406,132.08999633789062,130.22000122070312,128.6300048828125,125.41000366210938,127.20999908447266,123.27999877929688,122.48999786376953,124.0,125.98999786376953,125.4000015258789,124.08000183105469,123.30999755859375,122.55000305175781,123.37000274658203,120.93000030517578,122.91000366210938,123.08999633789062,124.9800033569336,124.97000122070312,128.9600067138672,126.58999633789062,127.36000061035156,126.80999755859375,124.2300033569336,124.94999694824219,126.62999725341797,127.55999755859375,128.35000610351562,124.05999755859375,123.30999755859375,118.47000122070312,121.54000091552734,121.25,120.12999725341797,124.0199966430664,125.06999969482422,126.95999908447266,127.45999908447266,142.58999633789062,142.11000061035156,137.82000732421875,135.52000427246094,138.36000061035156,144.6699981689453,144.5,143.89999389648438,141.72000122070312,141.07000732421875,145.97999572753906,151.49000549316406,149.08999633789062,147.1300048828125,148.00999450683594,149.44000244140625,153.61000061035156,153.24000549316406,154.13999938964844,153.67999267578125,153.72000122070312,154.42999267578125,154.69000244140625,175.72000122070312,169.3000030517578,173.94000244140625,173.1199951171875,173.5500030517578,172.88999938964844,170.69000244140625,170.4499969482422,173.5500030517578,173.72999572753906,178.86000061035156,177.3000030517578,181.1699981689453,181.17999267578125]},{\"mode\":\"lines\",\"name\":\"Close Price of MSFT\",\"type\":\"scatter\",\"x\":[\"2020-01-02T00:00:00\",\"2020-01-03T00:00:00\",\"2020-01-06T00:00:00\",\"2020-01-07T00:00:00\",\"2020-01-08T00:00:00\",\"2020-01-09T00:00:00\",\"2020-01-10T00:00:00\",\"2020-01-13T00:00:00\",\"2020-01-14T00:00:00\",\"2020-01-15T00:00:00\",\"2020-01-16T00:00:00\",\"2020-01-17T00:00:00\",\"2020-01-21T00:00:00\",\"2020-01-22T00:00:00\",\"2020-01-23T00:00:00\",\"2020-01-24T00:00:00\",\"2020-01-27T00:00:00\",\"2020-01-28T00:00:00\",\"2020-01-29T00:00:00\",\"2020-01-30T00:00:00\",\"2020-01-31T00:00:00\",\"2020-02-03T00:00:00\",\"2020-02-04T00:00:00\",\"2020-02-05T00:00:00\",\"2020-02-06T00:00:00\",\"2020-02-07T00:00:00\",\"2020-02-10T00:00:00\",\"2020-02-11T00:00:00\",\"2020-02-12T00:00:00\",\"2020-02-13T00:00:00\",\"2020-02-14T00:00:00\",\"2020-02-18T00:00:00\",\"2020-02-19T00:00:00\",\"2020-02-20T00:00:00\",\"2020-02-21T00:00:00\",\"2020-02-24T00:00:00\",\"2020-02-25T00:00:00\",\"2020-02-26T00:00:00\",\"2020-02-27T00:00:00\",\"2020-02-28T00:00:00\",\"2020-03-02T00:00:00\",\"2020-03-03T00:00:00\",\"2020-03-04T00:00:00\",\"2020-03-05T00:00:00\",\"2020-03-06T00:00:00\",\"2020-03-09T00:00:00\",\"2020-03-10T00:00:00\",\"2020-03-11T00:00:00\",\"2020-03-12T00:00:00\",\"2020-03-13T00:00:00\",\"2020-03-16T00:00:00\",\"2020-03-17T00:00:00\",\"2020-03-18T00:00:00\",\"2020-03-19T00:00:00\",\"2020-03-20T00:00:00\",\"2020-03-23T00:00:00\",\"2020-03-24T00:00:00\",\"2020-03-25T00:00:00\",\"2020-03-26T00:00:00\",\"2020-03-27T00:00:00\",\"2020-03-30T00:00:00\",\"2020-03-31T00:00:00\",\"2020-04-01T00:00:00\",\"2020-04-02T00:00:00\",\"2020-04-03T00:00:00\",\"2020-04-06T00:00:00\",\"2020-04-07T00:00:00\",\"2020-04-08T00:00:00\",\"2020-04-09T00:00:00\",\"2020-04-13T00:00:00\",\"2020-04-14T00:00:00\",\"2020-04-15T00:00:00\",\"2020-04-16T00:00:00\",\"2020-04-17T00:00:00\",\"2020-04-20T00:00:00\",\"2020-04-21T00:00:00\",\"2020-04-22T00:00:00\",\"2020-04-23T00:00:00\",\"2020-04-24T00:00:00\",\"2020-04-27T00:00:00\",\"2020-04-28T00:00:00\",\"2020-04-29T00:00:00\",\"2020-04-30T00:00:00\",\"2020-05-01T00:00:00\",\"2020-05-04T00:00:00\",\"2020-05-05T00:00:00\",\"2020-05-06T00:00:00\",\"2020-05-07T00:00:00\",\"2020-05-08T00:00:00\",\"2020-05-11T00:00:00\",\"2020-05-12T00:00:00\",\"2020-05-13T00:00:00\",\"2020-05-14T00:00:00\",\"2020-05-15T00:00:00\",\"2020-05-18T00:00:00\",\"2020-05-19T00:00:00\",\"2020-05-20T00:00:00\",\"2020-05-21T00:00:00\",\"2020-05-22T00:00:00\",\"2020-05-26T00:00:00\",\"2020-05-27T00:00:00\",\"2020-05-28T00:00:00\",\"2020-05-29T00:00:00\",\"2020-06-01T00:00:00\",\"2020-06-02T00:00:00\",\"2020-06-03T00:00:00\",\"2020-06-04T00:00:00\",\"2020-06-05T00:00:00\",\"2020-06-08T00:00:00\",\"2020-06-09T00:00:00\",\"2020-06-10T00:00:00\",\"2020-06-11T00:00:00\",\"2020-06-12T00:00:00\",\"2020-06-15T00:00:00\",\"2020-06-16T00:00:00\",\"2020-06-17T00:00:00\",\"2020-06-18T00:00:00\",\"2020-06-19T00:00:00\",\"2020-06-22T00:00:00\",\"2020-06-23T00:00:00\",\"2020-06-24T00:00:00\",\"2020-06-25T00:00:00\",\"2020-06-26T00:00:00\",\"2020-06-29T00:00:00\",\"2020-06-30T00:00:00\",\"2020-07-01T00:00:00\",\"2020-07-02T00:00:00\",\"2020-07-06T00:00:00\",\"2020-07-07T00:00:00\",\"2020-07-08T00:00:00\",\"2020-07-09T00:00:00\",\"2020-07-10T00:00:00\",\"2020-07-13T00:00:00\",\"2020-07-14T00:00:00\",\"2020-07-15T00:00:00\",\"2020-07-16T00:00:00\",\"2020-07-17T00:00:00\",\"2020-07-20T00:00:00\",\"2020-07-21T00:00:00\",\"2020-07-22T00:00:00\",\"2020-07-23T00:00:00\",\"2020-07-24T00:00:00\",\"2020-07-27T00:00:00\",\"2020-07-28T00:00:00\",\"2020-07-29T00:00:00\",\"2020-07-30T00:00:00\",\"2020-07-31T00:00:00\",\"2020-08-03T00:00:00\",\"2020-08-04T00:00:00\",\"2020-08-05T00:00:00\",\"2020-08-06T00:00:00\",\"2020-08-07T00:00:00\",\"2020-08-10T00:00:00\",\"2020-08-11T00:00:00\",\"2020-08-12T00:00:00\",\"2020-08-13T00:00:00\",\"2020-08-14T00:00:00\",\"2020-08-17T00:00:00\",\"2020-08-18T00:00:00\",\"2020-08-19T00:00:00\",\"2020-08-20T00:00:00\",\"2020-08-21T00:00:00\",\"2020-08-24T00:00:00\",\"2020-08-25T00:00:00\",\"2020-08-26T00:00:00\",\"2020-08-27T00:00:00\",\"2020-08-28T00:00:00\",\"2020-08-31T00:00:00\",\"2020-09-01T00:00:00\",\"2020-09-02T00:00:00\",\"2020-09-03T00:00:00\",\"2020-09-04T00:00:00\",\"2020-09-08T00:00:00\",\"2020-09-09T00:00:00\",\"2020-09-10T00:00:00\",\"2020-09-11T00:00:00\",\"2020-09-14T00:00:00\",\"2020-09-15T00:00:00\",\"2020-09-16T00:00:00\",\"2020-09-17T00:00:00\",\"2020-09-18T00:00:00\",\"2020-09-21T00:00:00\",\"2020-09-22T00:00:00\",\"2020-09-23T00:00:00\",\"2020-09-24T00:00:00\",\"2020-09-25T00:00:00\",\"2020-09-28T00:00:00\",\"2020-09-29T00:00:00\",\"2020-09-30T00:00:00\",\"2020-10-01T00:00:00\",\"2020-10-02T00:00:00\",\"2020-10-05T00:00:00\",\"2020-10-06T00:00:00\",\"2020-10-07T00:00:00\",\"2020-10-08T00:00:00\",\"2020-10-09T00:00:00\",\"2020-10-12T00:00:00\",\"2020-10-13T00:00:00\",\"2020-10-14T00:00:00\",\"2020-10-15T00:00:00\",\"2020-10-16T00:00:00\",\"2020-10-19T00:00:00\",\"2020-10-20T00:00:00\",\"2020-10-21T00:00:00\",\"2020-10-22T00:00:00\",\"2020-10-23T00:00:00\",\"2020-10-26T00:00:00\",\"2020-10-27T00:00:00\",\"2020-10-28T00:00:00\",\"2020-10-29T00:00:00\",\"2020-10-30T00:00:00\",\"2020-11-02T00:00:00\",\"2020-11-03T00:00:00\",\"2020-11-04T00:00:00\",\"2020-11-05T00:00:00\",\"2020-11-06T00:00:00\",\"2020-11-09T00:00:00\",\"2020-11-10T00:00:00\",\"2020-11-11T00:00:00\",\"2020-11-12T00:00:00\",\"2020-11-13T00:00:00\",\"2020-11-16T00:00:00\",\"2020-11-17T00:00:00\",\"2020-11-18T00:00:00\",\"2020-11-19T00:00:00\",\"2020-11-20T00:00:00\",\"2020-11-23T00:00:00\",\"2020-11-24T00:00:00\",\"2020-11-25T00:00:00\",\"2020-11-27T00:00:00\",\"2020-11-30T00:00:00\",\"2020-12-01T00:00:00\",\"2020-12-02T00:00:00\",\"2020-12-03T00:00:00\",\"2020-12-04T00:00:00\",\"2020-12-07T00:00:00\",\"2020-12-08T00:00:00\",\"2020-12-09T00:00:00\",\"2020-12-10T00:00:00\",\"2020-12-11T00:00:00\",\"2020-12-14T00:00:00\",\"2020-12-15T00:00:00\",\"2020-12-16T00:00:00\",\"2020-12-17T00:00:00\",\"2020-12-18T00:00:00\",\"2020-12-21T00:00:00\",\"2020-12-22T00:00:00\",\"2020-12-23T00:00:00\",\"2020-12-24T00:00:00\",\"2020-12-28T00:00:00\",\"2020-12-29T00:00:00\",\"2020-12-30T00:00:00\",\"2020-12-31T00:00:00\"],\"y\":[160.6199951171875,158.6199951171875,159.02999877929688,157.5800018310547,160.08999633789062,162.08999633789062,161.33999633789062,163.27999877929688,162.1300048828125,163.17999267578125,166.1699981689453,167.10000610351562,166.5,165.6999969482422,166.72000122070312,165.0399932861328,162.27999877929688,165.4600067138672,168.0399932861328,172.77999877929688,170.22999572753906,174.3800048828125,180.1199951171875,179.89999389648438,183.6300048828125,183.88999938964844,188.6999969482422,184.44000244140625,184.7100067138672,183.7100067138672,185.35000610351562,187.22999572753906,187.27999877929688,184.4199981689453,178.58999633789062,170.88999938964844,168.07000732421875,170.1699981689453,158.17999267578125,162.00999450683594,172.7899932861328,164.50999450683594,170.5500030517578,166.27000427246094,161.57000732421875,150.6199951171875,160.9199981689453,153.6300048828125,139.05999755859375,158.8300018310547,135.4199981689453,146.57000732421875,140.39999389648438,142.7100067138672,137.35000610351562,135.97999572753906,148.33999633789062,146.9199981689453,156.11000061035156,149.6999969482422,160.22999572753906,157.7100067138672,152.11000061035156,155.25999450683594,153.8300018310547,165.27000427246094,163.49000549316406,165.1300048828125,165.13999938964844,165.50999450683594,173.6999969482422,171.8800048828125,177.0399932861328,178.60000610351562,175.05999755859375,167.82000732421875,173.52000427246094,171.4199981689453,174.5500030517578,174.0500030517578,169.80999755859375,177.42999267578125,179.2100067138672,174.57000732421875,178.83999633789062,180.75999450683594,182.5399932861328,183.60000610351562,184.67999267578125,186.74000549316406,182.50999450683594,179.75,180.52999877929688,183.16000366210938,184.91000366210938,183.6300048828125,185.66000366210938,183.42999267578125,183.50999450683594,181.57000732421875,181.80999755859375,181.39999389648438,183.25,182.8300018310547,184.91000366210938,185.36000061035156,182.9199981689453,187.1999969482422,188.36000061035156,189.8000030517578,196.83999633789062,186.27000427246094,187.74000549316406,188.94000244140625,193.57000732421875,194.24000549316406,196.32000732421875,195.14999389648438,200.57000732421875,201.91000366210938,197.83999633789062,200.33999633789062,196.3300018310547,198.44000244140625,203.50999450683594,204.6999969482422,206.25999450683594,210.6999969482422,208.25,212.8300018310547,214.32000732421875,213.6699981689453,207.07000732421875,208.35000610351562,208.0399932861328,203.9199981689453,202.8800048828125,211.60000610351562,208.75,211.75,202.5399932861328,201.3000030517578,203.85000610351562,202.02000427246094,204.05999755859375,203.89999389648438,205.00999450683594,216.5399932861328,213.2899932861328,212.94000244140625,216.35000610351562,212.47999572753906,208.25,203.3800048828125,209.19000244140625,208.6999969482422,208.89999389648438,210.27999877929688,211.49000549316406,209.6999969482422,214.5800018310547,213.02000427246094,213.69000244140625,216.47000122070312,221.14999389648438,226.5800018310547,228.91000366210938,225.52999877929688,227.27000427246094,231.64999389648438,217.3000030517578,214.25,202.66000366210938,211.2899932861328,205.3699951171875,204.02999877929688,205.41000366210938,208.77999877929688,205.0500030517578,202.91000366210938,200.38999938964844,202.5399932861328,207.4199981689453,200.58999633789062,203.19000244140625,207.82000732421875,209.44000244140625,207.25999450683594,210.3300018310547,212.4600067138672,206.19000244140625,210.3800048828125,205.91000366210938,209.8300018310547,210.5800018310547,215.80999755859375,221.39999389648438,222.86000061035156,220.86000061035156,219.66000366210938,219.66000366210938,214.22000122070312,214.64999389648438,214.8000030517578,214.88999938964844,216.22999572753906,210.0800018310547,213.25,202.67999267578125,204.72000122070312,202.47000122070312,202.3300018310547,206.42999267578125,216.38999938964844,223.2899932861328,223.72000122070312,218.38999938964844,211.00999450683594,216.5500030517578,215.44000244140625,216.50999450683594,217.22999572753906,214.4600067138672,211.0800018310547,212.4199981689453,210.38999938964844,210.11000061035156,213.86000061035156,213.8699951171875,215.22999572753906,214.07000732421875,216.2100067138672,215.3699951171875,214.24000549316406,214.36000061035156,214.2899932861328,216.00999450683594,211.8000030517578,210.52000427246094,213.25999450683594,214.1999969482422,214.1300048828125,219.27999877929688,219.4199981689453,218.58999633789062,222.58999633789062,223.94000244140625,221.02000427246094,222.75,224.9600067138672,224.14999389648438,221.67999267578125,222.4199981689453]}],                        {\"template\":{\"data\":{\"bar\":[{\"error_x\":{\"color\":\"#2a3f5f\"},\"error_y\":{\"color\":\"#2a3f5f\"},\"marker\":{\"line\":{\"color\":\"#E5ECF6\",\"width\":0.5},\"pattern\":{\"fillmode\":\"overlay\",\"size\":10,\"solidity\":0.2}},\"type\":\"bar\"}],\"barpolar\":[{\"marker\":{\"line\":{\"color\":\"#E5ECF6\",\"width\":0.5},\"pattern\":{\"fillmode\":\"overlay\",\"size\":10,\"solidity\":0.2}},\"type\":\"barpolar\"}],\"carpet\":[{\"aaxis\":{\"endlinecolor\":\"#2a3f5f\",\"gridcolor\":\"white\",\"linecolor\":\"white\",\"minorgridcolor\":\"white\",\"startlinecolor\":\"#2a3f5f\"},\"baxis\":{\"endlinecolor\":\"#2a3f5f\",\"gridcolor\":\"white\",\"linecolor\":\"white\",\"minorgridcolor\":\"white\",\"startlinecolor\":\"#2a3f5f\"},\"type\":\"carpet\"}],\"choropleth\":[{\"colorbar\":{\"outlinewidth\":0,\"ticks\":\"\"},\"type\":\"choropleth\"}],\"contour\":[{\"colorbar\":{\"outlinewidth\":0,\"ticks\":\"\"},\"colorscale\":[[0.0,\"#0d0887\"],[0.1111111111111111,\"#46039f\"],[0.2222222222222222,\"#7201a8\"],[0.3333333333333333,\"#9c179e\"],[0.4444444444444444,\"#bd3786\"],[0.5555555555555556,\"#d8576b\"],[0.6666666666666666,\"#ed7953\"],[0.7777777777777778,\"#fb9f3a\"],[0.8888888888888888,\"#fdca26\"],[1.0,\"#f0f921\"]],\"type\":\"contour\"}],\"contourcarpet\":[{\"colorbar\":{\"outlinewidth\":0,\"ticks\":\"\"},\"type\":\"contourcarpet\"}],\"heatmap\":[{\"colorbar\":{\"outlinewidth\":0,\"ticks\":\"\"},\"colorscale\":[[0.0,\"#0d0887\"],[0.1111111111111111,\"#46039f\"],[0.2222222222222222,\"#7201a8\"],[0.3333333333333333,\"#9c179e\"],[0.4444444444444444,\"#bd3786\"],[0.5555555555555556,\"#d8576b\"],[0.6666666666666666,\"#ed7953\"],[0.7777777777777778,\"#fb9f3a\"],[0.8888888888888888,\"#fdca26\"],[1.0,\"#f0f921\"]],\"type\":\"heatmap\"}],\"heatmapgl\":[{\"colorbar\":{\"outlinewidth\":0,\"ticks\":\"\"},\"colorscale\":[[0.0,\"#0d0887\"],[0.1111111111111111,\"#46039f\"],[0.2222222222222222,\"#7201a8\"],[0.3333333333333333,\"#9c179e\"],[0.4444444444444444,\"#bd3786\"],[0.5555555555555556,\"#d8576b\"],[0.6666666666666666,\"#ed7953\"],[0.7777777777777778,\"#fb9f3a\"],[0.8888888888888888,\"#fdca26\"],[1.0,\"#f0f921\"]],\"type\":\"heatmapgl\"}],\"histogram\":[{\"marker\":{\"pattern\":{\"fillmode\":\"overlay\",\"size\":10,\"solidity\":0.2}},\"type\":\"histogram\"}],\"histogram2d\":[{\"colorbar\":{\"outlinewidth\":0,\"ticks\":\"\"},\"colorscale\":[[0.0,\"#0d0887\"],[0.1111111111111111,\"#46039f\"],[0.2222222222222222,\"#7201a8\"],[0.3333333333333333,\"#9c179e\"],[0.4444444444444444,\"#bd3786\"],[0.5555555555555556,\"#d8576b\"],[0.6666666666666666,\"#ed7953\"],[0.7777777777777778,\"#fb9f3a\"],[0.8888888888888888,\"#fdca26\"],[1.0,\"#f0f921\"]],\"type\":\"histogram2d\"}],\"histogram2dcontour\":[{\"colorbar\":{\"outlinewidth\":0,\"ticks\":\"\"},\"colorscale\":[[0.0,\"#0d0887\"],[0.1111111111111111,\"#46039f\"],[0.2222222222222222,\"#7201a8\"],[0.3333333333333333,\"#9c179e\"],[0.4444444444444444,\"#bd3786\"],[0.5555555555555556,\"#d8576b\"],[0.6666666666666666,\"#ed7953\"],[0.7777777777777778,\"#fb9f3a\"],[0.8888888888888888,\"#fdca26\"],[1.0,\"#f0f921\"]],\"type\":\"histogram2dcontour\"}],\"mesh3d\":[{\"colorbar\":{\"outlinewidth\":0,\"ticks\":\"\"},\"type\":\"mesh3d\"}],\"parcoords\":[{\"line\":{\"colorbar\":{\"outlinewidth\":0,\"ticks\":\"\"}},\"type\":\"parcoords\"}],\"pie\":[{\"automargin\":true,\"type\":\"pie\"}],\"scatter\":[{\"marker\":{\"colorbar\":{\"outlinewidth\":0,\"ticks\":\"\"}},\"type\":\"scatter\"}],\"scatter3d\":[{\"line\":{\"colorbar\":{\"outlinewidth\":0,\"ticks\":\"\"}},\"marker\":{\"colorbar\":{\"outlinewidth\":0,\"ticks\":\"\"}},\"type\":\"scatter3d\"}],\"scattercarpet\":[{\"marker\":{\"colorbar\":{\"outlinewidth\":0,\"ticks\":\"\"}},\"type\":\"scattercarpet\"}],\"scattergeo\":[{\"marker\":{\"colorbar\":{\"outlinewidth\":0,\"ticks\":\"\"}},\"type\":\"scattergeo\"}],\"scattergl\":[{\"marker\":{\"colorbar\":{\"outlinewidth\":0,\"ticks\":\"\"}},\"type\":\"scattergl\"}],\"scattermapbox\":[{\"marker\":{\"colorbar\":{\"outlinewidth\":0,\"ticks\":\"\"}},\"type\":\"scattermapbox\"}],\"scatterpolar\":[{\"marker\":{\"colorbar\":{\"outlinewidth\":0,\"ticks\":\"\"}},\"type\":\"scatterpolar\"}],\"scatterpolargl\":[{\"marker\":{\"colorbar\":{\"outlinewidth\":0,\"ticks\":\"\"}},\"type\":\"scatterpolargl\"}],\"scatterternary\":[{\"marker\":{\"colorbar\":{\"outlinewidth\":0,\"ticks\":\"\"}},\"type\":\"scatterternary\"}],\"surface\":[{\"colorbar\":{\"outlinewidth\":0,\"ticks\":\"\"},\"colorscale\":[[0.0,\"#0d0887\"],[0.1111111111111111,\"#46039f\"],[0.2222222222222222,\"#7201a8\"],[0.3333333333333333,\"#9c179e\"],[0.4444444444444444,\"#bd3786\"],[0.5555555555555556,\"#d8576b\"],[0.6666666666666666,\"#ed7953\"],[0.7777777777777778,\"#fb9f3a\"],[0.8888888888888888,\"#fdca26\"],[1.0,\"#f0f921\"]],\"type\":\"surface\"}],\"table\":[{\"cells\":{\"fill\":{\"color\":\"#EBF0F8\"},\"line\":{\"color\":\"white\"}},\"header\":{\"fill\":{\"color\":\"#C8D4E3\"},\"line\":{\"color\":\"white\"}},\"type\":\"table\"}]},\"layout\":{\"annotationdefaults\":{\"arrowcolor\":\"#2a3f5f\",\"arrowhead\":0,\"arrowwidth\":1},\"autotypenumbers\":\"strict\",\"coloraxis\":{\"colorbar\":{\"outlinewidth\":0,\"ticks\":\"\"}},\"colorscale\":{\"diverging\":[[0,\"#8e0152\"],[0.1,\"#c51b7d\"],[0.2,\"#de77ae\"],[0.3,\"#f1b6da\"],[0.4,\"#fde0ef\"],[0.5,\"#f7f7f7\"],[0.6,\"#e6f5d0\"],[0.7,\"#b8e186\"],[0.8,\"#7fbc41\"],[0.9,\"#4d9221\"],[1,\"#276419\"]],\"sequential\":[[0.0,\"#0d0887\"],[0.1111111111111111,\"#46039f\"],[0.2222222222222222,\"#7201a8\"],[0.3333333333333333,\"#9c179e\"],[0.4444444444444444,\"#bd3786\"],[0.5555555555555556,\"#d8576b\"],[0.6666666666666666,\"#ed7953\"],[0.7777777777777778,\"#fb9f3a\"],[0.8888888888888888,\"#fdca26\"],[1.0,\"#f0f921\"]],\"sequentialminus\":[[0.0,\"#0d0887\"],[0.1111111111111111,\"#46039f\"],[0.2222222222222222,\"#7201a8\"],[0.3333333333333333,\"#9c179e\"],[0.4444444444444444,\"#bd3786\"],[0.5555555555555556,\"#d8576b\"],[0.6666666666666666,\"#ed7953\"],[0.7777777777777778,\"#fb9f3a\"],[0.8888888888888888,\"#fdca26\"],[1.0,\"#f0f921\"]]},\"colorway\":[\"#636efa\",\"#EF553B\",\"#00cc96\",\"#ab63fa\",\"#FFA15A\",\"#19d3f3\",\"#FF6692\",\"#B6E880\",\"#FF97FF\",\"#FECB52\"],\"font\":{\"color\":\"#2a3f5f\"},\"geo\":{\"bgcolor\":\"white\",\"lakecolor\":\"white\",\"landcolor\":\"#E5ECF6\",\"showlakes\":true,\"showland\":true,\"subunitcolor\":\"white\"},\"hoverlabel\":{\"align\":\"left\"},\"hovermode\":\"closest\",\"mapbox\":{\"style\":\"light\"},\"paper_bgcolor\":\"white\",\"plot_bgcolor\":\"#E5ECF6\",\"polar\":{\"angularaxis\":{\"gridcolor\":\"white\",\"linecolor\":\"white\",\"ticks\":\"\"},\"bgcolor\":\"#E5ECF6\",\"radialaxis\":{\"gridcolor\":\"white\",\"linecolor\":\"white\",\"ticks\":\"\"}},\"scene\":{\"xaxis\":{\"backgroundcolor\":\"#E5ECF6\",\"gridcolor\":\"white\",\"gridwidth\":2,\"linecolor\":\"white\",\"showbackground\":true,\"ticks\":\"\",\"zerolinecolor\":\"white\"},\"yaxis\":{\"backgroundcolor\":\"#E5ECF6\",\"gridcolor\":\"white\",\"gridwidth\":2,\"linecolor\":\"white\",\"showbackground\":true,\"ticks\":\"\",\"zerolinecolor\":\"white\"},\"zaxis\":{\"backgroundcolor\":\"#E5ECF6\",\"gridcolor\":\"white\",\"gridwidth\":2,\"linecolor\":\"white\",\"showbackground\":true,\"ticks\":\"\",\"zerolinecolor\":\"white\"}},\"shapedefaults\":{\"line\":{\"color\":\"#2a3f5f\"}},\"ternary\":{\"aaxis\":{\"gridcolor\":\"white\",\"linecolor\":\"white\",\"ticks\":\"\"},\"baxis\":{\"gridcolor\":\"white\",\"linecolor\":\"white\",\"ticks\":\"\"},\"bgcolor\":\"#E5ECF6\",\"caxis\":{\"gridcolor\":\"white\",\"linecolor\":\"white\",\"ticks\":\"\"}},\"title\":{\"x\":0.05},\"xaxis\":{\"automargin\":true,\"gridcolor\":\"white\",\"linecolor\":\"white\",\"ticks\":\"\",\"title\":{\"standoff\":15},\"zerolinecolor\":\"white\",\"zerolinewidth\":2},\"yaxis\":{\"automargin\":true,\"gridcolor\":\"white\",\"linecolor\":\"white\",\"ticks\":\"\",\"title\":{\"standoff\":15},\"zerolinecolor\":\"white\",\"zerolinewidth\":2}}},\"title\":{\"text\":\"Comparison of Close Prices Between Stocks\"}},                        {\"responsive\": true}                    ).then(function(){\n",
       "                            \n",
       "var gd = document.getElementById('89a72e36-bb36-436b-bf52-b8d493c2db7d');\n",
       "var x = new MutationObserver(function (mutations, observer) {{\n",
       "        var display = window.getComputedStyle(gd).display;\n",
       "        if (!display || display === 'none') {{\n",
       "            console.log([gd, 'removed!']);\n",
       "            Plotly.purge(gd);\n",
       "            observer.disconnect();\n",
       "        }}\n",
       "}});\n",
       "\n",
       "// Listen for the removal of the full notebook cells\n",
       "var notebookContainer = gd.closest('#notebook-container');\n",
       "if (notebookContainer) {{\n",
       "    x.observe(notebookContainer, {childList: true});\n",
       "}}\n",
       "\n",
       "// Listen for the clearing of the current output cell\n",
       "var outputEl = gd.closest('.output');\n",
       "if (outputEl) {{\n",
       "    x.observe(outputEl, {childList: true});\n",
       "}}\n",
       "\n",
       "                        })                };                });            </script>        </div>"
      ]
     },
     "metadata": {},
     "output_type": "display_data"
    }
   ],
   "source": [
    "#interactive chart of Close prices for stocks\n",
    "fig=go.Figure()\n",
    "\n",
    "fig.add_trace(go.Scatter(x=data_stocks.index,\n",
    "                        y=data_stocks.Close_AAPL,\n",
    "                        mode='lines',\n",
    "                        name='Close Price of AAPL'))\n",
    "\n",
    "fig.add_trace(go.Scatter(x=data_stocks.index,\n",
    "                        y=data_stocks.Close_DIS,\n",
    "                        mode='lines',\n",
    "                        name='Close Price of DIS'))\n",
    "\n",
    "fig.add_trace(go.Scatter(x=data_stocks.index,\n",
    "                        y=data_stocks.Close_MSFT,\n",
    "                        mode='lines',\n",
    "                        name='Close Price of MSFT'))\n",
    "\n",
    "fig.update_layout(title='Comparison of Close Prices Between Stocks')\n",
    "\n",
    "fig.show()"
   ]
  },
  {
   "cell_type": "markdown",
   "id": "ee93c2cf",
   "metadata": {},
   "source": [
    "# CLASS 8"
   ]
  },
  {
   "cell_type": "code",
   "execution_count": 178,
   "id": "e4e31148",
   "metadata": {},
   "outputs": [],
   "source": [
    "wine_df=pd.read_excel('Wine.xlsx',sheet_name='Transactions')"
   ]
  },
  {
   "cell_type": "code",
   "execution_count": 179,
   "id": "e2478e14",
   "metadata": {},
   "outputs": [],
   "source": [
    "#defining a function that will code Discount into ranges\n",
    "def discount_range(discount):\n",
    "    if discount<30:\n",
    "        return 'Up to 30'\n",
    "    elif discount>=30 and discount<=60:\n",
    "        return '[30,60]'\n",
    "    else:\n",
    "        return 'More than 60'"
   ]
  },
  {
   "cell_type": "code",
   "execution_count": 180,
   "id": "e1a3b60d",
   "metadata": {},
   "outputs": [
    {
     "data": {
      "text/plain": [
       "'More than 60'"
      ]
     },
     "execution_count": 180,
     "metadata": {},
     "output_type": "execute_result"
    }
   ],
   "source": [
    "\n",
    "#applying a function defined above on a values\n",
    "discount_range(wine_df.Discount[4])"
   ]
  },
  {
   "cell_type": "code",
   "execution_count": 181,
   "id": "0b51fe88",
   "metadata": {},
   "outputs": [
    {
     "name": "stdout",
     "output_type": "stream",
     "text": [
      "Smith Up to 30\n",
      "Smith [30,60]\n",
      "Johnson [30,60]\n",
      "Johnson [30,60]\n",
      "Johnson More than 60\n",
      "Williams [30,60]\n",
      "Williams More than 60\n",
      "Williams More than 60\n",
      "Brown [30,60]\n",
      "Brown More than 60\n"
     ]
    }
   ],
   "source": [
    "#applying discount function on the first 10 rows of data\n",
    "for i in range(10):\n",
    "    print(wine_df['Customer Last Name'][i],discount_range(wine_df.Discount[i]))"
   ]
  },
  {
   "cell_type": "code",
   "execution_count": 183,
   "id": "ba1653c4",
   "metadata": {},
   "outputs": [
    {
     "data": {
      "text/html": [
       "<div>\n",
       "<style scoped>\n",
       "    .dataframe tbody tr th:only-of-type {\n",
       "        vertical-align: middle;\n",
       "    }\n",
       "\n",
       "    .dataframe tbody tr th {\n",
       "        vertical-align: top;\n",
       "    }\n",
       "\n",
       "    .dataframe thead th {\n",
       "        text-align: right;\n",
       "    }\n",
       "</style>\n",
       "<table border=\"1\" class=\"dataframe\">\n",
       "  <thead>\n",
       "    <tr style=\"text-align: right;\">\n",
       "      <th></th>\n",
       "      <th>Offer #</th>\n",
       "      <th>Discount</th>\n",
       "      <th>Minimum Qty (kg)</th>\n",
       "    </tr>\n",
       "  </thead>\n",
       "  <tbody>\n",
       "    <tr>\n",
       "      <th>0</th>\n",
       "      <td>2</td>\n",
       "      <td>17</td>\n",
       "      <td>72</td>\n",
       "    </tr>\n",
       "    <tr>\n",
       "      <th>1</th>\n",
       "      <td>24</td>\n",
       "      <td>34</td>\n",
       "      <td>6</td>\n",
       "    </tr>\n",
       "    <tr>\n",
       "      <th>2</th>\n",
       "      <td>17</td>\n",
       "      <td>47</td>\n",
       "      <td>12</td>\n",
       "    </tr>\n",
       "    <tr>\n",
       "      <th>3</th>\n",
       "      <td>24</td>\n",
       "      <td>34</td>\n",
       "      <td>6</td>\n",
       "    </tr>\n",
       "    <tr>\n",
       "      <th>4</th>\n",
       "      <td>26</td>\n",
       "      <td>83</td>\n",
       "      <td>144</td>\n",
       "    </tr>\n",
       "  </tbody>\n",
       "</table>\n",
       "</div>"
      ],
      "text/plain": [
       "   Offer #  Discount  Minimum Qty (kg)\n",
       "0        2        17                72\n",
       "1       24        34                 6\n",
       "2       17        47                12\n",
       "3       24        34                 6\n",
       "4       26        83               144"
      ]
     },
     "execution_count": 183,
     "metadata": {},
     "output_type": "execute_result"
    }
   ],
   "source": [
    "#selecting only numeric data\n",
    "data_num=wine_df.select_dtypes(include='int64')\n",
    "data_num.head()"
   ]
  },
  {
   "cell_type": "code",
   "execution_count": 187,
   "id": "1afa84b0",
   "metadata": {},
   "outputs": [
    {
     "name": "stderr",
     "output_type": "stream",
     "text": [
      "C:\\Users\\Admin\\anaconda3\\lib\\site-packages\\pandas\\core\\frame.py:4308: SettingWithCopyWarning:\n",
      "\n",
      "\n",
      "A value is trying to be set on a copy of a slice from a DataFrame\n",
      "\n",
      "See the caveats in the documentation: https://pandas.pydata.org/pandas-docs/stable/user_guide/indexing.html#returning-a-view-versus-a-copy\n",
      "\n"
     ]
    },
    {
     "data": {
      "text/html": [
       "<div>\n",
       "<style scoped>\n",
       "    .dataframe tbody tr th:only-of-type {\n",
       "        vertical-align: middle;\n",
       "    }\n",
       "\n",
       "    .dataframe tbody tr th {\n",
       "        vertical-align: top;\n",
       "    }\n",
       "\n",
       "    .dataframe thead th {\n",
       "        text-align: right;\n",
       "    }\n",
       "</style>\n",
       "<table border=\"1\" class=\"dataframe\">\n",
       "  <thead>\n",
       "    <tr style=\"text-align: right;\">\n",
       "      <th></th>\n",
       "      <th>Discount</th>\n",
       "      <th>Minimum Qty (kg)</th>\n",
       "    </tr>\n",
       "  </thead>\n",
       "  <tbody>\n",
       "    <tr>\n",
       "      <th>0</th>\n",
       "      <td>17</td>\n",
       "      <td>72</td>\n",
       "    </tr>\n",
       "    <tr>\n",
       "      <th>1</th>\n",
       "      <td>34</td>\n",
       "      <td>6</td>\n",
       "    </tr>\n",
       "    <tr>\n",
       "      <th>2</th>\n",
       "      <td>47</td>\n",
       "      <td>12</td>\n",
       "    </tr>\n",
       "    <tr>\n",
       "      <th>3</th>\n",
       "      <td>34</td>\n",
       "      <td>6</td>\n",
       "    </tr>\n",
       "    <tr>\n",
       "      <th>4</th>\n",
       "      <td>83</td>\n",
       "      <td>144</td>\n",
       "    </tr>\n",
       "  </tbody>\n",
       "</table>\n",
       "</div>"
      ],
      "text/plain": [
       "   Discount  Minimum Qty (kg)\n",
       "0        17                72\n",
       "1        34                 6\n",
       "2        47                12\n",
       "3        34                 6\n",
       "4        83               144"
      ]
     },
     "execution_count": 187,
     "metadata": {},
     "output_type": "execute_result"
    }
   ],
   "source": [
    "data_num.drop('Offer #',axis=1,inplace=True)\n",
    "data_num.head()"
   ]
  },
  {
   "cell_type": "code",
   "execution_count": 188,
   "id": "c66a6d8a",
   "metadata": {},
   "outputs": [
    {
     "data": {
      "text/html": [
       "<div>\n",
       "<style scoped>\n",
       "    .dataframe tbody tr th:only-of-type {\n",
       "        vertical-align: middle;\n",
       "    }\n",
       "\n",
       "    .dataframe tbody tr th {\n",
       "        vertical-align: top;\n",
       "    }\n",
       "\n",
       "    .dataframe thead th {\n",
       "        text-align: right;\n",
       "    }\n",
       "</style>\n",
       "<table border=\"1\" class=\"dataframe\">\n",
       "  <thead>\n",
       "    <tr style=\"text-align: right;\">\n",
       "      <th></th>\n",
       "      <th>Customer Last Name</th>\n",
       "      <th>Gender</th>\n",
       "      <th>Varietal</th>\n",
       "      <th>Customer_Segment</th>\n",
       "      <th>Origin</th>\n",
       "      <th>Campaign</th>\n",
       "      <th>Past Peak</th>\n",
       "    </tr>\n",
       "  </thead>\n",
       "  <tbody>\n",
       "    <tr>\n",
       "      <th>0</th>\n",
       "      <td>Smith</td>\n",
       "      <td>Male</td>\n",
       "      <td>Pinot Noir</td>\n",
       "      <td>Segment 4</td>\n",
       "      <td>False</td>\n",
       "      <td>January</td>\n",
       "      <td>France</td>\n",
       "    </tr>\n",
       "    <tr>\n",
       "      <th>1</th>\n",
       "      <td>Smith</td>\n",
       "      <td>Male</td>\n",
       "      <td>Pinot Noir</td>\n",
       "      <td>Segment 4</td>\n",
       "      <td>False</td>\n",
       "      <td>September</td>\n",
       "      <td>Italy</td>\n",
       "    </tr>\n",
       "    <tr>\n",
       "      <th>2</th>\n",
       "      <td>Johnson</td>\n",
       "      <td>Male</td>\n",
       "      <td>Pinot Noir</td>\n",
       "      <td>Segment 4</td>\n",
       "      <td>False</td>\n",
       "      <td>July</td>\n",
       "      <td>Germany</td>\n",
       "    </tr>\n",
       "    <tr>\n",
       "      <th>3</th>\n",
       "      <td>Johnson</td>\n",
       "      <td>Male</td>\n",
       "      <td>Pinot Noir</td>\n",
       "      <td>Segment 4</td>\n",
       "      <td>False</td>\n",
       "      <td>September</td>\n",
       "      <td>Italy</td>\n",
       "    </tr>\n",
       "    <tr>\n",
       "      <th>4</th>\n",
       "      <td>Johnson</td>\n",
       "      <td>Male</td>\n",
       "      <td>Pinot Noir</td>\n",
       "      <td>Segment 4</td>\n",
       "      <td>False</td>\n",
       "      <td>October</td>\n",
       "      <td>Australia</td>\n",
       "    </tr>\n",
       "  </tbody>\n",
       "</table>\n",
       "</div>"
      ],
      "text/plain": [
       "  Customer Last Name Gender    Varietal Customer_Segment  Origin   Campaign  \\\n",
       "0              Smith   Male  Pinot Noir        Segment 4   False    January   \n",
       "1              Smith   Male  Pinot Noir        Segment 4   False  September   \n",
       "2            Johnson   Male  Pinot Noir        Segment 4   False       July   \n",
       "3            Johnson   Male  Pinot Noir        Segment 4   False  September   \n",
       "4            Johnson   Male  Pinot Noir        Segment 4   False    October   \n",
       "\n",
       "   Past Peak  \n",
       "0     France  \n",
       "1      Italy  \n",
       "2    Germany  \n",
       "3      Italy  \n",
       "4  Australia  "
      ]
     },
     "execution_count": 188,
     "metadata": {},
     "output_type": "execute_result"
    }
   ],
   "source": [
    "#selecting numeric and bool data\n",
    "data_str=wine_df.select_dtypes(exclude='int64')\n",
    "data_str.head()"
   ]
  },
  {
   "cell_type": "code",
   "execution_count": 186,
   "id": "ac263f4c",
   "metadata": {},
   "outputs": [],
   "source": [
    "#join function\n",
    "wine_df_join=data_num.join(data_str,how='outer')"
   ]
  },
  {
   "cell_type": "markdown",
   "id": "742edcb9",
   "metadata": {},
   "source": [
    "# Visualization"
   ]
  },
  {
   "cell_type": "code",
   "execution_count": 191,
   "id": "d3b8e8cc",
   "metadata": {},
   "outputs": [
    {
     "data": {
      "image/png": "[encoded data removed]",
      "text/plain": [
       "<Figure size 720x432 with 1 Axes>"
      ]
     },
     "metadata": {},
     "output_type": "display_data"
    }
   ],
   "source": [
    "sns.set_style('darkgrid')\n",
    "\n",
    "plt.figure(figsize=(10,6))\n",
    "\n",
    "plt.bar(wine_df_join.Varietal.unique(),\n",
    "        wine_df_join.groupby('Varietal')['Discount'].mean())\n",
    "\n",
    "plt.show()"
   ]
  },
  {
   "cell_type": "code",
   "execution_count": 193,
   "id": "f821a95c",
   "metadata": {},
   "outputs": [
    {
     "name": "stderr",
     "output_type": "stream",
     "text": [
      "C:\\Users\\Admin\\anaconda3\\lib\\site-packages\\seaborn\\_decorators.py:36: FutureWarning:\n",
      "\n",
      "Pass the following variables as keyword args: x, y. From version 0.12, the only valid positional argument will be `data`, and passing other arguments without an explicit keyword will result in an error or misinterpretation.\n",
      "\n"
     ]
    },
    {
     "data": {
      "image/png": "[encoded data removed]",
      "text/plain": [
       "<Figure size 720x432 with 1 Axes>"
      ]
     },
     "metadata": {},
     "output_type": "display_data"
    }
   ],
   "source": [
    "plt.figure(figsize=(10,6))\n",
    "\n",
    "sns.barplot(wine_df_join.Varietal.unique(),\n",
    "           wine_df.Varietal.value_counts())\n",
    "\n",
    "plt.show()"
   ]
  },
  {
   "cell_type": "code",
   "execution_count": 195,
   "id": "edb740d3",
   "metadata": {},
   "outputs": [
    {
     "name": "stderr",
     "output_type": "stream",
     "text": [
      "C:\\Users\\Admin\\anaconda3\\lib\\site-packages\\seaborn\\_decorators.py:36: FutureWarning:\n",
      "\n",
      "Pass the following variables as keyword args: x, y. From version 0.12, the only valid positional argument will be `data`, and passing other arguments without an explicit keyword will result in an error or misinterpretation.\n",
      "\n"
     ]
    },
    {
     "data": {
      "image/png": "[encoded data removed]",
      "text/plain": [
       "<Figure size 720x432 with 1 Axes>"
      ]
     },
     "metadata": {},
     "output_type": "display_data"
    }
   ],
   "source": [
    "plt.figure(figsize=(10,6))\n",
    "sns.scatterplot(data_num.Discount,\n",
    "               data_num['Minimum Qty (kg)'])\n",
    "plt.show()"
   ]
  },
  {
   "cell_type": "code",
   "execution_count": 196,
   "id": "46ea5b96",
   "metadata": {},
   "outputs": [
    {
     "name": "stderr",
     "output_type": "stream",
     "text": [
      "C:\\Users\\Admin\\anaconda3\\lib\\site-packages\\seaborn\\distributions.py:2557: FutureWarning:\n",
      "\n",
      "`distplot` is a deprecated function and will be removed in a future version. Please adapt your code to use either `displot` (a figure-level function with similar flexibility) or `histplot` (an axes-level function for histograms).\n",
      "\n"
     ]
    },
    {
     "data": {
      "image/png": "[encoded data removed]",
      "text/plain": [
       "<Figure size 432x288 with 1 Axes>"
      ]
     },
     "metadata": {},
     "output_type": "display_data"
    }
   ],
   "source": [
    "\n",
    "sns.distplot(data_num.Discount)\n",
    "plt.show()\n"
   ]
  },
  {
   "cell_type": "code",
   "execution_count": 198,
   "id": "85af559b",
   "metadata": {},
   "outputs": [
    {
     "data": {
      "image/png": "[encoded data removed]",
      "text/plain": [
       "<Figure size 360x360 with 6 Axes>"
      ]
     },
     "metadata": {},
     "output_type": "display_data"
    }
   ],
   "source": [
    "sns.pairplot(data_num)\n",
    "plt.show()"
   ]
  },
  {
   "cell_type": "code",
   "execution_count": 200,
   "id": "47225e4d",
   "metadata": {},
   "outputs": [
    {
     "data": {
      "image/png": "[encoded data removed]",
      "text/plain": [
       "<Figure size 720x432 with 1 Axes>"
      ]
     },
     "metadata": {},
     "output_type": "display_data"
    }
   ],
   "source": [
    "\n",
    "plt.figure(figsize=(10,6))\n",
    "sns.boxplot(y=wine_df_join.Discount,x=wine_df_join.Varietal)\n",
    "plt.show()"
   ]
  },
  {
   "cell_type": "markdown",
   "id": "707db75a",
   "metadata": {},
   "source": [
    "## pearsonr:"
   ]
  },
  {
   "cell_type": "code",
   "execution_count": 203,
   "id": "1fffcb31",
   "metadata": {},
   "outputs": [
    {
     "data": {
      "text/plain": [
       "(0.20896189931265607, 0.00015144638556191636)"
      ]
     },
     "execution_count": 203,
     "metadata": {},
     "output_type": "execute_result"
    }
   ],
   "source": [
    "#correlation test\n",
    "pearsonr(data_num.Discount,data_num['Minimum Qty (kg)'])\n",
    "# first value is the cirr. coeff., second value is the p-value"
   ]
  },
  {
   "cell_type": "code",
   "execution_count": 204,
   "id": "bcb87ac9",
   "metadata": {},
   "outputs": [
    {
     "data": {
      "text/html": [
       "<div>\n",
       "<style scoped>\n",
       "    .dataframe tbody tr th:only-of-type {\n",
       "        vertical-align: middle;\n",
       "    }\n",
       "\n",
       "    .dataframe tbody tr th {\n",
       "        vertical-align: top;\n",
       "    }\n",
       "\n",
       "    .dataframe thead th {\n",
       "        text-align: right;\n",
       "    }\n",
       "</style>\n",
       "<table border=\"1\" class=\"dataframe\">\n",
       "  <thead>\n",
       "    <tr style=\"text-align: right;\">\n",
       "      <th>Gender</th>\n",
       "      <th>Female</th>\n",
       "      <th>Male</th>\n",
       "    </tr>\n",
       "  </thead>\n",
       "  <tbody>\n",
       "    <tr>\n",
       "      <th>Discount</th>\n",
       "      <td>59.876543</td>\n",
       "      <td>59.08642</td>\n",
       "    </tr>\n",
       "    <tr>\n",
       "      <th>Minimum Qty (kg)</th>\n",
       "      <td>59.185185</td>\n",
       "      <td>57.62963</td>\n",
       "    </tr>\n",
       "  </tbody>\n",
       "</table>\n",
       "</div>"
      ],
      "text/plain": [
       "Gender               Female      Male\n",
       "Discount          59.876543  59.08642\n",
       "Minimum Qty (kg)  59.185185  57.62963"
      ]
     },
     "execution_count": 204,
     "metadata": {},
     "output_type": "execute_result"
    }
   ],
   "source": [
    "#creating pivot table\n",
    "pd.pivot_table(data=wine_df_join,columns='Gender',values=['Minimum Qty (kg)','Discount'],aggfunc='mean')"
   ]
  },
  {
   "cell_type": "code",
   "execution_count": 206,
   "id": "5ede512b",
   "metadata": {},
   "outputs": [
    {
     "data": {
      "text/plain": [
       "24    17\n",
       "25    83\n",
       "37    56\n",
       "38    48\n",
       "39    57\n",
       "Name: Discount, dtype: int64"
      ]
     },
     "execution_count": 206,
     "metadata": {},
     "output_type": "execute_result"
    }
   ],
   "source": [
    "wine_df['Discount'][wine_df['Gender']=='Female'].head()"
   ]
  },
  {
   "cell_type": "markdown",
   "id": "02ed5c14",
   "metadata": {},
   "source": [
    "## Independent sample T-test"
   ]
  },
  {
   "cell_type": "code",
   "execution_count": 207,
   "id": "74416d5c",
   "metadata": {},
   "outputs": [
    {
     "data": {
      "text/plain": [
       "Ttest_indResult(statistic=0.3493449018773563, pvalue=0.7270587420532792)"
      ]
     },
     "execution_count": 207,
     "metadata": {},
     "output_type": "execute_result"
    }
   ],
   "source": [
    "ttest_ind(wine_df['Discount'][wine_df['Gender']=='Female'], #Discount for Female customers\n",
    "          wine_df['Discount'][wine_df['Gender']=='Male'],  #Discount for Male customers\n",
    "          equal_var=True #Defining whether variances are equal or not\n",
    ")"
   ]
  },
  {
   "cell_type": "code",
   "execution_count": 208,
   "id": "0ae4a0c5",
   "metadata": {},
   "outputs": [
    {
     "name": "stdout",
     "output_type": "stream",
     "text": [
      "Discount ---- Ttest_indResult(statistic=0.3493449018773563, pvalue=0.7270587420532792)\n",
      "Minimum Qty (kg) ---- Ttest_indResult(statistic=0.2810538816316087, pvalue=0.7788495822610434)\n"
     ]
    }
   ],
   "source": [
    "for i in data_num.columns:\n",
    "    print(i, '----', ttest_ind(wine_df[i][wine_df['Gender']=='Female'],\n",
    "          wine_df[i][wine_df['Gender']=='Male']))"
   ]
  },
  {
   "cell_type": "markdown",
   "id": "884c0522",
   "metadata": {},
   "source": [
    "### Levene (tests the null hypothesis that all input samples are from populations with equal variances.)"
   ]
  },
  {
   "cell_type": "code",
   "execution_count": 209,
   "id": "6f29660a",
   "metadata": {},
   "outputs": [
    {
     "data": {
      "text/plain": [
       "LeveneResult(statistic=0.8097998601665954, pvalue=0.3688519181536686)"
      ]
     },
     "execution_count": 209,
     "metadata": {},
     "output_type": "execute_result"
    }
   ],
   "source": [
    "levene(wine_df['Discount'][wine_df['Gender']=='Female'],\n",
    "          wine_df['Discount'][wine_df['Gender']=='Male'])"
   ]
  },
  {
   "cell_type": "code",
   "execution_count": 211,
   "id": "2a2724f2",
   "metadata": {},
   "outputs": [],
   "source": [
    "# The result above indicates that we can accept null hypotheses, \n",
    "#therefore there is NO stat significant difference between variances of discount for male and female customers."
   ]
  },
  {
   "cell_type": "markdown",
   "id": "63e025ff",
   "metadata": {},
   "source": [
    "## One-Way ANOVA\n",
    "tests the influence of more than one x on  y"
   ]
  },
  {
   "cell_type": "code",
   "execution_count": 214,
   "id": "01f26dc6",
   "metadata": {},
   "outputs": [
    {
     "name": "stderr",
     "output_type": "stream",
     "text": [
      "C:\\Users\\Admin\\anaconda3\\lib\\site-packages\\scipy\\stats\\stats.py:3680: F_onewayBadInputSizesWarning:\n",
      "\n",
      "at least one input has length 0\n",
      "\n"
     ]
    },
    {
     "data": {
      "text/plain": [
       "F_onewayResult(statistic=nan, pvalue=nan)"
      ]
     },
     "execution_count": 214,
     "metadata": {},
     "output_type": "execute_result"
    }
   ],
   "source": [
    "f_oneway(wine_df['Minimum Qty (kg)'][wine_df['Discount']=='Up to 30'],\n",
    "        wine_df['Minimum Qty (kg)'][wine_df['Discount']=='[30,60]'],\n",
    "        wine_df['Minimum Qty (kg)'][wine_df['Discount']=='More than 60']\n",
    "        )"
   ]
  },
  {
   "cell_type": "code",
   "execution_count": 215,
   "id": "32c3d37f",
   "metadata": {},
   "outputs": [],
   "source": [
    "# The results above indicate that average min quantity is stat significantly different between discount ranges."
   ]
  },
  {
   "cell_type": "code",
   "execution_count": 216,
   "id": "1ee7a157",
   "metadata": {},
   "outputs": [
    {
     "name": "stderr",
     "output_type": "stream",
     "text": [
      "C:\\Users\\Admin\\anaconda3\\lib\\site-packages\\numpy\\core\\fromnumeric.py:3419: RuntimeWarning:\n",
      "\n",
      "Mean of empty slice.\n",
      "\n",
      "C:\\Users\\Admin\\anaconda3\\lib\\site-packages\\numpy\\core\\_methods.py:188: RuntimeWarning:\n",
      "\n",
      "invalid value encountered in double_scalars\n",
      "\n"
     ]
    },
    {
     "data": {
      "text/plain": [
       "LeveneResult(statistic=nan, pvalue=nan)"
      ]
     },
     "execution_count": 216,
     "metadata": {},
     "output_type": "execute_result"
    }
   ],
   "source": [
    "levene(wine_df['Minimum Qty (kg)'][wine_df['Discount']=='Up to 30'],\n",
    "        wine_df['Minimum Qty (kg)'][wine_df['Discount']=='[30,60]'],\n",
    "        wine_df['Minimum Qty (kg)'][wine_df['Discount']=='More than 60'])"
   ]
  },
  {
   "cell_type": "code",
   "execution_count": 217,
   "id": "45e9a48e",
   "metadata": {},
   "outputs": [],
   "source": [
    "# Levene's test results show that p is more than 0.05, therefore there is NO stat significant difference between variances of Minimum quantity by discount ranges."
   ]
  },
  {
   "cell_type": "code",
   "execution_count": 219,
   "id": "80982530",
   "metadata": {},
   "outputs": [
    {
     "name": "stdout",
     "output_type": "stream",
     "text": [
      "Discount - LeveneResult(statistic=nan, pvalue=nan)\n",
      "Minimum Qty (kg) - LeveneResult(statistic=nan, pvalue=nan)\n"
     ]
    }
   ],
   "source": [
    "\n",
    "for i in data_num.columns:\n",
    "    print(i,'-',levene(wine_df[i][wine_df['Discount']=='Up to 30'],\n",
    "        wine_df[i][wine_df['Discount']=='[30,60]'],\n",
    "        wine_df[i][wine_df['Discount']=='More than 60']))"
   ]
  },
  {
   "cell_type": "markdown",
   "id": "6cd11023",
   "metadata": {},
   "source": [
    "#### Discount - LeveneResult(statistic=7.595661157511225, pvalue=0.0005983076494783423)\n",
    "#### Minimum Qty (kg) - LeveneResult(statistic=2.1276213771479866, pvalue=0.12079713843119513)"
   ]
  },
  {
   "cell_type": "code",
   "execution_count": 221,
   "id": "7fc9e70e",
   "metadata": {},
   "outputs": [
    {
     "name": "stdout",
     "output_type": "stream",
     "text": [
      "Discount   F_onewayResult(statistic=nan, pvalue=nan)\n",
      "Minimum Qty (kg)   F_onewayResult(statistic=nan, pvalue=nan)\n"
     ]
    }
   ],
   "source": [
    "for i in data_num.columns:\n",
    "    print(i,' ',f_oneway(wine_df[i][wine_df['Discount']=='Up to 30'],\n",
    "        wine_df[i][wine_df['Discount']=='[30,60]'],\n",
    "        wine_df[i][wine_df['Discount']=='More than 60']\n",
    "        ))"
   ]
  },
  {
   "cell_type": "markdown",
   "id": "76a646bc",
   "metadata": {},
   "source": [
    "#### Discount   F_onewayResult(statistic=777.0575589541559, pvalue=9.398836351724517e-124)\n",
    "#### Minimum Qty (kg)   F_onewayResult(statistic=28.03200050009234, pvalue=6.0178135475001005e-12)"
   ]
  },
  {
   "cell_type": "code",
   "execution_count": null,
   "id": "c4ac64fa",
   "metadata": {},
   "outputs": [],
   "source": []
  }
 ],
 "metadata": {
  "kernelspec": {
   "display_name": "Python 3",
   "language": "python",
   "name": "python3"
  },
  "language_info": {
   "codemirror_mode": {
    "name": "ipython",
    "version": 3
   },
   "file_extension": ".py",
   "mimetype": "text/x-python",
   "name": "python",
   "nbconvert_exporter": "python",
   "pygments_lexer": "ipython3",
   "version": "3.8.8"
  }
 },
 "nbformat": 4,
 "nbformat_minor": 5
}
